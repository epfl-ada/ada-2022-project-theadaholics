{
 "cells": [
  {
   "cell_type": "code",
   "execution_count": 1,
   "metadata": {},
   "outputs": [],
   "source": [
    "# Import modules\n",
    "import numpy as np\n",
    "import pandas as pd\n",
    "import matplotlib.pyplot as plt\n",
    "import re\n",
    "import seaborn as sns\n",
    "import statsmodels.formula.api as smf\n",
    "import itertools"
   ]
  },
  {
   "cell_type": "markdown",
   "metadata": {},
   "source": [
    "# Data loading"
   ]
  },
  {
   "cell_type": "markdown",
   "metadata": {},
   "source": [
    "## Movie data"
   ]
  },
  {
   "cell_type": "markdown",
   "metadata": {},
   "source": [
    "movie.metadata.tsv.gz [3.4 M]\n",
    "Metadata for 81,741 movies, extracted from November 4, 2012 dump of Freebase. Tab-separated; columns:\n",
    "- Wikipedia movie ID\n",
    "- Freebase movie ID\n",
    "- Movie name\n",
    "- Movie release date\n",
    "- Movie box office revenue\n",
    "- Movie runtime\n",
    "- Movie languages (Freebase ID:name tuples)\n",
    "- Movie countries (Freebase ID:name tuples)\n",
    "- Movie genres (Freebase ID:name tuples)"
   ]
  },
  {
   "cell_type": "code",
   "execution_count": 2,
   "metadata": {},
   "outputs": [
    {
     "name": "stdout",
     "output_type": "stream",
     "text": [
      "(81741, 9)\n"
     ]
    }
   ],
   "source": [
    "# Load films\n",
    "movies_header = ['wikipedia_id', 'freebase_id', 'name', 'release_date', 'box_office_revenue', 'runtime', 'languages', 'countries', 'genres']\n",
    "movies = pd.read_csv('data/movie.metadata.tsv', sep='\\t', header=None, names=movies_header)\n",
    "movies.head(5)\n",
    "print(movies.shape)\n",
    "#movies['runtime'].hist()\n"
   ]
  },
  {
   "cell_type": "code",
   "execution_count": 3,
   "metadata": {},
   "outputs": [
    {
     "data": {
      "text/html": [
       "<div>\n",
       "<style scoped>\n",
       "    .dataframe tbody tr th:only-of-type {\n",
       "        vertical-align: middle;\n",
       "    }\n",
       "\n",
       "    .dataframe tbody tr th {\n",
       "        vertical-align: top;\n",
       "    }\n",
       "\n",
       "    .dataframe thead th {\n",
       "        text-align: right;\n",
       "    }\n",
       "</style>\n",
       "<table border=\"1\" class=\"dataframe\">\n",
       "  <thead>\n",
       "    <tr style=\"text-align: right;\">\n",
       "      <th></th>\n",
       "      <th>wikipedia_id</th>\n",
       "      <th>freebase_id</th>\n",
       "      <th>name</th>\n",
       "      <th>release_date</th>\n",
       "      <th>box_office_revenue</th>\n",
       "      <th>runtime</th>\n",
       "      <th>languages</th>\n",
       "      <th>countries</th>\n",
       "      <th>genres</th>\n",
       "    </tr>\n",
       "  </thead>\n",
       "  <tbody>\n",
       "    <tr>\n",
       "      <th>0</th>\n",
       "      <td>975900</td>\n",
       "      <td>/m/03vyhn</td>\n",
       "      <td>Ghosts of Mars</td>\n",
       "      <td>2001-08-24</td>\n",
       "      <td>14010832.0</td>\n",
       "      <td>98.0</td>\n",
       "      <td>{\"/m/02h40lc\": \"English Language\"}</td>\n",
       "      <td>{\"/m/09c7w0\": \"United States of America\"}</td>\n",
       "      <td>{\"/m/01jfsb\": \"Thriller\", \"/m/06n90\": \"Science...</td>\n",
       "    </tr>\n",
       "    <tr>\n",
       "      <th>1</th>\n",
       "      <td>3196793</td>\n",
       "      <td>/m/08yl5d</td>\n",
       "      <td>Getting Away with Murder: The JonBenét Ramsey ...</td>\n",
       "      <td>2000-02-16</td>\n",
       "      <td>NaN</td>\n",
       "      <td>95.0</td>\n",
       "      <td>{\"/m/02h40lc\": \"English Language\"}</td>\n",
       "      <td>{\"/m/09c7w0\": \"United States of America\"}</td>\n",
       "      <td>{\"/m/02n4kr\": \"Mystery\", \"/m/03bxz7\": \"Biograp...</td>\n",
       "    </tr>\n",
       "    <tr>\n",
       "      <th>2</th>\n",
       "      <td>28463795</td>\n",
       "      <td>/m/0crgdbh</td>\n",
       "      <td>Brun bitter</td>\n",
       "      <td>1988</td>\n",
       "      <td>NaN</td>\n",
       "      <td>83.0</td>\n",
       "      <td>{\"/m/05f_3\": \"Norwegian Language\"}</td>\n",
       "      <td>{\"/m/05b4w\": \"Norway\"}</td>\n",
       "      <td>{\"/m/0lsxr\": \"Crime Fiction\", \"/m/07s9rl0\": \"D...</td>\n",
       "    </tr>\n",
       "    <tr>\n",
       "      <th>3</th>\n",
       "      <td>9363483</td>\n",
       "      <td>/m/0285_cd</td>\n",
       "      <td>White Of The Eye</td>\n",
       "      <td>1987</td>\n",
       "      <td>NaN</td>\n",
       "      <td>110.0</td>\n",
       "      <td>{\"/m/02h40lc\": \"English Language\"}</td>\n",
       "      <td>{\"/m/07ssc\": \"United Kingdom\"}</td>\n",
       "      <td>{\"/m/01jfsb\": \"Thriller\", \"/m/0glj9q\": \"Erotic...</td>\n",
       "    </tr>\n",
       "    <tr>\n",
       "      <th>4</th>\n",
       "      <td>261236</td>\n",
       "      <td>/m/01mrr1</td>\n",
       "      <td>A Woman in Flames</td>\n",
       "      <td>1983</td>\n",
       "      <td>NaN</td>\n",
       "      <td>106.0</td>\n",
       "      <td>{\"/m/04306rv\": \"German Language\"}</td>\n",
       "      <td>{\"/m/0345h\": \"Germany\"}</td>\n",
       "      <td>{\"/m/07s9rl0\": \"Drama\"}</td>\n",
       "    </tr>\n",
       "  </tbody>\n",
       "</table>\n",
       "</div>"
      ],
      "text/plain": [
       "   wikipedia_id freebase_id  \\\n",
       "0        975900   /m/03vyhn   \n",
       "1       3196793   /m/08yl5d   \n",
       "2      28463795  /m/0crgdbh   \n",
       "3       9363483  /m/0285_cd   \n",
       "4        261236   /m/01mrr1   \n",
       "\n",
       "                                                name release_date  \\\n",
       "0                                     Ghosts of Mars   2001-08-24   \n",
       "1  Getting Away with Murder: The JonBenét Ramsey ...   2000-02-16   \n",
       "2                                        Brun bitter         1988   \n",
       "3                                   White Of The Eye         1987   \n",
       "4                                  A Woman in Flames         1983   \n",
       "\n",
       "   box_office_revenue  runtime                           languages  \\\n",
       "0          14010832.0     98.0  {\"/m/02h40lc\": \"English Language\"}   \n",
       "1                 NaN     95.0  {\"/m/02h40lc\": \"English Language\"}   \n",
       "2                 NaN     83.0  {\"/m/05f_3\": \"Norwegian Language\"}   \n",
       "3                 NaN    110.0  {\"/m/02h40lc\": \"English Language\"}   \n",
       "4                 NaN    106.0   {\"/m/04306rv\": \"German Language\"}   \n",
       "\n",
       "                                   countries  \\\n",
       "0  {\"/m/09c7w0\": \"United States of America\"}   \n",
       "1  {\"/m/09c7w0\": \"United States of America\"}   \n",
       "2                     {\"/m/05b4w\": \"Norway\"}   \n",
       "3             {\"/m/07ssc\": \"United Kingdom\"}   \n",
       "4                    {\"/m/0345h\": \"Germany\"}   \n",
       "\n",
       "                                              genres  \n",
       "0  {\"/m/01jfsb\": \"Thriller\", \"/m/06n90\": \"Science...  \n",
       "1  {\"/m/02n4kr\": \"Mystery\", \"/m/03bxz7\": \"Biograp...  \n",
       "2  {\"/m/0lsxr\": \"Crime Fiction\", \"/m/07s9rl0\": \"D...  \n",
       "3  {\"/m/01jfsb\": \"Thriller\", \"/m/0glj9q\": \"Erotic...  \n",
       "4                            {\"/m/07s9rl0\": \"Drama\"}  "
      ]
     },
     "execution_count": 3,
     "metadata": {},
     "output_type": "execute_result"
    }
   ],
   "source": [
    "movies.head(5)"
   ]
  },
  {
   "cell_type": "code",
   "execution_count": 4,
   "metadata": {},
   "outputs": [
    {
     "data": {
      "text/html": [
       "<div>\n",
       "<style scoped>\n",
       "    .dataframe tbody tr th:only-of-type {\n",
       "        vertical-align: middle;\n",
       "    }\n",
       "\n",
       "    .dataframe tbody tr th {\n",
       "        vertical-align: top;\n",
       "    }\n",
       "\n",
       "    .dataframe thead th {\n",
       "        text-align: right;\n",
       "    }\n",
       "</style>\n",
       "<table border=\"1\" class=\"dataframe\">\n",
       "  <thead>\n",
       "    <tr style=\"text-align: right;\">\n",
       "      <th></th>\n",
       "      <th>wikipedia_id</th>\n",
       "      <th>box_office_revenue</th>\n",
       "      <th>runtime</th>\n",
       "    </tr>\n",
       "  </thead>\n",
       "  <tbody>\n",
       "    <tr>\n",
       "      <th>count</th>\n",
       "      <td>8.174100e+04</td>\n",
       "      <td>8.401000e+03</td>\n",
       "      <td>6.129100e+04</td>\n",
       "    </tr>\n",
       "    <tr>\n",
       "      <th>mean</th>\n",
       "      <td>1.740784e+07</td>\n",
       "      <td>4.799363e+07</td>\n",
       "      <td>1.118192e+02</td>\n",
       "    </tr>\n",
       "    <tr>\n",
       "      <th>std</th>\n",
       "      <td>1.098791e+07</td>\n",
       "      <td>1.121753e+08</td>\n",
       "      <td>4.360070e+03</td>\n",
       "    </tr>\n",
       "    <tr>\n",
       "      <th>min</th>\n",
       "      <td>3.300000e+02</td>\n",
       "      <td>1.000000e+04</td>\n",
       "      <td>0.000000e+00</td>\n",
       "    </tr>\n",
       "    <tr>\n",
       "      <th>25%</th>\n",
       "      <td>7.323695e+06</td>\n",
       "      <td>2.083193e+06</td>\n",
       "      <td>8.100000e+01</td>\n",
       "    </tr>\n",
       "    <tr>\n",
       "      <th>50%</th>\n",
       "      <td>1.777899e+07</td>\n",
       "      <td>1.063969e+07</td>\n",
       "      <td>9.300000e+01</td>\n",
       "    </tr>\n",
       "    <tr>\n",
       "      <th>75%</th>\n",
       "      <td>2.715573e+07</td>\n",
       "      <td>4.071696e+07</td>\n",
       "      <td>1.060000e+02</td>\n",
       "    </tr>\n",
       "    <tr>\n",
       "      <th>max</th>\n",
       "      <td>3.750192e+07</td>\n",
       "      <td>2.782275e+09</td>\n",
       "      <td>1.079281e+06</td>\n",
       "    </tr>\n",
       "  </tbody>\n",
       "</table>\n",
       "</div>"
      ],
      "text/plain": [
       "       wikipedia_id  box_office_revenue       runtime\n",
       "count  8.174100e+04        8.401000e+03  6.129100e+04\n",
       "mean   1.740784e+07        4.799363e+07  1.118192e+02\n",
       "std    1.098791e+07        1.121753e+08  4.360070e+03\n",
       "min    3.300000e+02        1.000000e+04  0.000000e+00\n",
       "25%    7.323695e+06        2.083193e+06  8.100000e+01\n",
       "50%    1.777899e+07        1.063969e+07  9.300000e+01\n",
       "75%    2.715573e+07        4.071696e+07  1.060000e+02\n",
       "max    3.750192e+07        2.782275e+09  1.079281e+06"
      ]
     },
     "execution_count": 4,
     "metadata": {},
     "output_type": "execute_result"
    }
   ],
   "source": [
    "movies.describe()"
   ]
  },
  {
   "cell_type": "markdown",
   "metadata": {},
   "source": [
    "## Character data"
   ]
  },
  {
   "cell_type": "markdown",
   "metadata": {},
   "source": [
    "character.metadata.tsv.gz [14 M]\n",
    "Metadata for 450,669 characters aligned to the movies above, extracted from November 4, 2012 dump of Freebase. Tab-separated; columns:\n",
    "\n",
    "- Wikipedia movie ID\n",
    "- Freebase movie ID\n",
    "- Movie release date\n",
    "- Character name\n",
    "- Actor date of birth\n",
    "- Actor gender\n",
    "- Actor height (in meters)\n",
    "- Actor ethnicity (Freebase ID)\n",
    "- Actor name\n",
    "- Actor age at movie release\n",
    "- Freebase character/actor map ID\n",
    "- Freebase character ID\n",
    "- Freebase actor ID"
   ]
  },
  {
   "cell_type": "code",
   "execution_count": 5,
   "metadata": {},
   "outputs": [
    {
     "data": {
      "text/html": [
       "<div>\n",
       "<style scoped>\n",
       "    .dataframe tbody tr th:only-of-type {\n",
       "        vertical-align: middle;\n",
       "    }\n",
       "\n",
       "    .dataframe tbody tr th {\n",
       "        vertical-align: top;\n",
       "    }\n",
       "\n",
       "    .dataframe thead th {\n",
       "        text-align: right;\n",
       "    }\n",
       "</style>\n",
       "<table border=\"1\" class=\"dataframe\">\n",
       "  <thead>\n",
       "    <tr style=\"text-align: right;\">\n",
       "      <th></th>\n",
       "      <th>wikipedia_movie_id</th>\n",
       "      <th>freebase_movie_id</th>\n",
       "      <th>movie_release_date</th>\n",
       "      <th>character_name</th>\n",
       "      <th>actor_birthdate</th>\n",
       "      <th>actor_gender</th>\n",
       "      <th>actor_height_meters</th>\n",
       "      <th>actor_ethnicity_freebase_id</th>\n",
       "      <th>actor_name</th>\n",
       "      <th>actor_age_at_movie_release</th>\n",
       "      <th>freebase_character_actor_map_id</th>\n",
       "      <th>freebase_character_id</th>\n",
       "      <th>freebase_actor_id</th>\n",
       "    </tr>\n",
       "  </thead>\n",
       "  <tbody>\n",
       "    <tr>\n",
       "      <th>319709</th>\n",
       "      <td>5922463</td>\n",
       "      <td>/m/0fdqs4</td>\n",
       "      <td>2004-09-23</td>\n",
       "      <td>Zombie at Video Store</td>\n",
       "      <td>NaN</td>\n",
       "      <td>M</td>\n",
       "      <td>NaN</td>\n",
       "      <td>NaN</td>\n",
       "      <td>Stephen Johnson</td>\n",
       "      <td>NaN</td>\n",
       "      <td>/m/0krw67d</td>\n",
       "      <td>/m/0krw67h</td>\n",
       "      <td>/m/0krw67q</td>\n",
       "    </tr>\n",
       "    <tr>\n",
       "      <th>375724</th>\n",
       "      <td>10349642</td>\n",
       "      <td>/m/02q942q</td>\n",
       "      <td>2005</td>\n",
       "      <td>NaN</td>\n",
       "      <td>NaN</td>\n",
       "      <td>NaN</td>\n",
       "      <td>NaN</td>\n",
       "      <td>NaN</td>\n",
       "      <td>Mare Trevathan Phillpott</td>\n",
       "      <td>NaN</td>\n",
       "      <td>/m/0gc6g9m</td>\n",
       "      <td>NaN</td>\n",
       "      <td>/m/0gc4mjp</td>\n",
       "    </tr>\n",
       "    <tr>\n",
       "      <th>193103</th>\n",
       "      <td>22217327</td>\n",
       "      <td>/m/05q7vh1</td>\n",
       "      <td>1986-09-09</td>\n",
       "      <td>Reshma Rai</td>\n",
       "      <td>1957-06-08</td>\n",
       "      <td>F</td>\n",
       "      <td>1.59</td>\n",
       "      <td>/m/0g0x7_</td>\n",
       "      <td>Dimple Kapadia</td>\n",
       "      <td>29.0</td>\n",
       "      <td>/m/05tfvqv</td>\n",
       "      <td>/m/0h8k0c8</td>\n",
       "      <td>/m/04rs6k</td>\n",
       "    </tr>\n",
       "    <tr>\n",
       "      <th>80955</th>\n",
       "      <td>10354785</td>\n",
       "      <td>/m/02q9895</td>\n",
       "      <td>1998-11-01</td>\n",
       "      <td>Becky Sharp</td>\n",
       "      <td>1969-10-02</td>\n",
       "      <td>F</td>\n",
       "      <td>NaN</td>\n",
       "      <td>NaN</td>\n",
       "      <td>Natasha Little</td>\n",
       "      <td>29.0</td>\n",
       "      <td>/m/02vc4j1</td>\n",
       "      <td>/m/02r2s15</td>\n",
       "      <td>/m/026w9_3</td>\n",
       "    </tr>\n",
       "    <tr>\n",
       "      <th>127024</th>\n",
       "      <td>6046767</td>\n",
       "      <td>/m/0fmcr3</td>\n",
       "      <td>2004-07-20</td>\n",
       "      <td>NaN</td>\n",
       "      <td>NaN</td>\n",
       "      <td>M</td>\n",
       "      <td>NaN</td>\n",
       "      <td>NaN</td>\n",
       "      <td>John Fiorella</td>\n",
       "      <td>NaN</td>\n",
       "      <td>/m/0jy_85</td>\n",
       "      <td>NaN</td>\n",
       "      <td>/m/0jy_7m</td>\n",
       "    </tr>\n",
       "  </tbody>\n",
       "</table>\n",
       "</div>"
      ],
      "text/plain": [
       "        wikipedia_movie_id freebase_movie_id movie_release_date  \\\n",
       "319709             5922463         /m/0fdqs4         2004-09-23   \n",
       "375724            10349642        /m/02q942q               2005   \n",
       "193103            22217327        /m/05q7vh1         1986-09-09   \n",
       "80955             10354785        /m/02q9895         1998-11-01   \n",
       "127024             6046767         /m/0fmcr3         2004-07-20   \n",
       "\n",
       "               character_name actor_birthdate actor_gender  \\\n",
       "319709  Zombie at Video Store             NaN            M   \n",
       "375724                    NaN             NaN          NaN   \n",
       "193103             Reshma Rai      1957-06-08            F   \n",
       "80955             Becky Sharp      1969-10-02            F   \n",
       "127024                    NaN             NaN            M   \n",
       "\n",
       "        actor_height_meters actor_ethnicity_freebase_id  \\\n",
       "319709                  NaN                         NaN   \n",
       "375724                  NaN                         NaN   \n",
       "193103                 1.59                   /m/0g0x7_   \n",
       "80955                   NaN                         NaN   \n",
       "127024                  NaN                         NaN   \n",
       "\n",
       "                      actor_name  actor_age_at_movie_release  \\\n",
       "319709           Stephen Johnson                         NaN   \n",
       "375724  Mare Trevathan Phillpott                         NaN   \n",
       "193103            Dimple Kapadia                        29.0   \n",
       "80955             Natasha Little                        29.0   \n",
       "127024             John Fiorella                         NaN   \n",
       "\n",
       "       freebase_character_actor_map_id freebase_character_id freebase_actor_id  \n",
       "319709                      /m/0krw67d            /m/0krw67h        /m/0krw67q  \n",
       "375724                      /m/0gc6g9m                   NaN        /m/0gc4mjp  \n",
       "193103                      /m/05tfvqv            /m/0h8k0c8         /m/04rs6k  \n",
       "80955                       /m/02vc4j1            /m/02r2s15        /m/026w9_3  \n",
       "127024                       /m/0jy_85                   NaN         /m/0jy_7m  "
      ]
     },
     "execution_count": 5,
     "metadata": {},
     "output_type": "execute_result"
    }
   ],
   "source": [
    "# Load characters\n",
    "characters_header = ['wikipedia_movie_id','freebase_movie_id','movie_release_date','character_name','actor_birthdate','actor_gender','actor_height_meters','actor_ethnicity_freebase_id','actor_name','actor_age_at_movie_release','freebase_character_actor_map_id','freebase_character_id','freebase_actor_id']\n",
    "characters = pd.read_csv('data/character.metadata.tsv', sep='\\t', header=None, names=characters_header)\n",
    "characters.sample(5)"
   ]
  },
  {
   "cell_type": "markdown",
   "metadata": {},
   "source": [
    "Let's map the wikipedia_movie_id to the movie name given in movies 'name' column"
   ]
  },
  {
   "cell_type": "code",
   "execution_count": 6,
   "metadata": {},
   "outputs": [],
   "source": [
    "characters = characters.merge(movies[['wikipedia_id','name']], how='left', left_on='wikipedia_movie_id', right_on='wikipedia_id')\n",
    "characters.drop('wikipedia_id', inplace=True, axis=1)"
   ]
  },
  {
   "cell_type": "code",
   "execution_count": 7,
   "metadata": {},
   "outputs": [
    {
     "data": {
      "text/html": [
       "<div>\n",
       "<style scoped>\n",
       "    .dataframe tbody tr th:only-of-type {\n",
       "        vertical-align: middle;\n",
       "    }\n",
       "\n",
       "    .dataframe tbody tr th {\n",
       "        vertical-align: top;\n",
       "    }\n",
       "\n",
       "    .dataframe thead th {\n",
       "        text-align: right;\n",
       "    }\n",
       "</style>\n",
       "<table border=\"1\" class=\"dataframe\">\n",
       "  <thead>\n",
       "    <tr style=\"text-align: right;\">\n",
       "      <th></th>\n",
       "      <th>wikipedia_movie_id</th>\n",
       "      <th>freebase_movie_id</th>\n",
       "      <th>movie_release_date</th>\n",
       "      <th>character_name</th>\n",
       "      <th>actor_birthdate</th>\n",
       "      <th>actor_gender</th>\n",
       "      <th>actor_height_meters</th>\n",
       "      <th>actor_ethnicity_freebase_id</th>\n",
       "      <th>actor_name</th>\n",
       "      <th>actor_age_at_movie_release</th>\n",
       "      <th>freebase_character_actor_map_id</th>\n",
       "      <th>freebase_character_id</th>\n",
       "      <th>freebase_actor_id</th>\n",
       "      <th>name</th>\n",
       "    </tr>\n",
       "  </thead>\n",
       "  <tbody>\n",
       "    <tr>\n",
       "      <th>0</th>\n",
       "      <td>975900</td>\n",
       "      <td>/m/03vyhn</td>\n",
       "      <td>2001-08-24</td>\n",
       "      <td>Akooshay</td>\n",
       "      <td>1958-08-26</td>\n",
       "      <td>F</td>\n",
       "      <td>1.620</td>\n",
       "      <td>NaN</td>\n",
       "      <td>Wanda De Jesus</td>\n",
       "      <td>42.0</td>\n",
       "      <td>/m/0bgchxw</td>\n",
       "      <td>/m/0bgcj3x</td>\n",
       "      <td>/m/03wcfv7</td>\n",
       "      <td>Ghosts of Mars</td>\n",
       "    </tr>\n",
       "    <tr>\n",
       "      <th>1</th>\n",
       "      <td>975900</td>\n",
       "      <td>/m/03vyhn</td>\n",
       "      <td>2001-08-24</td>\n",
       "      <td>Lieutenant Melanie Ballard</td>\n",
       "      <td>1974-08-15</td>\n",
       "      <td>F</td>\n",
       "      <td>1.780</td>\n",
       "      <td>/m/044038p</td>\n",
       "      <td>Natasha Henstridge</td>\n",
       "      <td>27.0</td>\n",
       "      <td>/m/0jys3m</td>\n",
       "      <td>/m/0bgchn4</td>\n",
       "      <td>/m/0346l4</td>\n",
       "      <td>Ghosts of Mars</td>\n",
       "    </tr>\n",
       "    <tr>\n",
       "      <th>2</th>\n",
       "      <td>975900</td>\n",
       "      <td>/m/03vyhn</td>\n",
       "      <td>2001-08-24</td>\n",
       "      <td>Desolation Williams</td>\n",
       "      <td>1969-06-15</td>\n",
       "      <td>M</td>\n",
       "      <td>1.727</td>\n",
       "      <td>/m/0x67</td>\n",
       "      <td>Ice Cube</td>\n",
       "      <td>32.0</td>\n",
       "      <td>/m/0jys3g</td>\n",
       "      <td>/m/0bgchn_</td>\n",
       "      <td>/m/01vw26l</td>\n",
       "      <td>Ghosts of Mars</td>\n",
       "    </tr>\n",
       "    <tr>\n",
       "      <th>3</th>\n",
       "      <td>975900</td>\n",
       "      <td>/m/03vyhn</td>\n",
       "      <td>2001-08-24</td>\n",
       "      <td>Sgt Jericho Butler</td>\n",
       "      <td>1967-09-12</td>\n",
       "      <td>M</td>\n",
       "      <td>1.750</td>\n",
       "      <td>NaN</td>\n",
       "      <td>Jason Statham</td>\n",
       "      <td>33.0</td>\n",
       "      <td>/m/02vchl6</td>\n",
       "      <td>/m/0bgchnq</td>\n",
       "      <td>/m/034hyc</td>\n",
       "      <td>Ghosts of Mars</td>\n",
       "    </tr>\n",
       "    <tr>\n",
       "      <th>4</th>\n",
       "      <td>975900</td>\n",
       "      <td>/m/03vyhn</td>\n",
       "      <td>2001-08-24</td>\n",
       "      <td>Bashira Kincaid</td>\n",
       "      <td>1977-09-25</td>\n",
       "      <td>F</td>\n",
       "      <td>1.650</td>\n",
       "      <td>NaN</td>\n",
       "      <td>Clea DuVall</td>\n",
       "      <td>23.0</td>\n",
       "      <td>/m/02vbb3r</td>\n",
       "      <td>/m/0bgchp9</td>\n",
       "      <td>/m/01y9xg</td>\n",
       "      <td>Ghosts of Mars</td>\n",
       "    </tr>\n",
       "  </tbody>\n",
       "</table>\n",
       "</div>"
      ],
      "text/plain": [
       "   wikipedia_movie_id freebase_movie_id movie_release_date  \\\n",
       "0              975900         /m/03vyhn         2001-08-24   \n",
       "1              975900         /m/03vyhn         2001-08-24   \n",
       "2              975900         /m/03vyhn         2001-08-24   \n",
       "3              975900         /m/03vyhn         2001-08-24   \n",
       "4              975900         /m/03vyhn         2001-08-24   \n",
       "\n",
       "               character_name actor_birthdate actor_gender  \\\n",
       "0                    Akooshay      1958-08-26            F   \n",
       "1  Lieutenant Melanie Ballard      1974-08-15            F   \n",
       "2         Desolation Williams      1969-06-15            M   \n",
       "3          Sgt Jericho Butler      1967-09-12            M   \n",
       "4             Bashira Kincaid      1977-09-25            F   \n",
       "\n",
       "   actor_height_meters actor_ethnicity_freebase_id          actor_name  \\\n",
       "0                1.620                         NaN      Wanda De Jesus   \n",
       "1                1.780                  /m/044038p  Natasha Henstridge   \n",
       "2                1.727                     /m/0x67            Ice Cube   \n",
       "3                1.750                         NaN       Jason Statham   \n",
       "4                1.650                         NaN         Clea DuVall   \n",
       "\n",
       "   actor_age_at_movie_release freebase_character_actor_map_id  \\\n",
       "0                        42.0                      /m/0bgchxw   \n",
       "1                        27.0                       /m/0jys3m   \n",
       "2                        32.0                       /m/0jys3g   \n",
       "3                        33.0                      /m/02vchl6   \n",
       "4                        23.0                      /m/02vbb3r   \n",
       "\n",
       "  freebase_character_id freebase_actor_id            name  \n",
       "0            /m/0bgcj3x        /m/03wcfv7  Ghosts of Mars  \n",
       "1            /m/0bgchn4         /m/0346l4  Ghosts of Mars  \n",
       "2            /m/0bgchn_        /m/01vw26l  Ghosts of Mars  \n",
       "3            /m/0bgchnq         /m/034hyc  Ghosts of Mars  \n",
       "4            /m/0bgchp9         /m/01y9xg  Ghosts of Mars  "
      ]
     },
     "execution_count": 7,
     "metadata": {},
     "output_type": "execute_result"
    }
   ],
   "source": [
    "characters.head()"
   ]
  },
  {
   "cell_type": "markdown",
   "metadata": {},
   "source": [
    "## Official IMDb dataset"
   ]
  },
  {
   "cell_type": "markdown",
   "metadata": {},
   "source": [
    "This dataset includes all IMDb data. https://www.imdb.com/interfaces/\n",
    "\n",
    "title.basics.tsv.gz\n",
    " - tconst (string) - alphanumeric unique identifier of the title\n",
    " - titleType (string) – the type/format of the title (e.g. movie, short, tvseries, tvepisode, video, etc)\n",
    " - primaryTitle (string) – the more popular title / the title used by the filmmakers on promotional materials at the point of release\n",
    " - originalTitle (string) - original title, in the original language\n",
    " - isAdult (boolean) - 0: non-adult title; 1: adult title\n",
    " - startYear (YYYY) – represents the release year of a title. In the case of TV Series, it is the series start year\n",
    " - endYear (YYYY) – TV Series end year. ‘\\N’ for all other title types\n",
    " - runtimeMinutes – primary runtime of the title, in minutes\n",
    " - genres (string array) – includes up to three genres associated with the title\n",
    "\n",
    "title.ratings.tsv.gz\n",
    " - tconst (string) - alphanumeric unique identifier of the title\n",
    " - averageRating – weighted average of all the individual user ratings\n",
    " - numVotes - number of votes the title has received\n",
    "\n",
    "title.crew.tsv.gz\n",
    " - tconst (string) - alphanumeric unique identifier of the title\n",
    " - directors (array of nconsts) - director(s) of the given title\n",
    " - writers (array of nconsts) – writer(s) of the given title\n",
    "\n",
    "name.basics.tsv.gz: information of actors\n",
    " - nconst (string) - alphanumeric unique identifier of the name/person\n",
    " - primaryName (string)– name by which the person is most often credited\n",
    " - birthYear – in YYYY format\n",
    " - deathYear – in YYYY format if applicable, else '\\N'\n",
    " - primaryProfession (array of strings)– the top-3 professions of the person\n",
    " - knownForTitles (array of tconsts) – titles the person is known for"
   ]
  },
  {
   "cell_type": "code",
   "execution_count": 8,
   "metadata": {},
   "outputs": [],
   "source": [
    "imdb_titles = pd.read_csv('./data/imdb/imdb_titles.tsv', na_values='\\\\N', sep='\\t')\n",
    "imdb_ratings = pd.read_csv('./data/imdb/imdb_ratings.tsv', na_values='\\\\N', sep='\\t')\n",
    "imdb_crew = pd.read_csv('./data/imdb/imdb_crew.tsv', na_values='\\\\N', sep='\\t')\n",
    "imdb_people = pd.read_csv('./data/imdb/imdb_people.tsv', na_values='\\\\N', sep='\\t')"
   ]
  },
  {
   "cell_type": "code",
   "execution_count": 9,
   "metadata": {},
   "outputs": [
    {
     "data": {
      "text/html": [
       "<div>\n",
       "<style scoped>\n",
       "    .dataframe tbody tr th:only-of-type {\n",
       "        vertical-align: middle;\n",
       "    }\n",
       "\n",
       "    .dataframe tbody tr th {\n",
       "        vertical-align: top;\n",
       "    }\n",
       "\n",
       "    .dataframe thead th {\n",
       "        text-align: right;\n",
       "    }\n",
       "</style>\n",
       "<table border=\"1\" class=\"dataframe\">\n",
       "  <thead>\n",
       "    <tr style=\"text-align: right;\">\n",
       "      <th></th>\n",
       "      <th>tconst</th>\n",
       "      <th>titleType</th>\n",
       "      <th>primaryTitle</th>\n",
       "      <th>originalTitle</th>\n",
       "      <th>isAdult</th>\n",
       "      <th>startYear</th>\n",
       "      <th>endYear</th>\n",
       "      <th>runtimeMinutes</th>\n",
       "      <th>genres</th>\n",
       "    </tr>\n",
       "  </thead>\n",
       "  <tbody>\n",
       "    <tr>\n",
       "      <th>0</th>\n",
       "      <td>tt0000001</td>\n",
       "      <td>short</td>\n",
       "      <td>Carmencita</td>\n",
       "      <td>Carmencita</td>\n",
       "      <td>0</td>\n",
       "      <td>1894.0</td>\n",
       "      <td>NaN</td>\n",
       "      <td>1.0</td>\n",
       "      <td>Documentary,Short</td>\n",
       "    </tr>\n",
       "    <tr>\n",
       "      <th>1</th>\n",
       "      <td>tt0000002</td>\n",
       "      <td>short</td>\n",
       "      <td>Le clown et ses chiens</td>\n",
       "      <td>Le clown et ses chiens</td>\n",
       "      <td>0</td>\n",
       "      <td>1892.0</td>\n",
       "      <td>NaN</td>\n",
       "      <td>5.0</td>\n",
       "      <td>Animation,Short</td>\n",
       "    </tr>\n",
       "    <tr>\n",
       "      <th>2</th>\n",
       "      <td>tt0000003</td>\n",
       "      <td>short</td>\n",
       "      <td>Pauvre Pierrot</td>\n",
       "      <td>Pauvre Pierrot</td>\n",
       "      <td>0</td>\n",
       "      <td>1892.0</td>\n",
       "      <td>NaN</td>\n",
       "      <td>4.0</td>\n",
       "      <td>Animation,Comedy,Romance</td>\n",
       "    </tr>\n",
       "    <tr>\n",
       "      <th>3</th>\n",
       "      <td>tt0000004</td>\n",
       "      <td>short</td>\n",
       "      <td>Un bon bock</td>\n",
       "      <td>Un bon bock</td>\n",
       "      <td>0</td>\n",
       "      <td>1892.0</td>\n",
       "      <td>NaN</td>\n",
       "      <td>12.0</td>\n",
       "      <td>Animation,Short</td>\n",
       "    </tr>\n",
       "    <tr>\n",
       "      <th>4</th>\n",
       "      <td>tt0000005</td>\n",
       "      <td>short</td>\n",
       "      <td>Blacksmith Scene</td>\n",
       "      <td>Blacksmith Scene</td>\n",
       "      <td>0</td>\n",
       "      <td>1893.0</td>\n",
       "      <td>NaN</td>\n",
       "      <td>1.0</td>\n",
       "      <td>Comedy,Short</td>\n",
       "    </tr>\n",
       "  </tbody>\n",
       "</table>\n",
       "</div>"
      ],
      "text/plain": [
       "      tconst titleType            primaryTitle           originalTitle  \\\n",
       "0  tt0000001     short              Carmencita              Carmencita   \n",
       "1  tt0000002     short  Le clown et ses chiens  Le clown et ses chiens   \n",
       "2  tt0000003     short          Pauvre Pierrot          Pauvre Pierrot   \n",
       "3  tt0000004     short             Un bon bock             Un bon bock   \n",
       "4  tt0000005     short        Blacksmith Scene        Blacksmith Scene   \n",
       "\n",
       "   isAdult  startYear  endYear  runtimeMinutes                    genres  \n",
       "0        0     1894.0      NaN             1.0         Documentary,Short  \n",
       "1        0     1892.0      NaN             5.0           Animation,Short  \n",
       "2        0     1892.0      NaN             4.0  Animation,Comedy,Romance  \n",
       "3        0     1892.0      NaN            12.0           Animation,Short  \n",
       "4        0     1893.0      NaN             1.0              Comedy,Short  "
      ]
     },
     "execution_count": 9,
     "metadata": {},
     "output_type": "execute_result"
    }
   ],
   "source": [
    "imdb_titles.head()"
   ]
  },
  {
   "cell_type": "code",
   "execution_count": 10,
   "metadata": {},
   "outputs": [
    {
     "data": {
      "text/html": [
       "<div>\n",
       "<style scoped>\n",
       "    .dataframe tbody tr th:only-of-type {\n",
       "        vertical-align: middle;\n",
       "    }\n",
       "\n",
       "    .dataframe tbody tr th {\n",
       "        vertical-align: top;\n",
       "    }\n",
       "\n",
       "    .dataframe thead th {\n",
       "        text-align: right;\n",
       "    }\n",
       "</style>\n",
       "<table border=\"1\" class=\"dataframe\">\n",
       "  <thead>\n",
       "    <tr style=\"text-align: right;\">\n",
       "      <th></th>\n",
       "      <th>tconst</th>\n",
       "      <th>averageRating</th>\n",
       "      <th>numVotes</th>\n",
       "    </tr>\n",
       "  </thead>\n",
       "  <tbody>\n",
       "    <tr>\n",
       "      <th>0</th>\n",
       "      <td>tt0000001</td>\n",
       "      <td>5.7</td>\n",
       "      <td>1923</td>\n",
       "    </tr>\n",
       "    <tr>\n",
       "      <th>1</th>\n",
       "      <td>tt0000002</td>\n",
       "      <td>5.8</td>\n",
       "      <td>260</td>\n",
       "    </tr>\n",
       "    <tr>\n",
       "      <th>2</th>\n",
       "      <td>tt0000003</td>\n",
       "      <td>6.5</td>\n",
       "      <td>1738</td>\n",
       "    </tr>\n",
       "    <tr>\n",
       "      <th>3</th>\n",
       "      <td>tt0000004</td>\n",
       "      <td>5.6</td>\n",
       "      <td>175</td>\n",
       "    </tr>\n",
       "    <tr>\n",
       "      <th>4</th>\n",
       "      <td>tt0000005</td>\n",
       "      <td>6.2</td>\n",
       "      <td>2553</td>\n",
       "    </tr>\n",
       "  </tbody>\n",
       "</table>\n",
       "</div>"
      ],
      "text/plain": [
       "      tconst  averageRating  numVotes\n",
       "0  tt0000001            5.7      1923\n",
       "1  tt0000002            5.8       260\n",
       "2  tt0000003            6.5      1738\n",
       "3  tt0000004            5.6       175\n",
       "4  tt0000005            6.2      2553"
      ]
     },
     "execution_count": 10,
     "metadata": {},
     "output_type": "execute_result"
    }
   ],
   "source": [
    "imdb_ratings.head()"
   ]
  },
  {
   "cell_type": "code",
   "execution_count": 11,
   "metadata": {},
   "outputs": [
    {
     "data": {
      "text/html": [
       "<div>\n",
       "<style scoped>\n",
       "    .dataframe tbody tr th:only-of-type {\n",
       "        vertical-align: middle;\n",
       "    }\n",
       "\n",
       "    .dataframe tbody tr th {\n",
       "        vertical-align: top;\n",
       "    }\n",
       "\n",
       "    .dataframe thead th {\n",
       "        text-align: right;\n",
       "    }\n",
       "</style>\n",
       "<table border=\"1\" class=\"dataframe\">\n",
       "  <thead>\n",
       "    <tr style=\"text-align: right;\">\n",
       "      <th></th>\n",
       "      <th>tconst</th>\n",
       "      <th>directors</th>\n",
       "      <th>writers</th>\n",
       "    </tr>\n",
       "  </thead>\n",
       "  <tbody>\n",
       "    <tr>\n",
       "      <th>0</th>\n",
       "      <td>tt0000001</td>\n",
       "      <td>nm0005690</td>\n",
       "      <td>NaN</td>\n",
       "    </tr>\n",
       "    <tr>\n",
       "      <th>1</th>\n",
       "      <td>tt0000002</td>\n",
       "      <td>nm0721526</td>\n",
       "      <td>NaN</td>\n",
       "    </tr>\n",
       "    <tr>\n",
       "      <th>2</th>\n",
       "      <td>tt0000003</td>\n",
       "      <td>nm0721526</td>\n",
       "      <td>NaN</td>\n",
       "    </tr>\n",
       "    <tr>\n",
       "      <th>3</th>\n",
       "      <td>tt0000004</td>\n",
       "      <td>nm0721526</td>\n",
       "      <td>NaN</td>\n",
       "    </tr>\n",
       "    <tr>\n",
       "      <th>4</th>\n",
       "      <td>tt0000005</td>\n",
       "      <td>nm0005690</td>\n",
       "      <td>NaN</td>\n",
       "    </tr>\n",
       "  </tbody>\n",
       "</table>\n",
       "</div>"
      ],
      "text/plain": [
       "      tconst  directors writers\n",
       "0  tt0000001  nm0005690     NaN\n",
       "1  tt0000002  nm0721526     NaN\n",
       "2  tt0000003  nm0721526     NaN\n",
       "3  tt0000004  nm0721526     NaN\n",
       "4  tt0000005  nm0005690     NaN"
      ]
     },
     "execution_count": 11,
     "metadata": {},
     "output_type": "execute_result"
    }
   ],
   "source": [
    "imdb_crew.head()"
   ]
  },
  {
   "cell_type": "code",
   "execution_count": 12,
   "metadata": {},
   "outputs": [
    {
     "data": {
      "text/html": [
       "<div>\n",
       "<style scoped>\n",
       "    .dataframe tbody tr th:only-of-type {\n",
       "        vertical-align: middle;\n",
       "    }\n",
       "\n",
       "    .dataframe tbody tr th {\n",
       "        vertical-align: top;\n",
       "    }\n",
       "\n",
       "    .dataframe thead th {\n",
       "        text-align: right;\n",
       "    }\n",
       "</style>\n",
       "<table border=\"1\" class=\"dataframe\">\n",
       "  <thead>\n",
       "    <tr style=\"text-align: right;\">\n",
       "      <th></th>\n",
       "      <th>nconst</th>\n",
       "      <th>primaryName</th>\n",
       "      <th>birthYear</th>\n",
       "      <th>deathYear</th>\n",
       "      <th>primaryProfession</th>\n",
       "      <th>knownForTitles</th>\n",
       "    </tr>\n",
       "  </thead>\n",
       "  <tbody>\n",
       "    <tr>\n",
       "      <th>0</th>\n",
       "      <td>nm0000001</td>\n",
       "      <td>Fred Astaire</td>\n",
       "      <td>1899.0</td>\n",
       "      <td>1987.0</td>\n",
       "      <td>soundtrack,actor,miscellaneous</td>\n",
       "      <td>tt0031983,tt0072308,tt0053137,tt0050419</td>\n",
       "    </tr>\n",
       "    <tr>\n",
       "      <th>1</th>\n",
       "      <td>nm0000002</td>\n",
       "      <td>Lauren Bacall</td>\n",
       "      <td>1924.0</td>\n",
       "      <td>2014.0</td>\n",
       "      <td>actress,soundtrack</td>\n",
       "      <td>tt0071877,tt0037382,tt0038355,tt0117057</td>\n",
       "    </tr>\n",
       "    <tr>\n",
       "      <th>2</th>\n",
       "      <td>nm0000003</td>\n",
       "      <td>Brigitte Bardot</td>\n",
       "      <td>1934.0</td>\n",
       "      <td>NaN</td>\n",
       "      <td>actress,soundtrack,music_department</td>\n",
       "      <td>tt0054452,tt0049189,tt0057345,tt0056404</td>\n",
       "    </tr>\n",
       "    <tr>\n",
       "      <th>3</th>\n",
       "      <td>nm0000004</td>\n",
       "      <td>John Belushi</td>\n",
       "      <td>1949.0</td>\n",
       "      <td>1982.0</td>\n",
       "      <td>actor,soundtrack,writer</td>\n",
       "      <td>tt0077975,tt0078723,tt0080455,tt0072562</td>\n",
       "    </tr>\n",
       "    <tr>\n",
       "      <th>4</th>\n",
       "      <td>nm0000005</td>\n",
       "      <td>Ingmar Bergman</td>\n",
       "      <td>1918.0</td>\n",
       "      <td>2007.0</td>\n",
       "      <td>writer,director,actor</td>\n",
       "      <td>tt0083922,tt0060827,tt0050986,tt0050976</td>\n",
       "    </tr>\n",
       "  </tbody>\n",
       "</table>\n",
       "</div>"
      ],
      "text/plain": [
       "      nconst      primaryName  birthYear  deathYear  \\\n",
       "0  nm0000001     Fred Astaire     1899.0     1987.0   \n",
       "1  nm0000002    Lauren Bacall     1924.0     2014.0   \n",
       "2  nm0000003  Brigitte Bardot     1934.0        NaN   \n",
       "3  nm0000004     John Belushi     1949.0     1982.0   \n",
       "4  nm0000005   Ingmar Bergman     1918.0     2007.0   \n",
       "\n",
       "                     primaryProfession  \\\n",
       "0       soundtrack,actor,miscellaneous   \n",
       "1                   actress,soundtrack   \n",
       "2  actress,soundtrack,music_department   \n",
       "3              actor,soundtrack,writer   \n",
       "4                writer,director,actor   \n",
       "\n",
       "                            knownForTitles  \n",
       "0  tt0031983,tt0072308,tt0053137,tt0050419  \n",
       "1  tt0071877,tt0037382,tt0038355,tt0117057  \n",
       "2  tt0054452,tt0049189,tt0057345,tt0056404  \n",
       "3  tt0077975,tt0078723,tt0080455,tt0072562  \n",
       "4  tt0083922,tt0060827,tt0050986,tt0050976  "
      ]
     },
     "execution_count": 12,
     "metadata": {},
     "output_type": "execute_result"
    }
   ],
   "source": [
    "imdb_people.head()"
   ]
  },
  {
   "cell_type": "code",
   "execution_count": 13,
   "metadata": {},
   "outputs": [
    {
     "data": {
      "text/html": [
       "<div>\n",
       "<style scoped>\n",
       "    .dataframe tbody tr th:only-of-type {\n",
       "        vertical-align: middle;\n",
       "    }\n",
       "\n",
       "    .dataframe tbody tr th {\n",
       "        vertical-align: top;\n",
       "    }\n",
       "\n",
       "    .dataframe thead th {\n",
       "        text-align: right;\n",
       "    }\n",
       "</style>\n",
       "<table border=\"1\" class=\"dataframe\">\n",
       "  <thead>\n",
       "    <tr style=\"text-align: right;\">\n",
       "      <th></th>\n",
       "      <th>birthYear</th>\n",
       "      <th>deathYear</th>\n",
       "    </tr>\n",
       "  </thead>\n",
       "  <tbody>\n",
       "    <tr>\n",
       "      <th>count</th>\n",
       "      <td>568354.000000</td>\n",
       "      <td>208794.000000</td>\n",
       "    </tr>\n",
       "    <tr>\n",
       "      <th>mean</th>\n",
       "      <td>1952.249489</td>\n",
       "      <td>1991.615310</td>\n",
       "    </tr>\n",
       "    <tr>\n",
       "      <th>std</th>\n",
       "      <td>34.844203</td>\n",
       "      <td>34.748459</td>\n",
       "    </tr>\n",
       "    <tr>\n",
       "      <th>min</th>\n",
       "      <td>4.000000</td>\n",
       "      <td>17.000000</td>\n",
       "    </tr>\n",
       "    <tr>\n",
       "      <th>25%</th>\n",
       "      <td>1931.000000</td>\n",
       "      <td>1978.000000</td>\n",
       "    </tr>\n",
       "    <tr>\n",
       "      <th>50%</th>\n",
       "      <td>1959.000000</td>\n",
       "      <td>2000.000000</td>\n",
       "    </tr>\n",
       "    <tr>\n",
       "      <th>75%</th>\n",
       "      <td>1978.000000</td>\n",
       "      <td>2013.000000</td>\n",
       "    </tr>\n",
       "    <tr>\n",
       "      <th>max</th>\n",
       "      <td>2022.000000</td>\n",
       "      <td>2022.000000</td>\n",
       "    </tr>\n",
       "  </tbody>\n",
       "</table>\n",
       "</div>"
      ],
      "text/plain": [
       "           birthYear      deathYear\n",
       "count  568354.000000  208794.000000\n",
       "mean     1952.249489    1991.615310\n",
       "std        34.844203      34.748459\n",
       "min         4.000000      17.000000\n",
       "25%      1931.000000    1978.000000\n",
       "50%      1959.000000    2000.000000\n",
       "75%      1978.000000    2013.000000\n",
       "max      2022.000000    2022.000000"
      ]
     },
     "execution_count": 13,
     "metadata": {},
     "output_type": "execute_result"
    }
   ],
   "source": [
    "imdb_people.describe()"
   ]
  },
  {
   "cell_type": "markdown",
   "metadata": {},
   "source": [
    "## IMDB budget data:"
   ]
  },
  {
   "cell_type": "markdown",
   "metadata": {},
   "source": [
    "This dataset includes the ratings for 3828 IMDB movies. \n",
    "source: https://github.com/jeremy-lee93/dsc-mod-1-project-v2-1-onl01-dtsc-pt-052620/blob/master/IMDb_budgets.csv\n",
    "\n",
    "- Movie:  Title of movie\n",
    "- Year: Movie release year\n",
    "- IMDb: IMDB rating over 10\n",
    "- Rating: Certificate\n",
    "- Runtime [min]\n",
    "- Genre\n",
    "- Release Date: Movie release date\n",
    "- Production Budget: Budget spent for production of the movie\n",
    "- Domestic Gross: Gross revenue in US and Canada for all time\n",
    "- Worldwide Gross: Worldwide gross revenue for all time"
   ]
  },
  {
   "cell_type": "code",
   "execution_count": 14,
   "metadata": {},
   "outputs": [],
   "source": [
    "imdb_budget = pd.read_csv('data/imdb/IMDb_budgets.csv')"
   ]
  },
  {
   "cell_type": "code",
   "execution_count": 15,
   "metadata": {},
   "outputs": [
    {
     "data": {
      "text/html": [
       "<div>\n",
       "<style scoped>\n",
       "    .dataframe tbody tr th:only-of-type {\n",
       "        vertical-align: middle;\n",
       "    }\n",
       "\n",
       "    .dataframe tbody tr th {\n",
       "        vertical-align: top;\n",
       "    }\n",
       "\n",
       "    .dataframe thead th {\n",
       "        text-align: right;\n",
       "    }\n",
       "</style>\n",
       "<table border=\"1\" class=\"dataframe\">\n",
       "  <thead>\n",
       "    <tr style=\"text-align: right;\">\n",
       "      <th></th>\n",
       "      <th>Movie</th>\n",
       "      <th>Year</th>\n",
       "      <th>IMDb</th>\n",
       "      <th>Rating</th>\n",
       "      <th>Runtime</th>\n",
       "      <th>Genre</th>\n",
       "      <th>Release Date</th>\n",
       "      <th>Production Budget</th>\n",
       "      <th>Domestic Gross</th>\n",
       "      <th>Worldwide Gross</th>\n",
       "    </tr>\n",
       "  </thead>\n",
       "  <tbody>\n",
       "    <tr>\n",
       "      <th>1016</th>\n",
       "      <td>Pitch Perfect</td>\n",
       "      <td>2012</td>\n",
       "      <td>7.2</td>\n",
       "      <td>PG-13</td>\n",
       "      <td>112</td>\n",
       "      <td>Comedy, Music, Romance</td>\n",
       "      <td>Sep 28, 2012</td>\n",
       "      <td>17000000</td>\n",
       "      <td>65001093</td>\n",
       "      <td>116044347</td>\n",
       "    </tr>\n",
       "    <tr>\n",
       "      <th>646</th>\n",
       "      <td>Zero Dark Thirty</td>\n",
       "      <td>2012</td>\n",
       "      <td>7.4</td>\n",
       "      <td>R</td>\n",
       "      <td>157</td>\n",
       "      <td>Drama, History, Thriller</td>\n",
       "      <td>Dec 19, 2012</td>\n",
       "      <td>52500000</td>\n",
       "      <td>95720716</td>\n",
       "      <td>134612435</td>\n",
       "    </tr>\n",
       "    <tr>\n",
       "      <th>1379</th>\n",
       "      <td>The Land Before Time</td>\n",
       "      <td>1988</td>\n",
       "      <td>7.4</td>\n",
       "      <td>G</td>\n",
       "      <td>69</td>\n",
       "      <td>Animation, Adventure, Drama</td>\n",
       "      <td>Nov 18, 1988</td>\n",
       "      <td>12300000</td>\n",
       "      <td>48092846</td>\n",
       "      <td>81972846</td>\n",
       "    </tr>\n",
       "    <tr>\n",
       "      <th>70</th>\n",
       "      <td>The Twilight Saga: Eclipse</td>\n",
       "      <td>2010</td>\n",
       "      <td>5.0</td>\n",
       "      <td>PG-13</td>\n",
       "      <td>124</td>\n",
       "      <td>Adventure, Drama, Fantasy</td>\n",
       "      <td>Jun 30, 2010</td>\n",
       "      <td>68000000</td>\n",
       "      <td>300531751</td>\n",
       "      <td>706102828</td>\n",
       "    </tr>\n",
       "    <tr>\n",
       "      <th>298</th>\n",
       "      <td>X-Men</td>\n",
       "      <td>2000</td>\n",
       "      <td>7.4</td>\n",
       "      <td>PG-13</td>\n",
       "      <td>104</td>\n",
       "      <td>Action, Adventure, Sci-Fi</td>\n",
       "      <td>Jul 14, 2000</td>\n",
       "      <td>75000000</td>\n",
       "      <td>157299717</td>\n",
       "      <td>296872367</td>\n",
       "    </tr>\n",
       "  </tbody>\n",
       "</table>\n",
       "</div>"
      ],
      "text/plain": [
       "                           Movie  Year  IMDb Rating  Runtime  \\\n",
       "1016               Pitch Perfect  2012   7.2  PG-13      112   \n",
       "646             Zero Dark Thirty  2012   7.4      R      157   \n",
       "1379        The Land Before Time  1988   7.4      G       69   \n",
       "70    The Twilight Saga: Eclipse  2010   5.0  PG-13      124   \n",
       "298                        X-Men  2000   7.4  PG-13      104   \n",
       "\n",
       "                            Genre  Release Date  Production Budget  \\\n",
       "1016       Comedy, Music, Romance  Sep 28, 2012           17000000   \n",
       "646      Drama, History, Thriller  Dec 19, 2012           52500000   \n",
       "1379  Animation, Adventure, Drama  Nov 18, 1988           12300000   \n",
       "70      Adventure, Drama, Fantasy  Jun 30, 2010           68000000   \n",
       "298     Action, Adventure, Sci-Fi  Jul 14, 2000           75000000   \n",
       "\n",
       "      Domestic Gross  Worldwide Gross  \n",
       "1016        65001093        116044347  \n",
       "646         95720716        134612435  \n",
       "1379        48092846         81972846  \n",
       "70         300531751        706102828  \n",
       "298        157299717        296872367  "
      ]
     },
     "execution_count": 15,
     "metadata": {},
     "output_type": "execute_result"
    }
   ],
   "source": [
    "imdb_budget.sample(5)"
   ]
  },
  {
   "cell_type": "code",
   "execution_count": 16,
   "metadata": {},
   "outputs": [
    {
     "data": {
      "text/html": [
       "<div>\n",
       "<style scoped>\n",
       "    .dataframe tbody tr th:only-of-type {\n",
       "        vertical-align: middle;\n",
       "    }\n",
       "\n",
       "    .dataframe tbody tr th {\n",
       "        vertical-align: top;\n",
       "    }\n",
       "\n",
       "    .dataframe thead th {\n",
       "        text-align: right;\n",
       "    }\n",
       "</style>\n",
       "<table border=\"1\" class=\"dataframe\">\n",
       "  <thead>\n",
       "    <tr style=\"text-align: right;\">\n",
       "      <th></th>\n",
       "      <th>Year</th>\n",
       "      <th>IMDb</th>\n",
       "      <th>Runtime</th>\n",
       "      <th>Production Budget</th>\n",
       "      <th>Domestic Gross</th>\n",
       "      <th>Worldwide Gross</th>\n",
       "    </tr>\n",
       "  </thead>\n",
       "  <tbody>\n",
       "    <tr>\n",
       "      <th>count</th>\n",
       "      <td>3828.000000</td>\n",
       "      <td>3828.000000</td>\n",
       "      <td>3828.000000</td>\n",
       "      <td>3.828000e+03</td>\n",
       "      <td>3.828000e+03</td>\n",
       "      <td>3.828000e+03</td>\n",
       "    </tr>\n",
       "    <tr>\n",
       "      <th>mean</th>\n",
       "      <td>2003.594044</td>\n",
       "      <td>6.459013</td>\n",
       "      <td>109.940439</td>\n",
       "      <td>4.030960e+07</td>\n",
       "      <td>5.559021e+07</td>\n",
       "      <td>1.206910e+08</td>\n",
       "    </tr>\n",
       "    <tr>\n",
       "      <th>std</th>\n",
       "      <td>12.767740</td>\n",
       "      <td>0.996623</td>\n",
       "      <td>20.219674</td>\n",
       "      <td>4.480927e+07</td>\n",
       "      <td>7.403263e+07</td>\n",
       "      <td>1.993646e+08</td>\n",
       "    </tr>\n",
       "    <tr>\n",
       "      <th>min</th>\n",
       "      <td>1925.000000</td>\n",
       "      <td>1.500000</td>\n",
       "      <td>63.000000</td>\n",
       "      <td>7.000000e+03</td>\n",
       "      <td>0.000000e+00</td>\n",
       "      <td>0.000000e+00</td>\n",
       "    </tr>\n",
       "    <tr>\n",
       "      <th>25%</th>\n",
       "      <td>1999.000000</td>\n",
       "      <td>5.900000</td>\n",
       "      <td>96.000000</td>\n",
       "      <td>1.100000e+07</td>\n",
       "      <td>1.180967e+07</td>\n",
       "      <td>1.690363e+07</td>\n",
       "    </tr>\n",
       "    <tr>\n",
       "      <th>50%</th>\n",
       "      <td>2006.000000</td>\n",
       "      <td>6.500000</td>\n",
       "      <td>106.000000</td>\n",
       "      <td>2.500000e+07</td>\n",
       "      <td>3.225471e+07</td>\n",
       "      <td>5.077617e+07</td>\n",
       "    </tr>\n",
       "    <tr>\n",
       "      <th>75%</th>\n",
       "      <td>2013.000000</td>\n",
       "      <td>7.100000</td>\n",
       "      <td>120.000000</td>\n",
       "      <td>5.000000e+07</td>\n",
       "      <td>6.848642e+07</td>\n",
       "      <td>1.388776e+08</td>\n",
       "    </tr>\n",
       "    <tr>\n",
       "      <th>max</th>\n",
       "      <td>2020.000000</td>\n",
       "      <td>9.300000</td>\n",
       "      <td>271.000000</td>\n",
       "      <td>4.000000e+08</td>\n",
       "      <td>8.583730e+08</td>\n",
       "      <td>2.797801e+09</td>\n",
       "    </tr>\n",
       "  </tbody>\n",
       "</table>\n",
       "</div>"
      ],
      "text/plain": [
       "              Year         IMDb      Runtime  Production Budget  \\\n",
       "count  3828.000000  3828.000000  3828.000000       3.828000e+03   \n",
       "mean   2003.594044     6.459013   109.940439       4.030960e+07   \n",
       "std      12.767740     0.996623    20.219674       4.480927e+07   \n",
       "min    1925.000000     1.500000    63.000000       7.000000e+03   \n",
       "25%    1999.000000     5.900000    96.000000       1.100000e+07   \n",
       "50%    2006.000000     6.500000   106.000000       2.500000e+07   \n",
       "75%    2013.000000     7.100000   120.000000       5.000000e+07   \n",
       "max    2020.000000     9.300000   271.000000       4.000000e+08   \n",
       "\n",
       "       Domestic Gross  Worldwide Gross  \n",
       "count    3.828000e+03     3.828000e+03  \n",
       "mean     5.559021e+07     1.206910e+08  \n",
       "std      7.403263e+07     1.993646e+08  \n",
       "min      0.000000e+00     0.000000e+00  \n",
       "25%      1.180967e+07     1.690363e+07  \n",
       "50%      3.225471e+07     5.077617e+07  \n",
       "75%      6.848642e+07     1.388776e+08  \n",
       "max      8.583730e+08     2.797801e+09  "
      ]
     },
     "execution_count": 16,
     "metadata": {},
     "output_type": "execute_result"
    }
   ],
   "source": [
    "imdb_budget.describe()"
   ]
  },
  {
   "cell_type": "markdown",
   "metadata": {},
   "source": [
    "## Wikipedia"
   ]
  },
  {
   "cell_type": "markdown",
   "metadata": {},
   "source": [
    "Wikipedia page views statistics\n",
    "source: this data is crowed from the wikimedia API by the ./utils/wikipedia_pageview_statistics.py script\n",
    "    \n",
    "- `name`: Title of a movie\n",
    "- `pageviews`: Number of page views for a movie with a `name`. The value is an weighted aggregation for the pageviews for the period between 01/12/2021 and 30/11/2022. The weight is computed with this formula - `weight = 1 + ((2022 - movie_release_year) / (2022 - min_movie_year))`. The aggregation is accomplished by the `mean` function."
   ]
  },
  {
   "cell_type": "code",
   "execution_count": 17,
   "metadata": {},
   "outputs": [],
   "source": [
    "wikipedia_pageviews = pd.read_csv('./handled_data/movies_wikipedia_pageviews.csv')"
   ]
  },
  {
   "cell_type": "code",
   "execution_count": 18,
   "metadata": {},
   "outputs": [
    {
     "data": {
      "text/html": [
       "<div>\n",
       "<style scoped>\n",
       "    .dataframe tbody tr th:only-of-type {\n",
       "        vertical-align: middle;\n",
       "    }\n",
       "\n",
       "    .dataframe tbody tr th {\n",
       "        vertical-align: top;\n",
       "    }\n",
       "\n",
       "    .dataframe thead th {\n",
       "        text-align: right;\n",
       "    }\n",
       "</style>\n",
       "<table border=\"1\" class=\"dataframe\">\n",
       "  <thead>\n",
       "    <tr style=\"text-align: right;\">\n",
       "      <th></th>\n",
       "      <th>name</th>\n",
       "      <th>pageviews</th>\n",
       "    </tr>\n",
       "  </thead>\n",
       "  <tbody>\n",
       "    <tr>\n",
       "      <th>71073</th>\n",
       "      <td>Wells Fargo</td>\n",
       "      <td>75406.193758</td>\n",
       "    </tr>\n",
       "    <tr>\n",
       "      <th>39345</th>\n",
       "      <td>Navajo Joe</td>\n",
       "      <td>2661.821146</td>\n",
       "    </tr>\n",
       "    <tr>\n",
       "      <th>25500</th>\n",
       "      <td>How I Wonder What You Are</td>\n",
       "      <td>24.706192</td>\n",
       "    </tr>\n",
       "    <tr>\n",
       "      <th>30750</th>\n",
       "      <td>Kurenai no buta</td>\n",
       "      <td>11.326087</td>\n",
       "    </tr>\n",
       "    <tr>\n",
       "      <th>34051</th>\n",
       "      <td>Love Letter</td>\n",
       "      <td>28.128788</td>\n",
       "    </tr>\n",
       "  </tbody>\n",
       "</table>\n",
       "</div>"
      ],
      "text/plain": [
       "                            name     pageviews\n",
       "71073                Wells Fargo  75406.193758\n",
       "39345                 Navajo Joe   2661.821146\n",
       "25500  How I Wonder What You Are     24.706192\n",
       "30750            Kurenai no buta     11.326087\n",
       "34051                Love Letter     28.128788"
      ]
     },
     "execution_count": 18,
     "metadata": {},
     "output_type": "execute_result"
    }
   ],
   "source": [
    "wikipedia_pageviews.sample(5)"
   ]
  },
  {
   "cell_type": "markdown",
   "metadata": {},
   "source": [
    "# Cleaning & Pre-processing of data"
   ]
  },
  {
   "cell_type": "code",
   "execution_count": 19,
   "metadata": {},
   "outputs": [
    {
     "data": {
      "text/html": [
       "<div>\n",
       "<style scoped>\n",
       "    .dataframe tbody tr th:only-of-type {\n",
       "        vertical-align: middle;\n",
       "    }\n",
       "\n",
       "    .dataframe tbody tr th {\n",
       "        vertical-align: top;\n",
       "    }\n",
       "\n",
       "    .dataframe thead th {\n",
       "        text-align: right;\n",
       "    }\n",
       "</style>\n",
       "<table border=\"1\" class=\"dataframe\">\n",
       "  <thead>\n",
       "    <tr style=\"text-align: right;\">\n",
       "      <th></th>\n",
       "      <th>wikipedia_id</th>\n",
       "      <th>box_office_revenue</th>\n",
       "      <th>runtime</th>\n",
       "    </tr>\n",
       "  </thead>\n",
       "  <tbody>\n",
       "    <tr>\n",
       "      <th>count</th>\n",
       "      <td>8.174100e+04</td>\n",
       "      <td>8.401000e+03</td>\n",
       "      <td>6.129100e+04</td>\n",
       "    </tr>\n",
       "    <tr>\n",
       "      <th>mean</th>\n",
       "      <td>1.740784e+07</td>\n",
       "      <td>4.799363e+07</td>\n",
       "      <td>1.118192e+02</td>\n",
       "    </tr>\n",
       "    <tr>\n",
       "      <th>std</th>\n",
       "      <td>1.098791e+07</td>\n",
       "      <td>1.121753e+08</td>\n",
       "      <td>4.360070e+03</td>\n",
       "    </tr>\n",
       "    <tr>\n",
       "      <th>min</th>\n",
       "      <td>3.300000e+02</td>\n",
       "      <td>1.000000e+04</td>\n",
       "      <td>0.000000e+00</td>\n",
       "    </tr>\n",
       "    <tr>\n",
       "      <th>25%</th>\n",
       "      <td>7.323695e+06</td>\n",
       "      <td>2.083193e+06</td>\n",
       "      <td>8.100000e+01</td>\n",
       "    </tr>\n",
       "    <tr>\n",
       "      <th>50%</th>\n",
       "      <td>1.777899e+07</td>\n",
       "      <td>1.063969e+07</td>\n",
       "      <td>9.300000e+01</td>\n",
       "    </tr>\n",
       "    <tr>\n",
       "      <th>75%</th>\n",
       "      <td>2.715573e+07</td>\n",
       "      <td>4.071696e+07</td>\n",
       "      <td>1.060000e+02</td>\n",
       "    </tr>\n",
       "    <tr>\n",
       "      <th>max</th>\n",
       "      <td>3.750192e+07</td>\n",
       "      <td>2.782275e+09</td>\n",
       "      <td>1.079281e+06</td>\n",
       "    </tr>\n",
       "  </tbody>\n",
       "</table>\n",
       "</div>"
      ],
      "text/plain": [
       "       wikipedia_id  box_office_revenue       runtime\n",
       "count  8.174100e+04        8.401000e+03  6.129100e+04\n",
       "mean   1.740784e+07        4.799363e+07  1.118192e+02\n",
       "std    1.098791e+07        1.121753e+08  4.360070e+03\n",
       "min    3.300000e+02        1.000000e+04  0.000000e+00\n",
       "25%    7.323695e+06        2.083193e+06  8.100000e+01\n",
       "50%    1.777899e+07        1.063969e+07  9.300000e+01\n",
       "75%    2.715573e+07        4.071696e+07  1.060000e+02\n",
       "max    3.750192e+07        2.782275e+09  1.079281e+06"
      ]
     },
     "execution_count": 19,
     "metadata": {},
     "output_type": "execute_result"
    }
   ],
   "source": [
    "movies.describe()"
   ]
  },
  {
   "cell_type": "code",
   "execution_count": 20,
   "metadata": {},
   "outputs": [
    {
     "data": {
      "text/html": [
       "<div>\n",
       "<style scoped>\n",
       "    .dataframe tbody tr th:only-of-type {\n",
       "        vertical-align: middle;\n",
       "    }\n",
       "\n",
       "    .dataframe tbody tr th {\n",
       "        vertical-align: top;\n",
       "    }\n",
       "\n",
       "    .dataframe thead th {\n",
       "        text-align: right;\n",
       "    }\n",
       "</style>\n",
       "<table border=\"1\" class=\"dataframe\">\n",
       "  <thead>\n",
       "    <tr style=\"text-align: right;\">\n",
       "      <th></th>\n",
       "      <th>wikipedia_movie_id</th>\n",
       "      <th>actor_height_meters</th>\n",
       "      <th>actor_age_at_movie_release</th>\n",
       "    </tr>\n",
       "  </thead>\n",
       "  <tbody>\n",
       "    <tr>\n",
       "      <th>count</th>\n",
       "      <td>4.506690e+05</td>\n",
       "      <td>154824.000000</td>\n",
       "      <td>292556.000000</td>\n",
       "    </tr>\n",
       "    <tr>\n",
       "      <th>mean</th>\n",
       "      <td>1.396975e+07</td>\n",
       "      <td>1.788893</td>\n",
       "      <td>37.788523</td>\n",
       "    </tr>\n",
       "    <tr>\n",
       "      <th>std</th>\n",
       "      <td>1.079662e+07</td>\n",
       "      <td>4.379940</td>\n",
       "      <td>20.587870</td>\n",
       "    </tr>\n",
       "    <tr>\n",
       "      <th>min</th>\n",
       "      <td>3.300000e+02</td>\n",
       "      <td>0.610000</td>\n",
       "      <td>-7896.000000</td>\n",
       "    </tr>\n",
       "    <tr>\n",
       "      <th>25%</th>\n",
       "      <td>3.759292e+06</td>\n",
       "      <td>1.676400</td>\n",
       "      <td>28.000000</td>\n",
       "    </tr>\n",
       "    <tr>\n",
       "      <th>50%</th>\n",
       "      <td>1.189065e+07</td>\n",
       "      <td>1.750000</td>\n",
       "      <td>36.000000</td>\n",
       "    </tr>\n",
       "    <tr>\n",
       "      <th>75%</th>\n",
       "      <td>2.366501e+07</td>\n",
       "      <td>1.830000</td>\n",
       "      <td>47.000000</td>\n",
       "    </tr>\n",
       "    <tr>\n",
       "      <th>max</th>\n",
       "      <td>3.750192e+07</td>\n",
       "      <td>510.000000</td>\n",
       "      <td>103.000000</td>\n",
       "    </tr>\n",
       "  </tbody>\n",
       "</table>\n",
       "</div>"
      ],
      "text/plain": [
       "       wikipedia_movie_id  actor_height_meters  actor_age_at_movie_release\n",
       "count        4.506690e+05        154824.000000               292556.000000\n",
       "mean         1.396975e+07             1.788893                   37.788523\n",
       "std          1.079662e+07             4.379940                   20.587870\n",
       "min          3.300000e+02             0.610000                -7896.000000\n",
       "25%          3.759292e+06             1.676400                   28.000000\n",
       "50%          1.189065e+07             1.750000                   36.000000\n",
       "75%          2.366501e+07             1.830000                   47.000000\n",
       "max          3.750192e+07           510.000000                  103.000000"
      ]
     },
     "execution_count": 20,
     "metadata": {},
     "output_type": "execute_result"
    }
   ],
   "source": [
    "characters.describe()"
   ]
  },
  {
   "cell_type": "code",
   "execution_count": 21,
   "metadata": {},
   "outputs": [],
   "source": [
    "# Function to remove encoding: \n",
    "remove_encoding = lambda x: np.nan if x == '{}' else \\\n",
    "    [w.replace(' Language', '').replace(' language', '') for w in re.findall(r'\"(.*?)\"', x)[1::2]]"
   ]
  },
  {
   "cell_type": "code",
   "execution_count": 22,
   "metadata": {},
   "outputs": [
    {
     "data": {
      "text/html": [
       "<div>\n",
       "<style scoped>\n",
       "    .dataframe tbody tr th:only-of-type {\n",
       "        vertical-align: middle;\n",
       "    }\n",
       "\n",
       "    .dataframe tbody tr th {\n",
       "        vertical-align: top;\n",
       "    }\n",
       "\n",
       "    .dataframe thead th {\n",
       "        text-align: right;\n",
       "    }\n",
       "</style>\n",
       "<table border=\"1\" class=\"dataframe\">\n",
       "  <thead>\n",
       "    <tr style=\"text-align: right;\">\n",
       "      <th></th>\n",
       "      <th>wikipedia_id</th>\n",
       "      <th>freebase_id</th>\n",
       "      <th>name</th>\n",
       "      <th>release_date</th>\n",
       "      <th>box_office_revenue</th>\n",
       "      <th>runtime</th>\n",
       "      <th>languages</th>\n",
       "      <th>countries</th>\n",
       "      <th>genres</th>\n",
       "    </tr>\n",
       "  </thead>\n",
       "  <tbody>\n",
       "    <tr>\n",
       "      <th>0</th>\n",
       "      <td>975900</td>\n",
       "      <td>/m/03vyhn</td>\n",
       "      <td>Ghosts of Mars</td>\n",
       "      <td>2001-08-24</td>\n",
       "      <td>14010832.0</td>\n",
       "      <td>98.0</td>\n",
       "      <td>[English]</td>\n",
       "      <td>[United States of America]</td>\n",
       "      <td>[Thriller, Science Fiction, Horror, Adventure,...</td>\n",
       "    </tr>\n",
       "    <tr>\n",
       "      <th>1</th>\n",
       "      <td>3196793</td>\n",
       "      <td>/m/08yl5d</td>\n",
       "      <td>Getting Away with Murder: The JonBenét Ramsey ...</td>\n",
       "      <td>2000-02-16</td>\n",
       "      <td>NaN</td>\n",
       "      <td>95.0</td>\n",
       "      <td>[English]</td>\n",
       "      <td>[United States of America]</td>\n",
       "      <td>[Mystery, Biographical film, Drama, Crime Drama]</td>\n",
       "    </tr>\n",
       "    <tr>\n",
       "      <th>2</th>\n",
       "      <td>28463795</td>\n",
       "      <td>/m/0crgdbh</td>\n",
       "      <td>Brun bitter</td>\n",
       "      <td>1988</td>\n",
       "      <td>NaN</td>\n",
       "      <td>83.0</td>\n",
       "      <td>[Norwegian]</td>\n",
       "      <td>[Norway]</td>\n",
       "      <td>[Crime Fiction, Drama]</td>\n",
       "    </tr>\n",
       "    <tr>\n",
       "      <th>3</th>\n",
       "      <td>9363483</td>\n",
       "      <td>/m/0285_cd</td>\n",
       "      <td>White Of The Eye</td>\n",
       "      <td>1987</td>\n",
       "      <td>NaN</td>\n",
       "      <td>110.0</td>\n",
       "      <td>[English]</td>\n",
       "      <td>[United Kingdom]</td>\n",
       "      <td>[Thriller, Erotic thriller, Psychological thri...</td>\n",
       "    </tr>\n",
       "    <tr>\n",
       "      <th>4</th>\n",
       "      <td>261236</td>\n",
       "      <td>/m/01mrr1</td>\n",
       "      <td>A Woman in Flames</td>\n",
       "      <td>1983</td>\n",
       "      <td>NaN</td>\n",
       "      <td>106.0</td>\n",
       "      <td>[German]</td>\n",
       "      <td>[Germany]</td>\n",
       "      <td>[Drama]</td>\n",
       "    </tr>\n",
       "  </tbody>\n",
       "</table>\n",
       "</div>"
      ],
      "text/plain": [
       "   wikipedia_id freebase_id  \\\n",
       "0        975900   /m/03vyhn   \n",
       "1       3196793   /m/08yl5d   \n",
       "2      28463795  /m/0crgdbh   \n",
       "3       9363483  /m/0285_cd   \n",
       "4        261236   /m/01mrr1   \n",
       "\n",
       "                                                name release_date  \\\n",
       "0                                     Ghosts of Mars   2001-08-24   \n",
       "1  Getting Away with Murder: The JonBenét Ramsey ...   2000-02-16   \n",
       "2                                        Brun bitter         1988   \n",
       "3                                   White Of The Eye         1987   \n",
       "4                                  A Woman in Flames         1983   \n",
       "\n",
       "   box_office_revenue  runtime    languages                   countries  \\\n",
       "0          14010832.0     98.0    [English]  [United States of America]   \n",
       "1                 NaN     95.0    [English]  [United States of America]   \n",
       "2                 NaN     83.0  [Norwegian]                    [Norway]   \n",
       "3                 NaN    110.0    [English]            [United Kingdom]   \n",
       "4                 NaN    106.0     [German]                   [Germany]   \n",
       "\n",
       "                                              genres  \n",
       "0  [Thriller, Science Fiction, Horror, Adventure,...  \n",
       "1   [Mystery, Biographical film, Drama, Crime Drama]  \n",
       "2                             [Crime Fiction, Drama]  \n",
       "3  [Thriller, Erotic thriller, Psychological thri...  \n",
       "4                                            [Drama]  "
      ]
     },
     "execution_count": 22,
     "metadata": {},
     "output_type": "execute_result"
    }
   ],
   "source": [
    "movies['genres'] = movies['genres'].apply(remove_encoding)\n",
    "movies['languages'] = movies['languages'].apply(remove_encoding)\n",
    "movies['countries'] = movies['countries'].apply(remove_encoding)\n",
    "movies.head()"
   ]
  },
  {
   "cell_type": "code",
   "execution_count": 23,
   "metadata": {},
   "outputs": [
    {
     "data": {
      "text/plain": [
       "()"
      ]
     },
     "execution_count": 23,
     "metadata": {},
     "output_type": "execute_result"
    }
   ],
   "source": [
    "movies['countries'].apply(np.shape).min()"
   ]
  },
  {
   "cell_type": "markdown",
   "metadata": {},
   "source": [
    "### Clean release dates"
   ]
  },
  {
   "cell_type": "code",
   "execution_count": 24,
   "metadata": {},
   "outputs": [],
   "source": [
    "# Replace string 'release_date' column with 3 float columns ['release_year','release_month','release_day']\n",
    "\n",
    "movies['release_date'] = movies['release_date'].astype('str') # Convert to string all dates\n",
    "release_date = pd.DataFrame(movies['release_date'].str.split('-', expand=True).values, columns=['release_year','release_month','release_day']) # Split between days, months and year\n",
    "movies[['release_year','release_month','release_day']] = release_date\n",
    "movies = movies.drop('release_date', axis=1)\n"
   ]
  },
  {
   "cell_type": "code",
   "execution_count": 25,
   "metadata": {},
   "outputs": [
    {
     "data": {
      "text/html": [
       "<div>\n",
       "<style scoped>\n",
       "    .dataframe tbody tr th:only-of-type {\n",
       "        vertical-align: middle;\n",
       "    }\n",
       "\n",
       "    .dataframe tbody tr th {\n",
       "        vertical-align: top;\n",
       "    }\n",
       "\n",
       "    .dataframe thead th {\n",
       "        text-align: right;\n",
       "    }\n",
       "</style>\n",
       "<table border=\"1\" class=\"dataframe\">\n",
       "  <thead>\n",
       "    <tr style=\"text-align: right;\">\n",
       "      <th></th>\n",
       "      <th>wikipedia_id</th>\n",
       "      <th>freebase_id</th>\n",
       "      <th>name</th>\n",
       "      <th>box_office_revenue</th>\n",
       "      <th>runtime</th>\n",
       "      <th>languages</th>\n",
       "      <th>countries</th>\n",
       "      <th>genres</th>\n",
       "      <th>release_year</th>\n",
       "      <th>release_month</th>\n",
       "      <th>release_day</th>\n",
       "    </tr>\n",
       "  </thead>\n",
       "  <tbody>\n",
       "    <tr>\n",
       "      <th>0</th>\n",
       "      <td>975900</td>\n",
       "      <td>/m/03vyhn</td>\n",
       "      <td>Ghosts of Mars</td>\n",
       "      <td>14010832.0</td>\n",
       "      <td>98.0</td>\n",
       "      <td>[English]</td>\n",
       "      <td>[United States of America]</td>\n",
       "      <td>[Thriller, Science Fiction, Horror, Adventure,...</td>\n",
       "      <td>2001</td>\n",
       "      <td>08</td>\n",
       "      <td>24</td>\n",
       "    </tr>\n",
       "    <tr>\n",
       "      <th>1</th>\n",
       "      <td>3196793</td>\n",
       "      <td>/m/08yl5d</td>\n",
       "      <td>Getting Away with Murder: The JonBenét Ramsey ...</td>\n",
       "      <td>NaN</td>\n",
       "      <td>95.0</td>\n",
       "      <td>[English]</td>\n",
       "      <td>[United States of America]</td>\n",
       "      <td>[Mystery, Biographical film, Drama, Crime Drama]</td>\n",
       "      <td>2000</td>\n",
       "      <td>02</td>\n",
       "      <td>16</td>\n",
       "    </tr>\n",
       "    <tr>\n",
       "      <th>2</th>\n",
       "      <td>28463795</td>\n",
       "      <td>/m/0crgdbh</td>\n",
       "      <td>Brun bitter</td>\n",
       "      <td>NaN</td>\n",
       "      <td>83.0</td>\n",
       "      <td>[Norwegian]</td>\n",
       "      <td>[Norway]</td>\n",
       "      <td>[Crime Fiction, Drama]</td>\n",
       "      <td>1988</td>\n",
       "      <td>None</td>\n",
       "      <td>None</td>\n",
       "    </tr>\n",
       "    <tr>\n",
       "      <th>3</th>\n",
       "      <td>9363483</td>\n",
       "      <td>/m/0285_cd</td>\n",
       "      <td>White Of The Eye</td>\n",
       "      <td>NaN</td>\n",
       "      <td>110.0</td>\n",
       "      <td>[English]</td>\n",
       "      <td>[United Kingdom]</td>\n",
       "      <td>[Thriller, Erotic thriller, Psychological thri...</td>\n",
       "      <td>1987</td>\n",
       "      <td>None</td>\n",
       "      <td>None</td>\n",
       "    </tr>\n",
       "    <tr>\n",
       "      <th>4</th>\n",
       "      <td>261236</td>\n",
       "      <td>/m/01mrr1</td>\n",
       "      <td>A Woman in Flames</td>\n",
       "      <td>NaN</td>\n",
       "      <td>106.0</td>\n",
       "      <td>[German]</td>\n",
       "      <td>[Germany]</td>\n",
       "      <td>[Drama]</td>\n",
       "      <td>1983</td>\n",
       "      <td>None</td>\n",
       "      <td>None</td>\n",
       "    </tr>\n",
       "  </tbody>\n",
       "</table>\n",
       "</div>"
      ],
      "text/plain": [
       "   wikipedia_id freebase_id  \\\n",
       "0        975900   /m/03vyhn   \n",
       "1       3196793   /m/08yl5d   \n",
       "2      28463795  /m/0crgdbh   \n",
       "3       9363483  /m/0285_cd   \n",
       "4        261236   /m/01mrr1   \n",
       "\n",
       "                                                name  box_office_revenue  \\\n",
       "0                                     Ghosts of Mars          14010832.0   \n",
       "1  Getting Away with Murder: The JonBenét Ramsey ...                 NaN   \n",
       "2                                        Brun bitter                 NaN   \n",
       "3                                   White Of The Eye                 NaN   \n",
       "4                                  A Woman in Flames                 NaN   \n",
       "\n",
       "   runtime    languages                   countries  \\\n",
       "0     98.0    [English]  [United States of America]   \n",
       "1     95.0    [English]  [United States of America]   \n",
       "2     83.0  [Norwegian]                    [Norway]   \n",
       "3    110.0    [English]            [United Kingdom]   \n",
       "4    106.0     [German]                   [Germany]   \n",
       "\n",
       "                                              genres release_year  \\\n",
       "0  [Thriller, Science Fiction, Horror, Adventure,...         2001   \n",
       "1   [Mystery, Biographical film, Drama, Crime Drama]         2000   \n",
       "2                             [Crime Fiction, Drama]         1988   \n",
       "3  [Thriller, Erotic thriller, Psychological thri...         1987   \n",
       "4                                            [Drama]         1983   \n",
       "\n",
       "  release_month release_day  \n",
       "0            08          24  \n",
       "1            02          16  \n",
       "2          None        None  \n",
       "3          None        None  \n",
       "4          None        None  "
      ]
     },
     "execution_count": 25,
     "metadata": {},
     "output_type": "execute_result"
    }
   ],
   "source": [
    "movies.head()"
   ]
  },
  {
   "cell_type": "markdown",
   "metadata": {},
   "source": [
    "### Remove data that is out of this world "
   ]
  },
  {
   "cell_type": "code",
   "execution_count": 26,
   "metadata": {},
   "outputs": [],
   "source": [
    "def replace_outliers_with_nan(df, col, possible_range):\n",
    "    df[col] = df[col].apply(lambda x: np.nan if x < possible_range[0] or x > possible_range[1] else x)"
   ]
  },
  {
   "cell_type": "markdown",
   "metadata": {},
   "source": [
    "#### Movies"
   ]
  },
  {
   "cell_type": "code",
   "execution_count": 27,
   "metadata": {},
   "outputs": [],
   "source": [
    "possible_movie_runtime_range = [0, 85 * 60] # 85 hours is the Guinness World Record for the longest movie - The Cure for Insomnia"
   ]
  },
  {
   "cell_type": "code",
   "execution_count": 28,
   "metadata": {},
   "outputs": [],
   "source": [
    "replace_outliers_with_nan(movies, 'runtime', possible_movie_runtime_range)"
   ]
  },
  {
   "cell_type": "code",
   "execution_count": 29,
   "metadata": {},
   "outputs": [
    {
     "data": {
      "text/html": [
       "<div>\n",
       "<style scoped>\n",
       "    .dataframe tbody tr th:only-of-type {\n",
       "        vertical-align: middle;\n",
       "    }\n",
       "\n",
       "    .dataframe tbody tr th {\n",
       "        vertical-align: top;\n",
       "    }\n",
       "\n",
       "    .dataframe thead th {\n",
       "        text-align: right;\n",
       "    }\n",
       "</style>\n",
       "<table border=\"1\" class=\"dataframe\">\n",
       "  <thead>\n",
       "    <tr style=\"text-align: right;\">\n",
       "      <th></th>\n",
       "      <th>wikipedia_id</th>\n",
       "      <th>box_office_revenue</th>\n",
       "      <th>runtime</th>\n",
       "    </tr>\n",
       "  </thead>\n",
       "  <tbody>\n",
       "    <tr>\n",
       "      <th>count</th>\n",
       "      <td>8.174100e+04</td>\n",
       "      <td>8.401000e+03</td>\n",
       "      <td>61286.000000</td>\n",
       "    </tr>\n",
       "    <tr>\n",
       "      <th>mean</th>\n",
       "      <td>1.740784e+07</td>\n",
       "      <td>4.799363e+07</td>\n",
       "      <td>93.651871</td>\n",
       "    </tr>\n",
       "    <tr>\n",
       "      <th>std</th>\n",
       "      <td>1.098791e+07</td>\n",
       "      <td>1.121753e+08</td>\n",
       "      <td>51.513103</td>\n",
       "    </tr>\n",
       "    <tr>\n",
       "      <th>min</th>\n",
       "      <td>3.300000e+02</td>\n",
       "      <td>1.000000e+04</td>\n",
       "      <td>0.000000</td>\n",
       "    </tr>\n",
       "    <tr>\n",
       "      <th>25%</th>\n",
       "      <td>7.323695e+06</td>\n",
       "      <td>2.083193e+06</td>\n",
       "      <td>81.000000</td>\n",
       "    </tr>\n",
       "    <tr>\n",
       "      <th>50%</th>\n",
       "      <td>1.777899e+07</td>\n",
       "      <td>1.063969e+07</td>\n",
       "      <td>93.000000</td>\n",
       "    </tr>\n",
       "    <tr>\n",
       "      <th>75%</th>\n",
       "      <td>2.715573e+07</td>\n",
       "      <td>4.071696e+07</td>\n",
       "      <td>106.000000</td>\n",
       "    </tr>\n",
       "    <tr>\n",
       "      <th>max</th>\n",
       "      <td>3.750192e+07</td>\n",
       "      <td>2.782275e+09</td>\n",
       "      <td>5100.000000</td>\n",
       "    </tr>\n",
       "  </tbody>\n",
       "</table>\n",
       "</div>"
      ],
      "text/plain": [
       "       wikipedia_id  box_office_revenue       runtime\n",
       "count  8.174100e+04        8.401000e+03  61286.000000\n",
       "mean   1.740784e+07        4.799363e+07     93.651871\n",
       "std    1.098791e+07        1.121753e+08     51.513103\n",
       "min    3.300000e+02        1.000000e+04      0.000000\n",
       "25%    7.323695e+06        2.083193e+06     81.000000\n",
       "50%    1.777899e+07        1.063969e+07     93.000000\n",
       "75%    2.715573e+07        4.071696e+07    106.000000\n",
       "max    3.750192e+07        2.782275e+09   5100.000000"
      ]
     },
     "execution_count": 29,
     "metadata": {},
     "output_type": "execute_result"
    }
   ],
   "source": [
    "movies.describe()"
   ]
  },
  {
   "cell_type": "code",
   "execution_count": 30,
   "metadata": {},
   "outputs": [
    {
     "data": {
      "text/html": [
       "<div>\n",
       "<style scoped>\n",
       "    .dataframe tbody tr th:only-of-type {\n",
       "        vertical-align: middle;\n",
       "    }\n",
       "\n",
       "    .dataframe tbody tr th {\n",
       "        vertical-align: top;\n",
       "    }\n",
       "\n",
       "    .dataframe thead th {\n",
       "        text-align: right;\n",
       "    }\n",
       "</style>\n",
       "<table border=\"1\" class=\"dataframe\">\n",
       "  <thead>\n",
       "    <tr style=\"text-align: right;\">\n",
       "      <th></th>\n",
       "      <th>wikipedia_id</th>\n",
       "      <th>freebase_id</th>\n",
       "      <th>name</th>\n",
       "      <th>box_office_revenue</th>\n",
       "      <th>runtime</th>\n",
       "      <th>languages</th>\n",
       "      <th>countries</th>\n",
       "      <th>genres</th>\n",
       "      <th>release_year</th>\n",
       "      <th>release_month</th>\n",
       "      <th>release_day</th>\n",
       "    </tr>\n",
       "  </thead>\n",
       "  <tbody>\n",
       "    <tr>\n",
       "      <th>42478</th>\n",
       "      <td>786716</td>\n",
       "      <td>/m/03c6bq</td>\n",
       "      <td>Dickson Experimental Sound Film</td>\n",
       "      <td>NaN</td>\n",
       "      <td>0.0</td>\n",
       "      <td>[English]</td>\n",
       "      <td>[United States of America]</td>\n",
       "      <td>[Short Film]</td>\n",
       "      <td>1894</td>\n",
       "      <td>None</td>\n",
       "      <td>None</td>\n",
       "    </tr>\n",
       "  </tbody>\n",
       "</table>\n",
       "</div>"
      ],
      "text/plain": [
       "       wikipedia_id freebase_id                             name  \\\n",
       "42478        786716   /m/03c6bq  Dickson Experimental Sound Film   \n",
       "\n",
       "       box_office_revenue  runtime  languages                   countries  \\\n",
       "42478                 NaN      0.0  [English]  [United States of America]   \n",
       "\n",
       "             genres release_year release_month release_day  \n",
       "42478  [Short Film]         1894          None        None  "
      ]
     },
     "execution_count": 30,
     "metadata": {},
     "output_type": "execute_result"
    }
   ],
   "source": [
    "movies[movies['runtime'] == 0]"
   ]
  },
  {
   "cell_type": "markdown",
   "metadata": {},
   "source": [
    "The real length of Dickson Experimental Sound Film is 17 seconds which rounded to minutes is 0."
   ]
  },
  {
   "cell_type": "markdown",
   "metadata": {},
   "source": [
    "#### Characters"
   ]
  },
  {
   "cell_type": "markdown",
   "metadata": {},
   "source": [
    "Remove age and height that are incorrect or corrupted"
   ]
  },
  {
   "cell_type": "code",
   "execution_count": 31,
   "metadata": {},
   "outputs": [],
   "source": [
    "possible_age_range = (0, 150)\n",
    "possible_height_range = (0, 3)"
   ]
  },
  {
   "cell_type": "code",
   "execution_count": 32,
   "metadata": {},
   "outputs": [],
   "source": [
    "replace_outliers_with_nan(characters, 'actor_age_at_movie_release', possible_age_range)\n",
    "replace_outliers_with_nan(characters, 'actor_height_meters', possible_height_range)"
   ]
  },
  {
   "cell_type": "markdown",
   "metadata": {},
   "source": [
    "A very important characteristic describing the characters is their ethnicity. In the original dataset only the freebase id referring to the ethnicity was available. Thus, a script that can be found in `utils/ethnicities_freebase_ids_script.py` has been created to relate it to the actual labels (p.e. '/m/0152s7' stands for 'Anglo-Irish people'). A CSV has been created to map the ids and the labels, it can be found in `handled_data/ethnicities_freebase_ids.csv`. This is how it looks like:Add ethnicity labels using the freebase ethnicity ids"
   ]
  },
  {
   "cell_type": "code",
   "execution_count": 33,
   "metadata": {},
   "outputs": [
    {
     "data": {
      "text/html": [
       "<div>\n",
       "<style scoped>\n",
       "    .dataframe tbody tr th:only-of-type {\n",
       "        vertical-align: middle;\n",
       "    }\n",
       "\n",
       "    .dataframe tbody tr th {\n",
       "        vertical-align: top;\n",
       "    }\n",
       "\n",
       "    .dataframe thead th {\n",
       "        text-align: right;\n",
       "    }\n",
       "</style>\n",
       "<table border=\"1\" class=\"dataframe\">\n",
       "  <thead>\n",
       "    <tr style=\"text-align: right;\">\n",
       "      <th></th>\n",
       "      <th>ethnicity_freebase_id</th>\n",
       "      <th>ethnicity_label</th>\n",
       "    </tr>\n",
       "  </thead>\n",
       "  <tbody>\n",
       "    <tr>\n",
       "      <th>0</th>\n",
       "      <td>/m/01267</td>\n",
       "      <td>Albanians</td>\n",
       "    </tr>\n",
       "    <tr>\n",
       "      <th>1</th>\n",
       "      <td>/m/012c1l</td>\n",
       "      <td>French Canadians</td>\n",
       "    </tr>\n",
       "    <tr>\n",
       "      <th>2</th>\n",
       "      <td>/m/012f86</td>\n",
       "      <td>Ukrainians</td>\n",
       "    </tr>\n",
       "    <tr>\n",
       "      <th>3</th>\n",
       "      <td>/m/012fh</td>\n",
       "      <td>Afrikaners</td>\n",
       "    </tr>\n",
       "    <tr>\n",
       "      <th>4</th>\n",
       "      <td>/m/01336l</td>\n",
       "      <td>Asian Americans</td>\n",
       "    </tr>\n",
       "  </tbody>\n",
       "</table>\n",
       "</div>"
      ],
      "text/plain": [
       "  ethnicity_freebase_id   ethnicity_label\n",
       "0              /m/01267         Albanians\n",
       "1             /m/012c1l  French Canadians\n",
       "2             /m/012f86        Ukrainians\n",
       "3              /m/012fh        Afrikaners\n",
       "4             /m/01336l   Asian Americans"
      ]
     },
     "execution_count": 33,
     "metadata": {},
     "output_type": "execute_result"
    }
   ],
   "source": [
    "ethnicity_freebase_ids = pd.read_csv('handled_data/ethnicities_freebase_ids.csv')\n",
    "ethnicity_freebase_ids.head(5)"
   ]
  },
  {
   "cell_type": "markdown",
   "metadata": {},
   "source": [
    "As it can be seen, the ethnicities are extremely specific and it is very difficult to extract some conclusions. Therefore, we grouped all ethnicities that are repeated more than 10 times into five main ethnic groups: Asian, Black, Latino, Indian and White. This classification can be found in the CSV document in `handled_data/major_ethnicities_clustering.csv`. This is how it looks like:"
   ]
  },
  {
   "cell_type": "code",
   "execution_count": 34,
   "metadata": {},
   "outputs": [
    {
     "data": {
      "text/html": [
       "<div>\n",
       "<style scoped>\n",
       "    .dataframe tbody tr th:only-of-type {\n",
       "        vertical-align: middle;\n",
       "    }\n",
       "\n",
       "    .dataframe tbody tr th {\n",
       "        vertical-align: top;\n",
       "    }\n",
       "\n",
       "    .dataframe thead th {\n",
       "        text-align: right;\n",
       "    }\n",
       "</style>\n",
       "<table border=\"1\" class=\"dataframe\">\n",
       "  <thead>\n",
       "    <tr style=\"text-align: right;\">\n",
       "      <th></th>\n",
       "      <th>ethnicity_label</th>\n",
       "      <th>major_ethnicity</th>\n",
       "    </tr>\n",
       "  </thead>\n",
       "  <tbody>\n",
       "    <tr>\n",
       "      <th>0</th>\n",
       "      <td>African Americans</td>\n",
       "      <td>Black</td>\n",
       "    </tr>\n",
       "    <tr>\n",
       "      <th>1</th>\n",
       "      <td>American Jews</td>\n",
       "      <td>White</td>\n",
       "    </tr>\n",
       "    <tr>\n",
       "      <th>2</th>\n",
       "      <td>Americans</td>\n",
       "      <td>White</td>\n",
       "    </tr>\n",
       "    <tr>\n",
       "      <th>3</th>\n",
       "      <td>Argentines</td>\n",
       "      <td>Latino</td>\n",
       "    </tr>\n",
       "    <tr>\n",
       "      <th>4</th>\n",
       "      <td>Ashkenazi Jews</td>\n",
       "      <td>White</td>\n",
       "    </tr>\n",
       "    <tr>\n",
       "      <th>5</th>\n",
       "      <td>Asian Americans</td>\n",
       "      <td>Asian</td>\n",
       "    </tr>\n",
       "    <tr>\n",
       "      <th>6</th>\n",
       "      <td>Asian people</td>\n",
       "      <td>Asian</td>\n",
       "    </tr>\n",
       "    <tr>\n",
       "      <th>7</th>\n",
       "      <td>Australians</td>\n",
       "      <td>White</td>\n",
       "    </tr>\n",
       "    <tr>\n",
       "      <th>8</th>\n",
       "      <td>Austrians</td>\n",
       "      <td>White</td>\n",
       "    </tr>\n",
       "    <tr>\n",
       "      <th>9</th>\n",
       "      <td>Bengali people</td>\n",
       "      <td>Indian</td>\n",
       "    </tr>\n",
       "  </tbody>\n",
       "</table>\n",
       "</div>"
      ],
      "text/plain": [
       "     ethnicity_label major_ethnicity\n",
       "0  African Americans           Black\n",
       "1      American Jews           White\n",
       "2          Americans           White\n",
       "3         Argentines          Latino\n",
       "4     Ashkenazi Jews           White\n",
       "5    Asian Americans           Asian\n",
       "6       Asian people           Asian\n",
       "7        Australians           White\n",
       "8          Austrians           White\n",
       "9     Bengali people          Indian"
      ]
     },
     "execution_count": 34,
     "metadata": {},
     "output_type": "execute_result"
    }
   ],
   "source": [
    "major_ethnicities = pd.read_csv('handled_data/major_ethnicities_clustering.csv',sep=',');\n",
    "major_ethnicities.head(10)"
   ]
  },
  {
   "cell_type": "markdown",
   "metadata": {},
   "source": [
    "Next step is to merge this two tables into the characters main dataframe"
   ]
  },
  {
   "cell_type": "code",
   "execution_count": 35,
   "metadata": {},
   "outputs": [],
   "source": [
    "characters = pd.merge(characters, ethnicity_freebase_ids, how='left', left_on='actor_ethnicity_freebase_id', right_on='ethnicity_freebase_id')\n",
    "characters.drop('ethnicity_freebase_id', inplace=True, axis=1)\n",
    "characters = pd.merge(characters, major_ethnicities, how='left', on='ethnicity_label')"
   ]
  },
  {
   "cell_type": "markdown",
   "metadata": {},
   "source": [
    "Finally, this the characters main data frame in which we are working"
   ]
  },
  {
   "cell_type": "code",
   "execution_count": 36,
   "metadata": {},
   "outputs": [
    {
     "data": {
      "text/html": [
       "<div>\n",
       "<style scoped>\n",
       "    .dataframe tbody tr th:only-of-type {\n",
       "        vertical-align: middle;\n",
       "    }\n",
       "\n",
       "    .dataframe tbody tr th {\n",
       "        vertical-align: top;\n",
       "    }\n",
       "\n",
       "    .dataframe thead th {\n",
       "        text-align: right;\n",
       "    }\n",
       "</style>\n",
       "<table border=\"1\" class=\"dataframe\">\n",
       "  <thead>\n",
       "    <tr style=\"text-align: right;\">\n",
       "      <th></th>\n",
       "      <th>wikipedia_movie_id</th>\n",
       "      <th>freebase_movie_id</th>\n",
       "      <th>movie_release_date</th>\n",
       "      <th>character_name</th>\n",
       "      <th>actor_birthdate</th>\n",
       "      <th>actor_gender</th>\n",
       "      <th>actor_height_meters</th>\n",
       "      <th>actor_ethnicity_freebase_id</th>\n",
       "      <th>actor_name</th>\n",
       "      <th>actor_age_at_movie_release</th>\n",
       "      <th>freebase_character_actor_map_id</th>\n",
       "      <th>freebase_character_id</th>\n",
       "      <th>freebase_actor_id</th>\n",
       "      <th>name</th>\n",
       "      <th>ethnicity_label</th>\n",
       "      <th>major_ethnicity</th>\n",
       "    </tr>\n",
       "  </thead>\n",
       "  <tbody>\n",
       "    <tr>\n",
       "      <th>92544</th>\n",
       "      <td>740744</td>\n",
       "      <td>/m/037cr1</td>\n",
       "      <td>2003-12-09</td>\n",
       "      <td>Mary Darling</td>\n",
       "      <td>1968-07-26</td>\n",
       "      <td>F</td>\n",
       "      <td>1.74</td>\n",
       "      <td>NaN</td>\n",
       "      <td>Olivia Williams</td>\n",
       "      <td>35.0</td>\n",
       "      <td>/m/0cgr39c</td>\n",
       "      <td>/m/03gr26t</td>\n",
       "      <td>/m/07b2lv</td>\n",
       "      <td>Peter Pan</td>\n",
       "      <td>NaN</td>\n",
       "      <td>NaN</td>\n",
       "    </tr>\n",
       "    <tr>\n",
       "      <th>113871</th>\n",
       "      <td>25867384</td>\n",
       "      <td>/m/09v56qz</td>\n",
       "      <td>2008</td>\n",
       "      <td>NaN</td>\n",
       "      <td>1964-07-07</td>\n",
       "      <td>M</td>\n",
       "      <td>NaN</td>\n",
       "      <td>NaN</td>\n",
       "      <td>Shinichi Tsutsumi</td>\n",
       "      <td>43.0</td>\n",
       "      <td>/m/0h7vg9r</td>\n",
       "      <td>NaN</td>\n",
       "      <td>/m/0gnb0g</td>\n",
       "      <td>Climber's High</td>\n",
       "      <td>NaN</td>\n",
       "      <td>NaN</td>\n",
       "    </tr>\n",
       "    <tr>\n",
       "      <th>73949</th>\n",
       "      <td>28478510</td>\n",
       "      <td>/m/09rr333</td>\n",
       "      <td>1950</td>\n",
       "      <td>NaN</td>\n",
       "      <td>1907-06-29</td>\n",
       "      <td>F</td>\n",
       "      <td>NaN</td>\n",
       "      <td>NaN</td>\n",
       "      <td>Joan Davis</td>\n",
       "      <td>42.0</td>\n",
       "      <td>/m/0cv4hh3</td>\n",
       "      <td>NaN</td>\n",
       "      <td>/m/074q_g</td>\n",
       "      <td>Love That Brute</td>\n",
       "      <td>NaN</td>\n",
       "      <td>NaN</td>\n",
       "    </tr>\n",
       "    <tr>\n",
       "      <th>125054</th>\n",
       "      <td>2354153</td>\n",
       "      <td>/m/076162</td>\n",
       "      <td>1949</td>\n",
       "      <td>NaN</td>\n",
       "      <td>1910-10-27</td>\n",
       "      <td>M</td>\n",
       "      <td>1.88</td>\n",
       "      <td>NaN</td>\n",
       "      <td>Jack Carson</td>\n",
       "      <td>38.0</td>\n",
       "      <td>/m/02tb7v8</td>\n",
       "      <td>NaN</td>\n",
       "      <td>/m/07crf5</td>\n",
       "      <td>It's a Great Feeling</td>\n",
       "      <td>NaN</td>\n",
       "      <td>NaN</td>\n",
       "    </tr>\n",
       "    <tr>\n",
       "      <th>220778</th>\n",
       "      <td>18732149</td>\n",
       "      <td>/m/04gh25y</td>\n",
       "      <td>1975-03-17</td>\n",
       "      <td>NaN</td>\n",
       "      <td>1934-02-17</td>\n",
       "      <td>M</td>\n",
       "      <td>1.80</td>\n",
       "      <td>NaN</td>\n",
       "      <td>Alan Bates</td>\n",
       "      <td>41.0</td>\n",
       "      <td>/m/04lrzjt</td>\n",
       "      <td>NaN</td>\n",
       "      <td>/m/015gw6</td>\n",
       "      <td>In Celebration</td>\n",
       "      <td>NaN</td>\n",
       "      <td>NaN</td>\n",
       "    </tr>\n",
       "  </tbody>\n",
       "</table>\n",
       "</div>"
      ],
      "text/plain": [
       "        wikipedia_movie_id freebase_movie_id movie_release_date  \\\n",
       "92544               740744         /m/037cr1         2003-12-09   \n",
       "113871            25867384        /m/09v56qz               2008   \n",
       "73949             28478510        /m/09rr333               1950   \n",
       "125054             2354153         /m/076162               1949   \n",
       "220778            18732149        /m/04gh25y         1975-03-17   \n",
       "\n",
       "       character_name actor_birthdate actor_gender  actor_height_meters  \\\n",
       "92544    Mary Darling      1968-07-26            F                 1.74   \n",
       "113871            NaN      1964-07-07            M                  NaN   \n",
       "73949             NaN      1907-06-29            F                  NaN   \n",
       "125054            NaN      1910-10-27            M                 1.88   \n",
       "220778            NaN      1934-02-17            M                 1.80   \n",
       "\n",
       "       actor_ethnicity_freebase_id         actor_name  \\\n",
       "92544                          NaN    Olivia Williams   \n",
       "113871                         NaN  Shinichi Tsutsumi   \n",
       "73949                          NaN         Joan Davis   \n",
       "125054                         NaN        Jack Carson   \n",
       "220778                         NaN         Alan Bates   \n",
       "\n",
       "        actor_age_at_movie_release freebase_character_actor_map_id  \\\n",
       "92544                         35.0                      /m/0cgr39c   \n",
       "113871                        43.0                      /m/0h7vg9r   \n",
       "73949                         42.0                      /m/0cv4hh3   \n",
       "125054                        38.0                      /m/02tb7v8   \n",
       "220778                        41.0                      /m/04lrzjt   \n",
       "\n",
       "       freebase_character_id freebase_actor_id                  name  \\\n",
       "92544             /m/03gr26t         /m/07b2lv             Peter Pan   \n",
       "113871                   NaN         /m/0gnb0g        Climber's High   \n",
       "73949                    NaN         /m/074q_g       Love That Brute   \n",
       "125054                   NaN         /m/07crf5  It's a Great Feeling   \n",
       "220778                   NaN         /m/015gw6        In Celebration   \n",
       "\n",
       "       ethnicity_label major_ethnicity  \n",
       "92544              NaN             NaN  \n",
       "113871             NaN             NaN  \n",
       "73949              NaN             NaN  \n",
       "125054             NaN             NaN  \n",
       "220778             NaN             NaN  "
      ]
     },
     "execution_count": 36,
     "metadata": {},
     "output_type": "execute_result"
    }
   ],
   "source": [
    "characters.sample(5)"
   ]
  },
  {
   "cell_type": "code",
   "execution_count": 37,
   "metadata": {},
   "outputs": [
    {
     "data": {
      "text/html": [
       "<div>\n",
       "<style scoped>\n",
       "    .dataframe tbody tr th:only-of-type {\n",
       "        vertical-align: middle;\n",
       "    }\n",
       "\n",
       "    .dataframe tbody tr th {\n",
       "        vertical-align: top;\n",
       "    }\n",
       "\n",
       "    .dataframe thead th {\n",
       "        text-align: right;\n",
       "    }\n",
       "</style>\n",
       "<table border=\"1\" class=\"dataframe\">\n",
       "  <thead>\n",
       "    <tr style=\"text-align: right;\">\n",
       "      <th></th>\n",
       "      <th>wikipedia_movie_id</th>\n",
       "      <th>actor_height_meters</th>\n",
       "      <th>actor_age_at_movie_release</th>\n",
       "    </tr>\n",
       "  </thead>\n",
       "  <tbody>\n",
       "    <tr>\n",
       "      <th>count</th>\n",
       "      <td>4.536250e+05</td>\n",
       "      <td>157666.000000</td>\n",
       "      <td>294959.000000</td>\n",
       "    </tr>\n",
       "    <tr>\n",
       "      <th>mean</th>\n",
       "      <td>1.393780e+07</td>\n",
       "      <td>1.747917</td>\n",
       "      <td>37.925895</td>\n",
       "    </tr>\n",
       "    <tr>\n",
       "      <th>std</th>\n",
       "      <td>1.079782e+07</td>\n",
       "      <td>0.106067</td>\n",
       "      <td>14.096938</td>\n",
       "    </tr>\n",
       "    <tr>\n",
       "      <th>min</th>\n",
       "      <td>3.300000e+02</td>\n",
       "      <td>0.610000</td>\n",
       "      <td>0.000000</td>\n",
       "    </tr>\n",
       "    <tr>\n",
       "      <th>25%</th>\n",
       "      <td>3.738820e+06</td>\n",
       "      <td>1.676400</td>\n",
       "      <td>28.000000</td>\n",
       "    </tr>\n",
       "    <tr>\n",
       "      <th>50%</th>\n",
       "      <td>1.180718e+07</td>\n",
       "      <td>1.750000</td>\n",
       "      <td>36.000000</td>\n",
       "    </tr>\n",
       "    <tr>\n",
       "      <th>75%</th>\n",
       "      <td>2.362455e+07</td>\n",
       "      <td>1.830000</td>\n",
       "      <td>47.000000</td>\n",
       "    </tr>\n",
       "    <tr>\n",
       "      <th>max</th>\n",
       "      <td>3.750192e+07</td>\n",
       "      <td>2.356000</td>\n",
       "      <td>103.000000</td>\n",
       "    </tr>\n",
       "  </tbody>\n",
       "</table>\n",
       "</div>"
      ],
      "text/plain": [
       "       wikipedia_movie_id  actor_height_meters  actor_age_at_movie_release\n",
       "count        4.536250e+05        157666.000000               294959.000000\n",
       "mean         1.393780e+07             1.747917                   37.925895\n",
       "std          1.079782e+07             0.106067                   14.096938\n",
       "min          3.300000e+02             0.610000                    0.000000\n",
       "25%          3.738820e+06             1.676400                   28.000000\n",
       "50%          1.180718e+07             1.750000                   36.000000\n",
       "75%          2.362455e+07             1.830000                   47.000000\n",
       "max          3.750192e+07             2.356000                  103.000000"
      ]
     },
     "execution_count": 37,
     "metadata": {},
     "output_type": "execute_result"
    }
   ],
   "source": [
    "characters.describe()"
   ]
  },
  {
   "cell_type": "markdown",
   "metadata": {},
   "source": [
    "### IMDB"
   ]
  },
  {
   "cell_type": "code",
   "execution_count": 38,
   "metadata": {},
   "outputs": [],
   "source": [
    "def split_list(df, column_name, sep=','):\n",
    "    df[column_name] = df[column_name].replace(np.nan, '').apply(lambda x: x.split(sep))"
   ]
  },
  {
   "cell_type": "code",
   "execution_count": 39,
   "metadata": {},
   "outputs": [],
   "source": [
    "def fill_na_with_list(df, column_name):\n",
    "    df[column_name] = df[column_name].fillna('').apply(list)"
   ]
  },
  {
   "cell_type": "code",
   "execution_count": 40,
   "metadata": {},
   "outputs": [],
   "source": [
    "split_list(imdb_crew, 'directors')\n",
    "split_list(imdb_crew, 'writers')\n",
    "split_list(imdb_titles, 'genres')"
   ]
  },
  {
   "cell_type": "code",
   "execution_count": 41,
   "metadata": {},
   "outputs": [],
   "source": [
    "imdb_people_dict = dict(zip(imdb_people['nconst'], imdb_people['primaryName']))"
   ]
  },
  {
   "cell_type": "code",
   "execution_count": 42,
   "metadata": {},
   "outputs": [],
   "source": [
    "imdb_crew['directors'] = imdb_crew['directors'].apply(lambda _list: [imdb_people_dict[el] for el in _list if el in imdb_people_dict])"
   ]
  },
  {
   "cell_type": "code",
   "execution_count": 43,
   "metadata": {},
   "outputs": [],
   "source": [
    "imdb_crew['writers'] = imdb_crew['writers'].apply(lambda _list: [imdb_people_dict[el] for el in _list if el in imdb_people_dict])"
   ]
  },
  {
   "cell_type": "code",
   "execution_count": 44,
   "metadata": {},
   "outputs": [],
   "source": [
    "imdb = pd.merge(pd.merge(imdb_titles, imdb_ratings, how='inner', on='tconst'), imdb_crew, how='inner', on='tconst')"
   ]
  },
  {
   "cell_type": "code",
   "execution_count": 45,
   "metadata": {},
   "outputs": [],
   "source": [
    "# Free memory\n",
    "del imdb_titles\n",
    "del imdb_ratings\n",
    "del imdb_crew"
   ]
  },
  {
   "cell_type": "code",
   "execution_count": 46,
   "metadata": {},
   "outputs": [
    {
     "data": {
      "text/html": [
       "<div>\n",
       "<style scoped>\n",
       "    .dataframe tbody tr th:only-of-type {\n",
       "        vertical-align: middle;\n",
       "    }\n",
       "\n",
       "    .dataframe tbody tr th {\n",
       "        vertical-align: top;\n",
       "    }\n",
       "\n",
       "    .dataframe thead th {\n",
       "        text-align: right;\n",
       "    }\n",
       "</style>\n",
       "<table border=\"1\" class=\"dataframe\">\n",
       "  <thead>\n",
       "    <tr style=\"text-align: right;\">\n",
       "      <th></th>\n",
       "      <th>tconst</th>\n",
       "      <th>titleType</th>\n",
       "      <th>primaryTitle</th>\n",
       "      <th>originalTitle</th>\n",
       "      <th>isAdult</th>\n",
       "      <th>startYear</th>\n",
       "      <th>endYear</th>\n",
       "      <th>runtimeMinutes</th>\n",
       "      <th>genres</th>\n",
       "      <th>averageRating</th>\n",
       "      <th>numVotes</th>\n",
       "      <th>directors</th>\n",
       "      <th>writers</th>\n",
       "    </tr>\n",
       "  </thead>\n",
       "  <tbody>\n",
       "    <tr>\n",
       "      <th>938797</th>\n",
       "      <td>tt3466684</td>\n",
       "      <td>short</td>\n",
       "      <td>Nocebo</td>\n",
       "      <td>Nocebo</td>\n",
       "      <td>0</td>\n",
       "      <td>2014.0</td>\n",
       "      <td>NaN</td>\n",
       "      <td>38.0</td>\n",
       "      <td>[Short, Thriller]</td>\n",
       "      <td>7.1</td>\n",
       "      <td>64</td>\n",
       "      <td>[Lennart Ruff]</td>\n",
       "      <td>[Maggie Peren]</td>\n",
       "    </tr>\n",
       "    <tr>\n",
       "      <th>910036</th>\n",
       "      <td>tt3027164</td>\n",
       "      <td>movie</td>\n",
       "      <td>Last Call</td>\n",
       "      <td>Ultima Chiamata</td>\n",
       "      <td>0</td>\n",
       "      <td>2014.0</td>\n",
       "      <td>NaN</td>\n",
       "      <td>90.0</td>\n",
       "      <td>[Adventure, Documentary, History]</td>\n",
       "      <td>7.2</td>\n",
       "      <td>28</td>\n",
       "      <td>[Enrico Cerasuolo]</td>\n",
       "      <td>[Enrico Cerasuolo]</td>\n",
       "    </tr>\n",
       "    <tr>\n",
       "      <th>548058</th>\n",
       "      <td>tt1206062</td>\n",
       "      <td>tvEpisode</td>\n",
       "      <td>Burning Evidence</td>\n",
       "      <td>Burning Evidence</td>\n",
       "      <td>0</td>\n",
       "      <td>1997.0</td>\n",
       "      <td>NaN</td>\n",
       "      <td>53.0</td>\n",
       "      <td>[Crime, Documentary]</td>\n",
       "      <td>7.2</td>\n",
       "      <td>11</td>\n",
       "      <td>[Greg Francis, Stacey A. Foiles]</td>\n",
       "      <td>[Steven Zorn]</td>\n",
       "    </tr>\n",
       "    <tr>\n",
       "      <th>369189</th>\n",
       "      <td>tt0749459</td>\n",
       "      <td>tvEpisode</td>\n",
       "      <td>All or Nothing</td>\n",
       "      <td>All or Nothing</td>\n",
       "      <td>0</td>\n",
       "      <td>1989.0</td>\n",
       "      <td>NaN</td>\n",
       "      <td>49.0</td>\n",
       "      <td>[Crime, Drama, Mystery]</td>\n",
       "      <td>7.0</td>\n",
       "      <td>28</td>\n",
       "      <td>[Gus Trikonis]</td>\n",
       "      <td>[Stephen J. Cannell, Frank Lupo]</td>\n",
       "    </tr>\n",
       "    <tr>\n",
       "      <th>180714</th>\n",
       "      <td>tt0306882</td>\n",
       "      <td>movie</td>\n",
       "      <td>Ganeshana Madhuve</td>\n",
       "      <td>Ganeshana Madhuve</td>\n",
       "      <td>0</td>\n",
       "      <td>1990.0</td>\n",
       "      <td>NaN</td>\n",
       "      <td>141.0</td>\n",
       "      <td>[Comedy]</td>\n",
       "      <td>8.3</td>\n",
       "      <td>192</td>\n",
       "      <td>[H.S. Phani Ramchandra]</td>\n",
       "      <td>[Raja Chendur, Venkata Krishna Murthi Malladi,...</td>\n",
       "    </tr>\n",
       "  </tbody>\n",
       "</table>\n",
       "</div>"
      ],
      "text/plain": [
       "           tconst  titleType       primaryTitle      originalTitle  isAdult  \\\n",
       "938797  tt3466684      short             Nocebo             Nocebo        0   \n",
       "910036  tt3027164      movie          Last Call    Ultima Chiamata        0   \n",
       "548058  tt1206062  tvEpisode   Burning Evidence   Burning Evidence        0   \n",
       "369189  tt0749459  tvEpisode     All or Nothing     All or Nothing        0   \n",
       "180714  tt0306882      movie  Ganeshana Madhuve  Ganeshana Madhuve        0   \n",
       "\n",
       "        startYear  endYear  runtimeMinutes                             genres  \\\n",
       "938797     2014.0      NaN            38.0                  [Short, Thriller]   \n",
       "910036     2014.0      NaN            90.0  [Adventure, Documentary, History]   \n",
       "548058     1997.0      NaN            53.0               [Crime, Documentary]   \n",
       "369189     1989.0      NaN            49.0            [Crime, Drama, Mystery]   \n",
       "180714     1990.0      NaN           141.0                           [Comedy]   \n",
       "\n",
       "        averageRating  numVotes                         directors  \\\n",
       "938797            7.1        64                    [Lennart Ruff]   \n",
       "910036            7.2        28                [Enrico Cerasuolo]   \n",
       "548058            7.2        11  [Greg Francis, Stacey A. Foiles]   \n",
       "369189            7.0        28                    [Gus Trikonis]   \n",
       "180714            8.3       192           [H.S. Phani Ramchandra]   \n",
       "\n",
       "                                                  writers  \n",
       "938797                                     [Maggie Peren]  \n",
       "910036                                 [Enrico Cerasuolo]  \n",
       "548058                                      [Steven Zorn]  \n",
       "369189                   [Stephen J. Cannell, Frank Lupo]  \n",
       "180714  [Raja Chendur, Venkata Krishna Murthi Malladi,...  "
      ]
     },
     "execution_count": 46,
     "metadata": {},
     "output_type": "execute_result"
    }
   ],
   "source": [
    "imdb.sample(5)"
   ]
  },
  {
   "cell_type": "code",
   "execution_count": 47,
   "metadata": {},
   "outputs": [
    {
     "data": {
      "text/html": [
       "<div>\n",
       "<style scoped>\n",
       "    .dataframe tbody tr th:only-of-type {\n",
       "        vertical-align: middle;\n",
       "    }\n",
       "\n",
       "    .dataframe tbody tr th {\n",
       "        vertical-align: top;\n",
       "    }\n",
       "\n",
       "    .dataframe thead th {\n",
       "        text-align: right;\n",
       "    }\n",
       "</style>\n",
       "<table border=\"1\" class=\"dataframe\">\n",
       "  <thead>\n",
       "    <tr style=\"text-align: right;\">\n",
       "      <th></th>\n",
       "      <th>isAdult</th>\n",
       "      <th>startYear</th>\n",
       "      <th>endYear</th>\n",
       "      <th>runtimeMinutes</th>\n",
       "      <th>averageRating</th>\n",
       "      <th>numVotes</th>\n",
       "    </tr>\n",
       "  </thead>\n",
       "  <tbody>\n",
       "    <tr>\n",
       "      <th>count</th>\n",
       "      <td>1.253452e+06</td>\n",
       "      <td>1.253191e+06</td>\n",
       "      <td>41948.000000</td>\n",
       "      <td>901787.000000</td>\n",
       "      <td>1.253452e+06</td>\n",
       "      <td>1.253452e+06</td>\n",
       "    </tr>\n",
       "    <tr>\n",
       "      <th>mean</th>\n",
       "      <td>1.551795e-02</td>\n",
       "      <td>2.001829e+03</td>\n",
       "      <td>2005.704777</td>\n",
       "      <td>56.207179</td>\n",
       "      <td>6.952086e+00</td>\n",
       "      <td>1.041908e+03</td>\n",
       "    </tr>\n",
       "    <tr>\n",
       "      <th>std</th>\n",
       "      <td>1.236008e-01</td>\n",
       "      <td>2.125113e+01</td>\n",
       "      <td>15.357264</td>\n",
       "      <td>96.507384</td>\n",
       "      <td>1.388000e+00</td>\n",
       "      <td>1.729051e+04</td>\n",
       "    </tr>\n",
       "    <tr>\n",
       "      <th>min</th>\n",
       "      <td>0.000000e+00</td>\n",
       "      <td>1.874000e+03</td>\n",
       "      <td>1933.000000</td>\n",
       "      <td>0.000000</td>\n",
       "      <td>1.000000e+00</td>\n",
       "      <td>5.000000e+00</td>\n",
       "    </tr>\n",
       "    <tr>\n",
       "      <th>25%</th>\n",
       "      <td>0.000000e+00</td>\n",
       "      <td>1.995000e+03</td>\n",
       "      <td>1998.000000</td>\n",
       "      <td>23.000000</td>\n",
       "      <td>6.200000e+00</td>\n",
       "      <td>1.200000e+01</td>\n",
       "    </tr>\n",
       "    <tr>\n",
       "      <th>50%</th>\n",
       "      <td>0.000000e+00</td>\n",
       "      <td>2.009000e+03</td>\n",
       "      <td>2011.000000</td>\n",
       "      <td>45.000000</td>\n",
       "      <td>7.100000e+00</td>\n",
       "      <td>2.600000e+01</td>\n",
       "    </tr>\n",
       "    <tr>\n",
       "      <th>75%</th>\n",
       "      <td>0.000000e+00</td>\n",
       "      <td>2.016000e+03</td>\n",
       "      <td>2018.000000</td>\n",
       "      <td>86.000000</td>\n",
       "      <td>7.900000e+00</td>\n",
       "      <td>1.010000e+02</td>\n",
       "    </tr>\n",
       "    <tr>\n",
       "      <th>max</th>\n",
       "      <td>1.000000e+00</td>\n",
       "      <td>2.022000e+03</td>\n",
       "      <td>2024.000000</td>\n",
       "      <td>51420.000000</td>\n",
       "      <td>1.000000e+01</td>\n",
       "      <td>2.667015e+06</td>\n",
       "    </tr>\n",
       "  </tbody>\n",
       "</table>\n",
       "</div>"
      ],
      "text/plain": [
       "            isAdult     startYear       endYear  runtimeMinutes  \\\n",
       "count  1.253452e+06  1.253191e+06  41948.000000   901787.000000   \n",
       "mean   1.551795e-02  2.001829e+03   2005.704777       56.207179   \n",
       "std    1.236008e-01  2.125113e+01     15.357264       96.507384   \n",
       "min    0.000000e+00  1.874000e+03   1933.000000        0.000000   \n",
       "25%    0.000000e+00  1.995000e+03   1998.000000       23.000000   \n",
       "50%    0.000000e+00  2.009000e+03   2011.000000       45.000000   \n",
       "75%    0.000000e+00  2.016000e+03   2018.000000       86.000000   \n",
       "max    1.000000e+00  2.022000e+03   2024.000000    51420.000000   \n",
       "\n",
       "       averageRating      numVotes  \n",
       "count   1.253452e+06  1.253452e+06  \n",
       "mean    6.952086e+00  1.041908e+03  \n",
       "std     1.388000e+00  1.729051e+04  \n",
       "min     1.000000e+00  5.000000e+00  \n",
       "25%     6.200000e+00  1.200000e+01  \n",
       "50%     7.100000e+00  2.600000e+01  \n",
       "75%     7.900000e+00  1.010000e+02  \n",
       "max     1.000000e+01  2.667015e+06  "
      ]
     },
     "execution_count": 47,
     "metadata": {},
     "output_type": "execute_result"
    }
   ],
   "source": [
    "imdb.describe()"
   ]
  },
  {
   "cell_type": "markdown",
   "metadata": {},
   "source": [
    "### Weighted IMDB rating"
   ]
  },
  {
   "cell_type": "markdown",
   "metadata": {},
   "source": [
    "To estimate a movie success, we need to both account for the rating 'averageRating' and to the correponding number of votes 'numVotes'. To do so, we build a new weighted rating based on a shrinkage estimator: \n",
    "\n",
    "weighted rating (WR) = (v ÷ (v+m)) × R + (m ÷ (v+m)) × C \n",
    "\n",
    "where:\n",
    "\n",
    "R = average for the movie (mean) = (Rating)\n",
    "\n",
    "v = number of votes for the movie = (votes)\n",
    "\n",
    "m = minimum votes required to be listed (currently 25088)\n",
    "\n",
    "C = the mean vote across the whole report (currently 7.94)"
   ]
  },
  {
   "cell_type": "code",
   "execution_count": 48,
   "metadata": {
    "scrolled": false
   },
   "outputs": [
    {
     "data": {
      "image/png": "[encoded data removed]",
      "text/plain": [
       "<Figure size 640x480 with 1 Axes>"
      ]
     },
     "metadata": {},
     "output_type": "display_data"
    }
   ],
   "source": [
    "_ = sns.countplot(x='averageRating', data=imdb, palette=\"magma\") \\\n",
    "   .set(title='Distribution of IMDB ratings', xlabel='IMDB rating', ylabel='Number of films')"
   ]
  },
  {
   "cell_type": "code",
   "execution_count": 49,
   "metadata": {},
   "outputs": [],
   "source": [
    "C = imdb['averageRating'].mean()\n",
    "m = imdb['numVotes'].min()\n",
    "v = imdb['numVotes']\n",
    "R = imdb['averageRating']"
   ]
  },
  {
   "cell_type": "code",
   "execution_count": 50,
   "metadata": {},
   "outputs": [],
   "source": [
    "imdb['WR'] = (v / (v + m)) * R + (m / (v + m)) * C # Complete original dataset\n"
   ]
  },
  {
   "cell_type": "markdown",
   "metadata": {},
   "source": [
    "To check if the weighted rating has worked, we display below the best rated movie. We observe that for an IMDB rating of 9/10, the weighted rating WR is better for movies with the most votes. We conclude that this weighted rating is more representative of a movie' success."
   ]
  },
  {
   "cell_type": "code",
   "execution_count": 51,
   "metadata": {},
   "outputs": [
    {
     "data": {
      "text/html": [
       "<div>\n",
       "<style scoped>\n",
       "    .dataframe tbody tr th:only-of-type {\n",
       "        vertical-align: middle;\n",
       "    }\n",
       "\n",
       "    .dataframe tbody tr th {\n",
       "        vertical-align: top;\n",
       "    }\n",
       "\n",
       "    .dataframe thead th {\n",
       "        text-align: right;\n",
       "    }\n",
       "</style>\n",
       "<table border=\"1\" class=\"dataframe\">\n",
       "  <thead>\n",
       "    <tr style=\"text-align: right;\">\n",
       "      <th></th>\n",
       "      <th>originalTitle</th>\n",
       "      <th>averageRating</th>\n",
       "      <th>WR</th>\n",
       "      <th>numVotes</th>\n",
       "    </tr>\n",
       "  </thead>\n",
       "  <tbody>\n",
       "    <tr>\n",
       "      <th>853340</th>\n",
       "      <td>Ozymandias</td>\n",
       "      <td>10.0</td>\n",
       "      <td>9.999918</td>\n",
       "      <td>185650</td>\n",
       "    </tr>\n",
       "    <tr>\n",
       "      <th>1000173</th>\n",
       "      <td>Unbreakable Souls</td>\n",
       "      <td>10.0</td>\n",
       "      <td>9.993245</td>\n",
       "      <td>2251</td>\n",
       "    </tr>\n",
       "    <tr>\n",
       "      <th>1023521</th>\n",
       "      <td>Angels Apocalypse</td>\n",
       "      <td>10.0</td>\n",
       "      <td>9.992627</td>\n",
       "      <td>2062</td>\n",
       "    </tr>\n",
       "    <tr>\n",
       "      <th>749029</th>\n",
       "      <td>Final Draft</td>\n",
       "      <td>10.0</td>\n",
       "      <td>9.978922</td>\n",
       "      <td>718</td>\n",
       "    </tr>\n",
       "    <tr>\n",
       "      <th>308511</th>\n",
       "      <td>Episode #1.9</td>\n",
       "      <td>10.0</td>\n",
       "      <td>9.975694</td>\n",
       "      <td>622</td>\n",
       "    </tr>\n",
       "  </tbody>\n",
       "</table>\n",
       "</div>"
      ],
      "text/plain": [
       "             originalTitle  averageRating        WR  numVotes\n",
       "853340          Ozymandias           10.0  9.999918    185650\n",
       "1000173  Unbreakable Souls           10.0  9.993245      2251\n",
       "1023521  Angels Apocalypse           10.0  9.992627      2062\n",
       "749029         Final Draft           10.0  9.978922       718\n",
       "308511        Episode #1.9           10.0  9.975694       622"
      ]
     },
     "execution_count": 51,
     "metadata": {},
     "output_type": "execute_result"
    }
   ],
   "source": [
    "imdb[['originalTitle', 'averageRating', 'WR', 'numVotes']].sort_values('WR', ascending=False).head()"
   ]
  },
  {
   "cell_type": "code",
   "execution_count": 52,
   "metadata": {
    "scrolled": false
   },
   "outputs": [
    {
     "data": {
      "image/png": "[encoded data removed]",
      "text/plain": [
       "<Figure size 640x480 with 1 Axes>"
      ]
     },
     "metadata": {},
     "output_type": "display_data"
    }
   ],
   "source": [
    "_ = sns.histplot(x='WR', data=imdb, kde=True) \\\n",
    "   .set(title='Distribution of weighted ratings on IMDB database', xlabel='Weighted rating WR', ylabel='Number of films')"
   ]
  },
  {
   "cell_type": "markdown",
   "metadata": {},
   "source": [
    "### Merge IMDB database with movie database to have common features"
   ]
  },
  {
   "cell_type": "markdown",
   "metadata": {},
   "source": [
    "We would like to merge the data from CMU movies and IMDB top 1000. Since we don't want to reduce the size of data, we would rather to an outer merge and fill missing values with NaN."
   ]
  },
  {
   "cell_type": "code",
   "execution_count": 53,
   "metadata": {},
   "outputs": [
    {
     "data": {
      "text/plain": [
       "0.9297141015371949"
      ]
     },
     "execution_count": 53,
     "metadata": {},
     "output_type": "execute_result"
    }
   ],
   "source": [
    "len((imdb['originalTitle'] + imdb['startYear'].astype(str)).unique()) / len(imdb)"
   ]
  },
  {
   "cell_type": "code",
   "execution_count": 54,
   "metadata": {},
   "outputs": [],
   "source": [
    "imdb.drop_duplicates(subset=['originalTitle', 'startYear'], inplace=True)"
   ]
  },
  {
   "cell_type": "code",
   "execution_count": 55,
   "metadata": {},
   "outputs": [
    {
     "data": {
      "text/plain": [
       "0.9977122863679182"
      ]
     },
     "execution_count": 55,
     "metadata": {},
     "output_type": "execute_result"
    }
   ],
   "source": [
    "len((movies['name'] + movies['release_year'].astype(str)).unique()) / len(movies)"
   ]
  },
  {
   "cell_type": "code",
   "execution_count": 56,
   "metadata": {},
   "outputs": [],
   "source": [
    "# Remove duplicated movie with video game\n",
    "movies.drop(movies[movies['wikipedia_id'] == 3184269].index, inplace=True)\n",
    "# Fix duplicated movie with changing it release year to the correct one based on its wikipedia page\n",
    "movies.loc[movies['wikipedia_id'] == 25357930, ['release_year']] = \"2010\""
   ]
  },
  {
   "cell_type": "code",
   "execution_count": 57,
   "metadata": {},
   "outputs": [],
   "source": [
    "movies.drop_duplicates(subset=['name', 'release_year'], inplace=True)"
   ]
  },
  {
   "cell_type": "code",
   "execution_count": 58,
   "metadata": {},
   "outputs": [],
   "source": [
    "imdb.rename({'originalTitle': 'name', 'startYear': 'release_year'}, axis=1, inplace=True)"
   ]
  },
  {
   "cell_type": "code",
   "execution_count": 59,
   "metadata": {},
   "outputs": [],
   "source": [
    "movies['release_year'] = movies['release_year'].replace('nan', np.nan).astype('float32')\n",
    "movies['release_month'] = movies['release_month'].replace('nan', np.nan).astype('float32')\n",
    "movies['release_day'] = movies['release_day'].replace('nan', np.nan).astype('float32')"
   ]
  },
  {
   "cell_type": "code",
   "execution_count": 60,
   "metadata": {},
   "outputs": [],
   "source": [
    "movie_feature = movies.merge(imdb, on=['name', 'release_year'], how='left')"
   ]
  },
  {
   "cell_type": "code",
   "execution_count": 61,
   "metadata": {},
   "outputs": [],
   "source": [
    "# Free memory\n",
    "del imdb\n",
    "del movies"
   ]
  },
  {
   "cell_type": "code",
   "execution_count": 62,
   "metadata": {},
   "outputs": [],
   "source": [
    "def fill_NaN(df, column_left, column_right, column_name=None): # Updates missing data from left column with right column data\n",
    "    if column_name is None:\n",
    "        column_name = column_left\n",
    "    df[column_name] = df[column_left].fillna(df[column_right])"
   ]
  },
  {
   "cell_type": "code",
   "execution_count": 63,
   "metadata": {},
   "outputs": [],
   "source": [
    "fill_NaN(movie_feature, 'runtime', 'runtimeMinutes')\n",
    "fill_NaN(movie_feature, 'genres_x', 'genres_y', 'genre')\n",
    "movie_feature.drop(labels=['runtimeMinutes', 'genres_x', 'genres_y', 'primaryTitle', 'titleType', 'tconst', 'endYear'], axis=1, inplace=True)"
   ]
  },
  {
   "cell_type": "code",
   "execution_count": 64,
   "metadata": {},
   "outputs": [
    {
     "data": {
      "text/plain": [
       "Index(['wikipedia_id', 'freebase_id', 'name', 'box_office_revenue', 'runtime',\n",
       "       'languages', 'countries', 'release_year', 'release_month',\n",
       "       'release_day', 'isAdult', 'averageRating', 'numVotes', 'directors',\n",
       "       'writers', 'WR', 'genre'],\n",
       "      dtype='object')"
      ]
     },
     "execution_count": 64,
     "metadata": {},
     "output_type": "execute_result"
    }
   ],
   "source": [
    "movie_feature.columns"
   ]
  },
  {
   "cell_type": "code",
   "execution_count": 65,
   "metadata": {},
   "outputs": [
    {
     "data": {
      "text/html": [
       "<div>\n",
       "<style scoped>\n",
       "    .dataframe tbody tr th:only-of-type {\n",
       "        vertical-align: middle;\n",
       "    }\n",
       "\n",
       "    .dataframe tbody tr th {\n",
       "        vertical-align: top;\n",
       "    }\n",
       "\n",
       "    .dataframe thead th {\n",
       "        text-align: right;\n",
       "    }\n",
       "</style>\n",
       "<table border=\"1\" class=\"dataframe\">\n",
       "  <thead>\n",
       "    <tr style=\"text-align: right;\">\n",
       "      <th></th>\n",
       "      <th>wikipedia_id</th>\n",
       "      <th>freebase_id</th>\n",
       "      <th>name</th>\n",
       "      <th>box_office_revenue</th>\n",
       "      <th>runtime</th>\n",
       "      <th>languages</th>\n",
       "      <th>countries</th>\n",
       "      <th>release_year</th>\n",
       "      <th>release_month</th>\n",
       "      <th>release_day</th>\n",
       "      <th>isAdult</th>\n",
       "      <th>averageRating</th>\n",
       "      <th>numVotes</th>\n",
       "      <th>directors</th>\n",
       "      <th>writers</th>\n",
       "      <th>WR</th>\n",
       "      <th>genre</th>\n",
       "    </tr>\n",
       "  </thead>\n",
       "  <tbody>\n",
       "    <tr>\n",
       "      <th>18052</th>\n",
       "      <td>21200382</td>\n",
       "      <td>/m/04znzp</td>\n",
       "      <td>Dick</td>\n",
       "      <td>NaN</td>\n",
       "      <td>94.0</td>\n",
       "      <td>[English]</td>\n",
       "      <td>[United States of America, France, Canada]</td>\n",
       "      <td>1999.0</td>\n",
       "      <td>7.0</td>\n",
       "      <td>23.0</td>\n",
       "      <td>0.0</td>\n",
       "      <td>6.2</td>\n",
       "      <td>20528.0</td>\n",
       "      <td>[Andrew Fleming]</td>\n",
       "      <td>[Andrew Fleming, Sheryl Longin]</td>\n",
       "      <td>6.200183</td>\n",
       "      <td>[Parody, Female buddy film, Buddy film, Politi...</td>\n",
       "    </tr>\n",
       "    <tr>\n",
       "      <th>43964</th>\n",
       "      <td>14909289</td>\n",
       "      <td>/m/03h16_0</td>\n",
       "      <td>To Rent Furnished</td>\n",
       "      <td>NaN</td>\n",
       "      <td>NaN</td>\n",
       "      <td>[Silent film, English]</td>\n",
       "      <td>[United States of America]</td>\n",
       "      <td>1915.0</td>\n",
       "      <td>11.0</td>\n",
       "      <td>12.0</td>\n",
       "      <td>NaN</td>\n",
       "      <td>NaN</td>\n",
       "      <td>NaN</td>\n",
       "      <td>NaN</td>\n",
       "      <td>NaN</td>\n",
       "      <td>NaN</td>\n",
       "      <td>[Short Film, Silent film, Indie, Black-and-white]</td>\n",
       "    </tr>\n",
       "    <tr>\n",
       "      <th>76269</th>\n",
       "      <td>27199326</td>\n",
       "      <td>/m/0bwlzr5</td>\n",
       "      <td>Killers of Kilimanjaro</td>\n",
       "      <td>NaN</td>\n",
       "      <td>91.0</td>\n",
       "      <td>[English]</td>\n",
       "      <td>[United Kingdom]</td>\n",
       "      <td>1959.0</td>\n",
       "      <td>10.0</td>\n",
       "      <td>NaN</td>\n",
       "      <td>0.0</td>\n",
       "      <td>5.4</td>\n",
       "      <td>383.0</td>\n",
       "      <td>[Richard Thorpe]</td>\n",
       "      <td>[Earl Felton, John Gilling, Cyril Hume, J.A. H...</td>\n",
       "      <td>5.420001</td>\n",
       "      <td>[Adventure]</td>\n",
       "    </tr>\n",
       "  </tbody>\n",
       "</table>\n",
       "</div>"
      ],
      "text/plain": [
       "       wikipedia_id freebase_id                    name  box_office_revenue  \\\n",
       "18052      21200382   /m/04znzp                    Dick                 NaN   \n",
       "43964      14909289  /m/03h16_0       To Rent Furnished                 NaN   \n",
       "76269      27199326  /m/0bwlzr5  Killers of Kilimanjaro                 NaN   \n",
       "\n",
       "       runtime               languages  \\\n",
       "18052     94.0               [English]   \n",
       "43964      NaN  [Silent film, English]   \n",
       "76269     91.0               [English]   \n",
       "\n",
       "                                        countries  release_year  \\\n",
       "18052  [United States of America, France, Canada]        1999.0   \n",
       "43964                  [United States of America]        1915.0   \n",
       "76269                            [United Kingdom]        1959.0   \n",
       "\n",
       "       release_month  release_day  isAdult  averageRating  numVotes  \\\n",
       "18052            7.0         23.0      0.0            6.2   20528.0   \n",
       "43964           11.0         12.0      NaN            NaN       NaN   \n",
       "76269           10.0          NaN      0.0            5.4     383.0   \n",
       "\n",
       "              directors                                            writers  \\\n",
       "18052  [Andrew Fleming]                    [Andrew Fleming, Sheryl Longin]   \n",
       "43964               NaN                                                NaN   \n",
       "76269  [Richard Thorpe]  [Earl Felton, John Gilling, Cyril Hume, J.A. H...   \n",
       "\n",
       "             WR                                              genre  \n",
       "18052  6.200183  [Parody, Female buddy film, Buddy film, Politi...  \n",
       "43964       NaN  [Short Film, Silent film, Indie, Black-and-white]  \n",
       "76269  5.420001                                        [Adventure]  "
      ]
     },
     "execution_count": 65,
     "metadata": {},
     "output_type": "execute_result"
    }
   ],
   "source": [
    "movie_feature.sample(3)"
   ]
  },
  {
   "cell_type": "code",
   "execution_count": 66,
   "metadata": {},
   "outputs": [
    {
     "data": {
      "text/html": [
       "<div>\n",
       "<style scoped>\n",
       "    .dataframe tbody tr th:only-of-type {\n",
       "        vertical-align: middle;\n",
       "    }\n",
       "\n",
       "    .dataframe tbody tr th {\n",
       "        vertical-align: top;\n",
       "    }\n",
       "\n",
       "    .dataframe thead th {\n",
       "        text-align: right;\n",
       "    }\n",
       "</style>\n",
       "<table border=\"1\" class=\"dataframe\">\n",
       "  <thead>\n",
       "    <tr style=\"text-align: right;\">\n",
       "      <th></th>\n",
       "      <th>wikipedia_id</th>\n",
       "      <th>box_office_revenue</th>\n",
       "      <th>runtime</th>\n",
       "      <th>release_year</th>\n",
       "      <th>release_month</th>\n",
       "      <th>release_day</th>\n",
       "      <th>isAdult</th>\n",
       "      <th>averageRating</th>\n",
       "      <th>numVotes</th>\n",
       "      <th>WR</th>\n",
       "    </tr>\n",
       "  </thead>\n",
       "  <tbody>\n",
       "    <tr>\n",
       "      <th>count</th>\n",
       "      <td>8.155500e+04</td>\n",
       "      <td>8.392000e+03</td>\n",
       "      <td>67052.000000</td>\n",
       "      <td>74720.000000</td>\n",
       "      <td>42596.000000</td>\n",
       "      <td>39305.000000</td>\n",
       "      <td>44031.000000</td>\n",
       "      <td>44031.000000</td>\n",
       "      <td>4.403100e+04</td>\n",
       "      <td>44031.000000</td>\n",
       "    </tr>\n",
       "    <tr>\n",
       "      <th>mean</th>\n",
       "      <td>1.740360e+07</td>\n",
       "      <td>4.799791e+07</td>\n",
       "      <td>93.715766</td>\n",
       "      <td>1977.460815</td>\n",
       "      <td>6.692201</td>\n",
       "      <td>15.651240</td>\n",
       "      <td>0.002566</td>\n",
       "      <td>6.195617</td>\n",
       "      <td>1.378128e+04</td>\n",
       "      <td>6.224498</td>\n",
       "    </tr>\n",
       "    <tr>\n",
       "      <th>std</th>\n",
       "      <td>1.098688e+07</td>\n",
       "      <td>1.122099e+08</td>\n",
       "      <td>60.342111</td>\n",
       "      <td>29.101585</td>\n",
       "      <td>3.483220</td>\n",
       "      <td>8.715734</td>\n",
       "      <td>0.050595</td>\n",
       "      <td>1.155310</td>\n",
       "      <td>7.286329e+04</td>\n",
       "      <td>1.102334</td>\n",
       "    </tr>\n",
       "    <tr>\n",
       "      <th>min</th>\n",
       "      <td>3.300000e+02</td>\n",
       "      <td>1.000000e+04</td>\n",
       "      <td>0.000000</td>\n",
       "      <td>1010.000000</td>\n",
       "      <td>1.000000</td>\n",
       "      <td>1.000000</td>\n",
       "      <td>0.000000</td>\n",
       "      <td>1.000000</td>\n",
       "      <td>5.000000e+00</td>\n",
       "      <td>1.131770</td>\n",
       "    </tr>\n",
       "    <tr>\n",
       "      <th>25%</th>\n",
       "      <td>7.320728e+06</td>\n",
       "      <td>2.075232e+06</td>\n",
       "      <td>80.000000</td>\n",
       "      <td>1956.000000</td>\n",
       "      <td>4.000000</td>\n",
       "      <td>8.000000</td>\n",
       "      <td>0.000000</td>\n",
       "      <td>5.600000</td>\n",
       "      <td>1.070000e+02</td>\n",
       "      <td>5.614247</td>\n",
       "    </tr>\n",
       "    <tr>\n",
       "      <th>50%</th>\n",
       "      <td>1.777503e+07</td>\n",
       "      <td>1.063551e+07</td>\n",
       "      <td>93.000000</td>\n",
       "      <td>1985.000000</td>\n",
       "      <td>7.000000</td>\n",
       "      <td>16.000000</td>\n",
       "      <td>0.000000</td>\n",
       "      <td>6.300000</td>\n",
       "      <td>5.160000e+02</td>\n",
       "      <td>6.317251</td>\n",
       "    </tr>\n",
       "    <tr>\n",
       "      <th>75%</th>\n",
       "      <td>2.714269e+07</td>\n",
       "      <td>4.073253e+07</td>\n",
       "      <td>108.000000</td>\n",
       "      <td>2004.000000</td>\n",
       "      <td>10.000000</td>\n",
       "      <td>23.000000</td>\n",
       "      <td>0.000000</td>\n",
       "      <td>7.000000</td>\n",
       "      <td>2.660500e+03</td>\n",
       "      <td>6.998635</td>\n",
       "    </tr>\n",
       "    <tr>\n",
       "      <th>max</th>\n",
       "      <td>3.750192e+07</td>\n",
       "      <td>2.782275e+09</td>\n",
       "      <td>5700.000000</td>\n",
       "      <td>2016.000000</td>\n",
       "      <td>12.000000</td>\n",
       "      <td>31.000000</td>\n",
       "      <td>1.000000</td>\n",
       "      <td>10.000000</td>\n",
       "      <td>2.667015e+06</td>\n",
       "      <td>9.467126</td>\n",
       "    </tr>\n",
       "  </tbody>\n",
       "</table>\n",
       "</div>"
      ],
      "text/plain": [
       "       wikipedia_id  box_office_revenue       runtime  release_year  \\\n",
       "count  8.155500e+04        8.392000e+03  67052.000000  74720.000000   \n",
       "mean   1.740360e+07        4.799791e+07     93.715766   1977.460815   \n",
       "std    1.098688e+07        1.122099e+08     60.342111     29.101585   \n",
       "min    3.300000e+02        1.000000e+04      0.000000   1010.000000   \n",
       "25%    7.320728e+06        2.075232e+06     80.000000   1956.000000   \n",
       "50%    1.777503e+07        1.063551e+07     93.000000   1985.000000   \n",
       "75%    2.714269e+07        4.073253e+07    108.000000   2004.000000   \n",
       "max    3.750192e+07        2.782275e+09   5700.000000   2016.000000   \n",
       "\n",
       "       release_month   release_day       isAdult  averageRating      numVotes  \\\n",
       "count   42596.000000  39305.000000  44031.000000   44031.000000  4.403100e+04   \n",
       "mean        6.692201     15.651240      0.002566       6.195617  1.378128e+04   \n",
       "std         3.483220      8.715734      0.050595       1.155310  7.286329e+04   \n",
       "min         1.000000      1.000000      0.000000       1.000000  5.000000e+00   \n",
       "25%         4.000000      8.000000      0.000000       5.600000  1.070000e+02   \n",
       "50%         7.000000     16.000000      0.000000       6.300000  5.160000e+02   \n",
       "75%        10.000000     23.000000      0.000000       7.000000  2.660500e+03   \n",
       "max        12.000000     31.000000      1.000000      10.000000  2.667015e+06   \n",
       "\n",
       "                 WR  \n",
       "count  44031.000000  \n",
       "mean       6.224498  \n",
       "std        1.102334  \n",
       "min        1.131770  \n",
       "25%        5.614247  \n",
       "50%        6.317251  \n",
       "75%        6.998635  \n",
       "max        9.467126  "
      ]
     },
     "execution_count": 66,
     "metadata": {},
     "output_type": "execute_result"
    }
   ],
   "source": [
    "movie_feature.describe()"
   ]
  },
  {
   "cell_type": "code",
   "execution_count": 67,
   "metadata": {},
   "outputs": [
    {
     "ename": "NameError",
     "evalue": "name 'imdb' is not defined",
     "output_type": "error",
     "traceback": [
      "\u001b[0;31m---------------------------------------------------------------------------\u001b[0m",
      "\u001b[0;31mNameError\u001b[0m                                 Traceback (most recent call last)",
      "Cell \u001b[0;32mIn [67], line 1\u001b[0m\n\u001b[0;32m----> 1\u001b[0m \u001b[39mprint\u001b[39m(\u001b[39mf\u001b[39m\u001b[39m'\u001b[39m\u001b[39mThere are \u001b[39m\u001b[39m{\u001b[39;00m(imdb\u001b[39m.\u001b[39mshape[\u001b[39m0\u001b[39m]\u001b[39m+\u001b[39mmovies\u001b[39m.\u001b[39mshape[\u001b[39m0\u001b[39m]) \u001b[39m-\u001b[39m movie_feature\u001b[39m.\u001b[39mshape[\u001b[39m0\u001b[39m]\u001b[39m}\u001b[39;00m\u001b[39m common elements to both IMDB and Movie Corpus datasets. Knowing that IMDB includes \u001b[39m\u001b[39m{\u001b[39;00mimdb\u001b[39m.\u001b[39mshape[\u001b[39m0\u001b[39m]\u001b[39m}\u001b[39;00m\u001b[39m elements and Movie corpus includes \u001b[39m\u001b[39m{\u001b[39;00mmovies\u001b[39m.\u001b[39mshape[\u001b[39m0\u001b[39m]\u001b[39m}\u001b[39;00m\u001b[39m.\u001b[39m\u001b[39m'\u001b[39m)\n",
      "\u001b[0;31mNameError\u001b[0m: name 'imdb' is not defined"
     ]
    }
   ],
   "source": [
    "# print(f'There are {(imdb.shape[0]+movies.shape[0]) - movie_feature.shape[0]} common elements to both IMDB and Movie Corpus datasets. Knowing that IMDB includes {imdb.shape[0]} elements and Movie corpus includes {movies.shape[0]}.')\n"
   ]
  },
  {
   "cell_type": "code",
   "execution_count": 68,
   "metadata": {},
   "outputs": [
    {
     "data": {
      "text/plain": [
       "Index(['wikipedia_id', 'freebase_id', 'name', 'box_office_revenue', 'runtime',\n",
       "       'languages', 'countries', 'release_year', 'release_month',\n",
       "       'release_day', 'isAdult', 'averageRating', 'numVotes', 'directors',\n",
       "       'writers', 'WR', 'genre'],\n",
       "      dtype='object')"
      ]
     },
     "execution_count": 68,
     "metadata": {},
     "output_type": "execute_result"
    }
   ],
   "source": [
    "movie_feature.columns"
   ]
  },
  {
   "cell_type": "code",
   "execution_count": 69,
   "metadata": {},
   "outputs": [
    {
     "data": {
      "text/plain": [
       "[Text(0.5, 1.0, 'Distribution of weighted ratings on merged database'),\n",
       " Text(0.5, 0, 'Weighted rating WR'),\n",
       " Text(0, 0.5, 'Number of films')]"
      ]
     },
     "execution_count": 69,
     "metadata": {},
     "output_type": "execute_result"
    },
    {
     "data": {
      "image/png": "[encoded data removed]",
      "text/plain": [
       "<Figure size 640x480 with 1 Axes>"
      ]
     },
     "metadata": {},
     "output_type": "display_data"
    }
   ],
   "source": [
    "sns.histplot(x='WR', data=movie_feature, kde=True).set(title='Distribution of weighted ratings on merged database',xlabel='Weighted rating WR', ylabel='Number of films')\n"
   ]
  },
  {
   "cell_type": "code",
   "execution_count": 70,
   "metadata": {
    "scrolled": true
   },
   "outputs": [
    {
     "data": {
      "text/plain": [
       "1.0"
      ]
     },
     "execution_count": 70,
     "metadata": {},
     "output_type": "execute_result"
    }
   ],
   "source": [
    "len((movie_feature['name'] + movie_feature['release_year'].astype(str)).unique()) / len(movie_feature)"
   ]
  },
  {
   "cell_type": "markdown",
   "metadata": {},
   "source": [
    "### Fill missing budget data from imdb budget dataset"
   ]
  },
  {
   "cell_type": "code",
   "execution_count": 71,
   "metadata": {},
   "outputs": [
    {
     "data": {
      "text/html": [
       "<div>\n",
       "<style scoped>\n",
       "    .dataframe tbody tr th:only-of-type {\n",
       "        vertical-align: middle;\n",
       "    }\n",
       "\n",
       "    .dataframe tbody tr th {\n",
       "        vertical-align: top;\n",
       "    }\n",
       "\n",
       "    .dataframe thead th {\n",
       "        text-align: right;\n",
       "    }\n",
       "</style>\n",
       "<table border=\"1\" class=\"dataframe\">\n",
       "  <thead>\n",
       "    <tr style=\"text-align: right;\">\n",
       "      <th></th>\n",
       "      <th>Movie</th>\n",
       "      <th>Year</th>\n",
       "      <th>IMDb</th>\n",
       "      <th>Rating</th>\n",
       "      <th>Runtime</th>\n",
       "      <th>Genre</th>\n",
       "      <th>Release Date</th>\n",
       "      <th>Production Budget</th>\n",
       "      <th>Domestic Gross</th>\n",
       "      <th>Worldwide Gross</th>\n",
       "    </tr>\n",
       "  </thead>\n",
       "  <tbody>\n",
       "    <tr>\n",
       "      <th>886</th>\n",
       "      <td>Hotel for Dogs</td>\n",
       "      <td>2009</td>\n",
       "      <td>5.4</td>\n",
       "      <td>PG</td>\n",
       "      <td>100</td>\n",
       "      <td>Comedy, Family</td>\n",
       "      <td>Jan 16, 2009</td>\n",
       "      <td>35000000</td>\n",
       "      <td>73178547</td>\n",
       "      <td>122357172</td>\n",
       "    </tr>\n",
       "    <tr>\n",
       "      <th>1613</th>\n",
       "      <td>Hitman</td>\n",
       "      <td>2007</td>\n",
       "      <td>6.3</td>\n",
       "      <td>R</td>\n",
       "      <td>100</td>\n",
       "      <td>Action, Crime, Thriller</td>\n",
       "      <td>Nov 21, 2007</td>\n",
       "      <td>24000000</td>\n",
       "      <td>39687694</td>\n",
       "      <td>99135571</td>\n",
       "    </tr>\n",
       "    <tr>\n",
       "      <th>1488</th>\n",
       "      <td>Wall Street</td>\n",
       "      <td>1987</td>\n",
       "      <td>7.4</td>\n",
       "      <td>R</td>\n",
       "      <td>126</td>\n",
       "      <td>Crime, Drama</td>\n",
       "      <td>Dec 11, 1987</td>\n",
       "      <td>16500000</td>\n",
       "      <td>43848100</td>\n",
       "      <td>43848100</td>\n",
       "    </tr>\n",
       "    <tr>\n",
       "      <th>123</th>\n",
       "      <td>X-Men: Days of Future Past</td>\n",
       "      <td>2014</td>\n",
       "      <td>8.0</td>\n",
       "      <td>PG-13</td>\n",
       "      <td>132</td>\n",
       "      <td>Action, Adventure, Sci-Fi</td>\n",
       "      <td>May 21, 2014</td>\n",
       "      <td>200000000</td>\n",
       "      <td>233921534</td>\n",
       "      <td>747862775</td>\n",
       "    </tr>\n",
       "    <tr>\n",
       "      <th>978</th>\n",
       "      <td>Kangaroo Jack</td>\n",
       "      <td>2003</td>\n",
       "      <td>4.4</td>\n",
       "      <td>PG</td>\n",
       "      <td>89</td>\n",
       "      <td>Action, Adventure, Comedy</td>\n",
       "      <td>Jan 17, 2003</td>\n",
       "      <td>60000000</td>\n",
       "      <td>66723216</td>\n",
       "      <td>90558582</td>\n",
       "    </tr>\n",
       "  </tbody>\n",
       "</table>\n",
       "</div>"
      ],
      "text/plain": [
       "                           Movie  Year  IMDb Rating  Runtime  \\\n",
       "886               Hotel for Dogs  2009   5.4     PG      100   \n",
       "1613                      Hitman  2007   6.3      R      100   \n",
       "1488                 Wall Street  1987   7.4      R      126   \n",
       "123   X-Men: Days of Future Past  2014   8.0  PG-13      132   \n",
       "978                Kangaroo Jack  2003   4.4     PG       89   \n",
       "\n",
       "                          Genre  Release Date  Production Budget  \\\n",
       "886              Comedy, Family  Jan 16, 2009           35000000   \n",
       "1613    Action, Crime, Thriller  Nov 21, 2007           24000000   \n",
       "1488               Crime, Drama  Dec 11, 1987           16500000   \n",
       "123   Action, Adventure, Sci-Fi  May 21, 2014          200000000   \n",
       "978   Action, Adventure, Comedy  Jan 17, 2003           60000000   \n",
       "\n",
       "      Domestic Gross  Worldwide Gross  \n",
       "886         73178547        122357172  \n",
       "1613        39687694         99135571  \n",
       "1488        43848100         43848100  \n",
       "123        233921534        747862775  \n",
       "978         66723216         90558582  "
      ]
     },
     "execution_count": 71,
     "metadata": {},
     "output_type": "execute_result"
    }
   ],
   "source": [
    "imdb_budget.sample(5)"
   ]
  },
  {
   "cell_type": "code",
   "execution_count": 72,
   "metadata": {},
   "outputs": [],
   "source": [
    "imdb_budget['Release Date'] = imdb_budget['Release Date'].astype('str') # Convert to string all dates\n",
    "release_date = pd.DataFrame(pd.to_datetime(imdb_budget['Release Date']).apply(lambda x: [x.year, x.month, x.day]).tolist(), columns=['release_year','release_month','release_day'])\n",
    "imdb_budget[['release_year','release_month','release_day']] = release_date"
   ]
  },
  {
   "cell_type": "code",
   "execution_count": 73,
   "metadata": {},
   "outputs": [],
   "source": [
    "imdb_budget['release_year'] = imdb_budget['release_year'].astype('float32')\n",
    "imdb_budget['release_month'] = imdb_budget['release_month'].astype('float32')\n",
    "imdb_budget['release_day'] = imdb_budget['release_day'].astype('float32')"
   ]
  },
  {
   "cell_type": "code",
   "execution_count": 74,
   "metadata": {},
   "outputs": [
    {
     "data": {
      "text/plain": [
       "Index(['name', 'IMDb', 'Rating', 'Runtime', 'genres', 'Production Budget',\n",
       "       'Domestic Gross', 'Worldwide Gross', 'release_year', 'release_month',\n",
       "       'release_day'],\n",
       "      dtype='object')"
      ]
     },
     "execution_count": 74,
     "metadata": {},
     "output_type": "execute_result"
    }
   ],
   "source": [
    "imdb_budget.drop(['Year', 'Release Date'], axis=1, inplace=True)\n",
    "imdb_budget.rename({'Movie': 'name', 'Genre': 'genres'}, axis=1, inplace=True)\n",
    "imdb_budget.columns"
   ]
  },
  {
   "cell_type": "code",
   "execution_count": 75,
   "metadata": {},
   "outputs": [],
   "source": [
    "imdb_budget['genres'] = imdb_budget['genres'].apply(lambda el: el.split(', '))"
   ]
  },
  {
   "cell_type": "code",
   "execution_count": 76,
   "metadata": {},
   "outputs": [
    {
     "data": {
      "text/html": [
       "<div>\n",
       "<style scoped>\n",
       "    .dataframe tbody tr th:only-of-type {\n",
       "        vertical-align: middle;\n",
       "    }\n",
       "\n",
       "    .dataframe tbody tr th {\n",
       "        vertical-align: top;\n",
       "    }\n",
       "\n",
       "    .dataframe thead th {\n",
       "        text-align: right;\n",
       "    }\n",
       "</style>\n",
       "<table border=\"1\" class=\"dataframe\">\n",
       "  <thead>\n",
       "    <tr style=\"text-align: right;\">\n",
       "      <th></th>\n",
       "      <th>IMDb</th>\n",
       "      <th>Runtime</th>\n",
       "      <th>Production Budget</th>\n",
       "      <th>Domestic Gross</th>\n",
       "      <th>Worldwide Gross</th>\n",
       "      <th>release_year</th>\n",
       "      <th>release_month</th>\n",
       "      <th>release_day</th>\n",
       "    </tr>\n",
       "  </thead>\n",
       "  <tbody>\n",
       "    <tr>\n",
       "      <th>count</th>\n",
       "      <td>3828.000000</td>\n",
       "      <td>3828.000000</td>\n",
       "      <td>3.828000e+03</td>\n",
       "      <td>3.828000e+03</td>\n",
       "      <td>3.828000e+03</td>\n",
       "      <td>3828.000000</td>\n",
       "      <td>3828.000000</td>\n",
       "      <td>3828.000000</td>\n",
       "    </tr>\n",
       "    <tr>\n",
       "      <th>mean</th>\n",
       "      <td>6.459013</td>\n",
       "      <td>109.940439</td>\n",
       "      <td>4.030960e+07</td>\n",
       "      <td>5.559021e+07</td>\n",
       "      <td>1.206910e+08</td>\n",
       "      <td>2003.593994</td>\n",
       "      <td>7.322100</td>\n",
       "      <td>15.891066</td>\n",
       "    </tr>\n",
       "    <tr>\n",
       "      <th>std</th>\n",
       "      <td>0.996623</td>\n",
       "      <td>20.219674</td>\n",
       "      <td>4.480927e+07</td>\n",
       "      <td>7.403263e+07</td>\n",
       "      <td>1.993646e+08</td>\n",
       "      <td>12.767752</td>\n",
       "      <td>3.378486</td>\n",
       "      <td>8.437509</td>\n",
       "    </tr>\n",
       "    <tr>\n",
       "      <th>min</th>\n",
       "      <td>1.500000</td>\n",
       "      <td>63.000000</td>\n",
       "      <td>7.000000e+03</td>\n",
       "      <td>0.000000e+00</td>\n",
       "      <td>0.000000e+00</td>\n",
       "      <td>1925.000000</td>\n",
       "      <td>1.000000</td>\n",
       "      <td>1.000000</td>\n",
       "    </tr>\n",
       "    <tr>\n",
       "      <th>25%</th>\n",
       "      <td>5.900000</td>\n",
       "      <td>96.000000</td>\n",
       "      <td>1.100000e+07</td>\n",
       "      <td>1.180967e+07</td>\n",
       "      <td>1.690363e+07</td>\n",
       "      <td>1999.000000</td>\n",
       "      <td>5.000000</td>\n",
       "      <td>9.000000</td>\n",
       "    </tr>\n",
       "    <tr>\n",
       "      <th>50%</th>\n",
       "      <td>6.500000</td>\n",
       "      <td>106.000000</td>\n",
       "      <td>2.500000e+07</td>\n",
       "      <td>3.225471e+07</td>\n",
       "      <td>5.077617e+07</td>\n",
       "      <td>2006.000000</td>\n",
       "      <td>8.000000</td>\n",
       "      <td>16.000000</td>\n",
       "    </tr>\n",
       "    <tr>\n",
       "      <th>75%</th>\n",
       "      <td>7.100000</td>\n",
       "      <td>120.000000</td>\n",
       "      <td>5.000000e+07</td>\n",
       "      <td>6.848642e+07</td>\n",
       "      <td>1.388776e+08</td>\n",
       "      <td>2013.000000</td>\n",
       "      <td>10.000000</td>\n",
       "      <td>23.000000</td>\n",
       "    </tr>\n",
       "    <tr>\n",
       "      <th>max</th>\n",
       "      <td>9.300000</td>\n",
       "      <td>271.000000</td>\n",
       "      <td>4.000000e+08</td>\n",
       "      <td>8.583730e+08</td>\n",
       "      <td>2.797801e+09</td>\n",
       "      <td>2020.000000</td>\n",
       "      <td>12.000000</td>\n",
       "      <td>31.000000</td>\n",
       "    </tr>\n",
       "  </tbody>\n",
       "</table>\n",
       "</div>"
      ],
      "text/plain": [
       "              IMDb      Runtime  Production Budget  Domestic Gross  \\\n",
       "count  3828.000000  3828.000000       3.828000e+03    3.828000e+03   \n",
       "mean      6.459013   109.940439       4.030960e+07    5.559021e+07   \n",
       "std       0.996623    20.219674       4.480927e+07    7.403263e+07   \n",
       "min       1.500000    63.000000       7.000000e+03    0.000000e+00   \n",
       "25%       5.900000    96.000000       1.100000e+07    1.180967e+07   \n",
       "50%       6.500000   106.000000       2.500000e+07    3.225471e+07   \n",
       "75%       7.100000   120.000000       5.000000e+07    6.848642e+07   \n",
       "max       9.300000   271.000000       4.000000e+08    8.583730e+08   \n",
       "\n",
       "       Worldwide Gross  release_year  release_month  release_day  \n",
       "count     3.828000e+03   3828.000000    3828.000000  3828.000000  \n",
       "mean      1.206910e+08   2003.593994       7.322100    15.891066  \n",
       "std       1.993646e+08     12.767752       3.378486     8.437509  \n",
       "min       0.000000e+00   1925.000000       1.000000     1.000000  \n",
       "25%       1.690363e+07   1999.000000       5.000000     9.000000  \n",
       "50%       5.077617e+07   2006.000000       8.000000    16.000000  \n",
       "75%       1.388776e+08   2013.000000      10.000000    23.000000  \n",
       "max       2.797801e+09   2020.000000      12.000000    31.000000  "
      ]
     },
     "execution_count": 76,
     "metadata": {},
     "output_type": "execute_result"
    }
   ],
   "source": [
    "imdb_budget.describe()"
   ]
  },
  {
   "cell_type": "code",
   "execution_count": 77,
   "metadata": {},
   "outputs": [
    {
     "data": {
      "text/plain": [
       "0.9254858684323463"
      ]
     },
     "execution_count": 77,
     "metadata": {},
     "output_type": "execute_result"
    }
   ],
   "source": [
    "len((movie_feature['name'] + str(movie_feature['release_year'])).unique()) / len(movie_feature)"
   ]
  },
  {
   "cell_type": "code",
   "execution_count": 78,
   "metadata": {},
   "outputs": [
    {
     "data": {
      "text/plain": [
       "Index(['name', 'IMDb', 'Rating', 'Runtime', 'genres', 'Production Budget',\n",
       "       'Domestic Gross', 'Worldwide Gross', 'release_year', 'release_month',\n",
       "       'release_day'],\n",
       "      dtype='object')"
      ]
     },
     "execution_count": 78,
     "metadata": {},
     "output_type": "execute_result"
    }
   ],
   "source": [
    "imdb_budget.columns"
   ]
  },
  {
   "cell_type": "code",
   "execution_count": 79,
   "metadata": {},
   "outputs": [
    {
     "data": {
      "text/plain": [
       "Index(['wikipedia_id', 'freebase_id', 'name', 'box_office_revenue', 'runtime',\n",
       "       'languages', 'countries', 'release_year', 'release_month',\n",
       "       'release_day', 'isAdult', 'averageRating', 'numVotes', 'directors',\n",
       "       'writers', 'WR', 'genre'],\n",
       "      dtype='object')"
      ]
     },
     "execution_count": 79,
     "metadata": {},
     "output_type": "execute_result"
    }
   ],
   "source": [
    "movie_feature.columns"
   ]
  },
  {
   "cell_type": "code",
   "execution_count": 80,
   "metadata": {},
   "outputs": [],
   "source": [
    "movie_feature_with_budget = movie_feature.merge(imdb_budget, on=['name', 'release_year'], how='outer')"
   ]
  },
  {
   "cell_type": "code",
   "execution_count": 81,
   "metadata": {},
   "outputs": [
    {
     "data": {
      "text/plain": [
       "Index(['wikipedia_id', 'freebase_id', 'name', 'box_office_revenue', 'runtime',\n",
       "       'languages', 'countries', 'release_year', 'release_month_x',\n",
       "       'release_day_x', 'isAdult', 'averageRating', 'numVotes', 'directors',\n",
       "       'writers', 'WR', 'genre', 'IMDb', 'Rating', 'Runtime', 'genres',\n",
       "       'Production Budget', 'Domestic Gross', 'Worldwide Gross',\n",
       "       'release_month_y', 'release_day_y'],\n",
       "      dtype='object')"
      ]
     },
     "execution_count": 81,
     "metadata": {},
     "output_type": "execute_result"
    }
   ],
   "source": [
    "movie_feature_with_budget.columns"
   ]
  },
  {
   "cell_type": "code",
   "execution_count": 82,
   "metadata": {},
   "outputs": [],
   "source": [
    "fill_NaN(movie_feature_with_budget,'genre','genres','genre')\n",
    "fill_NaN(movie_feature_with_budget,'release_day_x','release_day_y','release_day')\n",
    "fill_NaN(movie_feature_with_budget,'release_month_x','release_month_y','release_month')\n",
    "fill_NaN(movie_feature_with_budget,'runtime','Runtime')"
   ]
  },
  {
   "cell_type": "markdown",
   "metadata": {},
   "source": [
    "### Investigate the gross difference between the original and the imdb budget datasets"
   ]
  },
  {
   "cell_type": "code",
   "execution_count": 83,
   "metadata": {},
   "outputs": [
    {
     "data": {
      "text/plain": [
       "<AxesSubplot:title={'center':'Distribution of the difference of the total worldwide gross data from the two datasets'}, ylabel='Frequency'>"
      ]
     },
     "execution_count": 83,
     "metadata": {},
     "output_type": "execute_result"
    },
    {
     "data": {
      "image/png": "[encoded data removed]",
      "text/plain": [
       "<Figure size 640x480 with 1 Axes>"
      ]
     },
     "metadata": {},
     "output_type": "display_data"
    }
   ],
   "source": [
    "(movie_feature_with_budget['box_office_revenue'] - movie_feature_with_budget['Worldwide Gross']).plot(kind='hist', histtype='step', title='Distribution of the difference of the total worldwide gross data from the two datasets')"
   ]
  },
  {
   "cell_type": "code",
   "execution_count": 84,
   "metadata": {},
   "outputs": [
    {
     "data": {
      "text/plain": [
       "<AxesSubplot:title={'center':'Distribution of the percentage in difference of the total worldwide gross data from the two datasets'}, ylabel='Frequency'>"
      ]
     },
     "execution_count": 84,
     "metadata": {},
     "output_type": "execute_result"
    },
    {
     "data": {
      "image/png": "[encoded data removed]",
      "text/plain": [
       "<Figure size 640x480 with 1 Axes>"
      ]
     },
     "metadata": {},
     "output_type": "display_data"
    }
   ],
   "source": [
    "((movie_feature_with_budget['box_office_revenue'] - movie_feature_with_budget['Worldwide Gross']) / movie_feature_with_budget['box_office_revenue']).plot(kind='hist', histtype='step', title='Distribution of the percentage in difference of the total worldwide gross data from the two datasets')"
   ]
  },
  {
   "cell_type": "code",
   "execution_count": 85,
   "metadata": {},
   "outputs": [],
   "source": [
    "movie_feature_with_budget_differences = movie_feature_with_budget.copy()\n",
    "movie_feature_with_budget_differences['gross_difference'] = np.abs(movie_feature_with_budget_differences['box_office_revenue'] - movie_feature_with_budget_differences['Worldwide Gross'])\n",
    "movie_feature_with_budget_differences['gross_difference%'] = ((np.abs(movie_feature_with_budget['box_office_revenue'] - movie_feature_with_budget['Worldwide Gross']) / movie_feature_with_budget['box_office_revenue']) * 100).round(2)"
   ]
  },
  {
   "cell_type": "code",
   "execution_count": 86,
   "metadata": {},
   "outputs": [
    {
     "data": {
      "text/html": [
       "<div>\n",
       "<style scoped>\n",
       "    .dataframe tbody tr th:only-of-type {\n",
       "        vertical-align: middle;\n",
       "    }\n",
       "\n",
       "    .dataframe tbody tr th {\n",
       "        vertical-align: top;\n",
       "    }\n",
       "\n",
       "    .dataframe thead th {\n",
       "        text-align: right;\n",
       "    }\n",
       "</style>\n",
       "<table border=\"1\" class=\"dataframe\">\n",
       "  <thead>\n",
       "    <tr style=\"text-align: right;\">\n",
       "      <th></th>\n",
       "      <th>name</th>\n",
       "      <th>box_office_revenue</th>\n",
       "      <th>Worldwide Gross</th>\n",
       "      <th>gross_difference</th>\n",
       "      <th>gross_difference%</th>\n",
       "    </tr>\n",
       "  </thead>\n",
       "  <tbody>\n",
       "    <tr>\n",
       "      <th>1611</th>\n",
       "      <td>The Son of No One</td>\n",
       "      <td>30680.0</td>\n",
       "      <td>1148578.0</td>\n",
       "      <td>1117898.0</td>\n",
       "      <td>3643.74</td>\n",
       "    </tr>\n",
       "    <tr>\n",
       "      <th>10379</th>\n",
       "      <td>Restless</td>\n",
       "      <td>163265.0</td>\n",
       "      <td>2772511.0</td>\n",
       "      <td>2609246.0</td>\n",
       "      <td>1598.17</td>\n",
       "    </tr>\n",
       "    <tr>\n",
       "      <th>3307</th>\n",
       "      <td>Welcome to Collinwood</td>\n",
       "      <td>336620.0</td>\n",
       "      <td>4606284.0</td>\n",
       "      <td>4269664.0</td>\n",
       "      <td>1268.39</td>\n",
       "    </tr>\n",
       "    <tr>\n",
       "      <th>30129</th>\n",
       "      <td>Margaret</td>\n",
       "      <td>46495.0</td>\n",
       "      <td>623292.0</td>\n",
       "      <td>576797.0</td>\n",
       "      <td>1240.56</td>\n",
       "    </tr>\n",
       "    <tr>\n",
       "      <th>4126</th>\n",
       "      <td>The Wizard of Oz</td>\n",
       "      <td>3017000.0</td>\n",
       "      <td>34949482.0</td>\n",
       "      <td>31932482.0</td>\n",
       "      <td>1058.42</td>\n",
       "    </tr>\n",
       "    <tr>\n",
       "      <th>...</th>\n",
       "      <td>...</td>\n",
       "      <td>...</td>\n",
       "      <td>...</td>\n",
       "      <td>...</td>\n",
       "      <td>...</td>\n",
       "    </tr>\n",
       "    <tr>\n",
       "      <th>56979</th>\n",
       "      <td>Click</td>\n",
       "      <td>237681299.0</td>\n",
       "      <td>237685089.0</td>\n",
       "      <td>3790.0</td>\n",
       "      <td>0.00</td>\n",
       "    </tr>\n",
       "    <tr>\n",
       "      <th>57636</th>\n",
       "      <td>G-Force</td>\n",
       "      <td>292810686.0</td>\n",
       "      <td>292817841.0</td>\n",
       "      <td>7155.0</td>\n",
       "      <td>0.00</td>\n",
       "    </tr>\n",
       "    <tr>\n",
       "      <th>12989</th>\n",
       "      <td>What Women Want</td>\n",
       "      <td>374111707.0</td>\n",
       "      <td>374105123.0</td>\n",
       "      <td>6584.0</td>\n",
       "      <td>0.00</td>\n",
       "    </tr>\n",
       "    <tr>\n",
       "      <th>58624</th>\n",
       "      <td>Butch Cassidy and the Sundance Kid</td>\n",
       "      <td>102308889.0</td>\n",
       "      <td>102310653.0</td>\n",
       "      <td>1764.0</td>\n",
       "      <td>0.00</td>\n",
       "    </tr>\n",
       "    <tr>\n",
       "      <th>25083</th>\n",
       "      <td>Just Married</td>\n",
       "      <td>101564939.0</td>\n",
       "      <td>101564935.0</td>\n",
       "      <td>4.0</td>\n",
       "      <td>0.00</td>\n",
       "    </tr>\n",
       "  </tbody>\n",
       "</table>\n",
       "<p>2073 rows × 5 columns</p>\n",
       "</div>"
      ],
      "text/plain": [
       "                                     name  box_office_revenue  \\\n",
       "1611                    The Son of No One             30680.0   \n",
       "10379                            Restless            163265.0   \n",
       "3307                Welcome to Collinwood            336620.0   \n",
       "30129                            Margaret             46495.0   \n",
       "4126                     The Wizard of Oz           3017000.0   \n",
       "...                                   ...                 ...   \n",
       "56979                               Click         237681299.0   \n",
       "57636                             G-Force         292810686.0   \n",
       "12989                     What Women Want         374111707.0   \n",
       "58624  Butch Cassidy and the Sundance Kid         102308889.0   \n",
       "25083                        Just Married         101564939.0   \n",
       "\n",
       "       Worldwide Gross  gross_difference  gross_difference%  \n",
       "1611         1148578.0         1117898.0            3643.74  \n",
       "10379        2772511.0         2609246.0            1598.17  \n",
       "3307         4606284.0         4269664.0            1268.39  \n",
       "30129         623292.0          576797.0            1240.56  \n",
       "4126        34949482.0        31932482.0            1058.42  \n",
       "...                ...               ...                ...  \n",
       "56979      237685089.0            3790.0               0.00  \n",
       "57636      292817841.0            7155.0               0.00  \n",
       "12989      374105123.0            6584.0               0.00  \n",
       "58624      102310653.0            1764.0               0.00  \n",
       "25083      101564935.0               4.0               0.00  \n",
       "\n",
       "[2073 rows x 5 columns]"
      ]
     },
     "execution_count": 86,
     "metadata": {},
     "output_type": "execute_result"
    }
   ],
   "source": [
    "# Difference between the total worldwide gross data from the two datasets\n",
    "movie_feature_with_budget_differences \\\n",
    "    [(movie_feature_with_budget_differences['gross_difference'] != 0) & (~movie_feature_with_budget_differences['gross_difference'].isna())] \\\n",
    "    .sort_values('gross_difference%', ascending=False) \\\n",
    "    [['name', 'box_office_revenue', 'Worldwide Gross', 'gross_difference', 'gross_difference%']]"
   ]
  },
  {
   "cell_type": "code",
   "execution_count": 87,
   "metadata": {},
   "outputs": [
    {
     "data": {
      "text/html": [
       "<div>\n",
       "<style scoped>\n",
       "    .dataframe tbody tr th:only-of-type {\n",
       "        vertical-align: middle;\n",
       "    }\n",
       "\n",
       "    .dataframe tbody tr th {\n",
       "        vertical-align: top;\n",
       "    }\n",
       "\n",
       "    .dataframe thead th {\n",
       "        text-align: right;\n",
       "    }\n",
       "</style>\n",
       "<table border=\"1\" class=\"dataframe\">\n",
       "  <thead>\n",
       "    <tr style=\"text-align: right;\">\n",
       "      <th></th>\n",
       "      <th>gross_difference%</th>\n",
       "    </tr>\n",
       "  </thead>\n",
       "  <tbody>\n",
       "    <tr>\n",
       "      <th>count</th>\n",
       "      <td>2464.000000</td>\n",
       "    </tr>\n",
       "    <tr>\n",
       "      <th>mean</th>\n",
       "      <td>16.458888</td>\n",
       "    </tr>\n",
       "    <tr>\n",
       "      <th>std</th>\n",
       "      <td>101.443043</td>\n",
       "    </tr>\n",
       "    <tr>\n",
       "      <th>min</th>\n",
       "      <td>0.000000</td>\n",
       "    </tr>\n",
       "    <tr>\n",
       "      <th>25%</th>\n",
       "      <td>0.020000</td>\n",
       "    </tr>\n",
       "    <tr>\n",
       "      <th>50%</th>\n",
       "      <td>0.695000</td>\n",
       "    </tr>\n",
       "    <tr>\n",
       "      <th>75%</th>\n",
       "      <td>5.455000</td>\n",
       "    </tr>\n",
       "    <tr>\n",
       "      <th>80%</th>\n",
       "      <td>9.924000</td>\n",
       "    </tr>\n",
       "    <tr>\n",
       "      <th>90%</th>\n",
       "      <td>34.167000</td>\n",
       "    </tr>\n",
       "    <tr>\n",
       "      <th>95%</th>\n",
       "      <td>62.882000</td>\n",
       "    </tr>\n",
       "    <tr>\n",
       "      <th>max</th>\n",
       "      <td>3643.740000</td>\n",
       "    </tr>\n",
       "  </tbody>\n",
       "</table>\n",
       "</div>"
      ],
      "text/plain": [
       "       gross_difference%\n",
       "count        2464.000000\n",
       "mean           16.458888\n",
       "std           101.443043\n",
       "min             0.000000\n",
       "25%             0.020000\n",
       "50%             0.695000\n",
       "75%             5.455000\n",
       "80%             9.924000\n",
       "90%            34.167000\n",
       "95%            62.882000\n",
       "max          3643.740000"
      ]
     },
     "execution_count": 87,
     "metadata": {},
     "output_type": "execute_result"
    }
   ],
   "source": [
    "# Percentage differences between the gross data from the two datasets\n",
    "movie_feature_with_budget_differences.describe(percentiles=[.25, .5, .75, .8, .9, .95])[['gross_difference%']]"
   ]
  },
  {
   "cell_type": "code",
   "execution_count": 88,
   "metadata": {},
   "outputs": [
    {
     "data": {
      "text/plain": [
       "0.15868506493506493"
      ]
     },
     "execution_count": 88,
     "metadata": {},
     "output_type": "execute_result"
    }
   ],
   "source": [
    "movie_feature_with_budget_differences[movie_feature_with_budget_differences['gross_difference'] == 0].shape[0] / movie_feature_with_budget_differences['gross_difference%'].notna().sum()"
   ]
  },
  {
   "cell_type": "code",
   "execution_count": 89,
   "metadata": {},
   "outputs": [
    {
     "data": {
      "text/html": [
       "<div>\n",
       "<style scoped>\n",
       "    .dataframe tbody tr th:only-of-type {\n",
       "        vertical-align: middle;\n",
       "    }\n",
       "\n",
       "    .dataframe tbody tr th {\n",
       "        vertical-align: top;\n",
       "    }\n",
       "\n",
       "    .dataframe thead th {\n",
       "        text-align: right;\n",
       "    }\n",
       "</style>\n",
       "<table border=\"1\" class=\"dataframe\">\n",
       "  <thead>\n",
       "    <tr style=\"text-align: right;\">\n",
       "      <th></th>\n",
       "      <th>name</th>\n",
       "      <th>box_office_revenue</th>\n",
       "      <th>Worldwide Gross</th>\n",
       "    </tr>\n",
       "  </thead>\n",
       "  <tbody>\n",
       "    <tr>\n",
       "      <th>1611</th>\n",
       "      <td>The Son of No One</td>\n",
       "      <td>30680.0</td>\n",
       "      <td>1148578.0</td>\n",
       "    </tr>\n",
       "    <tr>\n",
       "      <th>3307</th>\n",
       "      <td>Welcome to Collinwood</td>\n",
       "      <td>336620.0</td>\n",
       "      <td>4606284.0</td>\n",
       "    </tr>\n",
       "    <tr>\n",
       "      <th>10379</th>\n",
       "      <td>Restless</td>\n",
       "      <td>163265.0</td>\n",
       "      <td>2772511.0</td>\n",
       "    </tr>\n",
       "    <tr>\n",
       "      <th>18706</th>\n",
       "      <td>Restless</td>\n",
       "      <td>NaN</td>\n",
       "      <td>NaN</td>\n",
       "    </tr>\n",
       "    <tr>\n",
       "      <th>31576</th>\n",
       "      <td>Restless</td>\n",
       "      <td>NaN</td>\n",
       "      <td>NaN</td>\n",
       "    </tr>\n",
       "  </tbody>\n",
       "</table>\n",
       "</div>"
      ],
      "text/plain": [
       "                        name  box_office_revenue  Worldwide Gross\n",
       "1611       The Son of No One             30680.0        1148578.0\n",
       "3307   Welcome to Collinwood            336620.0        4606284.0\n",
       "10379               Restless            163265.0        2772511.0\n",
       "18706               Restless                 NaN              NaN\n",
       "31576               Restless                 NaN              NaN"
      ]
     },
     "execution_count": 89,
     "metadata": {},
     "output_type": "execute_result"
    }
   ],
   "source": [
    "movie_feature_with_budget_differences[\n",
    "    (movie_feature_with_budget_differences['name'] == 'The Son of No One') |\n",
    "    (movie_feature_with_budget_differences['name'] == 'Restless') |\n",
    "    (movie_feature_with_budget_differences['name'] == 'Welcome to Collinwood')\n",
    "][[\n",
    "    'name', 'box_office_revenue', 'Worldwide Gross'\n",
    "]]"
   ]
  },
  {
   "cell_type": "code",
   "execution_count": 90,
   "metadata": {},
   "outputs": [
    {
     "name": "stdout",
     "output_type": "stream",
     "text": [
      "1012\n",
      "1061\n",
      "391\n"
     ]
    },
    {
     "data": {
      "text/plain": [
       "count    2.464000e+03\n",
       "mean     4.148700e+05\n",
       "std      1.570988e+07\n",
       "min     -1.785914e+08\n",
       "25%     -6.153875e+05\n",
       "50%      0.000000e+00\n",
       "75%      1.997022e+05\n",
       "max      2.310745e+08\n",
       "dtype: float64"
      ]
     },
     "execution_count": 90,
     "metadata": {},
     "output_type": "execute_result"
    }
   ],
   "source": [
    "# gross_difference = box_office_revenue - Worldwide Gross\n",
    "print((movie_feature_with_budget_differences['box_office_revenue'] - movie_feature_with_budget_differences['Worldwide Gross'] > 0).sum())\n",
    "print((movie_feature_with_budget_differences['box_office_revenue'] - movie_feature_with_budget_differences['Worldwide Gross'] < 0).sum())\n",
    "print((movie_feature_with_budget_differences['box_office_revenue'] - movie_feature_with_budget_differences['Worldwide Gross'] == 0).sum())\n",
    "(movie_feature_with_budget_differences['box_office_revenue'] - movie_feature_with_budget_differences['Worldwide Gross']).describe()"
   ]
  },
  {
   "cell_type": "markdown",
   "metadata": {},
   "source": [
    "We want to fill the missing data from the imdb budget dataset. For this purpose we are comparing the difference between the CMU, imdb top 1000, and imdb budget data. We have the:\n",
    " \n",
    " * `box_office_revenue` - from CMU with 8401 values /total gross/\n",
    " * `Gross` - from imdb top 1000 with 831 values /total gross in US and Canada/\n",
    " * `Domestic Gross` - from imdb budget with 3841 values /total gross in US and Canada/\n",
    " * `Worldwide Gross` - from imdb budget with 3841 values /total gross/\n",
    "\n",
    "We would only consider the total worldwide gross since we are investigating movies from the whole world. The information for it is contained in the `box_office_revenue` and `Worldwide Gross`. Only around 20% of the values for the total gross are the same. Also, we know that the other data in `box_office_revenue` is not bigger or smaller than the `Worldwide Gross` for all records. So we can conclude that `box_office_revenue` and `Worldwide Gross` are not connected.\n",
    "\n",
    "Based on this, we cannot combine the data from the both datasets and we would prefer using the data from the imdb budget dataset because it contains information about the budget of the movie and the data inside seams more accurate based on the comparison of a subset of it with Wikipedia data."
   ]
  },
  {
   "cell_type": "code",
   "execution_count": 91,
   "metadata": {},
   "outputs": [
    {
     "data": {
      "text/plain": [
       "Index(['wikipedia_id', 'freebase_id', 'name', 'box_office_revenue', 'runtime',\n",
       "       'languages', 'countries', 'release_year', 'release_month_x',\n",
       "       'release_day_x', 'isAdult', 'averageRating', 'numVotes', 'directors',\n",
       "       'writers', 'WR', 'genre', 'IMDb', 'Rating', 'Runtime', 'genres',\n",
       "       'Production Budget', 'Domestic Gross', 'Worldwide Gross',\n",
       "       'release_month_y', 'release_day_y', 'release_day', 'release_month'],\n",
       "      dtype='object')"
      ]
     },
     "execution_count": 91,
     "metadata": {},
     "output_type": "execute_result"
    }
   ],
   "source": [
    "movie_feature_with_budget.columns"
   ]
  },
  {
   "cell_type": "code",
   "execution_count": 92,
   "metadata": {},
   "outputs": [
    {
     "data": {
      "text/plain": [
       "Index(['wikipedia_id', 'freebase_id', 'name', 'box_office_revenue', 'runtime',\n",
       "       'languages', 'countries', 'release_year', 'release_month_x',\n",
       "       'release_day_x', 'isAdult', 'averageRating', 'numVotes', 'directors',\n",
       "       'writers', 'WR', 'genre', 'IMDb', 'Rating', 'Runtime', 'genres',\n",
       "       'Production Budget', 'Domestic Gross', 'Worldwide Gross',\n",
       "       'release_month_y', 'release_day_y', 'release_day', 'release_month'],\n",
       "      dtype='object')"
      ]
     },
     "execution_count": 92,
     "metadata": {},
     "output_type": "execute_result"
    }
   ],
   "source": [
    "movie_feature_with_budget.columns"
   ]
  },
  {
   "cell_type": "code",
   "execution_count": 93,
   "metadata": {},
   "outputs": [],
   "source": [
    "# Remove merged extra columns \n",
    "movie_feature_with_budget.drop([\n",
    "    'Worldwide Gross', 'Domestic Gross', 'Rating', 'Runtime', 'IMDb', 'release_month_x', 'release_month_y',\n",
    "    'release_day_x', 'release_day_y', 'genres'\n",
    "], axis=1, inplace=True)\n",
    "\n",
    "# Rename gross column\n",
    "movie_feature_with_budget.rename({'box_office_revenue': 'total_gross'}, axis=1, inplace=True)\n",
    "\n",
    "# Compute profit as success indicator\n",
    "movie_feature_with_budget['profit'] = movie_feature_with_budget['total_gross'] - movie_feature_with_budget['Production Budget']"
   ]
  },
  {
   "cell_type": "code",
   "execution_count": 94,
   "metadata": {},
   "outputs": [
    {
     "data": {
      "text/plain": [
       "Index(['wikipedia_id', 'freebase_id', 'name', 'total_gross', 'runtime',\n",
       "       'languages', 'countries', 'release_year', 'isAdult', 'averageRating',\n",
       "       'numVotes', 'directors', 'writers', 'WR', 'genre', 'Production Budget',\n",
       "       'release_day', 'release_month', 'profit'],\n",
       "      dtype='object')"
      ]
     },
     "execution_count": 94,
     "metadata": {},
     "output_type": "execute_result"
    }
   ],
   "source": [
    "movie_feature_with_budget.columns"
   ]
  },
  {
   "cell_type": "code",
   "execution_count": 95,
   "metadata": {},
   "outputs": [
    {
     "data": {
      "text/html": [
       "<div>\n",
       "<style scoped>\n",
       "    .dataframe tbody tr th:only-of-type {\n",
       "        vertical-align: middle;\n",
       "    }\n",
       "\n",
       "    .dataframe tbody tr th {\n",
       "        vertical-align: top;\n",
       "    }\n",
       "\n",
       "    .dataframe thead th {\n",
       "        text-align: right;\n",
       "    }\n",
       "</style>\n",
       "<table border=\"1\" class=\"dataframe\">\n",
       "  <thead>\n",
       "    <tr style=\"text-align: right;\">\n",
       "      <th></th>\n",
       "      <th>wikipedia_id</th>\n",
       "      <th>total_gross</th>\n",
       "      <th>runtime</th>\n",
       "      <th>release_year</th>\n",
       "      <th>isAdult</th>\n",
       "      <th>averageRating</th>\n",
       "      <th>numVotes</th>\n",
       "      <th>WR</th>\n",
       "      <th>Production Budget</th>\n",
       "      <th>release_day</th>\n",
       "      <th>release_month</th>\n",
       "      <th>profit</th>\n",
       "    </tr>\n",
       "  </thead>\n",
       "  <tbody>\n",
       "    <tr>\n",
       "      <th>count</th>\n",
       "      <td>8.155500e+04</td>\n",
       "      <td>8.392000e+03</td>\n",
       "      <td>68104.000000</td>\n",
       "      <td>75770.000000</td>\n",
       "      <td>44031.000000</td>\n",
       "      <td>44031.000000</td>\n",
       "      <td>4.403100e+04</td>\n",
       "      <td>44031.000000</td>\n",
       "      <td>3.828000e+03</td>\n",
       "      <td>40527.000000</td>\n",
       "      <td>43783.000000</td>\n",
       "      <td>2.464000e+03</td>\n",
       "    </tr>\n",
       "    <tr>\n",
       "      <th>mean</th>\n",
       "      <td>1.740360e+07</td>\n",
       "      <td>4.799791e+07</td>\n",
       "      <td>93.965487</td>\n",
       "      <td>1977.970337</td>\n",
       "      <td>0.002566</td>\n",
       "      <td>6.195617</td>\n",
       "      <td>1.378128e+04</td>\n",
       "      <td>6.224498</td>\n",
       "      <td>4.030960e+07</td>\n",
       "      <td>15.658129</td>\n",
       "      <td>6.707717</td>\n",
       "      <td>7.208180e+07</td>\n",
       "    </tr>\n",
       "    <tr>\n",
       "      <th>std</th>\n",
       "      <td>1.098688e+07</td>\n",
       "      <td>1.122099e+08</td>\n",
       "      <td>59.949382</td>\n",
       "      <td>29.228281</td>\n",
       "      <td>0.050595</td>\n",
       "      <td>1.155310</td>\n",
       "      <td>7.286329e+04</td>\n",
       "      <td>1.102334</td>\n",
       "      <td>4.480927e+07</td>\n",
       "      <td>8.708538</td>\n",
       "      <td>3.483055</td>\n",
       "      <td>1.442546e+08</td>\n",
       "    </tr>\n",
       "    <tr>\n",
       "      <th>min</th>\n",
       "      <td>3.300000e+02</td>\n",
       "      <td>1.000000e+04</td>\n",
       "      <td>0.000000</td>\n",
       "      <td>1010.000000</td>\n",
       "      <td>0.000000</td>\n",
       "      <td>1.000000</td>\n",
       "      <td>5.000000e+00</td>\n",
       "      <td>1.131770</td>\n",
       "      <td>7.000000e+03</td>\n",
       "      <td>1.000000</td>\n",
       "      <td>1.000000</td>\n",
       "      <td>-1.110072e+08</td>\n",
       "    </tr>\n",
       "    <tr>\n",
       "      <th>25%</th>\n",
       "      <td>7.320728e+06</td>\n",
       "      <td>2.075232e+06</td>\n",
       "      <td>80.000000</td>\n",
       "      <td>1956.000000</td>\n",
       "      <td>0.000000</td>\n",
       "      <td>5.600000</td>\n",
       "      <td>1.070000e+02</td>\n",
       "      <td>5.614247</td>\n",
       "      <td>1.100000e+07</td>\n",
       "      <td>8.000000</td>\n",
       "      <td>4.000000</td>\n",
       "      <td>4.951632e+05</td>\n",
       "    </tr>\n",
       "    <tr>\n",
       "      <th>50%</th>\n",
       "      <td>1.777503e+07</td>\n",
       "      <td>1.063551e+07</td>\n",
       "      <td>93.000000</td>\n",
       "      <td>1986.000000</td>\n",
       "      <td>0.000000</td>\n",
       "      <td>6.300000</td>\n",
       "      <td>5.160000e+02</td>\n",
       "      <td>6.317251</td>\n",
       "      <td>2.500000e+07</td>\n",
       "      <td>16.000000</td>\n",
       "      <td>7.000000</td>\n",
       "      <td>2.414130e+07</td>\n",
       "    </tr>\n",
       "    <tr>\n",
       "      <th>75%</th>\n",
       "      <td>2.714269e+07</td>\n",
       "      <td>4.073253e+07</td>\n",
       "      <td>108.000000</td>\n",
       "      <td>2004.000000</td>\n",
       "      <td>0.000000</td>\n",
       "      <td>7.000000</td>\n",
       "      <td>2.660500e+03</td>\n",
       "      <td>6.998635</td>\n",
       "      <td>5.000000e+07</td>\n",
       "      <td>23.000000</td>\n",
       "      <td>10.000000</td>\n",
       "      <td>8.700518e+07</td>\n",
       "    </tr>\n",
       "    <tr>\n",
       "      <th>max</th>\n",
       "      <td>3.750192e+07</td>\n",
       "      <td>2.782275e+09</td>\n",
       "      <td>5700.000000</td>\n",
       "      <td>2020.000000</td>\n",
       "      <td>1.000000</td>\n",
       "      <td>10.000000</td>\n",
       "      <td>2.667015e+06</td>\n",
       "      <td>9.467126</td>\n",
       "      <td>4.000000e+08</td>\n",
       "      <td>31.000000</td>\n",
       "      <td>12.000000</td>\n",
       "      <td>2.545275e+09</td>\n",
       "    </tr>\n",
       "  </tbody>\n",
       "</table>\n",
       "</div>"
      ],
      "text/plain": [
       "       wikipedia_id   total_gross       runtime  release_year       isAdult  \\\n",
       "count  8.155500e+04  8.392000e+03  68104.000000  75770.000000  44031.000000   \n",
       "mean   1.740360e+07  4.799791e+07     93.965487   1977.970337      0.002566   \n",
       "std    1.098688e+07  1.122099e+08     59.949382     29.228281      0.050595   \n",
       "min    3.300000e+02  1.000000e+04      0.000000   1010.000000      0.000000   \n",
       "25%    7.320728e+06  2.075232e+06     80.000000   1956.000000      0.000000   \n",
       "50%    1.777503e+07  1.063551e+07     93.000000   1986.000000      0.000000   \n",
       "75%    2.714269e+07  4.073253e+07    108.000000   2004.000000      0.000000   \n",
       "max    3.750192e+07  2.782275e+09   5700.000000   2020.000000      1.000000   \n",
       "\n",
       "       averageRating      numVotes            WR  Production Budget  \\\n",
       "count   44031.000000  4.403100e+04  44031.000000       3.828000e+03   \n",
       "mean        6.195617  1.378128e+04      6.224498       4.030960e+07   \n",
       "std         1.155310  7.286329e+04      1.102334       4.480927e+07   \n",
       "min         1.000000  5.000000e+00      1.131770       7.000000e+03   \n",
       "25%         5.600000  1.070000e+02      5.614247       1.100000e+07   \n",
       "50%         6.300000  5.160000e+02      6.317251       2.500000e+07   \n",
       "75%         7.000000  2.660500e+03      6.998635       5.000000e+07   \n",
       "max        10.000000  2.667015e+06      9.467126       4.000000e+08   \n",
       "\n",
       "        release_day  release_month        profit  \n",
       "count  40527.000000   43783.000000  2.464000e+03  \n",
       "mean      15.658129       6.707717  7.208180e+07  \n",
       "std        8.708538       3.483055  1.442546e+08  \n",
       "min        1.000000       1.000000 -1.110072e+08  \n",
       "25%        8.000000       4.000000  4.951632e+05  \n",
       "50%       16.000000       7.000000  2.414130e+07  \n",
       "75%       23.000000      10.000000  8.700518e+07  \n",
       "max       31.000000      12.000000  2.545275e+09  "
      ]
     },
     "execution_count": 95,
     "metadata": {},
     "output_type": "execute_result"
    }
   ],
   "source": [
    "movie_feature_with_budget.describe()"
   ]
  },
  {
   "cell_type": "code",
   "execution_count": 96,
   "metadata": {},
   "outputs": [
    {
     "data": {
      "text/html": [
       "<div>\n",
       "<style scoped>\n",
       "    .dataframe tbody tr th:only-of-type {\n",
       "        vertical-align: middle;\n",
       "    }\n",
       "\n",
       "    .dataframe tbody tr th {\n",
       "        vertical-align: top;\n",
       "    }\n",
       "\n",
       "    .dataframe thead th {\n",
       "        text-align: right;\n",
       "    }\n",
       "</style>\n",
       "<table border=\"1\" class=\"dataframe\">\n",
       "  <thead>\n",
       "    <tr style=\"text-align: right;\">\n",
       "      <th></th>\n",
       "      <th>wikipedia_id</th>\n",
       "      <th>freebase_id</th>\n",
       "      <th>name</th>\n",
       "      <th>total_gross</th>\n",
       "      <th>runtime</th>\n",
       "      <th>languages</th>\n",
       "      <th>countries</th>\n",
       "      <th>release_year</th>\n",
       "      <th>isAdult</th>\n",
       "      <th>averageRating</th>\n",
       "      <th>numVotes</th>\n",
       "      <th>directors</th>\n",
       "      <th>writers</th>\n",
       "      <th>WR</th>\n",
       "      <th>genre</th>\n",
       "      <th>Production Budget</th>\n",
       "      <th>release_day</th>\n",
       "      <th>release_month</th>\n",
       "      <th>profit</th>\n",
       "    </tr>\n",
       "  </thead>\n",
       "  <tbody>\n",
       "    <tr>\n",
       "      <th>0</th>\n",
       "      <td>975900.0</td>\n",
       "      <td>/m/03vyhn</td>\n",
       "      <td>Ghosts of Mars</td>\n",
       "      <td>14010832.0</td>\n",
       "      <td>98.0</td>\n",
       "      <td>[English]</td>\n",
       "      <td>[United States of America]</td>\n",
       "      <td>2001.0</td>\n",
       "      <td>0.0</td>\n",
       "      <td>4.9</td>\n",
       "      <td>55353.0</td>\n",
       "      <td>[John Carpenter]</td>\n",
       "      <td>[Larry Sulkis, John Carpenter]</td>\n",
       "      <td>4.900185</td>\n",
       "      <td>[Thriller, Science Fiction, Horror, Adventure,...</td>\n",
       "      <td>NaN</td>\n",
       "      <td>24.0</td>\n",
       "      <td>8.0</td>\n",
       "      <td>NaN</td>\n",
       "    </tr>\n",
       "    <tr>\n",
       "      <th>1</th>\n",
       "      <td>3196793.0</td>\n",
       "      <td>/m/08yl5d</td>\n",
       "      <td>Getting Away with Murder: The JonBenét Ramsey ...</td>\n",
       "      <td>NaN</td>\n",
       "      <td>95.0</td>\n",
       "      <td>[English]</td>\n",
       "      <td>[United States of America]</td>\n",
       "      <td>2000.0</td>\n",
       "      <td>NaN</td>\n",
       "      <td>NaN</td>\n",
       "      <td>NaN</td>\n",
       "      <td>NaN</td>\n",
       "      <td>NaN</td>\n",
       "      <td>NaN</td>\n",
       "      <td>[Mystery, Biographical film, Drama, Crime Drama]</td>\n",
       "      <td>NaN</td>\n",
       "      <td>16.0</td>\n",
       "      <td>2.0</td>\n",
       "      <td>NaN</td>\n",
       "    </tr>\n",
       "    <tr>\n",
       "      <th>2</th>\n",
       "      <td>28463795.0</td>\n",
       "      <td>/m/0crgdbh</td>\n",
       "      <td>Brun bitter</td>\n",
       "      <td>NaN</td>\n",
       "      <td>83.0</td>\n",
       "      <td>[Norwegian]</td>\n",
       "      <td>[Norway]</td>\n",
       "      <td>1988.0</td>\n",
       "      <td>0.0</td>\n",
       "      <td>5.7</td>\n",
       "      <td>40.0</td>\n",
       "      <td>[Sølve Skagen]</td>\n",
       "      <td>[Sølve Skagen, Gunnar Staalesen]</td>\n",
       "      <td>5.839121</td>\n",
       "      <td>[Crime Fiction, Drama]</td>\n",
       "      <td>NaN</td>\n",
       "      <td>NaN</td>\n",
       "      <td>NaN</td>\n",
       "      <td>NaN</td>\n",
       "    </tr>\n",
       "    <tr>\n",
       "      <th>3</th>\n",
       "      <td>9363483.0</td>\n",
       "      <td>/m/0285_cd</td>\n",
       "      <td>White Of The Eye</td>\n",
       "      <td>NaN</td>\n",
       "      <td>110.0</td>\n",
       "      <td>[English]</td>\n",
       "      <td>[United Kingdom]</td>\n",
       "      <td>1987.0</td>\n",
       "      <td>NaN</td>\n",
       "      <td>NaN</td>\n",
       "      <td>NaN</td>\n",
       "      <td>NaN</td>\n",
       "      <td>NaN</td>\n",
       "      <td>NaN</td>\n",
       "      <td>[Thriller, Erotic thriller, Psychological thri...</td>\n",
       "      <td>NaN</td>\n",
       "      <td>NaN</td>\n",
       "      <td>NaN</td>\n",
       "      <td>NaN</td>\n",
       "    </tr>\n",
       "    <tr>\n",
       "      <th>4</th>\n",
       "      <td>261236.0</td>\n",
       "      <td>/m/01mrr1</td>\n",
       "      <td>A Woman in Flames</td>\n",
       "      <td>NaN</td>\n",
       "      <td>106.0</td>\n",
       "      <td>[German]</td>\n",
       "      <td>[Germany]</td>\n",
       "      <td>1983.0</td>\n",
       "      <td>NaN</td>\n",
       "      <td>NaN</td>\n",
       "      <td>NaN</td>\n",
       "      <td>NaN</td>\n",
       "      <td>NaN</td>\n",
       "      <td>NaN</td>\n",
       "      <td>[Drama]</td>\n",
       "      <td>NaN</td>\n",
       "      <td>NaN</td>\n",
       "      <td>NaN</td>\n",
       "      <td>NaN</td>\n",
       "    </tr>\n",
       "  </tbody>\n",
       "</table>\n",
       "</div>"
      ],
      "text/plain": [
       "   wikipedia_id freebase_id  \\\n",
       "0      975900.0   /m/03vyhn   \n",
       "1     3196793.0   /m/08yl5d   \n",
       "2    28463795.0  /m/0crgdbh   \n",
       "3     9363483.0  /m/0285_cd   \n",
       "4      261236.0   /m/01mrr1   \n",
       "\n",
       "                                                name  total_gross  runtime  \\\n",
       "0                                     Ghosts of Mars   14010832.0     98.0   \n",
       "1  Getting Away with Murder: The JonBenét Ramsey ...          NaN     95.0   \n",
       "2                                        Brun bitter          NaN     83.0   \n",
       "3                                   White Of The Eye          NaN    110.0   \n",
       "4                                  A Woman in Flames          NaN    106.0   \n",
       "\n",
       "     languages                   countries  release_year  isAdult  \\\n",
       "0    [English]  [United States of America]        2001.0      0.0   \n",
       "1    [English]  [United States of America]        2000.0      NaN   \n",
       "2  [Norwegian]                    [Norway]        1988.0      0.0   \n",
       "3    [English]            [United Kingdom]        1987.0      NaN   \n",
       "4     [German]                   [Germany]        1983.0      NaN   \n",
       "\n",
       "   averageRating  numVotes         directors  \\\n",
       "0            4.9   55353.0  [John Carpenter]   \n",
       "1            NaN       NaN               NaN   \n",
       "2            5.7      40.0    [Sølve Skagen]   \n",
       "3            NaN       NaN               NaN   \n",
       "4            NaN       NaN               NaN   \n",
       "\n",
       "                            writers        WR  \\\n",
       "0    [Larry Sulkis, John Carpenter]  4.900185   \n",
       "1                               NaN       NaN   \n",
       "2  [Sølve Skagen, Gunnar Staalesen]  5.839121   \n",
       "3                               NaN       NaN   \n",
       "4                               NaN       NaN   \n",
       "\n",
       "                                               genre  Production Budget  \\\n",
       "0  [Thriller, Science Fiction, Horror, Adventure,...                NaN   \n",
       "1   [Mystery, Biographical film, Drama, Crime Drama]                NaN   \n",
       "2                             [Crime Fiction, Drama]                NaN   \n",
       "3  [Thriller, Erotic thriller, Psychological thri...                NaN   \n",
       "4                                            [Drama]                NaN   \n",
       "\n",
       "   release_day  release_month  profit  \n",
       "0         24.0            8.0     NaN  \n",
       "1         16.0            2.0     NaN  \n",
       "2          NaN            NaN     NaN  \n",
       "3          NaN            NaN     NaN  \n",
       "4          NaN            NaN     NaN  "
      ]
     },
     "execution_count": 96,
     "metadata": {},
     "output_type": "execute_result"
    }
   ],
   "source": [
    "movie_feature_with_budget.head(5)"
   ]
  },
  {
   "cell_type": "markdown",
   "metadata": {},
   "source": [
    "## Account for inflation: "
   ]
  },
  {
   "cell_type": "markdown",
   "metadata": {},
   "source": [
    "As our movie database has movies dating back to 1921, we need to adjust the budgets and profits through an inflation rate.\n",
    "\n",
    "Source: https://inflationdata.com/Inflation/Inflation/DecadeInflation.asp"
   ]
  },
  {
   "cell_type": "code",
   "execution_count": 97,
   "metadata": {},
   "outputs": [],
   "source": [
    "# Create dictionary of cumulative inflation rate per decade since 1913 in the US:\n",
    "inflation_rates = [92.86, 4.82, -18.6, 68.57, 24.58, 28.23, 103.45, 64.41, 33.47, 28.31, 19.38, 1.27]\n",
    "inflation_rates = [x / 100 + 1 for x in inflation_rates]\n",
    "decades = list(np.linspace(1913,2023,len(inflation_rates)))\n",
    "inflation_dic = dict(map(lambda i,j : (i,j) , decades, inflation_rates))"
   ]
  },
  {
   "cell_type": "code",
   "execution_count": 98,
   "metadata": {},
   "outputs": [],
   "source": [
    "df = movie_feature_with_budget.copy()"
   ]
  },
  {
   "cell_type": "code",
   "execution_count": 99,
   "metadata": {},
   "outputs": [],
   "source": [
    "# Initialisation\n",
    "df['profit_modified'] = df['profit']\n",
    "df['total_gross_modified'] = df['total_gross']\n",
    "df['budget_modified'] = df['Production Budget']"
   ]
  },
  {
   "cell_type": "code",
   "execution_count": 100,
   "metadata": {},
   "outputs": [],
   "source": [
    "for k in range(len(decades)-1): # For each decade\n",
    "    year_before = decades[k]\n",
    "    year = decades[k+1]\n",
    "    inflation_rate = inflation_dic[year_before]\n",
    "    \n",
    "    decade_df = df[(df['release_year']<year) & (df['release_year']>year_before)] # decade mask\n",
    "    \n",
    "    idx = decade_df.index.tolist()\n",
    "\n",
    "    # Create new column with prices modified by interest rate\n",
    "    df.loc[idx, 'profit_modified'] = decade_df['profit'] * inflation_rate\n",
    "    df.loc[idx, 'total_gross_modified'] = decade_df['total_gross'] * inflation_rate\n",
    "    df.loc[idx, 'budget_modified'] = decade_df['Production Budget'] * inflation_rate"
   ]
  },
  {
   "cell_type": "code",
   "execution_count": 101,
   "metadata": {},
   "outputs": [],
   "source": [
    "movie_feature_with_budget = df.copy()"
   ]
  },
  {
   "cell_type": "code",
   "execution_count": 102,
   "metadata": {},
   "outputs": [
    {
     "data": {
      "text/html": [
       "<div>\n",
       "<style scoped>\n",
       "    .dataframe tbody tr th:only-of-type {\n",
       "        vertical-align: middle;\n",
       "    }\n",
       "\n",
       "    .dataframe tbody tr th {\n",
       "        vertical-align: top;\n",
       "    }\n",
       "\n",
       "    .dataframe thead th {\n",
       "        text-align: right;\n",
       "    }\n",
       "</style>\n",
       "<table border=\"1\" class=\"dataframe\">\n",
       "  <thead>\n",
       "    <tr style=\"text-align: right;\">\n",
       "      <th></th>\n",
       "      <th>wikipedia_id</th>\n",
       "      <th>freebase_id</th>\n",
       "      <th>name</th>\n",
       "      <th>total_gross</th>\n",
       "      <th>runtime</th>\n",
       "      <th>languages</th>\n",
       "      <th>countries</th>\n",
       "      <th>release_year</th>\n",
       "      <th>isAdult</th>\n",
       "      <th>averageRating</th>\n",
       "      <th>...</th>\n",
       "      <th>writers</th>\n",
       "      <th>WR</th>\n",
       "      <th>genre</th>\n",
       "      <th>Production Budget</th>\n",
       "      <th>release_day</th>\n",
       "      <th>release_month</th>\n",
       "      <th>profit</th>\n",
       "      <th>profit_modified</th>\n",
       "      <th>total_gross_modified</th>\n",
       "      <th>budget_modified</th>\n",
       "    </tr>\n",
       "  </thead>\n",
       "  <tbody>\n",
       "    <tr>\n",
       "      <th>0</th>\n",
       "      <td>975900.0</td>\n",
       "      <td>/m/03vyhn</td>\n",
       "      <td>Ghosts of Mars</td>\n",
       "      <td>14010832.0</td>\n",
       "      <td>98.0</td>\n",
       "      <td>[English]</td>\n",
       "      <td>[United States of America]</td>\n",
       "      <td>2001.0</td>\n",
       "      <td>0.0</td>\n",
       "      <td>4.9</td>\n",
       "      <td>...</td>\n",
       "      <td>[Larry Sulkis, John Carpenter]</td>\n",
       "      <td>4.900185</td>\n",
       "      <td>[Thriller, Science Fiction, Horror, Adventure,...</td>\n",
       "      <td>NaN</td>\n",
       "      <td>24.0</td>\n",
       "      <td>8.0</td>\n",
       "      <td>NaN</td>\n",
       "      <td>NaN</td>\n",
       "      <td>1.870026e+07</td>\n",
       "      <td>NaN</td>\n",
       "    </tr>\n",
       "    <tr>\n",
       "      <th>1</th>\n",
       "      <td>3196793.0</td>\n",
       "      <td>/m/08yl5d</td>\n",
       "      <td>Getting Away with Murder: The JonBenét Ramsey ...</td>\n",
       "      <td>NaN</td>\n",
       "      <td>95.0</td>\n",
       "      <td>[English]</td>\n",
       "      <td>[United States of America]</td>\n",
       "      <td>2000.0</td>\n",
       "      <td>NaN</td>\n",
       "      <td>NaN</td>\n",
       "      <td>...</td>\n",
       "      <td>NaN</td>\n",
       "      <td>NaN</td>\n",
       "      <td>[Mystery, Biographical film, Drama, Crime Drama]</td>\n",
       "      <td>NaN</td>\n",
       "      <td>16.0</td>\n",
       "      <td>2.0</td>\n",
       "      <td>NaN</td>\n",
       "      <td>NaN</td>\n",
       "      <td>NaN</td>\n",
       "      <td>NaN</td>\n",
       "    </tr>\n",
       "  </tbody>\n",
       "</table>\n",
       "<p>2 rows × 22 columns</p>\n",
       "</div>"
      ],
      "text/plain": [
       "   wikipedia_id freebase_id  \\\n",
       "0      975900.0   /m/03vyhn   \n",
       "1     3196793.0   /m/08yl5d   \n",
       "\n",
       "                                                name  total_gross  runtime  \\\n",
       "0                                     Ghosts of Mars   14010832.0     98.0   \n",
       "1  Getting Away with Murder: The JonBenét Ramsey ...          NaN     95.0   \n",
       "\n",
       "   languages                   countries  release_year  isAdult  \\\n",
       "0  [English]  [United States of America]        2001.0      0.0   \n",
       "1  [English]  [United States of America]        2000.0      NaN   \n",
       "\n",
       "   averageRating  ...                         writers        WR  \\\n",
       "0            4.9  ...  [Larry Sulkis, John Carpenter]  4.900185   \n",
       "1            NaN  ...                             NaN       NaN   \n",
       "\n",
       "                                               genre  Production Budget  \\\n",
       "0  [Thriller, Science Fiction, Horror, Adventure,...                NaN   \n",
       "1   [Mystery, Biographical film, Drama, Crime Drama]                NaN   \n",
       "\n",
       "  release_day  release_month  profit  profit_modified  total_gross_modified  \\\n",
       "0        24.0            8.0     NaN              NaN          1.870026e+07   \n",
       "1        16.0            2.0     NaN              NaN                   NaN   \n",
       "\n",
       "   budget_modified  \n",
       "0              NaN  \n",
       "1              NaN  \n",
       "\n",
       "[2 rows x 22 columns]"
      ]
     },
     "execution_count": 102,
     "metadata": {},
     "output_type": "execute_result"
    }
   ],
   "source": [
    "movie_feature_with_budget.head(2)"
   ]
  },
  {
   "cell_type": "code",
   "execution_count": 103,
   "metadata": {},
   "outputs": [],
   "source": [
    "# Delete the columns for budget which are not modified by inflation rate: \n",
    "movie_feature_with_budget.drop(['total_gross','profit', 'Production Budget'], axis=1, inplace=True)"
   ]
  },
  {
   "cell_type": "markdown",
   "metadata": {},
   "source": [
    "### Wikipedia pageviews"
   ]
  },
  {
   "cell_type": "code",
   "execution_count": 104,
   "metadata": {},
   "outputs": [
    {
     "data": {
      "text/html": [
       "<div>\n",
       "<style scoped>\n",
       "    .dataframe tbody tr th:only-of-type {\n",
       "        vertical-align: middle;\n",
       "    }\n",
       "\n",
       "    .dataframe tbody tr th {\n",
       "        vertical-align: top;\n",
       "    }\n",
       "\n",
       "    .dataframe thead th {\n",
       "        text-align: right;\n",
       "    }\n",
       "</style>\n",
       "<table border=\"1\" class=\"dataframe\">\n",
       "  <thead>\n",
       "    <tr style=\"text-align: right;\">\n",
       "      <th></th>\n",
       "      <th>name</th>\n",
       "      <th>pageviews</th>\n",
       "    </tr>\n",
       "  </thead>\n",
       "  <tbody>\n",
       "    <tr>\n",
       "      <th>37219</th>\n",
       "      <td>Mixed and Fixed</td>\n",
       "      <td>20.363883</td>\n",
       "    </tr>\n",
       "    <tr>\n",
       "      <th>56472</th>\n",
       "      <td>The Combination</td>\n",
       "      <td>995.965086</td>\n",
       "    </tr>\n",
       "    <tr>\n",
       "      <th>63112</th>\n",
       "      <td>The Reluctant Astronaut</td>\n",
       "      <td>1581.873188</td>\n",
       "    </tr>\n",
       "    <tr>\n",
       "      <th>58038</th>\n",
       "      <td>The Floorwalker</td>\n",
       "      <td>419.434124</td>\n",
       "    </tr>\n",
       "    <tr>\n",
       "      <th>46582</th>\n",
       "      <td>Ricky Rapper and the Bicycle Thief</td>\n",
       "      <td>NaN</td>\n",
       "    </tr>\n",
       "  </tbody>\n",
       "</table>\n",
       "</div>"
      ],
      "text/plain": [
       "                                     name    pageviews\n",
       "37219                     Mixed and Fixed    20.363883\n",
       "56472                     The Combination   995.965086\n",
       "63112             The Reluctant Astronaut  1581.873188\n",
       "58038                     The Floorwalker   419.434124\n",
       "46582  Ricky Rapper and the Bicycle Thief          NaN"
      ]
     },
     "execution_count": 104,
     "metadata": {},
     "output_type": "execute_result"
    }
   ],
   "source": [
    "wikipedia_pageviews.sample(5)"
   ]
  },
  {
   "cell_type": "code",
   "execution_count": 105,
   "metadata": {},
   "outputs": [
    {
     "data": {
      "text/html": [
       "<div>\n",
       "<style scoped>\n",
       "    .dataframe tbody tr th:only-of-type {\n",
       "        vertical-align: middle;\n",
       "    }\n",
       "\n",
       "    .dataframe tbody tr th {\n",
       "        vertical-align: top;\n",
       "    }\n",
       "\n",
       "    .dataframe thead th {\n",
       "        text-align: right;\n",
       "    }\n",
       "</style>\n",
       "<table border=\"1\" class=\"dataframe\">\n",
       "  <thead>\n",
       "    <tr style=\"text-align: right;\">\n",
       "      <th></th>\n",
       "      <th>pageviews</th>\n",
       "    </tr>\n",
       "  </thead>\n",
       "  <tbody>\n",
       "    <tr>\n",
       "      <th>count</th>\n",
       "      <td>6.758400e+04</td>\n",
       "    </tr>\n",
       "    <tr>\n",
       "      <th>mean</th>\n",
       "      <td>3.822596e+03</td>\n",
       "    </tr>\n",
       "    <tr>\n",
       "      <th>std</th>\n",
       "      <td>2.650207e+04</td>\n",
       "    </tr>\n",
       "    <tr>\n",
       "      <th>min</th>\n",
       "      <td>0.000000e+00</td>\n",
       "    </tr>\n",
       "    <tr>\n",
       "      <th>25%</th>\n",
       "      <td>4.189995e+01</td>\n",
       "    </tr>\n",
       "    <tr>\n",
       "      <th>50%</th>\n",
       "      <td>2.226739e+02</td>\n",
       "    </tr>\n",
       "    <tr>\n",
       "      <th>75%</th>\n",
       "      <td>1.155286e+03</td>\n",
       "    </tr>\n",
       "    <tr>\n",
       "      <th>max</th>\n",
       "      <td>5.154324e+06</td>\n",
       "    </tr>\n",
       "  </tbody>\n",
       "</table>\n",
       "</div>"
      ],
      "text/plain": [
       "          pageviews\n",
       "count  6.758400e+04\n",
       "mean   3.822596e+03\n",
       "std    2.650207e+04\n",
       "min    0.000000e+00\n",
       "25%    4.189995e+01\n",
       "50%    2.226739e+02\n",
       "75%    1.155286e+03\n",
       "max    5.154324e+06"
      ]
     },
     "execution_count": 105,
     "metadata": {},
     "output_type": "execute_result"
    }
   ],
   "source": [
    "wikipedia_pageviews.describe()"
   ]
  },
  {
   "cell_type": "code",
   "execution_count": 106,
   "metadata": {},
   "outputs": [],
   "source": [
    "movie_feature_with_budget_and_wikipedia_pageviews = pd.merge(movie_feature_with_budget, wikipedia_pageviews, on='name', how='left')\n",
    "\n",
    "# Free memory\n",
    "del movie_feature_with_budget\n",
    "del wikipedia_pageviews"
   ]
  },
  {
   "cell_type": "code",
   "execution_count": 107,
   "metadata": {},
   "outputs": [
    {
     "data": {
      "text/html": [
       "<div>\n",
       "<style scoped>\n",
       "    .dataframe tbody tr th:only-of-type {\n",
       "        vertical-align: middle;\n",
       "    }\n",
       "\n",
       "    .dataframe tbody tr th {\n",
       "        vertical-align: top;\n",
       "    }\n",
       "\n",
       "    .dataframe thead th {\n",
       "        text-align: right;\n",
       "    }\n",
       "</style>\n",
       "<table border=\"1\" class=\"dataframe\">\n",
       "  <thead>\n",
       "    <tr style=\"text-align: right;\">\n",
       "      <th></th>\n",
       "      <th>wikipedia_id</th>\n",
       "      <th>runtime</th>\n",
       "      <th>release_year</th>\n",
       "      <th>isAdult</th>\n",
       "      <th>averageRating</th>\n",
       "      <th>numVotes</th>\n",
       "      <th>WR</th>\n",
       "      <th>release_day</th>\n",
       "      <th>release_month</th>\n",
       "      <th>profit_modified</th>\n",
       "      <th>total_gross_modified</th>\n",
       "      <th>budget_modified</th>\n",
       "      <th>pageviews</th>\n",
       "    </tr>\n",
       "  </thead>\n",
       "  <tbody>\n",
       "    <tr>\n",
       "      <th>count</th>\n",
       "      <td>8.155500e+04</td>\n",
       "      <td>68104.000000</td>\n",
       "      <td>75770.000000</td>\n",
       "      <td>44031.000000</td>\n",
       "      <td>44031.000000</td>\n",
       "      <td>4.403100e+04</td>\n",
       "      <td>44031.000000</td>\n",
       "      <td>40527.000000</td>\n",
       "      <td>43783.000000</td>\n",
       "      <td>2.464000e+03</td>\n",
       "      <td>8.392000e+03</td>\n",
       "      <td>3.828000e+03</td>\n",
       "      <td>7.330000e+04</td>\n",
       "    </tr>\n",
       "    <tr>\n",
       "      <th>mean</th>\n",
       "      <td>1.740360e+07</td>\n",
       "      <td>93.965487</td>\n",
       "      <td>1977.970337</td>\n",
       "      <td>0.002566</td>\n",
       "      <td>6.195617</td>\n",
       "      <td>1.378128e+04</td>\n",
       "      <td>6.224498</td>\n",
       "      <td>15.658129</td>\n",
       "      <td>6.707717</td>\n",
       "      <td>9.605612e+07</td>\n",
       "      <td>6.483874e+07</td>\n",
       "      <td>5.092346e+07</td>\n",
       "      <td>5.087095e+03</td>\n",
       "    </tr>\n",
       "    <tr>\n",
       "      <th>std</th>\n",
       "      <td>1.098688e+07</td>\n",
       "      <td>59.949382</td>\n",
       "      <td>29.228281</td>\n",
       "      <td>0.050595</td>\n",
       "      <td>1.155310</td>\n",
       "      <td>7.286329e+04</td>\n",
       "      <td>1.102334</td>\n",
       "      <td>8.708538</td>\n",
       "      <td>3.483055</td>\n",
       "      <td>1.897343e+08</td>\n",
       "      <td>1.487117e+08</td>\n",
       "      <td>5.505716e+07</td>\n",
       "      <td>5.753066e+04</td>\n",
       "    </tr>\n",
       "    <tr>\n",
       "      <th>min</th>\n",
       "      <td>3.300000e+02</td>\n",
       "      <td>0.000000</td>\n",
       "      <td>1010.000000</td>\n",
       "      <td>0.000000</td>\n",
       "      <td>1.000000</td>\n",
       "      <td>5.000000e+00</td>\n",
       "      <td>1.131770</td>\n",
       "      <td>1.000000</td>\n",
       "      <td>1.000000</td>\n",
       "      <td>-1.424334e+08</td>\n",
       "      <td>1.138400e+04</td>\n",
       "      <td>8.981700e+03</td>\n",
       "      <td>0.000000e+00</td>\n",
       "    </tr>\n",
       "    <tr>\n",
       "      <th>25%</th>\n",
       "      <td>7.320728e+06</td>\n",
       "      <td>80.000000</td>\n",
       "      <td>1956.000000</td>\n",
       "      <td>0.000000</td>\n",
       "      <td>5.600000</td>\n",
       "      <td>1.070000e+02</td>\n",
       "      <td>5.614247</td>\n",
       "      <td>8.000000</td>\n",
       "      <td>4.000000</td>\n",
       "      <td>6.762006e+05</td>\n",
       "      <td>2.803050e+06</td>\n",
       "      <td>1.411410e+07</td>\n",
       "      <td>4.350988e+01</td>\n",
       "    </tr>\n",
       "    <tr>\n",
       "      <th>50%</th>\n",
       "      <td>1.777503e+07</td>\n",
       "      <td>93.000000</td>\n",
       "      <td>1986.000000</td>\n",
       "      <td>0.000000</td>\n",
       "      <td>6.300000</td>\n",
       "      <td>5.160000e+02</td>\n",
       "      <td>6.317251</td>\n",
       "      <td>16.000000</td>\n",
       "      <td>7.000000</td>\n",
       "      <td>3.261206e+07</td>\n",
       "      <td>1.456574e+07</td>\n",
       "      <td>3.255200e+07</td>\n",
       "      <td>2.368342e+02</td>\n",
       "    </tr>\n",
       "    <tr>\n",
       "      <th>75%</th>\n",
       "      <td>2.714269e+07</td>\n",
       "      <td>108.000000</td>\n",
       "      <td>2004.000000</td>\n",
       "      <td>0.000000</td>\n",
       "      <td>7.000000</td>\n",
       "      <td>2.660500e+03</td>\n",
       "      <td>6.998635</td>\n",
       "      <td>23.000000</td>\n",
       "      <td>10.000000</td>\n",
       "      <td>1.156132e+08</td>\n",
       "      <td>5.778973e+07</td>\n",
       "      <td>6.673500e+07</td>\n",
       "      <td>1.277118e+03</td>\n",
       "    </tr>\n",
       "    <tr>\n",
       "      <th>max</th>\n",
       "      <td>3.750192e+07</td>\n",
       "      <td>5700.000000</td>\n",
       "      <td>2020.000000</td>\n",
       "      <td>1.000000</td>\n",
       "      <td>10.000000</td>\n",
       "      <td>2.667015e+06</td>\n",
       "      <td>9.467126</td>\n",
       "      <td>31.000000</td>\n",
       "      <td>12.000000</td>\n",
       "      <td>3.265843e+09</td>\n",
       "      <td>3.569937e+09</td>\n",
       "      <td>4.862949e+08</td>\n",
       "      <td>5.154324e+06</td>\n",
       "    </tr>\n",
       "  </tbody>\n",
       "</table>\n",
       "</div>"
      ],
      "text/plain": [
       "       wikipedia_id       runtime  release_year       isAdult  averageRating  \\\n",
       "count  8.155500e+04  68104.000000  75770.000000  44031.000000   44031.000000   \n",
       "mean   1.740360e+07     93.965487   1977.970337      0.002566       6.195617   \n",
       "std    1.098688e+07     59.949382     29.228281      0.050595       1.155310   \n",
       "min    3.300000e+02      0.000000   1010.000000      0.000000       1.000000   \n",
       "25%    7.320728e+06     80.000000   1956.000000      0.000000       5.600000   \n",
       "50%    1.777503e+07     93.000000   1986.000000      0.000000       6.300000   \n",
       "75%    2.714269e+07    108.000000   2004.000000      0.000000       7.000000   \n",
       "max    3.750192e+07   5700.000000   2020.000000      1.000000      10.000000   \n",
       "\n",
       "           numVotes            WR   release_day  release_month  \\\n",
       "count  4.403100e+04  44031.000000  40527.000000   43783.000000   \n",
       "mean   1.378128e+04      6.224498     15.658129       6.707717   \n",
       "std    7.286329e+04      1.102334      8.708538       3.483055   \n",
       "min    5.000000e+00      1.131770      1.000000       1.000000   \n",
       "25%    1.070000e+02      5.614247      8.000000       4.000000   \n",
       "50%    5.160000e+02      6.317251     16.000000       7.000000   \n",
       "75%    2.660500e+03      6.998635     23.000000      10.000000   \n",
       "max    2.667015e+06      9.467126     31.000000      12.000000   \n",
       "\n",
       "       profit_modified  total_gross_modified  budget_modified     pageviews  \n",
       "count     2.464000e+03          8.392000e+03     3.828000e+03  7.330000e+04  \n",
       "mean      9.605612e+07          6.483874e+07     5.092346e+07  5.087095e+03  \n",
       "std       1.897343e+08          1.487117e+08     5.505716e+07  5.753066e+04  \n",
       "min      -1.424334e+08          1.138400e+04     8.981700e+03  0.000000e+00  \n",
       "25%       6.762006e+05          2.803050e+06     1.411410e+07  4.350988e+01  \n",
       "50%       3.261206e+07          1.456574e+07     3.255200e+07  2.368342e+02  \n",
       "75%       1.156132e+08          5.778973e+07     6.673500e+07  1.277118e+03  \n",
       "max       3.265843e+09          3.569937e+09     4.862949e+08  5.154324e+06  "
      ]
     },
     "execution_count": 107,
     "metadata": {},
     "output_type": "execute_result"
    }
   ],
   "source": [
    "movie_feature_with_budget_and_wikipedia_pageviews.describe()"
   ]
  },
  {
   "cell_type": "markdown",
   "metadata": {},
   "source": [
    "### Prepare `df_all`"
   ]
  },
  {
   "cell_type": "code",
   "execution_count": 108,
   "metadata": {},
   "outputs": [],
   "source": [
    "# For simplicity of use, we rename the dataframe\n",
    "df_all = movie_feature_with_budget_and_wikipedia_pageviews"
   ]
  },
  {
   "cell_type": "markdown",
   "metadata": {},
   "source": [
    "#### Deal with NaN"
   ]
  },
  {
   "cell_type": "code",
   "execution_count": 109,
   "metadata": {},
   "outputs": [],
   "source": [
    "fill_na_with_list(df_all, 'languages')\n",
    "fill_na_with_list(df_all, 'countries')\n",
    "fill_na_with_list(df_all, 'genre')\n",
    "fill_na_with_list(df_all, 'directors')\n",
    "fill_na_with_list(df_all, 'writers')"
   ]
  },
  {
   "cell_type": "markdown",
   "metadata": {},
   "source": [
    "#### Remove irrelevant columns"
   ]
  },
  {
   "cell_type": "code",
   "execution_count": 110,
   "metadata": {},
   "outputs": [],
   "source": [
    "df_all.drop(['wikipedia_id', 'averageRating', 'numVotes'], axis=1, inplace=True)"
   ]
  },
  {
   "cell_type": "markdown",
   "metadata": {},
   "source": [
    "#### One hot encoding for list values"
   ]
  },
  {
   "cell_type": "code",
   "execution_count": 111,
   "metadata": {},
   "outputs": [],
   "source": [
    "df_all_ohe = df_all.copy()"
   ]
  },
  {
   "cell_type": "code",
   "execution_count": 112,
   "metadata": {},
   "outputs": [],
   "source": [
    "def one_hot_encoding_list(df, column_name, top_count):\n",
    "    top = pd.Series([el for _list in df[column_name] for el in _list]).value_counts()[:top_count].index\n",
    "    df[column_name] = df[column_name].apply(lambda _list: [el if el in top else 'Other' for el in _list])\n",
    "    result = df.join(pd.get_dummies(df[column_name].apply(pd.Series).stack(), prefix=column_name).groupby(level=0).max())\n",
    "    result.fillna({f'{column_name}_{el}': 0 for el in list(top) + ['Other']}, inplace=True)\n",
    "    result.drop([column_name], axis=1, inplace=True)\n",
    "    return result"
   ]
  },
  {
   "cell_type": "code",
   "execution_count": 113,
   "metadata": {},
   "outputs": [],
   "source": [
    "def one_hot_encoding(df, column_name, top_count):\n",
    "    top = df[column_name].value_counts()[:top_count].index\n",
    "    df[column_name] = df[column_name].apply(lambda el: el if el in top else 'Other')\n",
    "    result = df.join(pd.get_dummies(df[column_name], prefix=column_name).groupby(level=0).max())\n",
    "    result.drop([column_name], axis=1, inplace=True)\n",
    "    return result"
   ]
  },
  {
   "cell_type": "code",
   "execution_count": 114,
   "metadata": {},
   "outputs": [
    {
     "name": "stderr",
     "output_type": "stream",
     "text": [
      "/var/folders/m_/fhwnh1jn04qgx3nmt22_5h340000gn/T/ipykernel_72106/142190017.py:4: FutureWarning: The default dtype for empty Series will be 'object' instead of 'float64' in a future version. Specify a dtype explicitly to silence this warning.\n",
      "  result = df.join(pd.get_dummies(df[column_name].apply(pd.Series).stack(), prefix=column_name).groupby(level=0).max())\n"
     ]
    },
    {
     "ename": "KeyboardInterrupt",
     "evalue": "",
     "output_type": "error",
     "traceback": [
      "\u001b[0;31m---------------------------------------------------------------------------\u001b[0m",
      "\u001b[0;31mKeyboardInterrupt\u001b[0m                         Traceback (most recent call last)",
      "Cell \u001b[0;32mIn [114], line 1\u001b[0m\n\u001b[0;32m----> 1\u001b[0m df_all_ohe \u001b[39m=\u001b[39m one_hot_encoding_list(df_all_ohe, \u001b[39m'\u001b[39;49m\u001b[39mgenre\u001b[39;49m\u001b[39m'\u001b[39;49m, \u001b[39m25\u001b[39;49m)\n\u001b[1;32m      2\u001b[0m df_all_ohe \u001b[39m=\u001b[39m one_hot_encoding_list(df_all_ohe, \u001b[39m'\u001b[39m\u001b[39mlanguages\u001b[39m\u001b[39m'\u001b[39m, \u001b[39m15\u001b[39m)\n\u001b[1;32m      3\u001b[0m df_all_ohe \u001b[39m=\u001b[39m one_hot_encoding_list(df_all_ohe, \u001b[39m'\u001b[39m\u001b[39mcountries\u001b[39m\u001b[39m'\u001b[39m, \u001b[39m15\u001b[39m)\n",
      "Cell \u001b[0;32mIn [112], line 4\u001b[0m, in \u001b[0;36mone_hot_encoding_list\u001b[0;34m(df, column_name, top_count)\u001b[0m\n\u001b[1;32m      2\u001b[0m top \u001b[39m=\u001b[39m pd\u001b[39m.\u001b[39mSeries([el \u001b[39mfor\u001b[39;00m _list \u001b[39min\u001b[39;00m df[column_name] \u001b[39mfor\u001b[39;00m el \u001b[39min\u001b[39;00m _list])\u001b[39m.\u001b[39mvalue_counts()[:top_count]\u001b[39m.\u001b[39mindex\n\u001b[1;32m      3\u001b[0m df[column_name] \u001b[39m=\u001b[39m df[column_name]\u001b[39m.\u001b[39mapply(\u001b[39mlambda\u001b[39;00m _list: [el \u001b[39mif\u001b[39;00m el \u001b[39min\u001b[39;00m top \u001b[39melse\u001b[39;00m \u001b[39m'\u001b[39m\u001b[39mOther\u001b[39m\u001b[39m'\u001b[39m \u001b[39mfor\u001b[39;00m el \u001b[39min\u001b[39;00m _list])\n\u001b[0;32m----> 4\u001b[0m result \u001b[39m=\u001b[39m df\u001b[39m.\u001b[39mjoin(pd\u001b[39m.\u001b[39mget_dummies(df[column_name]\u001b[39m.\u001b[39;49mapply(pd\u001b[39m.\u001b[39;49mSeries)\u001b[39m.\u001b[39mstack(), prefix\u001b[39m=\u001b[39mcolumn_name)\u001b[39m.\u001b[39mgroupby(level\u001b[39m=\u001b[39m\u001b[39m0\u001b[39m)\u001b[39m.\u001b[39mmax())\n\u001b[1;32m      5\u001b[0m result\u001b[39m.\u001b[39mfillna({\u001b[39mf\u001b[39m\u001b[39m'\u001b[39m\u001b[39m{\u001b[39;00mcolumn_name\u001b[39m}\u001b[39;00m\u001b[39m_\u001b[39m\u001b[39m{\u001b[39;00mel\u001b[39m}\u001b[39;00m\u001b[39m'\u001b[39m: \u001b[39m0\u001b[39m \u001b[39mfor\u001b[39;00m el \u001b[39min\u001b[39;00m \u001b[39mlist\u001b[39m(top) \u001b[39m+\u001b[39m [\u001b[39m'\u001b[39m\u001b[39mOther\u001b[39m\u001b[39m'\u001b[39m]}, inplace\u001b[39m=\u001b[39m\u001b[39mTrue\u001b[39;00m)\n\u001b[1;32m      6\u001b[0m result\u001b[39m.\u001b[39mdrop([column_name], axis\u001b[39m=\u001b[39m\u001b[39m1\u001b[39m, inplace\u001b[39m=\u001b[39m\u001b[39mTrue\u001b[39;00m)\n",
      "File \u001b[0;32m~/opt/anaconda3/envs/epfl-ada/lib/python3.9/site-packages/pandas/core/series.py:4771\u001b[0m, in \u001b[0;36mSeries.apply\u001b[0;34m(self, func, convert_dtype, args, **kwargs)\u001b[0m\n\u001b[1;32m   4661\u001b[0m \u001b[39mdef\u001b[39;00m \u001b[39mapply\u001b[39m(\n\u001b[1;32m   4662\u001b[0m     \u001b[39mself\u001b[39m,\n\u001b[1;32m   4663\u001b[0m     func: AggFuncType,\n\u001b[0;32m   (...)\u001b[0m\n\u001b[1;32m   4666\u001b[0m     \u001b[39m*\u001b[39m\u001b[39m*\u001b[39mkwargs,\n\u001b[1;32m   4667\u001b[0m ) \u001b[39m-\u001b[39m\u001b[39m>\u001b[39m DataFrame \u001b[39m|\u001b[39m Series:\n\u001b[1;32m   4668\u001b[0m     \u001b[39m\"\"\"\u001b[39;00m\n\u001b[1;32m   4669\u001b[0m \u001b[39m    Invoke function on values of Series.\u001b[39;00m\n\u001b[1;32m   4670\u001b[0m \n\u001b[0;32m   (...)\u001b[0m\n\u001b[1;32m   4769\u001b[0m \u001b[39m    dtype: float64\u001b[39;00m\n\u001b[1;32m   4770\u001b[0m \u001b[39m    \"\"\"\u001b[39;00m\n\u001b[0;32m-> 4771\u001b[0m     \u001b[39mreturn\u001b[39;00m SeriesApply(\u001b[39mself\u001b[39;49m, func, convert_dtype, args, kwargs)\u001b[39m.\u001b[39;49mapply()\n",
      "File \u001b[0;32m~/opt/anaconda3/envs/epfl-ada/lib/python3.9/site-packages/pandas/core/apply.py:1105\u001b[0m, in \u001b[0;36mSeriesApply.apply\u001b[0;34m(self)\u001b[0m\n\u001b[1;32m   1102\u001b[0m     \u001b[39mreturn\u001b[39;00m \u001b[39mself\u001b[39m\u001b[39m.\u001b[39mapply_str()\n\u001b[1;32m   1104\u001b[0m \u001b[39m# self.f is Callable\u001b[39;00m\n\u001b[0;32m-> 1105\u001b[0m \u001b[39mreturn\u001b[39;00m \u001b[39mself\u001b[39;49m\u001b[39m.\u001b[39;49mapply_standard()\n",
      "File \u001b[0;32m~/opt/anaconda3/envs/epfl-ada/lib/python3.9/site-packages/pandas/core/apply.py:1165\u001b[0m, in \u001b[0;36mSeriesApply.apply_standard\u001b[0;34m(self)\u001b[0m\n\u001b[1;32m   1156\u001b[0m         mapped \u001b[39m=\u001b[39m lib\u001b[39m.\u001b[39mmap_infer(\n\u001b[1;32m   1157\u001b[0m             values,\n\u001b[1;32m   1158\u001b[0m             f,\n\u001b[1;32m   1159\u001b[0m             convert\u001b[39m=\u001b[39m\u001b[39mself\u001b[39m\u001b[39m.\u001b[39mconvert_dtype,\n\u001b[1;32m   1160\u001b[0m         )\n\u001b[1;32m   1162\u001b[0m \u001b[39mif\u001b[39;00m \u001b[39mlen\u001b[39m(mapped) \u001b[39mand\u001b[39;00m \u001b[39misinstance\u001b[39m(mapped[\u001b[39m0\u001b[39m], ABCSeries):\n\u001b[1;32m   1163\u001b[0m     \u001b[39m# GH#43986 Need to do list(mapped) in order to get treated as nested\u001b[39;00m\n\u001b[1;32m   1164\u001b[0m     \u001b[39m#  See also GH#25959 regarding EA support\u001b[39;00m\n\u001b[0;32m-> 1165\u001b[0m     \u001b[39mreturn\u001b[39;00m obj\u001b[39m.\u001b[39;49m_constructor_expanddim(\u001b[39mlist\u001b[39;49m(mapped), index\u001b[39m=\u001b[39;49mobj\u001b[39m.\u001b[39;49mindex)\n\u001b[1;32m   1166\u001b[0m \u001b[39melse\u001b[39;00m:\n\u001b[1;32m   1167\u001b[0m     \u001b[39mreturn\u001b[39;00m obj\u001b[39m.\u001b[39m_constructor(mapped, index\u001b[39m=\u001b[39mobj\u001b[39m.\u001b[39mindex)\u001b[39m.\u001b[39m__finalize__(\n\u001b[1;32m   1168\u001b[0m         obj, method\u001b[39m=\u001b[39m\u001b[39m\"\u001b[39m\u001b[39mapply\u001b[39m\u001b[39m\"\u001b[39m\n\u001b[1;32m   1169\u001b[0m     )\n",
      "File \u001b[0;32m~/opt/anaconda3/envs/epfl-ada/lib/python3.9/site-packages/pandas/core/frame.py:744\u001b[0m, in \u001b[0;36mDataFrame.__init__\u001b[0;34m(self, data, index, columns, dtype, copy)\u001b[0m\n\u001b[1;32m    742\u001b[0m     \u001b[39mif\u001b[39;00m columns \u001b[39mis\u001b[39;00m \u001b[39mnot\u001b[39;00m \u001b[39mNone\u001b[39;00m:\n\u001b[1;32m    743\u001b[0m         columns \u001b[39m=\u001b[39m ensure_index(columns)\n\u001b[0;32m--> 744\u001b[0m     arrays, columns, index \u001b[39m=\u001b[39m nested_data_to_arrays(\n\u001b[1;32m    745\u001b[0m         \u001b[39m# error: Argument 3 to \"nested_data_to_arrays\" has incompatible\u001b[39;49;00m\n\u001b[1;32m    746\u001b[0m         \u001b[39m# type \"Optional[Collection[Any]]\"; expected \"Optional[Index]\"\u001b[39;49;00m\n\u001b[1;32m    747\u001b[0m         data,\n\u001b[1;32m    748\u001b[0m         columns,\n\u001b[1;32m    749\u001b[0m         index,  \u001b[39m# type: ignore[arg-type]\u001b[39;49;00m\n\u001b[1;32m    750\u001b[0m         dtype,\n\u001b[1;32m    751\u001b[0m     )\n\u001b[1;32m    752\u001b[0m     mgr \u001b[39m=\u001b[39m arrays_to_mgr(\n\u001b[1;32m    753\u001b[0m         arrays,\n\u001b[1;32m    754\u001b[0m         columns,\n\u001b[0;32m   (...)\u001b[0m\n\u001b[1;32m    757\u001b[0m         typ\u001b[39m=\u001b[39mmanager,\n\u001b[1;32m    758\u001b[0m     )\n\u001b[1;32m    759\u001b[0m \u001b[39melse\u001b[39;00m:\n",
      "File \u001b[0;32m~/opt/anaconda3/envs/epfl-ada/lib/python3.9/site-packages/pandas/core/internals/construction.py:510\u001b[0m, in \u001b[0;36mnested_data_to_arrays\u001b[0;34m(data, columns, index, dtype)\u001b[0m\n\u001b[1;32m    507\u001b[0m \u001b[39mif\u001b[39;00m is_named_tuple(data[\u001b[39m0\u001b[39m]) \u001b[39mand\u001b[39;00m columns \u001b[39mis\u001b[39;00m \u001b[39mNone\u001b[39;00m:\n\u001b[1;32m    508\u001b[0m     columns \u001b[39m=\u001b[39m ensure_index(data[\u001b[39m0\u001b[39m]\u001b[39m.\u001b[39m_fields)\n\u001b[0;32m--> 510\u001b[0m arrays, columns \u001b[39m=\u001b[39m to_arrays(data, columns, dtype\u001b[39m=\u001b[39;49mdtype)\n\u001b[1;32m    511\u001b[0m columns \u001b[39m=\u001b[39m ensure_index(columns)\n\u001b[1;32m    513\u001b[0m \u001b[39mif\u001b[39;00m index \u001b[39mis\u001b[39;00m \u001b[39mNone\u001b[39;00m:\n",
      "File \u001b[0;32m~/opt/anaconda3/envs/epfl-ada/lib/python3.9/site-packages/pandas/core/internals/construction.py:869\u001b[0m, in \u001b[0;36mto_arrays\u001b[0;34m(data, columns, dtype)\u001b[0m\n\u001b[1;32m    867\u001b[0m     arr, columns \u001b[39m=\u001b[39m _list_of_dict_to_arrays(data, columns)\n\u001b[1;32m    868\u001b[0m \u001b[39melif\u001b[39;00m \u001b[39misinstance\u001b[39m(data[\u001b[39m0\u001b[39m], ABCSeries):\n\u001b[0;32m--> 869\u001b[0m     arr, columns \u001b[39m=\u001b[39m _list_of_series_to_arrays(data, columns)\n\u001b[1;32m    870\u001b[0m \u001b[39melse\u001b[39;00m:\n\u001b[1;32m    871\u001b[0m     \u001b[39m# last ditch effort\u001b[39;00m\n\u001b[1;32m    872\u001b[0m     data \u001b[39m=\u001b[39m [\u001b[39mtuple\u001b[39m(x) \u001b[39mfor\u001b[39;00m x \u001b[39min\u001b[39;00m data]\n",
      "File \u001b[0;32m~/opt/anaconda3/envs/epfl-ada/lib/python3.9/site-packages/pandas/core/internals/construction.py:912\u001b[0m, in \u001b[0;36m_list_of_series_to_arrays\u001b[0;34m(data, columns)\u001b[0m\n\u001b[1;32m    910\u001b[0m     indexer \u001b[39m=\u001b[39m indexer_cache[\u001b[39mid\u001b[39m(index)]\n\u001b[1;32m    911\u001b[0m \u001b[39melse\u001b[39;00m:\n\u001b[0;32m--> 912\u001b[0m     indexer \u001b[39m=\u001b[39m indexer_cache[\u001b[39mid\u001b[39m(index)] \u001b[39m=\u001b[39m index\u001b[39m.\u001b[39;49mget_indexer(columns)\n\u001b[1;32m    914\u001b[0m values \u001b[39m=\u001b[39m extract_array(s, extract_numpy\u001b[39m=\u001b[39m\u001b[39mTrue\u001b[39;00m)\n\u001b[1;32m    915\u001b[0m aligned_values\u001b[39m.\u001b[39mappend(algorithms\u001b[39m.\u001b[39mtake_nd(values, indexer))\n",
      "File \u001b[0;32m~/opt/anaconda3/envs/epfl-ada/lib/python3.9/site-packages/pandas/core/indexes/base.py:3902\u001b[0m, in \u001b[0;36mIndex.get_indexer\u001b[0;34m(self, target, method, limit, tolerance)\u001b[0m\n\u001b[1;32m   3899\u001b[0m orig_target \u001b[39m=\u001b[39m target\n\u001b[1;32m   3900\u001b[0m target \u001b[39m=\u001b[39m \u001b[39mself\u001b[39m\u001b[39m.\u001b[39m_maybe_cast_listlike_indexer(target)\n\u001b[0;32m-> 3902\u001b[0m \u001b[39mself\u001b[39;49m\u001b[39m.\u001b[39;49m_check_indexing_method(method, limit, tolerance)\n\u001b[1;32m   3904\u001b[0m \u001b[39mif\u001b[39;00m \u001b[39mnot\u001b[39;00m \u001b[39mself\u001b[39m\u001b[39m.\u001b[39m_index_as_unique:\n\u001b[1;32m   3905\u001b[0m     \u001b[39mraise\u001b[39;00m InvalidIndexError(\u001b[39mself\u001b[39m\u001b[39m.\u001b[39m_requires_unique_msg)\n",
      "File \u001b[0;32m~/opt/anaconda3/envs/epfl-ada/lib/python3.9/site-packages/pandas/core/indexes/base.py:4036\u001b[0m, in \u001b[0;36mIndex._check_indexing_method\u001b[0;34m(self, method, limit, tolerance)\u001b[0m\n\u001b[1;32m   4031\u001b[0m \u001b[39mif\u001b[39;00m method \u001b[39mnot\u001b[39;00m \u001b[39min\u001b[39;00m [\u001b[39mNone\u001b[39;00m, \u001b[39m\"\u001b[39m\u001b[39mbfill\u001b[39m\u001b[39m\"\u001b[39m, \u001b[39m\"\u001b[39m\u001b[39mbackfill\u001b[39m\u001b[39m\"\u001b[39m, \u001b[39m\"\u001b[39m\u001b[39mpad\u001b[39m\u001b[39m\"\u001b[39m, \u001b[39m\"\u001b[39m\u001b[39mffill\u001b[39m\u001b[39m\"\u001b[39m, \u001b[39m\"\u001b[39m\u001b[39mnearest\u001b[39m\u001b[39m\"\u001b[39m]:\n\u001b[1;32m   4032\u001b[0m     \u001b[39m# in practice the clean_reindex_fill_method call would raise\u001b[39;00m\n\u001b[1;32m   4033\u001b[0m     \u001b[39m#  before we get here\u001b[39;00m\n\u001b[1;32m   4034\u001b[0m     \u001b[39mraise\u001b[39;00m \u001b[39mValueError\u001b[39;00m(\u001b[39m\"\u001b[39m\u001b[39mInvalid fill method\u001b[39m\u001b[39m\"\u001b[39m)  \u001b[39m# pragma: no cover\u001b[39;00m\n\u001b[0;32m-> 4036\u001b[0m \u001b[39mif\u001b[39;00m \u001b[39mself\u001b[39;49m\u001b[39m.\u001b[39;49m_is_multi:\n\u001b[1;32m   4037\u001b[0m     \u001b[39mif\u001b[39;00m method \u001b[39m==\u001b[39m \u001b[39m\"\u001b[39m\u001b[39mnearest\u001b[39m\u001b[39m\"\u001b[39m:\n\u001b[1;32m   4038\u001b[0m         \u001b[39mraise\u001b[39;00m \u001b[39mNotImplementedError\u001b[39;00m(\n\u001b[1;32m   4039\u001b[0m             \u001b[39m\"\u001b[39m\u001b[39mmethod=\u001b[39m\u001b[39m'\u001b[39m\u001b[39mnearest\u001b[39m\u001b[39m'\u001b[39m\u001b[39m not implemented yet \u001b[39m\u001b[39m\"\u001b[39m\n\u001b[1;32m   4040\u001b[0m             \u001b[39m\"\u001b[39m\u001b[39mfor MultiIndex; see GitHub issue 9365\u001b[39m\u001b[39m\"\u001b[39m\n\u001b[1;32m   4041\u001b[0m         )\n",
      "File \u001b[0;32m~/opt/anaconda3/envs/epfl-ada/lib/python3.9/site-packages/pandas/_libs/properties.pyx:36\u001b[0m, in \u001b[0;36mpandas._libs.properties.CachedProperty.__get__\u001b[0;34m()\u001b[0m\n",
      "File \u001b[0;32m~/opt/anaconda3/envs/epfl-ada/lib/python3.9/site-packages/pandas/core/indexes/base.py:2784\u001b[0m, in \u001b[0;36mIndex._is_multi\u001b[0;34m(self)\u001b[0m\n\u001b[1;32m   2776\u001b[0m     warnings\u001b[39m.\u001b[39mwarn(\n\u001b[1;32m   2777\u001b[0m         \u001b[39m\"\u001b[39m\u001b[39mIndex.is_all_dates is deprecated, will be removed in a future version. \u001b[39m\u001b[39m\"\u001b[39m\n\u001b[1;32m   2778\u001b[0m         \u001b[39m\"\u001b[39m\u001b[39mcheck index.inferred_type instead.\u001b[39m\u001b[39m\"\u001b[39m,\n\u001b[1;32m   2779\u001b[0m         \u001b[39mFutureWarning\u001b[39;00m,\n\u001b[1;32m   2780\u001b[0m         stacklevel\u001b[39m=\u001b[39mfind_stack_level(),\n\u001b[1;32m   2781\u001b[0m     )\n\u001b[1;32m   2782\u001b[0m     \u001b[39mreturn\u001b[39;00m \u001b[39mself\u001b[39m\u001b[39m.\u001b[39m_is_all_dates\n\u001b[0;32m-> 2784\u001b[0m \u001b[39m@final\u001b[39m\n\u001b[1;32m   2785\u001b[0m \u001b[39m@cache_readonly\u001b[39m\n\u001b[1;32m   2786\u001b[0m \u001b[39mdef\u001b[39;00m \u001b[39m_is_multi\u001b[39m(\u001b[39mself\u001b[39m) \u001b[39m-\u001b[39m\u001b[39m>\u001b[39m \u001b[39mbool\u001b[39m:\n\u001b[1;32m   2787\u001b[0m     \u001b[39m\"\"\"\u001b[39;00m\n\u001b[1;32m   2788\u001b[0m \u001b[39m    Cached check equivalent to isinstance(self, MultiIndex)\u001b[39;00m\n\u001b[1;32m   2789\u001b[0m \u001b[39m    \"\"\"\u001b[39;00m\n\u001b[1;32m   2790\u001b[0m     \u001b[39mreturn\u001b[39;00m \u001b[39misinstance\u001b[39m(\u001b[39mself\u001b[39m, ABCMultiIndex)\n",
      "\u001b[0;31mKeyboardInterrupt\u001b[0m: "
     ]
    }
   ],
   "source": [
    "df_all_ohe = one_hot_encoding_list(df_all_ohe, 'genre', 25)\n",
    "df_all_ohe = one_hot_encoding_list(df_all_ohe, 'languages', 15)\n",
    "df_all_ohe = one_hot_encoding_list(df_all_ohe, 'countries', 15)\n",
    "df_all_ohe = one_hot_encoding_list(df_all_ohe, 'directors', 30)\n",
    "df_all_ohe = one_hot_encoding_list(df_all_ohe, 'writers', 30)"
   ]
  },
  {
   "cell_type": "markdown",
   "metadata": {},
   "source": [
    "#### Expand the list values"
   ]
  },
  {
   "cell_type": "code",
   "execution_count": null,
   "metadata": {},
   "outputs": [],
   "source": [
    "df_all_expanded = df_all.copy()"
   ]
  },
  {
   "cell_type": "code",
   "execution_count": null,
   "metadata": {},
   "outputs": [],
   "source": [
    "df_all_expanded = df_all_expanded.explode('genre')\n",
    "df_all_expanded = df_all_expanded.explode('languages')\n",
    "df_all_expanded = df_all_expanded.explode('countries')\n",
    "df_all_expanded = df_all_expanded.explode('directors')\n",
    "df_all_expanded = df_all_expanded.explode('writers')"
   ]
  },
  {
   "cell_type": "code",
   "execution_count": null,
   "metadata": {},
   "outputs": [
    {
     "data": {
      "text/html": [
       "<div>\n",
       "<style scoped>\n",
       "    .dataframe tbody tr th:only-of-type {\n",
       "        vertical-align: middle;\n",
       "    }\n",
       "\n",
       "    .dataframe tbody tr th {\n",
       "        vertical-align: top;\n",
       "    }\n",
       "\n",
       "    .dataframe thead th {\n",
       "        text-align: right;\n",
       "    }\n",
       "</style>\n",
       "<table border=\"1\" class=\"dataframe\">\n",
       "  <thead>\n",
       "    <tr style=\"text-align: right;\">\n",
       "      <th></th>\n",
       "      <th>freebase_id</th>\n",
       "      <th>name</th>\n",
       "      <th>runtime</th>\n",
       "      <th>languages</th>\n",
       "      <th>countries</th>\n",
       "      <th>release_year</th>\n",
       "      <th>isAdult</th>\n",
       "      <th>directors</th>\n",
       "      <th>writers</th>\n",
       "      <th>WR</th>\n",
       "      <th>genre</th>\n",
       "      <th>release_day</th>\n",
       "      <th>release_month</th>\n",
       "      <th>profit_modified</th>\n",
       "      <th>total_gross_modified</th>\n",
       "      <th>budget_modified</th>\n",
       "      <th>pageviews</th>\n",
       "    </tr>\n",
       "  </thead>\n",
       "  <tbody>\n",
       "    <tr>\n",
       "      <th>75741</th>\n",
       "      <td>/m/0j65b5c</td>\n",
       "      <td>Gosainbaganer Bhoot</td>\n",
       "      <td>NaN</td>\n",
       "      <td>NaN</td>\n",
       "      <td>NaN</td>\n",
       "      <td>2011.0</td>\n",
       "      <td>NaN</td>\n",
       "      <td>NaN</td>\n",
       "      <td>NaN</td>\n",
       "      <td>NaN</td>\n",
       "      <td>Fantasy</td>\n",
       "      <td>30.0</td>\n",
       "      <td>12.0</td>\n",
       "      <td>NaN</td>\n",
       "      <td>NaN</td>\n",
       "      <td>NaN</td>\n",
       "      <td>167.383152</td>\n",
       "    </tr>\n",
       "    <tr>\n",
       "      <th>11046</th>\n",
       "      <td>/m/02q9n_9</td>\n",
       "      <td>Il Generale della Rovere</td>\n",
       "      <td>138.0</td>\n",
       "      <td>German</td>\n",
       "      <td>France</td>\n",
       "      <td>1959.0</td>\n",
       "      <td>NaN</td>\n",
       "      <td>NaN</td>\n",
       "      <td>NaN</td>\n",
       "      <td>NaN</td>\n",
       "      <td>Crime Fiction</td>\n",
       "      <td>NaN</td>\n",
       "      <td>NaN</td>\n",
       "      <td>NaN</td>\n",
       "      <td>NaN</td>\n",
       "      <td>NaN</td>\n",
       "      <td>13.632246</td>\n",
       "    </tr>\n",
       "    <tr>\n",
       "      <th>18141</th>\n",
       "      <td>/m/0c019sm</td>\n",
       "      <td>Gaayam</td>\n",
       "      <td>140.0</td>\n",
       "      <td>Telugu</td>\n",
       "      <td>India</td>\n",
       "      <td>1993.0</td>\n",
       "      <td>0.0</td>\n",
       "      <td>Ram Gopal Varma</td>\n",
       "      <td>Krishna Murali Posani</td>\n",
       "      <td>7.494420</td>\n",
       "      <td>Drama</td>\n",
       "      <td>NaN</td>\n",
       "      <td>NaN</td>\n",
       "      <td>NaN</td>\n",
       "      <td>NaN</td>\n",
       "      <td>NaN</td>\n",
       "      <td>5561.857955</td>\n",
       "    </tr>\n",
       "    <tr>\n",
       "      <th>21806</th>\n",
       "      <td>/m/04j0z0w</td>\n",
       "      <td>Paarai</td>\n",
       "      <td>140.0</td>\n",
       "      <td>Tamil</td>\n",
       "      <td>India</td>\n",
       "      <td>2001.0</td>\n",
       "      <td>NaN</td>\n",
       "      <td>NaN</td>\n",
       "      <td>NaN</td>\n",
       "      <td>NaN</td>\n",
       "      <td>Romantic drama</td>\n",
       "      <td>NaN</td>\n",
       "      <td>NaN</td>\n",
       "      <td>NaN</td>\n",
       "      <td>NaN</td>\n",
       "      <td>NaN</td>\n",
       "      <td>23.477273</td>\n",
       "    </tr>\n",
       "    <tr>\n",
       "      <th>58640</th>\n",
       "      <td>/m/02q_tth</td>\n",
       "      <td>Black Cadillac</td>\n",
       "      <td>92.0</td>\n",
       "      <td>English</td>\n",
       "      <td>United States of America</td>\n",
       "      <td>2003.0</td>\n",
       "      <td>0.0</td>\n",
       "      <td>John Murlowski</td>\n",
       "      <td>John Murlowski</td>\n",
       "      <td>5.801829</td>\n",
       "      <td>Psychological thriller</td>\n",
       "      <td>NaN</td>\n",
       "      <td>NaN</td>\n",
       "      <td>NaN</td>\n",
       "      <td>NaN</td>\n",
       "      <td>NaN</td>\n",
       "      <td>55.098732</td>\n",
       "    </tr>\n",
       "  </tbody>\n",
       "</table>\n",
       "</div>"
      ],
      "text/plain": [
       "      freebase_id                      name  runtime languages  \\\n",
       "75741  /m/0j65b5c       Gosainbaganer Bhoot      NaN       NaN   \n",
       "11046  /m/02q9n_9  Il Generale della Rovere    138.0    German   \n",
       "18141  /m/0c019sm                    Gaayam    140.0    Telugu   \n",
       "21806  /m/04j0z0w                    Paarai    140.0     Tamil   \n",
       "58640  /m/02q_tth            Black Cadillac     92.0   English   \n",
       "\n",
       "                      countries  release_year  isAdult        directors  \\\n",
       "75741                       NaN        2011.0      NaN              NaN   \n",
       "11046                    France        1959.0      NaN              NaN   \n",
       "18141                     India        1993.0      0.0  Ram Gopal Varma   \n",
       "21806                     India        2001.0      NaN              NaN   \n",
       "58640  United States of America        2003.0      0.0   John Murlowski   \n",
       "\n",
       "                     writers        WR                   genre  release_day  \\\n",
       "75741                    NaN       NaN                 Fantasy         30.0   \n",
       "11046                    NaN       NaN           Crime Fiction          NaN   \n",
       "18141  Krishna Murali Posani  7.494420                   Drama          NaN   \n",
       "21806                    NaN       NaN          Romantic drama          NaN   \n",
       "58640         John Murlowski  5.801829  Psychological thriller          NaN   \n",
       "\n",
       "       release_month  profit_modified  total_gross_modified  budget_modified  \\\n",
       "75741           12.0              NaN                   NaN              NaN   \n",
       "11046            NaN              NaN                   NaN              NaN   \n",
       "18141            NaN              NaN                   NaN              NaN   \n",
       "21806            NaN              NaN                   NaN              NaN   \n",
       "58640            NaN              NaN                   NaN              NaN   \n",
       "\n",
       "         pageviews  \n",
       "75741   167.383152  \n",
       "11046    13.632246  \n",
       "18141  5561.857955  \n",
       "21806    23.477273  \n",
       "58640    55.098732  "
      ]
     },
     "execution_count": 158,
     "metadata": {},
     "output_type": "execute_result"
    }
   ],
   "source": [
    "df_all_expanded.sample(5)"
   ]
  },
  {
   "cell_type": "markdown",
   "metadata": {},
   "source": [
    "For the final dataset obtained, we gather data from 4 different sources. In order to not restrain ourselves to only common features and end up with a smaller dataset, we made the choice of outer merges filled with NaN. Indeed, if we had taken inner merge of all datasets, it might be that our final dataset is both small and not badly representative of the population. \n",
    "\n",
    "Having NaN values has however some consequences on our data analysis. It might be that the NaN are not fully random, for instance, runtime for Crime movies are all missing values while we have the runtime for all Comedies. This should ideally be investigated further to check the NaN are indeed random. In the framework of this milestone, the choice was to focus on other tasks. We will thus assume randomness of NaN values.\n",
    "\n"
   ]
  },
  {
   "cell_type": "markdown",
   "metadata": {},
   "source": [
    "### Save dataframe to avoid running pre-processing"
   ]
  },
  {
   "cell_type": "code",
   "execution_count": null,
   "metadata": {},
   "outputs": [],
   "source": [
    "df_all.to_csv('./handled_data/dataframes/df_all.csv',encoding='utf-8')\n",
    "df_all_expanded.to_csv('./handled_data/dataframes/df_all_expanded.csv',encoding='utf-8')\n",
    "df_all_ohe.to_csv('./handled_data/dataframes/df_all_ohe.csv',encoding='utf-8')\n",
    "characters.to_csv('./handled_data/dataframes/characters.csv',encoding='utf-8')"
   ]
  },
  {
   "cell_type": "markdown",
   "metadata": {},
   "source": [
    "### Read processed dataframe to avoid running pre-processing"
   ]
  },
  {
   "cell_type": "code",
   "execution_count": 427,
   "metadata": {},
   "outputs": [
    {
     "name": "stderr",
     "output_type": "stream",
     "text": [
      "/opt/anaconda3/lib/python3.9/site-packages/IPython/core/interactiveshell.py:3457: DtypeWarning: Columns (1) have mixed types.Specify dtype option on import or set low_memory=False.\n",
      "  exec(code_obj, self.user_global_ns, self.user_ns)\n"
     ]
    }
   ],
   "source": [
    "import ast\n",
    "df_all = pd.read_csv('./handled_data/dataframes/df_all.csv',encoding='utf-8',index_col=0, na_values='',converters={column :ast.literal_eval for column in ['languages', 'countries', 'directors', 'writers', 'genre']})\n",
    "df_all_expanded = pd.read_csv('./handled_data/dataframes/df_all_expanded.csv',encoding='utf-8',index_col=0)\n",
    "df_all_ohe = pd.read_csv('./handled_data/dataframes/df_all_ohe.csv',encoding='utf-8',index_col=0)\n",
    "characters = pd.read_csv('./handled_data/dataframes/characters.csv',encoding='utf-8',index_col=0)"
   ]
  },
  {
   "cell_type": "markdown",
   "metadata": {},
   "source": [
    "# Exploratory Data Analysis"
   ]
  },
  {
   "cell_type": "markdown",
   "metadata": {},
   "source": [
    "## Success indicators"
   ]
  },
  {
   "cell_type": "markdown",
   "metadata": {},
   "source": [
    "Success of a movie can be very subjective. We thus need to diversify our definitions of success to have a holistic view of our dataset. The following success indicators are considered: \n",
    "- How well a movie is received: \n",
    "    IMDB ratings which should be weighted by the number of votes\n",
    "- How profitable a movie is: \n",
    "    Overall gross revenue of the movie OR profit = gross revenue - budget spent\n",
    "- How long a movie will last in time: \n",
    "    Number of connection to the movie wikipedia page\n"
   ]
  },
  {
   "cell_type": "markdown",
   "metadata": {},
   "source": [
    "## Explore data"
   ]
  },
  {
   "cell_type": "markdown",
   "metadata": {},
   "source": [
    "Looking at the impacts of features on eachother by drawing a correlation heatmap"
   ]
  },
  {
   "cell_type": "code",
   "execution_count": 428,
   "metadata": {
    "scrolled": true
   },
   "outputs": [
    {
     "data": {
      "image/png": "[encoded data removed]",
      "text/plain": [
       "<Figure size 1500x700 with 2 Axes>"
      ]
     },
     "metadata": {},
     "output_type": "display_data"
    }
   ],
   "source": [
    "fig, ax = plt.subplots(figsize=(15,7))\n",
    "sns.heatmap(df_all.corr(), annot=True, ax=ax).set(title='Heat map of correlations between different movie features');\n"
   ]
  },
  {
   "cell_type": "markdown",
   "metadata": {},
   "source": [
    "Interesting correlations: \n",
    "Our different success indicators are not too correlated (WR, profit_modified, pageviews) "
   ]
  },
  {
   "cell_type": "markdown",
   "metadata": {},
   "source": [
    "### Creation of unique success score"
   ]
  },
  {
   "cell_type": "markdown",
   "metadata": {},
   "source": [
    "In order to investigate the relation between movie features and success, it would be practical to have a unique movie success score. Seeing how the weighted ratings, the profit, and the number of pageviews are uncorrelated, a movie that is successful in time (high pageviews) might however not be the most profitable (high profit), same thing for IMDB rating. "
   ]
  },
  {
   "cell_type": "code",
   "execution_count": 429,
   "metadata": {},
   "outputs": [],
   "source": [
    "# We standardise each success feature\n",
    "df_all['WR_std'] = (df_all['WR'] - df_all['WR'].mean())/df_all['WR'].std()\n",
    "df_all['profit_modified_std'] = (df_all['profit_modified'] - df_all['profit_modified'].mean())/df_all['profit_modified'].std()\n",
    "df_all['pageviews_std'] = (df_all['pageviews'] - df_all['pageviews'].mean())/df_all['pageviews'].std()\n",
    "df_all['total_gross_modified_std'] = (df_all['total_gross_modified'] - df_all['total_gross_modified'].mean())/df_all['total_gross_modified'].std()\n",
    "\n"
   ]
  },
  {
   "cell_type": "code",
   "execution_count": 430,
   "metadata": {},
   "outputs": [],
   "source": [
    "# We L2 normalise each success feature\n",
    "df_all['WR_norm'] = df_all['WR'] / np.sqrt(np.square(df_all['WR']).sum(axis=0))\n",
    "df_all['profit_modified_norm'] = df_all['profit_modified'] / np.sqrt(np.square(df_all['profit_modified']).sum(axis=0))\n",
    "df_all['pageviews_norm'] = df_all['pageviews'] / np.sqrt(np.square(df_all['pageviews']).sum(axis=0))\n",
    "df_all['total_gross_modified_norm'] = df_all['total_gross_modified'] / np.sqrt(np.square(df_all['total_gross_modified']).sum(axis=0))\n",
    "\n"
   ]
  },
  {
   "cell_type": "code",
   "execution_count": 431,
   "metadata": {},
   "outputs": [
    {
     "data": {
      "text/html": [
       "<div>\n",
       "<style scoped>\n",
       "    .dataframe tbody tr th:only-of-type {\n",
       "        vertical-align: middle;\n",
       "    }\n",
       "\n",
       "    .dataframe tbody tr th {\n",
       "        vertical-align: top;\n",
       "    }\n",
       "\n",
       "    .dataframe thead th {\n",
       "        text-align: right;\n",
       "    }\n",
       "</style>\n",
       "<table border=\"1\" class=\"dataframe\">\n",
       "  <thead>\n",
       "    <tr style=\"text-align: right;\">\n",
       "      <th></th>\n",
       "      <th>WR_std</th>\n",
       "      <th>profit_modified_std</th>\n",
       "      <th>pageviews_std</th>\n",
       "      <th>WR_norm</th>\n",
       "      <th>profit_modified_norm</th>\n",
       "      <th>pageviews_norm</th>\n",
       "    </tr>\n",
       "  </thead>\n",
       "  <tbody>\n",
       "    <tr>\n",
       "      <th>count</th>\n",
       "      <td>4.403100e+04</td>\n",
       "      <td>2.464000e+03</td>\n",
       "      <td>7.330000e+04</td>\n",
       "      <td>44031.000000</td>\n",
       "      <td>2464.000000</td>\n",
       "      <td>73300.000000</td>\n",
       "    </tr>\n",
       "    <tr>\n",
       "      <th>mean</th>\n",
       "      <td>-1.879971e-15</td>\n",
       "      <td>-2.553648e-16</td>\n",
       "      <td>1.549868e-15</td>\n",
       "      <td>0.004693</td>\n",
       "      <td>0.009101</td>\n",
       "      <td>0.000325</td>\n",
       "    </tr>\n",
       "    <tr>\n",
       "      <th>std</th>\n",
       "      <td>1.000000e+00</td>\n",
       "      <td>1.000000e+00</td>\n",
       "      <td>1.000000e+00</td>\n",
       "      <td>0.000831</td>\n",
       "      <td>0.017976</td>\n",
       "      <td>0.003679</td>\n",
       "    </tr>\n",
       "    <tr>\n",
       "      <th>min</th>\n",
       "      <td>-4.619948e+00</td>\n",
       "      <td>-1.256965e+00</td>\n",
       "      <td>-8.842407e-02</td>\n",
       "      <td>0.000853</td>\n",
       "      <td>-0.013495</td>\n",
       "      <td>0.000000</td>\n",
       "    </tr>\n",
       "    <tr>\n",
       "      <th>25%</th>\n",
       "      <td>-5.535986e-01</td>\n",
       "      <td>-5.027024e-01</td>\n",
       "      <td>-8.766778e-02</td>\n",
       "      <td>0.004233</td>\n",
       "      <td>0.000064</td>\n",
       "      <td>0.000003</td>\n",
       "    </tr>\n",
       "    <tr>\n",
       "      <th>50%</th>\n",
       "      <td>8.414206e-02</td>\n",
       "      <td>-3.343836e-01</td>\n",
       "      <td>-8.430741e-02</td>\n",
       "      <td>0.004763</td>\n",
       "      <td>0.003090</td>\n",
       "      <td>0.000015</td>\n",
       "    </tr>\n",
       "    <tr>\n",
       "      <th>75%</th>\n",
       "      <td>7.022702e-01</td>\n",
       "      <td>1.030759e-01</td>\n",
       "      <td>-6.622515e-02</td>\n",
       "      <td>0.005276</td>\n",
       "      <td>0.010954</td>\n",
       "      <td>0.000082</td>\n",
       "    </tr>\n",
       "    <tr>\n",
       "      <th>max</th>\n",
       "      <td>2.941601e+00</td>\n",
       "      <td>1.670645e+01</td>\n",
       "      <td>8.950422e+01</td>\n",
       "      <td>0.007137</td>\n",
       "      <td>0.309422</td>\n",
       "      <td>0.329634</td>\n",
       "    </tr>\n",
       "  </tbody>\n",
       "</table>\n",
       "</div>"
      ],
      "text/plain": [
       "             WR_std  profit_modified_std  pageviews_std       WR_norm  \\\n",
       "count  4.403100e+04         2.464000e+03   7.330000e+04  44031.000000   \n",
       "mean  -1.879971e-15        -2.553648e-16   1.549868e-15      0.004693   \n",
       "std    1.000000e+00         1.000000e+00   1.000000e+00      0.000831   \n",
       "min   -4.619948e+00        -1.256965e+00  -8.842407e-02      0.000853   \n",
       "25%   -5.535986e-01        -5.027024e-01  -8.766778e-02      0.004233   \n",
       "50%    8.414206e-02        -3.343836e-01  -8.430741e-02      0.004763   \n",
       "75%    7.022702e-01         1.030759e-01  -6.622515e-02      0.005276   \n",
       "max    2.941601e+00         1.670645e+01   8.950422e+01      0.007137   \n",
       "\n",
       "       profit_modified_norm  pageviews_norm  \n",
       "count           2464.000000    73300.000000  \n",
       "mean               0.009101        0.000325  \n",
       "std                0.017976        0.003679  \n",
       "min               -0.013495        0.000000  \n",
       "25%                0.000064        0.000003  \n",
       "50%                0.003090        0.000015  \n",
       "75%                0.010954        0.000082  \n",
       "max                0.309422        0.329634  "
      ]
     },
     "execution_count": 431,
     "metadata": {},
     "output_type": "execute_result"
    }
   ],
   "source": [
    "df_all[['WR_std','profit_modified_std','pageviews_std','WR_norm','profit_modified_norm','pageviews_norm']].describe()"
   ]
  },
  {
   "cell_type": "code",
   "execution_count": 432,
   "metadata": {},
   "outputs": [
    {
     "data": {
      "image/png": "[encoded data removed]",
      "text/plain": [
       "<Figure size 500x300 with 2 Axes>"
      ]
     },
     "metadata": {},
     "output_type": "display_data"
    }
   ],
   "source": [
    "fig, ax = plt.subplots(figsize=(5,3))\n",
    "sns.heatmap(df_all[['WR_std','profit_modified_std','pageviews_std','total_gross_modified_std']].corr(), annot=True, ax=ax).set(title='Heat map of correlations between different movie features');"
   ]
  },
  {
   "cell_type": "code",
   "execution_count": 433,
   "metadata": {},
   "outputs": [
    {
     "data": {
      "image/png": "[encoded data removed]",
      "text/plain": [
       "<Figure size 500x300 with 2 Axes>"
      ]
     },
     "metadata": {},
     "output_type": "display_data"
    }
   ],
   "source": [
    "fig, ax = plt.subplots(figsize=(5,3))\n",
    "sns.heatmap(df_all[['WR_norm','profit_modified_norm','pageviews_norm','total_gross_modified_norm']].corr(), annot=True, ax=ax).set(title='Heat map of correlations between different movie features');"
   ]
  },
  {
   "cell_type": "markdown",
   "metadata": {},
   "source": [
    "There is still no strong correlations between success features. This indicates that the different scores are independent. Therefore, we create a single movie score based on the rank of each movie for individual scores. The best movie according to each individual feature will thus be ranked with score 1."
   ]
  },
  {
   "cell_type": "code",
   "execution_count": 434,
   "metadata": {},
   "outputs": [],
   "source": [
    "# Rating of movies according to feature 1: WR : Score 1 'S1'\n",
    "df_all.sort_values(by='WR',ascending=False,inplace=True)\n",
    "df_all['S1'] = np.arange(1, len(df_all)+1)\n",
    "\n",
    "# Rating of movies according to feature 2: profit_modified : Score 2 'S2'\n",
    "df_all.sort_values(by='profit_modified',ascending=False,inplace=True)\n",
    "df_all['S2'] = np.arange(1, len(df_all)+1)\n",
    "\n",
    "# Rating of movies according to feature 3: total_gross_modified : Score 3 'S3'\n",
    "df_all.sort_values(by='total_gross_modified',ascending=False,inplace=True)\n",
    "df_all['S3'] = np.arange(1, len(df_all)+1)\n",
    "\n",
    "# Rating of movies according to feature 4: pageviews : Score 4 'S4'\n",
    "df_all.sort_values(by='pageviews',ascending=False,inplace=True)\n",
    "df_all['S4'] = np.arange(1, len(df_all)+1)"
   ]
  },
  {
   "cell_type": "code",
   "execution_count": 435,
   "metadata": {},
   "outputs": [],
   "source": [
    "# Create aggregated score for movie: \n",
    "df_all['Score'] = df_all[['S1','S2','S3','S4']].min(axis=1)"
   ]
  },
  {
   "cell_type": "code",
   "execution_count": 436,
   "metadata": {},
   "outputs": [
    {
     "data": {
      "text/html": [
       "<div>\n",
       "<style scoped>\n",
       "    .dataframe tbody tr th:only-of-type {\n",
       "        vertical-align: middle;\n",
       "    }\n",
       "\n",
       "    .dataframe tbody tr th {\n",
       "        vertical-align: top;\n",
       "    }\n",
       "\n",
       "    .dataframe thead th {\n",
       "        text-align: right;\n",
       "    }\n",
       "</style>\n",
       "<table border=\"1\" class=\"dataframe\">\n",
       "  <thead>\n",
       "    <tr style=\"text-align: right;\">\n",
       "      <th></th>\n",
       "      <th>freebase_id</th>\n",
       "      <th>name</th>\n",
       "      <th>runtime</th>\n",
       "      <th>languages</th>\n",
       "      <th>countries</th>\n",
       "      <th>release_year</th>\n",
       "      <th>isAdult</th>\n",
       "      <th>directors</th>\n",
       "      <th>writers</th>\n",
       "      <th>WR</th>\n",
       "      <th>...</th>\n",
       "      <th>total_gross_modified_std</th>\n",
       "      <th>WR_norm</th>\n",
       "      <th>profit_modified_norm</th>\n",
       "      <th>pageviews_norm</th>\n",
       "      <th>total_gross_modified_norm</th>\n",
       "      <th>S1</th>\n",
       "      <th>S2</th>\n",
       "      <th>S3</th>\n",
       "      <th>S4</th>\n",
       "      <th>Score</th>\n",
       "    </tr>\n",
       "  </thead>\n",
       "  <tbody>\n",
       "    <tr>\n",
       "      <th>26179</th>\n",
       "      <td>/m/0g0b78</td>\n",
       "      <td>Cleopatra</td>\n",
       "      <td>102.0</td>\n",
       "      <td>[English]</td>\n",
       "      <td>[United States of America]</td>\n",
       "      <td>1934.0</td>\n",
       "      <td>0.0</td>\n",
       "      <td>[Cecil B. DeMille]</td>\n",
       "      <td>[Waldemar Young, Vincent Lawrence, Bartlett Co...</td>\n",
       "      <td>6.800187</td>\n",
       "      <td>...</td>\n",
       "      <td>NaN</td>\n",
       "      <td>0.005127</td>\n",
       "      <td>NaN</td>\n",
       "      <td>3.296340e-01</td>\n",
       "      <td>NaN</td>\n",
       "      <td>14161</td>\n",
       "      <td>15703</td>\n",
       "      <td>20346</td>\n",
       "      <td>1</td>\n",
       "      <td>1</td>\n",
       "    </tr>\n",
       "    <tr>\n",
       "      <th>22040</th>\n",
       "      <td>/m/0h5ndj</td>\n",
       "      <td>The Ambassador</td>\n",
       "      <td>27.0</td>\n",
       "      <td>[English]</td>\n",
       "      <td>[United States of America]</td>\n",
       "      <td>2008.0</td>\n",
       "      <td>0.0</td>\n",
       "      <td>[Rob Sitch]</td>\n",
       "      <td>[Santo Cilauro, Tom Gleisner, Rob Sitch]</td>\n",
       "      <td>9.467126</td>\n",
       "      <td>...</td>\n",
       "      <td>NaN</td>\n",
       "      <td>0.007137</td>\n",
       "      <td>NaN</td>\n",
       "      <td>1.227555e-06</td>\n",
       "      <td>NaN</td>\n",
       "      <td>1</td>\n",
       "      <td>2465</td>\n",
       "      <td>8393</td>\n",
       "      <td>62937</td>\n",
       "      <td>1</td>\n",
       "    </tr>\n",
       "    <tr>\n",
       "      <th>23686</th>\n",
       "      <td>/m/0bth54</td>\n",
       "      <td>Avatar</td>\n",
       "      <td>178.0</td>\n",
       "      <td>[English, Spanish]</td>\n",
       "      <td>[United States of America, United Kingdom]</td>\n",
       "      <td>2009.0</td>\n",
       "      <td>0.0</td>\n",
       "      <td>[James Cameron]</td>\n",
       "      <td>[James Cameron]</td>\n",
       "      <td>7.799997</td>\n",
       "      <td>...</td>\n",
       "      <td>23.569749</td>\n",
       "      <td>0.005880</td>\n",
       "      <td>0.309422</td>\n",
       "      <td>2.500677e-03</td>\n",
       "      <td>0.240222</td>\n",
       "      <td>2113</td>\n",
       "      <td>1</td>\n",
       "      <td>1</td>\n",
       "      <td>2085</td>\n",
       "      <td>1</td>\n",
       "    </tr>\n",
       "    <tr>\n",
       "      <th>4290</th>\n",
       "      <td>/m/06_vgr3</td>\n",
       "      <td>The Ape</td>\n",
       "      <td>81.0</td>\n",
       "      <td>[Swedish]</td>\n",
       "      <td>[Sweden]</td>\n",
       "      <td>2009.0</td>\n",
       "      <td>0.0</td>\n",
       "      <td>[Joe Pinkerton]</td>\n",
       "      <td>[Joe Pinkerton]</td>\n",
       "      <td>9.466483</td>\n",
       "      <td>...</td>\n",
       "      <td>NaN</td>\n",
       "      <td>0.007137</td>\n",
       "      <td>NaN</td>\n",
       "      <td>7.557019e-07</td>\n",
       "      <td>NaN</td>\n",
       "      <td>2</td>\n",
       "      <td>2466</td>\n",
       "      <td>8394</td>\n",
       "      <td>66129</td>\n",
       "      <td>2</td>\n",
       "    </tr>\n",
       "    <tr>\n",
       "      <th>22242</th>\n",
       "      <td>/m/0dr_4</td>\n",
       "      <td>Titanic</td>\n",
       "      <td>194.0</td>\n",
       "      <td>[Italian, English, French, Swedish, Russian, G...</td>\n",
       "      <td>[United States of America]</td>\n",
       "      <td>1997.0</td>\n",
       "      <td>0.0</td>\n",
       "      <td>[James Cameron]</td>\n",
       "      <td>[James Cameron]</td>\n",
       "      <td>7.899996</td>\n",
       "      <td>...</td>\n",
       "      <td>19.177891</td>\n",
       "      <td>0.005956</td>\n",
       "      <td>0.251062</td>\n",
       "      <td>2.269720e-02</td>\n",
       "      <td>0.196273</td>\n",
       "      <td>1636</td>\n",
       "      <td>2</td>\n",
       "      <td>2</td>\n",
       "      <td>48</td>\n",
       "      <td>2</td>\n",
       "    </tr>\n",
       "    <tr>\n",
       "      <th>66506</th>\n",
       "      <td>/m/0c_vtb</td>\n",
       "      <td>Cleopatra</td>\n",
       "      <td>125.0</td>\n",
       "      <td>[English]</td>\n",
       "      <td>[United States of America]</td>\n",
       "      <td>1917.0</td>\n",
       "      <td>0.0</td>\n",
       "      <td>[J. Gordon Edwards]</td>\n",
       "      <td>[H. Rider Haggard, Adrian Johnson, Émile Morea...</td>\n",
       "      <td>6.604771</td>\n",
       "      <td>...</td>\n",
       "      <td>NaN</td>\n",
       "      <td>0.004979</td>\n",
       "      <td>NaN</td>\n",
       "      <td>3.296340e-01</td>\n",
       "      <td>NaN</td>\n",
       "      <td>16823</td>\n",
       "      <td>18170</td>\n",
       "      <td>22487</td>\n",
       "      <td>2</td>\n",
       "      <td>2</td>\n",
       "    </tr>\n",
       "    <tr>\n",
       "      <th>31290</th>\n",
       "      <td>/m/05mxr92</td>\n",
       "      <td>I Love You</td>\n",
       "      <td>47.0</td>\n",
       "      <td>[Oriya]</td>\n",
       "      <td>[India]</td>\n",
       "      <td>2005.0</td>\n",
       "      <td>0.0</td>\n",
       "      <td>[Kelly Makin]</td>\n",
       "      <td>[Ron Cowen, Daniel Lipman, Del Shores]</td>\n",
       "      <td>9.460559</td>\n",
       "      <td>...</td>\n",
       "      <td>NaN</td>\n",
       "      <td>0.007132</td>\n",
       "      <td>NaN</td>\n",
       "      <td>9.016045e-05</td>\n",
       "      <td>NaN</td>\n",
       "      <td>3</td>\n",
       "      <td>2467</td>\n",
       "      <td>8395</td>\n",
       "      <td>17410</td>\n",
       "      <td>3</td>\n",
       "    </tr>\n",
       "    <tr>\n",
       "      <th>4348</th>\n",
       "      <td>/m/03wc1kv</td>\n",
       "      <td>Cleopatra</td>\n",
       "      <td>NaN</td>\n",
       "      <td>[Tamil]</td>\n",
       "      <td>[India]</td>\n",
       "      <td>2005.0</td>\n",
       "      <td>NaN</td>\n",
       "      <td>[]</td>\n",
       "      <td>[]</td>\n",
       "      <td>NaN</td>\n",
       "      <td>...</td>\n",
       "      <td>NaN</td>\n",
       "      <td>NaN</td>\n",
       "      <td>NaN</td>\n",
       "      <td>3.296340e-01</td>\n",
       "      <td>NaN</td>\n",
       "      <td>46030</td>\n",
       "      <td>46044</td>\n",
       "      <td>47465</td>\n",
       "      <td>3</td>\n",
       "      <td>3</td>\n",
       "    </tr>\n",
       "    <tr>\n",
       "      <th>28169</th>\n",
       "      <td>/m/062zm5h</td>\n",
       "      <td>The Avengers</td>\n",
       "      <td>137.0</td>\n",
       "      <td>[Russian, English]</td>\n",
       "      <td>[United States of America]</td>\n",
       "      <td>2012.0</td>\n",
       "      <td>0.0</td>\n",
       "      <td>[Joss Whedon]</td>\n",
       "      <td>[Joss Whedon, Zak Penn]</td>\n",
       "      <td>7.999996</td>\n",
       "      <td>...</td>\n",
       "      <td>12.607598</td>\n",
       "      <td>0.006031</td>\n",
       "      <td>0.156428</td>\n",
       "      <td>4.929440e-05</td>\n",
       "      <td>0.130525</td>\n",
       "      <td>1255</td>\n",
       "      <td>3</td>\n",
       "      <td>3</td>\n",
       "      <td>23231</td>\n",
       "      <td>3</td>\n",
       "    </tr>\n",
       "    <tr>\n",
       "      <th>1391</th>\n",
       "      <td>/m/04lghwf</td>\n",
       "      <td>Cleopatra</td>\n",
       "      <td>88.0</td>\n",
       "      <td>[English]</td>\n",
       "      <td>[United States of America]</td>\n",
       "      <td>1912.0</td>\n",
       "      <td>0.0</td>\n",
       "      <td>[Charles L. Gaskill]</td>\n",
       "      <td>[Victorien Sardou, Charles L. Gaskill]</td>\n",
       "      <td>5.117086</td>\n",
       "      <td>...</td>\n",
       "      <td>NaN</td>\n",
       "      <td>0.003858</td>\n",
       "      <td>NaN</td>\n",
       "      <td>3.296340e-01</td>\n",
       "      <td>NaN</td>\n",
       "      <td>37705</td>\n",
       "      <td>37941</td>\n",
       "      <td>39898</td>\n",
       "      <td>4</td>\n",
       "      <td>4</td>\n",
       "    </tr>\n",
       "  </tbody>\n",
       "</table>\n",
       "<p>10 rows × 30 columns</p>\n",
       "</div>"
      ],
      "text/plain": [
       "      freebase_id            name  runtime  \\\n",
       "26179   /m/0g0b78       Cleopatra    102.0   \n",
       "22040   /m/0h5ndj  The Ambassador     27.0   \n",
       "23686   /m/0bth54          Avatar    178.0   \n",
       "4290   /m/06_vgr3         The Ape     81.0   \n",
       "22242    /m/0dr_4         Titanic    194.0   \n",
       "66506   /m/0c_vtb       Cleopatra    125.0   \n",
       "31290  /m/05mxr92      I Love You     47.0   \n",
       "4348   /m/03wc1kv       Cleopatra      NaN   \n",
       "28169  /m/062zm5h    The Avengers    137.0   \n",
       "1391   /m/04lghwf       Cleopatra     88.0   \n",
       "\n",
       "                                               languages  \\\n",
       "26179                                          [English]   \n",
       "22040                                          [English]   \n",
       "23686                                 [English, Spanish]   \n",
       "4290                                           [Swedish]   \n",
       "22242  [Italian, English, French, Swedish, Russian, G...   \n",
       "66506                                          [English]   \n",
       "31290                                            [Oriya]   \n",
       "4348                                             [Tamil]   \n",
       "28169                                 [Russian, English]   \n",
       "1391                                           [English]   \n",
       "\n",
       "                                        countries  release_year  isAdult  \\\n",
       "26179                  [United States of America]        1934.0      0.0   \n",
       "22040                  [United States of America]        2008.0      0.0   \n",
       "23686  [United States of America, United Kingdom]        2009.0      0.0   \n",
       "4290                                     [Sweden]        2009.0      0.0   \n",
       "22242                  [United States of America]        1997.0      0.0   \n",
       "66506                  [United States of America]        1917.0      0.0   \n",
       "31290                                     [India]        2005.0      0.0   \n",
       "4348                                      [India]        2005.0      NaN   \n",
       "28169                  [United States of America]        2012.0      0.0   \n",
       "1391                   [United States of America]        1912.0      0.0   \n",
       "\n",
       "                  directors  \\\n",
       "26179    [Cecil B. DeMille]   \n",
       "22040           [Rob Sitch]   \n",
       "23686       [James Cameron]   \n",
       "4290        [Joe Pinkerton]   \n",
       "22242       [James Cameron]   \n",
       "66506   [J. Gordon Edwards]   \n",
       "31290         [Kelly Makin]   \n",
       "4348                     []   \n",
       "28169         [Joss Whedon]   \n",
       "1391   [Charles L. Gaskill]   \n",
       "\n",
       "                                                 writers        WR  ...  \\\n",
       "26179  [Waldemar Young, Vincent Lawrence, Bartlett Co...  6.800187  ...   \n",
       "22040           [Santo Cilauro, Tom Gleisner, Rob Sitch]  9.467126  ...   \n",
       "23686                                    [James Cameron]  7.799997  ...   \n",
       "4290                                     [Joe Pinkerton]  9.466483  ...   \n",
       "22242                                    [James Cameron]  7.899996  ...   \n",
       "66506  [H. Rider Haggard, Adrian Johnson, Émile Morea...  6.604771  ...   \n",
       "31290             [Ron Cowen, Daniel Lipman, Del Shores]  9.460559  ...   \n",
       "4348                                                  []       NaN  ...   \n",
       "28169                            [Joss Whedon, Zak Penn]  7.999996  ...   \n",
       "1391              [Victorien Sardou, Charles L. Gaskill]  5.117086  ...   \n",
       "\n",
       "      total_gross_modified_std   WR_norm  profit_modified_norm  \\\n",
       "26179                      NaN  0.005127                   NaN   \n",
       "22040                      NaN  0.007137                   NaN   \n",
       "23686                23.569749  0.005880              0.309422   \n",
       "4290                       NaN  0.007137                   NaN   \n",
       "22242                19.177891  0.005956              0.251062   \n",
       "66506                      NaN  0.004979                   NaN   \n",
       "31290                      NaN  0.007132                   NaN   \n",
       "4348                       NaN       NaN                   NaN   \n",
       "28169                12.607598  0.006031              0.156428   \n",
       "1391                       NaN  0.003858                   NaN   \n",
       "\n",
       "       pageviews_norm  total_gross_modified_norm     S1     S2     S3     S4  \\\n",
       "26179    3.296340e-01                        NaN  14161  15703  20346      1   \n",
       "22040    1.227555e-06                        NaN      1   2465   8393  62937   \n",
       "23686    2.500677e-03                   0.240222   2113      1      1   2085   \n",
       "4290     7.557019e-07                        NaN      2   2466   8394  66129   \n",
       "22242    2.269720e-02                   0.196273   1636      2      2     48   \n",
       "66506    3.296340e-01                        NaN  16823  18170  22487      2   \n",
       "31290    9.016045e-05                        NaN      3   2467   8395  17410   \n",
       "4348     3.296340e-01                        NaN  46030  46044  47465      3   \n",
       "28169    4.929440e-05                   0.130525   1255      3      3  23231   \n",
       "1391     3.296340e-01                        NaN  37705  37941  39898      4   \n",
       "\n",
       "       Score  \n",
       "26179      1  \n",
       "22040      1  \n",
       "23686      1  \n",
       "4290       2  \n",
       "22242      2  \n",
       "66506      2  \n",
       "31290      3  \n",
       "4348       3  \n",
       "28169      3  \n",
       "1391       4  \n",
       "\n",
       "[10 rows x 30 columns]"
      ]
     },
     "execution_count": 436,
     "metadata": {},
     "output_type": "execute_result"
    }
   ],
   "source": [
    "df_all.sort_values(by='Score').head(10)"
   ]
  },
  {
   "cell_type": "markdown",
   "metadata": {},
   "source": [
    "### Create success score for movie features"
   ]
  },
  {
   "cell_type": "markdown",
   "metadata": {},
   "source": [
    "Since we would like to compute the added value of movie features, we want to calculate scores for particular features. In particular, we are interested in estimating a score for combinations of features. For instance, two actors combined together might bring an additional value to a movie that they wouldn't if they were acting independently. We thus want to calculate a weight of actor and director pairs."
   ]
  },
  {
   "cell_type": "code",
   "execution_count": 437,
   "metadata": {},
   "outputs": [],
   "source": [
    "def score_movie_element(df, column_name):\n",
    "    df = df.dropna(subset=[column_name], axis=0)\n",
    "    df = df.explode(column_name)\n",
    "    df = df.groupby(column_name)['Score'].mean().to_frame().reset_index()\n",
    "    return df"
   ]
  },
  {
   "cell_type": "code",
   "execution_count": 438,
   "metadata": {},
   "outputs": [],
   "source": [
    "def score_movie_element_groups(df, column_name):\n",
    "    df = df.copy().dropna(subset=[column_name], axis=0)\n",
    "    df[column_name] = df[column_name].apply(lambda x: list(itertools.combinations(set(x), 2)))\n",
    "    df = df[df[column_name].map(lambda d: len(d)) > 0]\n",
    "    df = df.explode(column_name)\n",
    "    df = df.groupby(column_name)['Score'].mean().to_frame().reset_index()\n",
    "    df_AB = pd.DataFrame(df[column_name].tolist()).add_prefix(column_name).reset_index(drop=True)\n",
    "    df[df_AB.columns] = df_AB\n",
    "    return df.reset_index(drop=True)"
   ]
  },
  {
   "cell_type": "markdown",
   "metadata": {},
   "source": [
    "As done with IMDB rating, we want to weight the score by the number of movies: \n",
    "weighted rating (Score) = (v ÷ (v+m)) × R + (m ÷ (v+m)) × C \n",
    "where:\n",
    "- R = mean score of feature i accross all movies\n",
    "- v = number of movies in which feature i plays a role\n",
    "- m = minimum number of movies: 1\n",
    "- C = mean score accross all features"
   ]
  },
  {
   "cell_type": "code",
   "execution_count": 462,
   "metadata": {},
   "outputs": [],
   "source": [
    "def weighted_rating(df, column_score, column_nmb_movies):\n",
    "    R = df[column_score]\n",
    "    v = df[column_nmb_movies]\n",
    "    m = df[column_nmb_movies].min()\n",
    "    C = df[column_score].mean()\n",
    "    WR = (v/(v+m)) * R + (m/(v+m)) * C  \n",
    "    WR = WR / WR.min() # Trick to have scores starting at 1\n",
    "    df[column_score + '_weighted'] = WR # Update score column\n",
    "    return df"
   ]
  },
  {
   "cell_type": "markdown",
   "metadata": {},
   "source": [
    "#### Added value of actor pairs"
   ]
  },
  {
   "cell_type": "code",
   "execution_count": 440,
   "metadata": {},
   "outputs": [],
   "source": [
    "actors = characters.dropna(subset=['actor_name'], axis=0).groupby('freebase_movie_id')['actor_name'].apply(list).to_frame().reset_index()"
   ]
  },
  {
   "cell_type": "code",
   "execution_count": 442,
   "metadata": {},
   "outputs": [],
   "source": [
    "df_all = pd.merge(df_all, actors, left_on='freebase_id', right_on='freebase_movie_id', how='left').drop(columns=['freebase_movie_id'])"
   ]
  },
  {
   "cell_type": "code",
   "execution_count": 443,
   "metadata": {
    "scrolled": false
   },
   "outputs": [
    {
     "data": {
      "text/html": [
       "<div>\n",
       "<style scoped>\n",
       "    .dataframe tbody tr th:only-of-type {\n",
       "        vertical-align: middle;\n",
       "    }\n",
       "\n",
       "    .dataframe tbody tr th {\n",
       "        vertical-align: top;\n",
       "    }\n",
       "\n",
       "    .dataframe thead th {\n",
       "        text-align: right;\n",
       "    }\n",
       "</style>\n",
       "<table border=\"1\" class=\"dataframe\">\n",
       "  <thead>\n",
       "    <tr style=\"text-align: right;\">\n",
       "      <th></th>\n",
       "      <th>freebase_id</th>\n",
       "      <th>name</th>\n",
       "      <th>runtime</th>\n",
       "      <th>languages</th>\n",
       "      <th>countries</th>\n",
       "      <th>release_year</th>\n",
       "      <th>isAdult</th>\n",
       "      <th>directors</th>\n",
       "      <th>writers</th>\n",
       "      <th>WR</th>\n",
       "      <th>...</th>\n",
       "      <th>WR_norm</th>\n",
       "      <th>profit_modified_norm</th>\n",
       "      <th>pageviews_norm</th>\n",
       "      <th>total_gross_modified_norm</th>\n",
       "      <th>S1</th>\n",
       "      <th>S2</th>\n",
       "      <th>S3</th>\n",
       "      <th>S4</th>\n",
       "      <th>Score</th>\n",
       "      <th>actor_name</th>\n",
       "    </tr>\n",
       "  </thead>\n",
       "  <tbody>\n",
       "    <tr>\n",
       "      <th>73257</th>\n",
       "      <td>/m/04jnmdb</td>\n",
       "      <td>Ngain Nghon</td>\n",
       "      <td>NaN</td>\n",
       "      <td>[]</td>\n",
       "      <td>[Nepal]</td>\n",
       "      <td>2007.0</td>\n",
       "      <td>NaN</td>\n",
       "      <td>[]</td>\n",
       "      <td>[]</td>\n",
       "      <td>NaN</td>\n",
       "      <td>...</td>\n",
       "      <td>NaN</td>\n",
       "      <td>NaN</td>\n",
       "      <td>0.000000</td>\n",
       "      <td>NaN</td>\n",
       "      <td>66089</td>\n",
       "      <td>66099</td>\n",
       "      <td>66681</td>\n",
       "      <td>73258</td>\n",
       "      <td>66089</td>\n",
       "      <td>[Basanti Gurung, Gaman Gurung]</td>\n",
       "    </tr>\n",
       "    <tr>\n",
       "      <th>12910</th>\n",
       "      <td>/m/07s4s06</td>\n",
       "      <td>Barefoot Gen 2</td>\n",
       "      <td>NaN</td>\n",
       "      <td>[Japanese]</td>\n",
       "      <td>[Japan]</td>\n",
       "      <td>1986.0</td>\n",
       "      <td>NaN</td>\n",
       "      <td>[]</td>\n",
       "      <td>[]</td>\n",
       "      <td>NaN</td>\n",
       "      <td>...</td>\n",
       "      <td>NaN</td>\n",
       "      <td>NaN</td>\n",
       "      <td>0.000159</td>\n",
       "      <td>NaN</td>\n",
       "      <td>51568</td>\n",
       "      <td>51580</td>\n",
       "      <td>52765</td>\n",
       "      <td>12911</td>\n",
       "      <td>12911</td>\n",
       "      <td>[Kōichi Kitamura, Masaki Kôda, Issei Miyazaki,...</td>\n",
       "    </tr>\n",
       "    <tr>\n",
       "      <th>75059</th>\n",
       "      <td>/m/025tvnd</td>\n",
       "      <td>Livin' It LA</td>\n",
       "      <td>NaN</td>\n",
       "      <td>[]</td>\n",
       "      <td>[]</td>\n",
       "      <td>NaN</td>\n",
       "      <td>NaN</td>\n",
       "      <td>[]</td>\n",
       "      <td>[]</td>\n",
       "      <td>NaN</td>\n",
       "      <td>...</td>\n",
       "      <td>NaN</td>\n",
       "      <td>NaN</td>\n",
       "      <td>NaN</td>\n",
       "      <td>NaN</td>\n",
       "      <td>47482</td>\n",
       "      <td>47496</td>\n",
       "      <td>48848</td>\n",
       "      <td>75060</td>\n",
       "      <td>47482</td>\n",
       "      <td>NaN</td>\n",
       "    </tr>\n",
       "  </tbody>\n",
       "</table>\n",
       "<p>3 rows × 31 columns</p>\n",
       "</div>"
      ],
      "text/plain": [
       "      freebase_id            name  runtime   languages countries  \\\n",
       "73257  /m/04jnmdb     Ngain Nghon      NaN          []   [Nepal]   \n",
       "12910  /m/07s4s06  Barefoot Gen 2      NaN  [Japanese]   [Japan]   \n",
       "75059  /m/025tvnd    Livin' It LA      NaN          []        []   \n",
       "\n",
       "       release_year  isAdult directors writers  WR  ... WR_norm  \\\n",
       "73257        2007.0      NaN        []      [] NaN  ...     NaN   \n",
       "12910        1986.0      NaN        []      [] NaN  ...     NaN   \n",
       "75059           NaN      NaN        []      [] NaN  ...     NaN   \n",
       "\n",
       "       profit_modified_norm  pageviews_norm  total_gross_modified_norm     S1  \\\n",
       "73257                   NaN        0.000000                        NaN  66089   \n",
       "12910                   NaN        0.000159                        NaN  51568   \n",
       "75059                   NaN             NaN                        NaN  47482   \n",
       "\n",
       "          S2     S3     S4  Score  \\\n",
       "73257  66099  66681  73258  66089   \n",
       "12910  51580  52765  12911  12911   \n",
       "75059  47496  48848  75060  47482   \n",
       "\n",
       "                                              actor_name  \n",
       "73257                     [Basanti Gurung, Gaman Gurung]  \n",
       "12910  [Kōichi Kitamura, Masaki Kôda, Issei Miyazaki,...  \n",
       "75059                                                NaN  \n",
       "\n",
       "[3 rows x 31 columns]"
      ]
     },
     "execution_count": 443,
     "metadata": {},
     "output_type": "execute_result"
    }
   ],
   "source": [
    "df_all.sample(3)"
   ]
  },
  {
   "cell_type": "code",
   "execution_count": 449,
   "metadata": {},
   "outputs": [],
   "source": [
    "actors_score = score_movie_element(df_all, 'actor_name')\n"
   ]
  },
  {
   "cell_type": "code",
   "execution_count": 450,
   "metadata": {},
   "outputs": [],
   "source": [
    "# Add number of movies:\n",
    "characters['num_movies'] = characters.groupby(by=['freebase_actor_id'])['freebase_actor_id'].transform('size')\n",
    "actors_score = actors_score.merge(characters[['actor_name','num_movies']].drop_duplicates(['actor_name']),on='actor_name',how='inner')\n",
    "actors_score.head()"
   ]
  },
  {
   "cell_type": "code",
   "execution_count": 464,
   "metadata": {},
   "outputs": [],
   "source": [
    "# Weight score by number of movies: \n",
    "actors_score = weighted_rating(actors_score, 'Score', 'num_movies')"
   ]
  },
  {
   "cell_type": "code",
   "execution_count": 465,
   "metadata": {},
   "outputs": [
    {
     "data": {
      "text/html": [
       "<div>\n",
       "<style scoped>\n",
       "    .dataframe tbody tr th:only-of-type {\n",
       "        vertical-align: middle;\n",
       "    }\n",
       "\n",
       "    .dataframe tbody tr th {\n",
       "        vertical-align: top;\n",
       "    }\n",
       "\n",
       "    .dataframe thead th {\n",
       "        text-align: right;\n",
       "    }\n",
       "</style>\n",
       "<table border=\"1\" class=\"dataframe\">\n",
       "  <thead>\n",
       "    <tr style=\"text-align: right;\">\n",
       "      <th></th>\n",
       "      <th>actor_name</th>\n",
       "      <th>Score</th>\n",
       "      <th>num_movies</th>\n",
       "      <th>Score_weighted</th>\n",
       "    </tr>\n",
       "  </thead>\n",
       "  <tbody>\n",
       "    <tr>\n",
       "      <th>760</th>\n",
       "      <td>Adam Sandler</td>\n",
       "      <td>1904.425000</td>\n",
       "      <td>40.0</td>\n",
       "      <td>1.000000</td>\n",
       "    </tr>\n",
       "    <tr>\n",
       "      <th>4301</th>\n",
       "      <td>Allen Covert</td>\n",
       "      <td>1530.529412</td>\n",
       "      <td>17.0</td>\n",
       "      <td>1.140542</td>\n",
       "    </tr>\n",
       "    <tr>\n",
       "      <th>29938</th>\n",
       "      <td>Devon Murray</td>\n",
       "      <td>292.375000</td>\n",
       "      <td>8.0</td>\n",
       "      <td>1.207286</td>\n",
       "    </tr>\n",
       "    <tr>\n",
       "      <th>3699</th>\n",
       "      <td>Alfred Enoch</td>\n",
       "      <td>15.285714</td>\n",
       "      <td>7.0</td>\n",
       "      <td>1.244333</td>\n",
       "    </tr>\n",
       "    <tr>\n",
       "      <th>24123</th>\n",
       "      <td>Common</td>\n",
       "      <td>1317.272727</td>\n",
       "      <td>11.0</td>\n",
       "      <td>1.318716</td>\n",
       "    </tr>\n",
       "  </tbody>\n",
       "</table>\n",
       "</div>"
      ],
      "text/plain": [
       "         actor_name        Score  num_movies  Score_weighted\n",
       "760    Adam Sandler  1904.425000        40.0        1.000000\n",
       "4301   Allen Covert  1530.529412        17.0        1.140542\n",
       "29938  Devon Murray   292.375000         8.0        1.207286\n",
       "3699   Alfred Enoch    15.285714         7.0        1.244333\n",
       "24123        Common  1317.272727        11.0        1.318716"
      ]
     },
     "execution_count": 465,
     "metadata": {},
     "output_type": "execute_result"
    }
   ],
   "source": [
    "actors_score.sort_values(by='Score_weighted').head()"
   ]
  },
  {
   "cell_type": "code",
   "execution_count": 457,
   "metadata": {},
   "outputs": [],
   "source": [
    "actor_pairs_score = score_movie_element_groups(df_all, 'actor_name')"
   ]
  },
  {
   "cell_type": "code",
   "execution_count": 458,
   "metadata": {},
   "outputs": [],
   "source": [
    "actor_pairs_score.sort_values(by='Score', inplace=True)"
   ]
  },
  {
   "cell_type": "markdown",
   "metadata": {},
   "source": [
    "Top 10 actor collaboration"
   ]
  },
  {
   "cell_type": "code",
   "execution_count": null,
   "metadata": {},
   "outputs": [],
   "source": [
    "actor_pairs_score.head(10)"
   ]
  },
  {
   "cell_type": "markdown",
   "metadata": {},
   "source": [
    "Bottom 10 actor collaboration"
   ]
  },
  {
   "cell_type": "code",
   "execution_count": null,
   "metadata": {},
   "outputs": [],
   "source": [
    "actor_pairs_score.tail(10)"
   ]
  },
  {
   "cell_type": "markdown",
   "metadata": {},
   "source": [
    "#### Added value of director pairs"
   ]
  },
  {
   "cell_type": "code",
   "execution_count": null,
   "metadata": {},
   "outputs": [],
   "source": [
    "directors_score = score_movie_element(df_all, 'directors')"
   ]
  },
  {
   "cell_type": "code",
   "execution_count": null,
   "metadata": {},
   "outputs": [],
   "source": [
    "directors_score.sort_values(by='Score').head()"
   ]
  },
  {
   "cell_type": "code",
   "execution_count": null,
   "metadata": {},
   "outputs": [],
   "source": [
    "# Movies with multiple directors:\n",
    "director_pairs_score = score_movie_element_groups(df_all, 'directors')"
   ]
  },
  {
   "cell_type": "code",
   "execution_count": null,
   "metadata": {},
   "outputs": [],
   "source": [
    "director_pairs_score.sort_values(by='Score',inplace=True)\n",
    "director_pairs_score.sample(10)"
   ]
  },
  {
   "cell_type": "markdown",
   "metadata": {},
   "source": [
    "Top 10 director collaboration"
   ]
  },
  {
   "cell_type": "code",
   "execution_count": null,
   "metadata": {},
   "outputs": [],
   "source": [
    "director_pairs_score.head(10)"
   ]
  },
  {
   "cell_type": "markdown",
   "metadata": {},
   "source": [
    "Bottom 10 director collaboration"
   ]
  },
  {
   "cell_type": "code",
   "execution_count": null,
   "metadata": {},
   "outputs": [],
   "source": [
    "director_pairs_score.tail(10)"
   ]
  },
  {
   "cell_type": "markdown",
   "metadata": {},
   "source": [
    "#### Added value of genre combination"
   ]
  },
  {
   "cell_type": "code",
   "execution_count": null,
   "metadata": {},
   "outputs": [],
   "source": [
    "genre_score = score_movie_element(df_all, 'genre')"
   ]
  },
  {
   "cell_type": "code",
   "execution_count": null,
   "metadata": {},
   "outputs": [],
   "source": [
    "genre_pairs_score = score_movie_element_groups(df_all, 'genre')"
   ]
  },
  {
   "cell_type": "markdown",
   "metadata": {},
   "source": [
    "Top 10 genre combination"
   ]
  },
  {
   "cell_type": "code",
   "execution_count": null,
   "metadata": {},
   "outputs": [],
   "source": [
    "genre_pairs_score.sort_values(by='Score',inplace=True)\n",
    "genre_pairs_score.head(10)"
   ]
  },
  {
   "cell_type": "markdown",
   "metadata": {},
   "source": [
    "Bottom 10 genre combination"
   ]
  },
  {
   "cell_type": "code",
   "execution_count": null,
   "metadata": {},
   "outputs": [],
   "source": [
    "genre_pairs_score.tail(10)"
   ]
  },
  {
   "cell_type": "markdown",
   "metadata": {},
   "source": [
    "### Impact of release date on success"
   ]
  },
  {
   "cell_type": "markdown",
   "metadata": {},
   "source": [
    "To assess the impact of release date on success, we need to use the information on 'release_month' for each movie and need to choose a feature for success which can be either the IMDB weighted rating 'WR' or the gross revenue."
   ]
  },
  {
   "cell_type": "code",
   "execution_count": null,
   "metadata": {},
   "outputs": [],
   "source": [
    "print(f\"Out of {df_all.shape[0]} movies in out dataset, we have the release month information for {df_all['release_month'].count()} movies which is a big enough dataset to be representative.\")"
   ]
  },
  {
   "cell_type": "code",
   "execution_count": null,
   "metadata": {},
   "outputs": [],
   "source": [
    "df_release = df_all.dropna(how='all', subset=['release_month']) # Remove NaN months"
   ]
  },
  {
   "cell_type": "code",
   "execution_count": null,
   "metadata": {},
   "outputs": [],
   "source": [
    "sns.histplot(x='release_month', data = df_release).set(title='Distribution of release months',xlabel='Months', ylabel='Number of films');"
   ]
  },
  {
   "cell_type": "markdown",
   "metadata": {},
   "source": [
    "From the plot above, we can see that the distribution of release months is fairly homogeneous accross the data which allows to investigate success accross different release months."
   ]
  },
  {
   "cell_type": "code",
   "execution_count": null,
   "metadata": {},
   "outputs": [],
   "source": [
    "df_release=df_release.sort_values(by='release_month', ascending=True)"
   ]
  },
  {
   "cell_type": "code",
   "execution_count": null,
   "metadata": {},
   "outputs": [],
   "source": [
    "# Plot\n",
    "plt.figure(figsize=(10,5));\n",
    "ax = sns.barplot(x=\"release_month\", y=\"WR\",data=df_release,palette='crest');\n",
    "plt.xlabel('Month', fontsize=12)\n",
    "plt.ylabel('Weighted IMDB rating', fontsize=12)\n",
    "plt.title('Success of Movie in terms of IMDB rating Release By Month', fontsize=14);"
   ]
  },
  {
   "cell_type": "code",
   "execution_count": null,
   "metadata": {},
   "outputs": [],
   "source": [
    "# Plot\n",
    "plt.figure(figsize=(10,5))\n",
    "ax = sns.barplot(x=\"release_month\", y=\"total_gross_modified\",data=df_release,palette='crest')\n",
    "plt.xlabel('Month', fontsize=12)\n",
    "plt.ylabel('Total Box office revenue', fontsize=12)\n",
    "plt.title('Success in terms of revenue of Movie Release By Month', fontsize=14)"
   ]
  },
  {
   "cell_type": "markdown",
   "metadata": {},
   "source": [
    "As we can see from the results above, the movie weighted ratings are not at all influenced by the release period. However, the gross revenue is. We see that movies released in summer and in the end of the year are more successful.  Since the distribution of movies is fairly the same across our dataset, we can deduce that these periods are more favourable for movie release. It interesting to note that these results coincide with usual holidays periods where people have more time to go to the cinema. "
   ]
  },
  {
   "cell_type": "markdown",
   "metadata": {},
   "source": [
    "## What budget should be spent on a successful movie?"
   ]
  },
  {
   "cell_type": "markdown",
   "metadata": {},
   "source": [
    "To see what budget should be spent on a successful movie, we want to compare mainly three features, the budget spent 'Production Budget', the profit made 'profit' and the weighted rating of the movie to account for successfulness 'WR'.\n"
   ]
  },
  {
   "cell_type": "code",
   "execution_count": null,
   "metadata": {},
   "outputs": [],
   "source": [
    "print(f\"Out of {df_all.shape[0]} movies in out dataset, we have the profit information for {df_all['profit_modified'].count()} movies, total gross revenue information for {df_all['total_gross_modified'].count()} movies , budget information for {df_all['budget_modified'].count()} movies.\")\n"
   ]
  },
  {
   "cell_type": "code",
   "execution_count": null,
   "metadata": {},
   "outputs": [],
   "source": [
    "h = sns.jointplot(data=df_all, x='budget_modified', y='profit_modified', kind=\"reg\");\n",
    "h.ax_joint.set_xlabel('Production budget [$]');\n",
    "h.ax_joint.set_ylabel('Profit [$]');"
   ]
  },
  {
   "cell_type": "markdown",
   "metadata": {},
   "source": [
    "As we can see from the plot above, the positive trend line indicates that an increase in the budget will result in an increase in profit. However, there seems to be a lot of outliers. For our datastory (Milestone 3), it would be interesting to split this into two categories, high budget movies and average movies. Additionnaly, we will want to investigate if this budget trend is different across genres."
   ]
  },
  {
   "cell_type": "markdown",
   "metadata": {},
   "source": [
    "To compare the link between all three features, we build the pairplot below:"
   ]
  },
  {
   "cell_type": "code",
   "execution_count": null,
   "metadata": {},
   "outputs": [],
   "source": [
    "sns.pairplot(df_all[['budget_modified','profit_modified','WR']]);"
   ]
  },
  {
   "cell_type": "markdown",
   "metadata": {},
   "source": [
    "### Top 20 most profitable movies"
   ]
  },
  {
   "cell_type": "code",
   "execution_count": null,
   "metadata": {},
   "outputs": [],
   "source": [
    "Top20_ProfitableMovies = df_all.sort_values('profit_modified', ascending=False).head(20)"
   ]
  },
  {
   "cell_type": "code",
   "execution_count": null,
   "metadata": {},
   "outputs": [],
   "source": [
    "plt.figure(figsize=(10,5))\n",
    "sns.barplot(x=Top20_ProfitableMovies['name'],y=Top20_ProfitableMovies['profit_modified'], \n",
    "            color='crimson', alpha=0.95, label='Profit', ci=None)\n",
    "sns.barplot(x=Top20_ProfitableMovies['name'],y=Top20_ProfitableMovies['budget_modified'], \n",
    "            color='lightseagreen', alpha=0.95, label='Budget', ci=None)\n",
    "plt.xlabel('Movie', fontsize=12)\n",
    "plt.title(\"Profits and Budgets for the 20 Most Profitable Movies\", fontsize=14)\n",
    "plt.ylabel('Profit', fontsize=12)\n",
    "plt.xticks(rotation=35, horizontalalignment='right', fontsize=10)\n",
    "plt.legend(fontsize=12)"
   ]
  },
  {
   "cell_type": "markdown",
   "metadata": {},
   "source": [
    "## Impact of director"
   ]
  },
  {
   "cell_type": "code",
   "execution_count": null,
   "metadata": {},
   "outputs": [],
   "source": [
    "(df_all_expanded['name'] + df_all_expanded['release_year'].astype('string')).duplicated() == False"
   ]
  },
  {
   "cell_type": "code",
   "execution_count": null,
   "metadata": {},
   "outputs": [],
   "source": [
    "df_all_expanded.head()"
   ]
  },
  {
   "cell_type": "code",
   "execution_count": null,
   "metadata": {},
   "outputs": [],
   "source": [
    "print(f\"Out of {df_all.shape[0]} movies in out dataset, we have the director information for {df_all_expanded[(df_all_expanded['name'] + df_all_expanded['release_year'].astype('string')).duplicated() == False]['directors'].count()} movies coming from the IMDB data set.\")"
   ]
  },
  {
   "cell_type": "code",
   "execution_count": null,
   "metadata": {},
   "outputs": [],
   "source": [
    "df_director = df_all_expanded.dropna(how='all', subset=['directors']).drop_duplicates(['name', 'release_year', 'directors']) # Remove NaN directors"
   ]
  },
  {
   "cell_type": "code",
   "execution_count": null,
   "metadata": {},
   "outputs": [],
   "source": [
    "Top20_ProfitableMovies = df_director.sort_values('profit_modified', ascending=False).head(20)"
   ]
  },
  {
   "cell_type": "code",
   "execution_count": null,
   "metadata": {},
   "outputs": [],
   "source": [
    "plt.figure(figsize=(10,5))\n",
    "sns.barplot(x=Top20_ProfitableMovies['directors'], y=Top20_ProfitableMovies['profit_modified'], \n",
    "            color='crimson', alpha=0.95, label='Profit', ci=None)\n",
    "sns.barplot(x=Top20_ProfitableMovies['directors'], y=Top20_ProfitableMovies['budget_modified'], \n",
    "            color='lightseagreen', alpha=0.95, label='Budget', ci=None)\n",
    "plt.xlabel('Director', fontsize=12)\n",
    "plt.title(\"Directors of 20 most profitable movies\", fontsize=14)\n",
    "plt.ylabel('Profit', fontsize=12)\n",
    "plt.xticks(rotation=35, horizontalalignment='right', fontsize=10)\n",
    "plt.legend(fontsize=12)"
   ]
  },
  {
   "cell_type": "code",
   "execution_count": null,
   "metadata": {},
   "outputs": [],
   "source": [
    "Top20_ProfitableMovies['directors']"
   ]
  },
  {
   "cell_type": "markdown",
   "metadata": {},
   "source": [
    "## Impact of actors"
   ]
  },
  {
   "cell_type": "markdown",
   "metadata": {},
   "source": [
    "In order to assess the added value of actors to a movie's success, it is necessary to define the success of individual actors. To do this, we first create an actors dataset. We also compute in how many films in the dataset the actor appears, this value can be found in the column `num_movies`."
   ]
  },
  {
   "cell_type": "code",
   "execution_count": null,
   "metadata": {},
   "outputs": [],
   "source": [
    "characters\n",
    "pd.merge(characters, df_all, how='left', left_on='freebase_movie_id', right_on='freebase_id')"
   ]
  },
  {
   "cell_type": "code",
   "execution_count": null,
   "metadata": {},
   "outputs": [],
   "source": [
    "characters.columns"
   ]
  },
  {
   "cell_type": "code",
   "execution_count": null,
   "metadata": {},
   "outputs": [],
   "source": [
    "actors = pd.merge(characters, df_all, how='left', left_on='freebase_movie_id', right_on='freebase_id')\n",
    "actors.columns"
   ]
  },
  {
   "cell_type": "code",
   "execution_count": null,
   "metadata": {},
   "outputs": [],
   "source": [
    "actors = pd.merge(characters, df_all, how='left', left_on='freebase_movie_id', right_on='freebase_id')\n",
    "actors = actors[['freebase_actor_id', 'freebase_movie_id', 'actor_name', 'actor_gender', 'actor_height_meters', 'ethnicity_label', 'major_ethnicity', 'WR']]\n",
    "actors = actors.dropna(subset=['freebase_actor_id'])\n",
    "#actors['mean_WR'] = actors.groupby(by=['freebase_actor_id']).mean(numeric_only=True)['WR']\n",
    "\n",
    "actors['num_movies'] = actors.groupby(by=['freebase_actor_id'])['freebase_actor_id'].transform('size')\n",
    "actors['WR_mean'] = actors[['freebase_actor_id', 'WR']].groupby(by=['freebase_actor_id']).transform('mean')\n",
    "actors.drop(['freebase_movie_id'], axis=1, inplace=True)\n",
    "actors.drop_duplicates(subset=['freebase_actor_id'], inplace=True)\n"
   ]
  },
  {
   "cell_type": "code",
   "execution_count": null,
   "metadata": {},
   "outputs": [],
   "source": [
    "characters.groupby('actor_name').count()"
   ]
  },
  {
   "cell_type": "code",
   "execution_count": null,
   "metadata": {},
   "outputs": [],
   "source": [
    "#Apply weighting to score\n",
    "WR_actors_mean = np.mean(actors.WR_mean)\n",
    "min_movies = 1\n",
    "\n",
    "def isNan(value):\n",
    "    return value!=value\n",
    "\n",
    "def get_weigthed_WR(WR, num_movies):\n",
    "    if not isNan(WR) and not isNan(num_movies):\n",
    "        if num_movies > min_movies:\n",
    "            return num_movies/(num_movies + min_movies) * WR + min_movies/(num_movies + min_movies) * WR_actors_mean\n",
    "    return np.nan\n",
    "\n",
    "actors['WR'] = actors.apply(lambda row: get_weigthed_WR(row['WR_mean'], row['num_movies']), axis=1)\n",
    "\n"
   ]
  },
  {
   "cell_type": "code",
   "execution_count": null,
   "metadata": {},
   "outputs": [],
   "source": [
    "actors.head()"
   ]
  },
  {
   "cell_type": "code",
   "execution_count": null,
   "metadata": {},
   "outputs": [],
   "source": [
    "top_20_actors = actors.dropna(subset=['WR']).sort_values(by='WR', ascending=False).iloc[0:20]\n",
    "\n",
    "top_20_actors.head()"
   ]
  },
  {
   "cell_type": "code",
   "execution_count": null,
   "metadata": {},
   "outputs": [],
   "source": [
    "plt.figure(figsize=(10,5));\n",
    "sns.barplot(x=top_20_actors['actor_name'],y=top_20_actors['WR'], \n",
    "            color='crimson', alpha=0.95, ci=None);\n",
    "plt.xlabel('Actors', fontsize=12);\n",
    "plt.title(\"Top 20 successful actors\", fontsize=14);\n",
    "plt.ylabel('Success score', fontsize=12);\n",
    "plt.xticks(rotation=35, horizontalalignment='right', fontsize=10);"
   ]
  },
  {
   "cell_type": "markdown",
   "metadata": {},
   "source": [
    "### TO UPDATE ANYTHING BELOW"
   ]
  },
  {
   "cell_type": "code",
   "execution_count": null,
   "metadata": {},
   "outputs": [],
   "source": [
    "print(f\"Out of {df_all.shape[0]} movies in out dataset, we have the 1st actor information for {df_all['Star1'].count()} movies coming from the top 1000 IMDB data set.\")"
   ]
  },
  {
   "cell_type": "markdown",
   "metadata": {},
   "source": [
    "For now, we only consider the main actor of a movie but this can be extrapolated to all actors accross multiple movies for our next milestone. "
   ]
  },
  {
   "cell_type": "code",
   "execution_count": null,
   "metadata": {},
   "outputs": [],
   "source": [
    "df_main_actor = df_all.dropna(how='all', subset=['Star1']) # Remove NaN actors"
   ]
  },
  {
   "cell_type": "code",
   "execution_count": null,
   "metadata": {},
   "outputs": [],
   "source": [
    "Top20_ProfitableMovies = df_main_actor.sort_values('profit_modified', ascending=False).head(20)"
   ]
  },
  {
   "cell_type": "code",
   "execution_count": null,
   "metadata": {},
   "outputs": [],
   "source": [
    "plt.figure(figsize=(10,5))\n",
    "sns.barplot(x=Top20_ProfitableMovies['Star1'],y=Top20_ProfitableMovies['profit_modified'], \n",
    "            color='crimson', alpha=0.95, label='Profit', ci=None)\n",
    "sns.barplot(x=Top20_ProfitableMovies['Star1'],y=Top20_ProfitableMovies['budget_modified'], \n",
    "            color='lightseagreen', alpha=0.95, label='Budget', ci=None)\n",
    "plt.xlabel('Actors', fontsize=12)\n",
    "plt.title(\"Actors of 20 most profitable movies\", fontsize=14)\n",
    "plt.ylabel('Profit', fontsize=12)\n",
    "plt.xticks(rotation=35, horizontalalignment='right', fontsize=10)\n",
    "plt.legend(fontsize=12)"
   ]
  },
  {
   "cell_type": "markdown",
   "metadata": {},
   "source": [
    "For our datastory, the goal would be to cluster actors accross genres. That way, we can forecast which actor would be best to select for a particular genre to boost success."
   ]
  },
  {
   "cell_type": "markdown",
   "metadata": {},
   "source": [
    "## Popular features in characters"
   ]
  },
  {
   "cell_type": "markdown",
   "metadata": {},
   "source": [
    "The characters table is splitted between actors and actresses to study each gender as a whole different group."
   ]
  },
  {
   "cell_type": "code",
   "execution_count": null,
   "metadata": {},
   "outputs": [],
   "source": [
    "characters_male = characters[characters['actor_gender'] == 'M']\n",
    "characters_female = characters[characters['actor_gender'] == 'F']"
   ]
  },
  {
   "cell_type": "markdown",
   "metadata": {},
   "source": [
    "The following plot presents the height distribution for the actors and actresses. We can see that men tend to be taller than women actors. Also, it can be seen that in the dataset there are way more men than women"
   ]
  },
  {
   "cell_type": "code",
   "execution_count": null,
   "metadata": {},
   "outputs": [],
   "source": [
    "def filter_children(characters):\n",
    "    LIMIT_CHILDREN_AGE = 14\n",
    "    return characters[(characters['actor_age_at_movie_release'] > LIMIT_CHILDREN_AGE)]\n",
    "\n",
    "def characters_height_histogram(characters, bins):\n",
    "    characters_height = characters.dropna(subset=['actor_height_meters'])\n",
    "    plt.hist(characters_height['actor_height_meters'],bins=bins, alpha=0.5)\n",
    "    plt.legend(['Males', 'Females'])\n",
    "    plt.xlabel('Adult actor height (m)')\n",
    "    plt.title('Height distribution of adult actors')\n",
    "\n",
    "characters_height_histogram(filter_children(characters_male), bins=40)\n",
    "characters_height_histogram(filter_children(characters_female), bins=25)\n"
   ]
  },
  {
   "cell_type": "markdown",
   "metadata": {},
   "source": [
    "Another important characteristic we can study is the age on movie release. Again, there is a huge difference between women and men. Women play roles when they are younger, while men seem to have longer careers."
   ]
  },
  {
   "cell_type": "code",
   "execution_count": null,
   "metadata": {},
   "outputs": [],
   "source": [
    "def characters_age_histogram(characters):\n",
    "    characters_age = characters.dropna(subset=['actor_age_at_movie_release']).sort_values(by=['actor_age_at_movie_release'])\n",
    "    characters_age = characters_age[characters_age['actor_age_at_movie_release'] > 0]\n",
    "    plt.hist(characters_age['actor_age_at_movie_release'], bins=45, alpha=0.5)\n",
    "    plt.legend(['Males', 'Females'])\n",
    "    plt.xlabel('Actor age at movie release')\n",
    "    plt.title('Age at movie release distribution of actors')\n",
    "\n",
    "characters_age_histogram(characters_male)\n",
    "characters_age_histogram(characters_female)"
   ]
  },
  {
   "cell_type": "markdown",
   "metadata": {},
   "source": [
    "The following plot shows the ethnicity distribution for actors and actresses of the dataset. It can be seen how white people clearly dominate the characters dataset by more than a half of it. Indians are also a big group representing 1/4 of the ethnicities. In this case, the difference between genders is not that big."
   ]
  },
  {
   "cell_type": "code",
   "execution_count": null,
   "metadata": {},
   "outputs": [],
   "source": [
    "def pie_chart_actor_ethnicities(actors, title, ax):\n",
    "    actors_ethnicity = actors.dropna(subset=['major_ethnicity'])\n",
    "    actors_ethnicity = actors_ethnicity[actors_ethnicity['major_ethnicity'] != 'unknown']\n",
    "    ethnicities, counts = np.unique(actors_ethnicity['major_ethnicity'], return_counts=True)\n",
    "    #print(np.sort(counts))\n",
    "    others_count = 0\n",
    "    plot_ethnicities = []\n",
    "    plot_counts = []\n",
    "    ETHNICITY_THRESHOLD = 1\n",
    "    for ethnicity, count in zip(ethnicities, counts):\n",
    "        if count > ETHNICITY_THRESHOLD:\n",
    "            plot_ethnicities.append(ethnicity)\n",
    "            plot_counts.append(count)\n",
    "        else:\n",
    "            others_count += count\n",
    "\n",
    "    colors = ['#e8bd9b','#402b28','#996044','#dba577','#f0dfd7']\n",
    "\n",
    "    ax.pie(plot_counts, labels=plot_ethnicities, startangle=90,autopct='%1.1f%%',colors=colors, radius=1)\n",
    "    ax.set_title(title)\n",
    "\n",
    "def two_pie_charts_actor_ethnicities(actors1, actors2, title, title1, title2):\n",
    "    fig, (ax1, ax2) = plt.subplots(1, 2)\n",
    "    fig.set_facecolor('white')\n",
    "    fig.set_size_inches(11, 5)\n",
    "    fig.suptitle(title)\n",
    "\n",
    "    pie_chart_actor_ethnicities(actors1, title1, ax1)\n",
    "    pie_chart_actor_ethnicities(actors2, title2, ax2)\n",
    "    plt.show()\n",
    "\n",
    "\n",
    "two_pie_charts_actor_ethnicities(characters_male, \n",
    "                                 characters_female, \n",
    "                                 title='Ethnicity distribution', \n",
    "                                 title1='Actors', \n",
    "                                 title2='Actresses')"
   ]
  },
  {
   "cell_type": "markdown",
   "metadata": {},
   "source": [
    "The next plot shows the number of different ethnicities per movie. For instance, a movie that includes at least one Indian and one Black actress has 2 different ethnicities. As we can see, the vast majority of the films only have one ethnicity on it."
   ]
  },
  {
   "cell_type": "code",
   "execution_count": null,
   "metadata": {},
   "outputs": [],
   "source": [
    "def plot_different_ethnicities_per_movie(characters):\n",
    "    ethnicity_characters = characters.dropna(subset=['major_ethnicity'])\n",
    "    num_different_ethnicities = ethnicity_characters.groupby(by=['freebase_movie_id'])['major_ethnicity'].nunique()\n",
    "    num_ethnicies, count = np.unique(num_different_ethnicities, return_counts=True)\n",
    "    plt.bar(num_ethnicies, count)\n",
    "    plt.xlabel('Number of different major ethnicities')\n",
    "    plt.ylabel('Number of movies')\n",
    "    plt.title('Distribution of different ethnicities per movie')\n",
    "plot_different_ethnicities_per_movie(characters)"
   ]
  },
  {
   "cell_type": "markdown",
   "metadata": {},
   "source": [
    "Again, let's split actors in genders"
   ]
  },
  {
   "cell_type": "code",
   "execution_count": null,
   "metadata": {},
   "outputs": [],
   "source": [
    "actors_male = actors[actors['actor_gender'] == 'M']\n",
    "actors_female = actors[actors['actor_gender'] == 'F']"
   ]
  },
  {
   "cell_type": "markdown",
   "metadata": {},
   "source": [
    "And now we can focus on the actors that have appeared in a greater number of movies. We fix this threshold at 15 movies."
   ]
  },
  {
   "cell_type": "code",
   "execution_count": null,
   "metadata": {},
   "outputs": [],
   "source": [
    "def get_most_demanded_actors(actors, min_num_movies):\n",
    "    return actors[actors['num_movies'] >= min_num_movies]\n",
    "\n",
    "MIN_NUM_MOVIES_DEMANDED_ACTOR = 5\n",
    "demanded_actors_male = get_most_demanded_actors(actors_male, MIN_NUM_MOVIES_DEMANDED_ACTOR)\n",
    "demanded_actors_female = get_most_demanded_actors(actors_female, MIN_NUM_MOVIES_DEMANDED_ACTOR)\n"
   ]
  },
  {
   "cell_type": "markdown",
   "metadata": {},
   "source": [
    "This way, we can compare if the most characteristic features of each actor are the same for the whole dataset of characters. We are plotting again the height distribution both for males and females."
   ]
  },
  {
   "cell_type": "code",
   "execution_count": null,
   "metadata": {},
   "outputs": [],
   "source": [
    "characters_height_histogram(demanded_actors_male, 40)\n",
    "characters_height_histogram(demanded_actors_female, 15)"
   ]
  },
  {
   "cell_type": "markdown",
   "metadata": {},
   "source": [
    "Also, the ethnicities are plotted again. We can observe that discriminations are even bigger."
   ]
  },
  {
   "cell_type": "code",
   "execution_count": null,
   "metadata": {},
   "outputs": [],
   "source": [
    "two_pie_charts_actor_ethnicities(demanded_actors_male, \n",
    "                                demanded_actors_female, \n",
    "                                 title='Top actors ethnicity distribution', \n",
    "                                 title1='Actors', \n",
    "                                 title2='Actresses')"
   ]
  },
  {
   "cell_type": "markdown",
   "metadata": {},
   "source": [
    "All these data about characters is going to be merged and analysed for the last milestone. By now, we have demonstrated that we have data enough to work and answer the proper questions"
   ]
  },
  {
   "cell_type": "markdown",
   "metadata": {},
   "source": [
    "Get score for actors and actresses"
   ]
  },
  {
   "cell_type": "code",
   "execution_count": null,
   "metadata": {},
   "outputs": [],
   "source": [
    "df_test = df_all.dropna(subset=['WR'])\n",
    "df_test.sort_values(by='WR', ascending=False)\n",
    "\n",
    "# def isNaN(string):\n",
    "#     return string!=string\n",
    "\n",
    "# def get_movie_feature_by_id(freebase_movie_id, feature):\n",
    "#     if not isNaN(freebase_movie_id):\n",
    "#         #print(freebase_movie_id)\n",
    "#         a = df_test.loc[df_all['freebase_id'] == freebase_movie_id]\n",
    "#         if (len(a) > 0):\n",
    "#             print(a[feature])\n",
    "#             return a[feature][0].item()\n",
    "#     return np.nan\n",
    "\n",
    "\n",
    "# # characters['movie_score'] = characters.apply(lambda row : get_movie_feature_by_id(row['freebase_movie_id'], 'WR'), axis=1)\n",
    "\n",
    "# # characters.dropna(subset='movie_score')\n",
    "\n",
    "# # characters.iloc[0]['freebase_movie_id']\n",
    "\n",
    "# characters.apply(lambda row : get_movie_feature_by_id(row['freebase_movie_id'], 'WR'), axis=1)\n"
   ]
  },
  {
   "cell_type": "markdown",
   "metadata": {},
   "source": [
    "## What genres are the most profitable?"
   ]
  },
  {
   "cell_type": "code",
   "execution_count": null,
   "metadata": {},
   "outputs": [],
   "source": [
    "df_all['profit_modified'].plot(kind='hist', logy=True, histtype='step', title='Movie profit distribution');"
   ]
  },
  {
   "cell_type": "code",
   "execution_count": null,
   "metadata": {},
   "outputs": [],
   "source": [
    "df_genre = df_all_expanded.dropna(how='all', subset=['genre']).drop_duplicates(['name', 'release_year', 'genre'])"
   ]
  },
  {
   "cell_type": "code",
   "execution_count": null,
   "metadata": {},
   "outputs": [],
   "source": [
    "genres = df_genre['genre'].value_counts()"
   ]
  },
  {
   "cell_type": "code",
   "execution_count": null,
   "metadata": {},
   "outputs": [],
   "source": [
    "genres[genres > 1000].plot(kind='bar', title='Movie genres distribution');"
   ]
  },
  {
   "cell_type": "code",
   "execution_count": null,
   "metadata": {},
   "outputs": [],
   "source": [
    "plt.figure(figsize=(15,5));\n",
    "ax = sns.barplot(\n",
    "    x=\"genre\",\n",
    "    y=\"profit_modified\",\n",
    "    data=df_genre[df_genre['profit_modified'].notna() & df_genre['genre'].isin(genres[genres > 1000].index.to_list())],\n",
    "    palette='crest'\n",
    ")\n",
    "plt.xlabel('Genre', fontsize=12)\n",
    "plt.ylabel('Profit', fontsize=12)\n",
    "plt.title('Success of Movie based on genre in terms of the profit', fontsize=14)\n",
    "_ = plt.xticks(rotation=90)"
   ]
  },
  {
   "cell_type": "markdown",
   "metadata": {},
   "source": [
    "## Correlation between the choice of topics and movie profitability can be investigated"
   ]
  },
  {
   "cell_type": "code",
   "execution_count": null,
   "metadata": {},
   "outputs": [],
   "source": [
    "df_genre['genre_category'] = df_genre['genre'].astype('category').cat.codes"
   ]
  },
  {
   "cell_type": "code",
   "execution_count": null,
   "metadata": {},
   "outputs": [],
   "source": [
    "fig, ax = plt.subplots(figsize=(15,7))\n",
    "sns.heatmap(df_genre.corr(), annot=True, ax=ax).set(title='Heat map of correlations between different movie features');"
   ]
  },
  {
   "cell_type": "markdown",
   "metadata": {},
   "source": [
    "## Clustering between movies: Classics VS forgettable : check with wikipedia ID how much it is visited : time series of access "
   ]
  },
  {
   "cell_type": "code",
   "execution_count": null,
   "metadata": {},
   "outputs": [],
   "source": [
    "df_all_ohe.sample(5)"
   ]
  },
  {
   "cell_type": "code",
   "execution_count": null,
   "metadata": {},
   "outputs": [],
   "source": [
    "df_all_ohe_cleaned_columns = df_all_ohe.rename({c: c.replace('/', '').replace('.', '').replace(' ', '').replace('\\'', '').replace('-', '') for c in df_all_ohe.columns}, axis=1)"
   ]
  },
  {
   "cell_type": "code",
   "execution_count": null,
   "metadata": {
    "scrolled": true
   },
   "outputs": [],
   "source": [
    "mod = smf.ols(formula=\n",
    "    'pageviews ~ runtime + release_year + WR + release_month + profit_modified + genre_Action + ' +\n",
    "    'genre_ActionAdventure + genre_Adventure + genre_Animation + genre_Blackandwhite + genre_Comedy + ' +\n",
    "    'genre_Comedyfilm + genre_CrimeFiction + genre_Documentary + genre_Drama + genre_FamilyFilm + ' + \n",
    "    'genre_Fantasy + genre_Horror + genre_Indie + genre_Musical + genre_Mystery + genre_Other + ' + \n",
    "    'genre_RomanceFilm + genre_Romanticcomedy + genre_Romanticdrama + genre_ScienceFiction + genre_ShortFilm + ' + \n",
    "    'genre_Silentfilm + genre_Thriller + genre_Warfilm + genre_Worldcinema + languages_Cantonese + ' + \n",
    "    'languages_English + languages_French + languages_German + languages_Hindi + languages_Italian + ' + \n",
    "    'languages_Japanese + languages_Korean + languages_Malayalam + languages_Other + languages_Russian + ' + \n",
    "    'languages_Silentfilm + languages_Spanish + languages_StandardMandarin + languages_Tamil + languages_Telugu + ' + \n",
    "    'countries_Argentina + countries_Australia + countries_Canada + countries_France + countries_Germany + ' + \n",
    "    'countries_HongKong + countries_India + countries_Italy + countries_Japan + countries_Mexico + ' + \n",
    "    'countries_Netherlands + countries_Other + countries_SouthKorea + countries_Spain + countries_UnitedKingdom + ' + \n",
    "    'countries_UnitedStatesofAmerica + directors_AlfredHitchcock + directors_CecilBDeMille + ' + \n",
    "    'directors_CharlesChaplin + directors_CharlesLamont + directors_ChuckJones + directors_DWGriffith + ' + \n",
    "    'directors_DaveFleischer + directors_FrizFreleng + directors_GeorgeCukor + directors_GeorgeMarshall + ' + \n",
    "    'directors_GordonDouglas + directors_HenryHathaway + directors_JohnFord + directors_JosephBarbera + ' + \n",
    "    'directors_JosephKane + directors_JulesWhite + directors_MichaelCurtiz + directors_NormanTaurog + ' + \n",
    "    'directors_Other + directors_RaoulWalsh + directors_RayTaylor + directors_RichardThorpe + directors_RobertFMcGowan + ' + \n",
    "    'directors_RobertFlorey + directors_RobertMcKimson + directors_RoscoeFattyArbuckle + directors_SamNewfield + ' + \n",
    "    'directors_WilliamAWellman + directors_WilliamBeaudine + directors_WilliamHanna + directors_WilliamWitney + ' + \n",
    "    'writers_ArthurConanDoyle + writers_BasilDickey + writers_BenHecht + writers_CareyWilson + writers_CharlesChaplin + ' + \n",
    "    'writers_CharlesDickens + writers_DWGriffith + writers_DudleyNichols + writers_EdgarRiceBurroughs + writers_ElwoodUllman + ' + \n",
    "    'writers_FelixAdler + writers_FrancesMarion + writers_GeorgeHPlympton + writers_GopalakrishnaParuchuri + writers_HMWalker + ' + \n",
    "    'writers_HalRoach + writers_JohnWDunn + writers_KaderKhan + writers_MichaelMaltese + writers_NunnallyJohnson + writers_Other + ' + \n",
    "    'writers_ParuchuriVenkateswaraRao + writers_RahiMasoomReza + writers_RobertAMcGowan + writers_SachinBhowmick + writers_Satyanand + ' + \n",
    "    'writers_StephenKing + writers_TeddPierce + writers_ValGuest + writers_WarrenFoster + writers_WilliamShakespeare',\n",
    "  data=df_all_ohe_cleaned_columns)\n",
    "np.random.seed(2)\n",
    "res = mod.fit()\n",
    "res.summary()"
   ]
  },
  {
   "cell_type": "markdown",
   "metadata": {},
   "source": [
    "## Countries"
   ]
  },
  {
   "cell_type": "code",
   "execution_count": null,
   "metadata": {},
   "outputs": [],
   "source": [
    "# sort by country\n",
    "import json\n",
    "movies_header = ['wikipedia_id', 'freebase_id', 'name', 'release_date', 'box_office_revenue', 'runtime', 'languages', 'countries', 'genres']\n",
    "movies = pd.read_csv('data/movie.metadata.tsv', sep='\\t', header=None, names=movies_header)\n",
    "data = pd.read_csv('data/movie.metadata.tsv', sep='\\t', header=None, names=movies_header)\n",
    "movies.head(5)\n",
    "print(movies.shape)\n",
    "# movies=movies['countries'].apply(lambda row: len((eval(row).values())))\n",
    "movies=movies['countries'].apply(lambda row: (eval(row).values()))\n",
    "movies= pd.DataFrame(movies,columns=['countries'])\n",
    "# movies['countries'].apply(len)\n",
    "# movies.describe()\n",
    "movies.head()\n"
   ]
  },
  {
   "cell_type": "code",
   "execution_count": null,
   "metadata": {},
   "outputs": [],
   "source": [
    "\n",
    "\n",
    "# movies=movies['countries'].apply(lambda row: (eval(row).values()))\n",
    "# movies= pd.DataFrame(movies,columns=['countries'])\n",
    "exploded=pd.DataFrame([[c] for C in movies['countries'] for c in C],columns=['countries'])\n",
    "len(exploded['countries'].unique())\n",
    "count=exploded['countries'].value_counts()\n",
    "count.to_csv('test.csv')\n",
    "# US=movies['countries'].apply(lambda lis : \"United States of America\" in lis and len(lis)==1)\n",
    "US=movies['countries'].apply(lambda lis : \"United States of America\" in lis)\n",
    "US_movies=data.loc[US]\n",
    "print('number of movies made in the US: ',US.sum())\n",
    "IN=movies['countries'].apply(lambda lis : \"India\" in lis)\n",
    "IN_movies=movies[IN]\n",
    "print('number of movies made in india: ',IN.sum())\n",
    "\n",
    "mult=movies['countries'].apply(lambda lis : len(lis)>1)\n",
    "print('number of movies made in more than one country: ',sum(mult))\n"
   ]
  },
  {
   "cell_type": "code",
   "execution_count": null,
   "metadata": {},
   "outputs": [],
   "source": [
    "\n",
    "# one list with all the countries of all the movies\n",
    "exploded=pd.DataFrame([[c] for C in movies['countries'] for c in C],columns=['countries'])\n",
    "len(exploded['countries'].unique())\n",
    "count=exploded['countries'].value_counts()\n",
    "count.to_csv('handled_data/test.csv')\n"
   ]
  },
  {
   "cell_type": "code",
   "execution_count": null,
   "metadata": {},
   "outputs": [],
   "source": [
    "\n",
    "\n",
    "\n",
    "from matplotlib import pyplot as plt\n",
    "fig, ax = plt.subplots(figsize=(15,7))\n",
    "plt.bar(count.head(20).index.to_series(),count.head(20))\n",
    "plt.xticks(rotation=60, horizontalalignment='right', fontsize=12);\n",
    "from matplotlib import pyplot as plt\n",
    "fig, ax = plt.subplots(figsize=(15,7))\n",
    "plt.bar(count[1:51].index.to_series(),count[1:51])\n",
    "plt.xticks(rotation=60, horizontalalignment='right', fontsize=12);\n"
   ]
  },
  {
   "cell_type": "code",
   "execution_count": null,
   "metadata": {},
   "outputs": [],
   "source": [
    "\n",
    "\n",
    "# sort movies by date \n",
    "data[(data['release_date']<'2000') & (data['release_date']>='1995')]\n",
    "set1=data[data['release_date']<'1985']\n",
    "set2=data[data['release_date']>'1985']\n",
    "set1=set1['countries']\n",
    "set2=set2['countries']\n",
    "def analysis(set) :\n",
    "    set=set.apply(lambda row: (eval(row).values()))\n",
    "    set= pd.DataFrame(set,columns=['countries'])\n",
    "    exploded=pd.DataFrame([[c] for C in set['countries'] for c in C],columns=['countries'])\n",
    "    # len(exploded['countries'].unique())\n",
    "    count=exploded['countries'].value_counts()\n",
    "    count.to_csv('test.csv')\n",
    "    return count\n",
    "\n",
    "c1=analysis(set1)\n",
    "c2=analysis(set2)\n"
   ]
  },
  {
   "cell_type": "code",
   "execution_count": null,
   "metadata": {},
   "outputs": [],
   "source": [
    "fig, ax = plt.subplots(figsize=(11,5))\n",
    "# fig.set_facecolor('white')\n",
    "# fig.set_size_inches(11, 5)\n",
    "# fig.suptitle('title')\n",
    "plot_counts=c1.head(5)\n",
    "plot_countries=plot_counts.index.to_series()\n",
    "ax.pie(plot_counts, labels=plot_countries, startangle=90,autopct='%1.1f%%', radius=1)\n",
    "ax.set_title('top 5 countries by number of movies before 1985')\n",
    "plt.show()\n",
    "# plot_countries\n"
   ]
  },
  {
   "cell_type": "code",
   "execution_count": null,
   "metadata": {},
   "outputs": [],
   "source": [
    "\n",
    "fig, ax = plt.subplots(figsize=(11,5))\n",
    "# fig.set_facecolor('white')\n",
    "# fig.set_size_inches(11, 5)\n",
    "# fig.suptitle('title')\n",
    "plot_counts=c2.head(5)\n",
    "plot_countries=plot_counts.index.to_series()\n",
    "ax.pie(plot_counts, labels=plot_countries, startangle=90,autopct='%1.1f%%', radius=1)\n",
    "ax.set_title('top 5 countries by number of movies after 1985')\n",
    "plt.show()"
   ]
  },
  {
   "cell_type": "markdown",
   "metadata": {},
   "source": [
    "# Train NN for predicting revenue"
   ]
  },
  {
   "cell_type": "code",
   "execution_count": null,
   "metadata": {},
   "outputs": [],
   "source": [
    "df_all_ohe.columns"
   ]
  },
  {
   "cell_type": "code",
   "execution_count": null,
   "metadata": {},
   "outputs": [],
   "source": [
    "movies"
   ]
  },
  {
   "cell_type": "code",
   "execution_count": null,
   "metadata": {},
   "outputs": [],
   "source": [
    "df_all.describe()"
   ]
  },
  {
   "cell_type": "code",
   "execution_count": null,
   "metadata": {},
   "outputs": [],
   "source": [
    "df_all_ohe.describe()"
   ]
  },
  {
   "cell_type": "code",
   "execution_count": null,
   "metadata": {},
   "outputs": [],
   "source": [
    "movies_with_gross = df_all_ohe[df_all_ohe['pageviews'].notna()]"
   ]
  },
  {
   "cell_type": "code",
   "execution_count": null,
   "metadata": {},
   "outputs": [],
   "source": [
    "movies_with_gross.drop(['freebase_id', 'name', 'release_day', 'profit_modified'], axis=1, inplace=True)"
   ]
  },
  {
   "cell_type": "code",
   "execution_count": null,
   "metadata": {},
   "outputs": [],
   "source": [
    "movies_with_gross.head()"
   ]
  },
  {
   "cell_type": "code",
   "execution_count": null,
   "metadata": {},
   "outputs": [],
   "source": [
    "movies_with_gross.describe()"
   ]
  },
  {
   "cell_type": "code",
   "execution_count": null,
   "metadata": {},
   "outputs": [],
   "source": [
    "movies_with_gross.shape"
   ]
  },
  {
   "cell_type": "code",
   "execution_count": null,
   "metadata": {},
   "outputs": [],
   "source": [
    "list(movies_with_gross.columns)"
   ]
  },
  {
   "cell_type": "code",
   "execution_count": null,
   "metadata": {},
   "outputs": [],
   "source": [
    "movies_with_gross = movies_with_gross.astype('float32')"
   ]
  },
  {
   "cell_type": "code",
   "execution_count": null,
   "metadata": {},
   "outputs": [],
   "source": [
    "dataset = movies_with_gross.copy()"
   ]
  },
  {
   "cell_type": "code",
   "execution_count": null,
   "metadata": {},
   "outputs": [],
   "source": [
    "train_dataset = dataset.sample(frac=0.8, random_state=0)\n",
    "test_dataset = dataset.drop(train_dataset.index)"
   ]
  },
  {
   "cell_type": "code",
   "execution_count": null,
   "metadata": {},
   "outputs": [],
   "source": [
    "train_dataset.describe().transpose()"
   ]
  },
  {
   "cell_type": "code",
   "execution_count": null,
   "metadata": {},
   "outputs": [],
   "source": [
    "train_features = train_dataset.copy()\n",
    "test_features = test_dataset.copy()\n",
    "\n",
    "train_labels = train_features.pop('pageviews')\n",
    "test_labels = test_features.pop('pageviews')"
   ]
  },
  {
   "cell_type": "code",
   "execution_count": null,
   "metadata": {},
   "outputs": [],
   "source": [
    "train_features.shape"
   ]
  },
  {
   "cell_type": "code",
   "execution_count": null,
   "metadata": {},
   "outputs": [],
   "source": [
    "from tensorflow.python.keras.layers import Dense\n",
    "from tensorflow.keras.layers import Normalization\n",
    "from tensorflow.python.keras.models import Sequential\n",
    "\n",
    "# from tensorflow.keras.metrics import Recall, Precision\n",
    "# from tensorflow_addons.metrics import F1Score"
   ]
  },
  {
   "cell_type": "markdown",
   "metadata": {},
   "source": [
    "total_gross_modified ~ runtime + release_year + isAdult + WR + release_month + budget_modified + pageviews + genre + languages + countries + directors + writers"
   ]
  },
  {
   "cell_type": "code",
   "execution_count": null,
   "metadata": {},
   "outputs": [],
   "source": [
    "model = Sequential()\n",
    "model.add(Normalization(axis=-1))\n",
    "model.add(Dense(50, activation=\"relu\"))\n",
    "model.add(Dense(25, activation=\"relu\"))\n",
    "model.add(Dense(1))"
   ]
  },
  {
   "cell_type": "code",
   "execution_count": null,
   "metadata": {},
   "outputs": [],
   "source": [
    "model.compile(optimizer='adam', loss='mean_absolute_error', metrics=['accuracy'])"
   ]
  },
  {
   "cell_type": "code",
   "execution_count": null,
   "metadata": {},
   "outputs": [],
   "source": [
    "model.build((0, 127))\n",
    "model.summary()"
   ]
  },
  {
   "cell_type": "code",
   "execution_count": null,
   "metadata": {},
   "outputs": [],
   "source": [
    "history = model.fit(train_features, train_labels, batch_size=32, epochs=10, validation_split=0.2)"
   ]
  },
  {
   "cell_type": "markdown",
   "metadata": {},
   "source": [
    "# Project Milestone 3: data story"
   ]
  },
  {
   "cell_type": "markdown",
   "metadata": {},
   "source": [
    "## Study data for separate genre"
   ]
  },
  {
   "cell_type": "code",
   "execution_count": null,
   "metadata": {},
   "outputs": [],
   "source": [
    "# Create list of top 15 genre: \n",
    "print(genres[genres>1000][0:15])\n",
    "top_genre = genres[genres>1000][0:15].index.tolist()"
   ]
  },
  {
   "cell_type": "markdown",
   "metadata": {},
   "source": [
    "## Top movies for three success features"
   ]
  },
  {
   "cell_type": "markdown",
   "metadata": {},
   "source": [
    "We sort df_all by most successful movies according to our three success features. Note that we keep here duplicates for future use."
   ]
  },
  {
   "cell_type": "code",
   "execution_count": null,
   "metadata": {},
   "outputs": [],
   "source": [
    "# Success in terms of profit: \n",
    "df_all_top_profit = df_all_expanded.sort_values('profit_modified', ascending=False)\n",
    "df_all_top_profit.head(3)"
   ]
  },
  {
   "cell_type": "code",
   "execution_count": null,
   "metadata": {},
   "outputs": [],
   "source": [
    "# Success in terms of weighted IMDB rating: \n",
    "df_all_top_WR = df_all_expanded.sort_values('WR', ascending=False)\n",
    "df_all_top_WR.head(3)"
   ]
  },
  {
   "cell_type": "markdown",
   "metadata": {},
   "source": [
    "## Impact of director"
   ]
  },
  {
   "cell_type": "code",
   "execution_count": null,
   "metadata": {},
   "outputs": [],
   "source": [
    "# Most succesful directors in terms of profit\n",
    "top_20_directors = df_all_top_profit[df_all_top_profit['genre']=='Drama'].dropna(how='all', subset=['directors']).drop_duplicates(['name', 'release_year', 'directors'])[0:20] # Remove NaN directors"
   ]
  },
  {
   "cell_type": "code",
   "execution_count": null,
   "metadata": {},
   "outputs": [],
   "source": [
    "plt.figure(figsize=(10,5))\n",
    "sns.barplot(x=top_20_directors['directors'],y=top_20_directors['profit_modified'], \n",
    "            color='crimson', alpha=0.95, label='Profit', ci=None)\n",
    "sns.barplot(x=top_20_directors['directors'],y=top_20_directors['budget_modified'], \n",
    "            color='lightseagreen', alpha=0.95, label='Budget', ci=None)\n",
    "plt.xlabel('Director', fontsize=12)\n",
    "plt.title(\"Directors of 20 most profitable movies for drama genre\", fontsize=14)\n",
    "plt.ylabel('Profit', fontsize=12)\n",
    "plt.xticks(rotation=35, horizontalalignment='right', fontsize=10)\n",
    "plt.legend(fontsize=12)"
   ]
  },
  {
   "cell_type": "code",
   "execution_count": null,
   "metadata": {},
   "outputs": [],
   "source": [
    "import networkx as nx\n",
    "import pyvis\n",
    "from pyvis.network import Network\n",
    "\n",
    "N = 20\n",
    "weight_thr = 5000\n",
    "\n",
    "#we use the most common directors (31) of our three categories as nodes for our graph\n",
    "nodes_to_keep = top_20_directors.loc['Religious', most_common_LFs].index.values\n",
    "\n",
    "reduced_LFs = []\n",
    "\n",
    "for i, list_LFs in pope_quotes_features['non-zero lexical fields'].items():\n",
    "    temp_LFs = []\n",
    "\n",
    "    for LF in list_LFs:\n",
    "\n",
    "        if LF in nodes_to_keep:\n",
    "            temp_LFs.append(LF)\n",
    "            \n",
    "    if not temp_LFs:\n",
    "        reduced_LFs.append([])\n",
    "    else:\n",
    "        reduced_LFs.append(temp_LFs)\n",
    "    \n",
    "pope_quotes_features['reduced non-zero lexical fields'] = reduced_LFs\n",
    "\n",
    "#we count the occurence of each field:\n",
    "count_fields = pope_quotes_features['reduced non-zero lexical fields'].copy().values\n",
    "count_fields = dict(Counter(chain.from_iterable(map(set, count_fields)))) #create dictionnary key = field, value = count\n",
    "\n",
    "print(\"Reduce the number of lexical fields DONE\")\n",
    "\n",
    "#we create a network with one node per lexical field:\n",
    "G = nx.Graph()\n",
    "G.add_nodes_from(nodes_to_keep)\n",
    "\n",
    "#we transform the list of LFs occuring in each quote into a list of binary tuples (future edge)\n",
    "quotes_LFs = pope_quotes_features['reduced non-zero lexical fields'].copy().values\n",
    "pairs_LFs = []\n",
    "\n",
    "for quote_LFs in quotes_LFs:\n",
    "    \n",
    "    pairs_LFs += [(a, b) for idx, a in enumerate(quote_LFs) for b in quote_LFs[idx + 1:]]\n",
    "\n",
    "print(\"Build the edges DONE\")    \n",
    "\n",
    "nodes_scores = categories_df.loc['Religious', most_common_LFs].values\n",
    "\n",
    "#We add those weighted edges to the graph (weight = count of co-occurences)\n",
    "unique_edges = list(set(pairs_LFs))\n",
    "weights = []\n",
    "\n",
    "for edge in unique_edges:\n",
    "    weight_edge = pairs_LFs.count(edge)\n",
    "    weights.append(weight_edge)\n",
    "    \n",
    "    if weight_edge > weight_thr:\n",
    "        G.add_edge(edge[0], edge[1], weight = weight_edge)\n",
    "    \n",
    "print(\"Build the network DONE\")  "
   ]
  },
  {
   "cell_type": "code",
   "execution_count": null,
   "metadata": {},
   "outputs": [],
   "source": [
    "print('pandas',pd.__version__,'networkX', nx.__version__,'pyvis', pyvis.__version__)"
   ]
  },
  {
   "cell_type": "markdown",
   "metadata": {},
   "source": [
    "Network graph:\n",
    "Node size: feature score\n",
    "Edge width: collaboration score"
   ]
  },
  {
   "cell_type": "code",
   "execution_count": null,
   "metadata": {},
   "outputs": [],
   "source": [
    "N = 15 # number of nodes \n",
    "top_N_directors = directors_score.sort_values(by='Score')[0:N]"
   ]
  },
  {
   "cell_type": "code",
   "execution_count": null,
   "metadata": {},
   "outputs": [],
   "source": [
    "ls_top_directors = top_N_directors['directors'].tolist()"
   ]
  },
  {
   "cell_type": "code",
   "execution_count": null,
   "metadata": {},
   "outputs": [],
   "source": [
    "ls_top_directors[1] in director_pairs_score['directors0']"
   ]
  },
  {
   "cell_type": "code",
   "execution_count": null,
   "metadata": {},
   "outputs": [],
   "source": [
    "director_pairs_score.rename({'directors': 'director_pair', 'Score':'Score_pair'}, axis = 1)\n"
   ]
  },
  {
   "cell_type": "code",
   "execution_count": null,
   "metadata": {},
   "outputs": [],
   "source": [
    "# Create a merged dataframe where we have only collaborations which include top directors\n",
    "df = top_N_directors.merge(director_pairs_score.rename({'directors': 'director_pair', 'Score':'Score_pair'}, axis = 1),how='left',left_on='directors',right_on='directors0')\n",
    "top_N_directors_graph = df[df['directors1'].isin(df['directors'])]\n",
    "#del df\n",
    "\n",
    "# Contains only top directors collaboration\n",
    "print('Length of dataframe is: ',len(top_N_directors_graph))\n",
    "top_N_directors_graph.head()\n"
   ]
  },
  {
   "cell_type": "code",
   "execution_count": null,
   "metadata": {},
   "outputs": [],
   "source": [
    "# Complete with top directors without collaboration\n",
    "top_N_directors_graph = top_N_directors.merge(top_N_directors_graph,how='left',on=['directors','Score'])\n",
    "top_N_directors_graph.sample(5)"
   ]
  },
  {
   "cell_type": "code",
   "execution_count": null,
   "metadata": {},
   "outputs": [],
   "source": [
    "# Rescale edge weights: \n",
    "weights = top_N_directors_graph['Score_pair'].dropna()\n",
    "weights = ((weights - np.min(weights)) / (np.max(weights)-np.min(weights)) + 1 if np.max(weights)!=np.min(weights) else weights/np.max(weights))\n",
    "top_N_directors_graph['weight_edge'] = weights\n",
    "\n",
    "# Create edge data:\n",
    "edge_data = pd.DataFrame({'source' : top_N_directors_graph['directors0'].dropna().tolist(),\n",
    "                      'target' : top_N_directors_graph['directors1'].dropna().tolist(),\n",
    "                      'weight' : top_N_directors_graph['weight_edge'].dropna().tolist()})\n",
    "\n",
    "edge_data = pd.DataFrame({'source' : top_N_directors_graph['directors'].tolist(),\n",
    "                      'target' : top_N_directors_graph['directors1'].tolist(),\n",
    "                      'weight' : top_N_directors_graph['weight_edge'].tolist()})\n",
    "\n",
    "\n",
    "\n",
    "# Create node data:\n",
    "node_data = pd.DataFrame({'name' : top_N_directors_graph['directors'].tolist(),\n",
    "                      'score': top_N_directors_graph['Score'].tolist()}).drop_duplicates(subset='name')\n",
    "#                      'name' : ['Foo', 'Bar', 'Baz'],\n",
    "#                     'gender' : ['M', 'F', 'M']})\n",
    "\n",
    "#G = nx.from_pandas_dataframe(edges, sources='source', target='target', weight='weight')\n",
    "\n",
    "G = nx.from_pandas_edgelist(edge_data, 'source', 'target', True)\n",
    "\n",
    "#nx.set_node_attributes(G, node_data.set_index('name'))\n",
    "\n",
    "#nx.draw_networkx_edges(G, pos, alpha=0.5, edge_color=\"m\")\n",
    "\n",
    "#nx.set_node_attributes(G, pd.Series(nodes.gender, index=nodes.node).to_dict(), 'gender')"
   ]
  },
  {
   "cell_type": "code",
   "execution_count": null,
   "metadata": {},
   "outputs": [],
   "source": [
    "v in edge_data['target'] if v is np.nan"
   ]
  },
  {
   "cell_type": "code",
   "execution_count": null,
   "metadata": {},
   "outputs": [],
   "source": [
    "\n",
    "#graph esthetic parameters\n",
    "max_node_size = 20000\n",
    "max_edge_width = 100\n",
    "\n",
    "#extract lexical fields total scores over the whole corpus, normalize them and define their width in the graph\n",
    "nodes_scores = top_N_directors_graph['Score']\n",
    "nodes_size = np.array(nodes_scores)\n",
    "nodes_size = (nodes_size - np.min(nodes_size)) / (np.max(nodes_size) - np.min(nodes_size))\n",
    "#nodes_size *= max_node_size"
   ]
  },
  {
   "cell_type": "code",
   "execution_count": null,
   "metadata": {},
   "outputs": [],
   "source": [
    "len(nodes_scores)"
   ]
  },
  {
   "cell_type": "code",
   "execution_count": null,
   "metadata": {},
   "outputs": [],
   "source": [
    "nodes_size"
   ]
  },
  {
   "cell_type": "code",
   "execution_count": null,
   "metadata": {},
   "outputs": [],
   "source": [
    "# Generate layout for visualization\n",
    "pos = nx.circular_layout(G)\n",
    "\n",
    "fig, ax = plt.subplots(figsize=(20, 20))\n",
    "\n",
    "# Visualize graph components\n",
    "\n",
    "nx.draw_networkx_nodes(G, pos, node_color=\"#210070\", alpha=0.9)\n",
    "nx.draw_networkx_edges(G, pos, alpha=0.5, edge_color=\"m\") # width = weights\n",
    "label_options = {\"ec\": \"k\", \"fc\": \"white\", \"alpha\": 0.7}\n",
    "nx.draw_networkx_labels(G, pos, font_size=18, bbox=label_options)\n",
    "\n",
    "# Resize figure for label readibility\n",
    "ax.margins(0.1, 0.05)\n",
    "fig.tight_layout()\n",
    "plt.axis(\"off\")\n",
    "\n",
    "#plt.savefig('../output/network_sparse.png', dpi = 500)\n",
    "plt.show()"
   ]
  },
  {
   "cell_type": "code",
   "execution_count": null,
   "metadata": {},
   "outputs": [],
   "source": [
    "\n",
    "#graph esthetic parameters\n",
    "max_node_size = 20000\n",
    "max_edge_width = 100\n",
    "\n",
    "#extract edges weigths, normalize them and define their width in the graph\n",
    "weights = np.array([G[u][v]['Score_pair'] for u,v in G.edges()])\n",
    "weights = (weights - np.min(weights)) / (np.max(weights)-np.min(weights))\n",
    "weights *= max_edge_width\n",
    "\n",
    "#extract lexical fields total scores over the whole corpus, normalize them and define their width in the graph\n",
    "nodes_scores = top_N_directors_graph['Score']\n",
    "nodes_size = np.array(nodes_scores)\n",
    "nodes_size = (nodes_size - np.min(nodes_size)) / (np.max(nodes_size) - np.min(nodes_size))\n",
    "nodes_size *= max_node_size\n",
    "                        \n",
    "# Generate layout for visualization\n",
    "pos = nx.circular_layout(G)\n",
    "\n",
    "fig, ax = plt.subplots(figsize=(20, 20))\n",
    "\n",
    "# Visualize graph components\n",
    "nx.draw_networkx_edges(G, pos, alpha=0.5, edge_color=\"m\") # width = weights\n",
    "#nx.draw_networkx_nodes(G, pos, node_size=nodes_size, node_color=\"#210070\", alpha=0.9)\n",
    "label_options = {\"ec\": \"k\", \"fc\": \"white\", \"alpha\": 0.7}\n",
    "nx.draw_networkx_labels(G, pos, font_size=18, bbox=label_options)\n",
    "\n",
    "# Resize figure for label readibility\n",
    "ax.margins(0.1, 0.05)\n",
    "fig.tight_layout()\n",
    "plt.axis(\"off\")\n",
    "\n",
    "#plt.savefig('../output/network_sparse.png', dpi = 500)\n",
    "plt.show()"
   ]
  },
  {
   "cell_type": "code",
   "execution_count": null,
   "metadata": {},
   "outputs": [],
   "source": [
    "# Load pandas as networks graph\n",
    "#G = nx.from_pandas_edgelist(top_N_directors_graph, source='directors0',target='directors1',edge_attr='Score_pair')\n",
    "\n",
    "# Create empty graph\n",
    "G=nx.empty_graph();\n",
    "\n",
    "# Add linked nodes with weighted edges\n",
    "edges = [v + (top_N_directors_graph[top_N_directors_graph['director_pair'] == v].weight_edge.values[0],) for v in top_N_directors_graph['director_pair'].values if v is not np.nan];\n",
    "G.add_weighted_edges_from(edges)\n",
    "\n",
    "# Add top items without any edges (collaboration)\n",
    "#G.add_node(top_N_directors_graph['directors'])\n",
    "\n",
    "# Create vis network\n",
    "net = Network(notebook=True)\n",
    "# Load the networkx graph\n",
    "net.from_nx(G)\n",
    "# Show\n",
    "net.show(\"example.html\")"
   ]
  },
  {
   "cell_type": "code",
   "execution_count": null,
   "metadata": {},
   "outputs": [],
   "source": [
    " top_N_directors_graph"
   ]
  },
  {
   "cell_type": "code",
   "execution_count": null,
   "metadata": {},
   "outputs": [],
   "source": [
    "weights"
   ]
  },
  {
   "cell_type": "code",
   "execution_count": null,
   "metadata": {},
   "outputs": [],
   "source": [
    "top_N_directors_graph['director_pair'].values[10] + (top_N_directors_graph[top_N_directors_graph['director_pair'] == v].Score_pair.values[0],)"
   ]
  },
  {
   "cell_type": "code",
   "execution_count": null,
   "metadata": {},
   "outputs": [],
   "source": [
    "v = top_N_directors_graph['director_pair'].values[10]"
   ]
  },
  {
   "cell_type": "code",
   "execution_count": null,
   "metadata": {},
   "outputs": [],
   "source": [
    "top_N_directors_graph[top_N_directors_graph['director_pair'] == v].Score_pair.values[0]"
   ]
  },
  {
   "cell_type": "code",
   "execution_count": null,
   "metadata": {},
   "outputs": [],
   "source": [
    "[v for v in top_N_directors_graph['Score_pair'].values if not np.isnan(v)]"
   ]
  },
  {
   "cell_type": "code",
   "execution_count": null,
   "metadata": {},
   "outputs": [],
   "source": [
    "#we create a network:\n",
    "G = nx.Graph()\n",
    "G.add_nodes_from(nodes_to_keep)\n",
    "\n",
    "#we transform the list of LFs occuring in each quote into a list of binary tuples (future edge)\n",
    "quotes_LFs = pope_quotes_features['reduced non-zero lexical fields'].copy().values\n",
    "pairs_LFs = []\n",
    "\n",
    "for quote_LFs in quotes_LFs:\n",
    "    \n",
    "    pairs_LFs += [(a, b) for idx, a in enumerate(quote_LFs) for b in quote_LFs[idx + 1:]]\n",
    "\n",
    "print(\"Build the edges DONE\")    \n",
    "\n",
    "nodes_scores = categories_df.loc['Religious', most_common_LFs].values\n",
    "\n",
    "#We add those weighted edges to the graph (weight = count of co-occurences)\n",
    "unique_edges = list(set(pairs_LFs))\n",
    "weights = []\n",
    "\n",
    "for edge in unique_edges:\n",
    "    weight_edge = pairs_LFs.count(edge)\n",
    "    weights.append(weight_edge)\n",
    "    \n",
    "    if weight_edge > weight_thr:\n",
    "        G.add_edge(edge[0], edge[1], weight = weight_edge)\n",
    "    \n",
    "print(\"Build the network DONE\")  "
   ]
  },
  {
   "cell_type": "code",
   "execution_count": null,
   "metadata": {},
   "outputs": [],
   "source": [
    "top_N_directors_graph.loc[0,'director_pair']"
   ]
  },
  {
   "cell_type": "code",
   "execution_count": null,
   "metadata": {},
   "outputs": [],
   "source": [
    "\n",
    "#graph esthetic parameters\n",
    "max_node_size = 20000\n",
    "max_edge_width = 100\n",
    "\n",
    "#extract edges weigths, normalize them and define their width in the graph\n",
    "weights = np.array([G[u][v]['Score_pair'] for u,v in G.edges()])\n",
    "weights = (weights - np.min(weights)) / (np.max(weights)-np.min(weights))\n",
    "weights *= max_edge_width\n",
    "\n",
    "#extract lexical fields total scores over the whole corpus, normalize them and define their width in the graph\n",
    "nodes_scores = top_N_directors_graph['Score']\n",
    "nodes_size = np.array(nodes_scores)\n",
    "nodes_size = (nodes_size - np.min(nodes_size)) / (np.max(nodes_size) - np.min(nodes_size))\n",
    "nodes_size *= max_node_size\n",
    "                        \n",
    "# Generate layout for visualization\n",
    "pos = nx.circular_layout(G)\n",
    "\n",
    "fig, ax = plt.subplots(figsize=(20, 20))\n",
    "\n",
    "# Visualize graph components\n",
    "nx.draw_networkx_edges(G, pos, alpha=0.5, edge_color=\"m\") # width = weights\n",
    "#nx.draw_networkx_nodes(G, pos, node_size=nodes_size, node_color=\"#210070\", alpha=0.9)\n",
    "label_options = {\"ec\": \"k\", \"fc\": \"white\", \"alpha\": 0.7}\n",
    "nx.draw_networkx_labels(G, pos, font_size=18, bbox=label_options)\n",
    "\n",
    "# Resize figure for label readibility\n",
    "ax.margins(0.1, 0.05)\n",
    "fig.tight_layout()\n",
    "plt.axis(\"off\")\n",
    "\n",
    "#plt.savefig('../output/network_sparse.png', dpi = 500)\n",
    "plt.show()"
   ]
  },
  {
   "cell_type": "code",
   "execution_count": null,
   "metadata": {},
   "outputs": [],
   "source": []
  },
  {
   "cell_type": "code",
   "execution_count": null,
   "metadata": {},
   "outputs": [],
   "source": []
  }
 ],
 "metadata": {
  "kernelspec": {
   "display_name": "Python 3 (ipykernel)",
   "language": "python",
   "name": "python3"
  },
  "language_info": {
   "codemirror_mode": {
    "name": "ipython",
    "version": 3
   },
   "file_extension": ".py",
   "mimetype": "text/x-python",
   "name": "python",
   "nbconvert_exporter": "python",
   "pygments_lexer": "ipython3",
   "version": "3.9.13"
  },
  "vscode": {
   "interpreter": {
    "hash": "2ea3f4d26884242fdf2adccf4097552bf598b4dc9b0aeb111925666bc2eeb279"
   }
  }
 },
 "nbformat": 4,
 "nbformat_minor": 2
}
