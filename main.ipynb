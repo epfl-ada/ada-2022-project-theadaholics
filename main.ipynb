{
 "cells": [
  {
   "cell_type": "code",
   "execution_count": 2,
   "metadata": {},
   "outputs": [],
   "source": [
    "# Import modules\n",
    "import numpy as np\n",
    "import pandas as pd\n",
    "import matplotlib.pyplot as plt\n",
    "import re\n",
    "import seaborn as sns\n",
    "import statsmodels.formula.api as smf"
   ]
  },
  {
   "cell_type": "markdown",
   "metadata": {},
   "source": [
    "# Data loading"
   ]
  },
  {
   "cell_type": "markdown",
   "metadata": {},
   "source": [
    "## Movie data"
   ]
  },
  {
   "cell_type": "markdown",
   "metadata": {},
   "source": [
    "movie.metadata.tsv.gz [3.4 M]\n",
    "Metadata for 81,741 movies, extracted from November 4, 2012 dump of Freebase. Tab-separated; columns:\n",
    "- Wikipedia movie ID\n",
    "- Freebase movie ID\n",
    "- Movie name\n",
    "- Movie release date\n",
    "- Movie box office revenue\n",
    "- Movie runtime\n",
    "- Movie languages (Freebase ID:name tuples)\n",
    "- Movie countries (Freebase ID:name tuples)\n",
    "- Movie genres (Freebase ID:name tuples)"
   ]
  },
  {
   "cell_type": "code",
   "execution_count": 3,
   "metadata": {},
   "outputs": [
    {
     "name": "stdout",
     "output_type": "stream",
     "text": [
      "(81741, 9)\n"
     ]
    }
   ],
   "source": [
    "# Load films\n",
    "movies_header = ['wikipedia_id', 'freebase_id', 'name', 'release_date', 'box_office_revenue', 'runtime', 'languages', 'countries', 'genres']\n",
    "movies = pd.read_csv('data/movie.metadata.tsv', sep='\\t', header=None, names=movies_header)\n",
    "movies.head(5)\n",
    "print(movies.shape)\n",
    "#movies['runtime'].hist()\n"
   ]
  },
  {
   "cell_type": "code",
   "execution_count": 4,
   "metadata": {},
   "outputs": [
    {
     "data": {
      "text/html": [
       "<div>\n",
       "<style scoped>\n",
       "    .dataframe tbody tr th:only-of-type {\n",
       "        vertical-align: middle;\n",
       "    }\n",
       "\n",
       "    .dataframe tbody tr th {\n",
       "        vertical-align: top;\n",
       "    }\n",
       "\n",
       "    .dataframe thead th {\n",
       "        text-align: right;\n",
       "    }\n",
       "</style>\n",
       "<table border=\"1\" class=\"dataframe\">\n",
       "  <thead>\n",
       "    <tr style=\"text-align: right;\">\n",
       "      <th></th>\n",
       "      <th>wikipedia_id</th>\n",
       "      <th>freebase_id</th>\n",
       "      <th>name</th>\n",
       "      <th>release_date</th>\n",
       "      <th>box_office_revenue</th>\n",
       "      <th>runtime</th>\n",
       "      <th>languages</th>\n",
       "      <th>countries</th>\n",
       "      <th>genres</th>\n",
       "    </tr>\n",
       "  </thead>\n",
       "  <tbody>\n",
       "    <tr>\n",
       "      <th>0</th>\n",
       "      <td>975900</td>\n",
       "      <td>/m/03vyhn</td>\n",
       "      <td>Ghosts of Mars</td>\n",
       "      <td>2001-08-24</td>\n",
       "      <td>14010832.0</td>\n",
       "      <td>98.0</td>\n",
       "      <td>{\"/m/02h40lc\": \"English Language\"}</td>\n",
       "      <td>{\"/m/09c7w0\": \"United States of America\"}</td>\n",
       "      <td>{\"/m/01jfsb\": \"Thriller\", \"/m/06n90\": \"Science...</td>\n",
       "    </tr>\n",
       "    <tr>\n",
       "      <th>1</th>\n",
       "      <td>3196793</td>\n",
       "      <td>/m/08yl5d</td>\n",
       "      <td>Getting Away with Murder: The JonBenét Ramsey ...</td>\n",
       "      <td>2000-02-16</td>\n",
       "      <td>NaN</td>\n",
       "      <td>95.0</td>\n",
       "      <td>{\"/m/02h40lc\": \"English Language\"}</td>\n",
       "      <td>{\"/m/09c7w0\": \"United States of America\"}</td>\n",
       "      <td>{\"/m/02n4kr\": \"Mystery\", \"/m/03bxz7\": \"Biograp...</td>\n",
       "    </tr>\n",
       "    <tr>\n",
       "      <th>2</th>\n",
       "      <td>28463795</td>\n",
       "      <td>/m/0crgdbh</td>\n",
       "      <td>Brun bitter</td>\n",
       "      <td>1988</td>\n",
       "      <td>NaN</td>\n",
       "      <td>83.0</td>\n",
       "      <td>{\"/m/05f_3\": \"Norwegian Language\"}</td>\n",
       "      <td>{\"/m/05b4w\": \"Norway\"}</td>\n",
       "      <td>{\"/m/0lsxr\": \"Crime Fiction\", \"/m/07s9rl0\": \"D...</td>\n",
       "    </tr>\n",
       "    <tr>\n",
       "      <th>3</th>\n",
       "      <td>9363483</td>\n",
       "      <td>/m/0285_cd</td>\n",
       "      <td>White Of The Eye</td>\n",
       "      <td>1987</td>\n",
       "      <td>NaN</td>\n",
       "      <td>110.0</td>\n",
       "      <td>{\"/m/02h40lc\": \"English Language\"}</td>\n",
       "      <td>{\"/m/07ssc\": \"United Kingdom\"}</td>\n",
       "      <td>{\"/m/01jfsb\": \"Thriller\", \"/m/0glj9q\": \"Erotic...</td>\n",
       "    </tr>\n",
       "    <tr>\n",
       "      <th>4</th>\n",
       "      <td>261236</td>\n",
       "      <td>/m/01mrr1</td>\n",
       "      <td>A Woman in Flames</td>\n",
       "      <td>1983</td>\n",
       "      <td>NaN</td>\n",
       "      <td>106.0</td>\n",
       "      <td>{\"/m/04306rv\": \"German Language\"}</td>\n",
       "      <td>{\"/m/0345h\": \"Germany\"}</td>\n",
       "      <td>{\"/m/07s9rl0\": \"Drama\"}</td>\n",
       "    </tr>\n",
       "  </tbody>\n",
       "</table>\n",
       "</div>"
      ],
      "text/plain": [
       "   wikipedia_id freebase_id  \\\n",
       "0        975900   /m/03vyhn   \n",
       "1       3196793   /m/08yl5d   \n",
       "2      28463795  /m/0crgdbh   \n",
       "3       9363483  /m/0285_cd   \n",
       "4        261236   /m/01mrr1   \n",
       "\n",
       "                                                name release_date  \\\n",
       "0                                     Ghosts of Mars   2001-08-24   \n",
       "1  Getting Away with Murder: The JonBenét Ramsey ...   2000-02-16   \n",
       "2                                        Brun bitter         1988   \n",
       "3                                   White Of The Eye         1987   \n",
       "4                                  A Woman in Flames         1983   \n",
       "\n",
       "   box_office_revenue  runtime                           languages  \\\n",
       "0          14010832.0     98.0  {\"/m/02h40lc\": \"English Language\"}   \n",
       "1                 NaN     95.0  {\"/m/02h40lc\": \"English Language\"}   \n",
       "2                 NaN     83.0  {\"/m/05f_3\": \"Norwegian Language\"}   \n",
       "3                 NaN    110.0  {\"/m/02h40lc\": \"English Language\"}   \n",
       "4                 NaN    106.0   {\"/m/04306rv\": \"German Language\"}   \n",
       "\n",
       "                                   countries  \\\n",
       "0  {\"/m/09c7w0\": \"United States of America\"}   \n",
       "1  {\"/m/09c7w0\": \"United States of America\"}   \n",
       "2                     {\"/m/05b4w\": \"Norway\"}   \n",
       "3             {\"/m/07ssc\": \"United Kingdom\"}   \n",
       "4                    {\"/m/0345h\": \"Germany\"}   \n",
       "\n",
       "                                              genres  \n",
       "0  {\"/m/01jfsb\": \"Thriller\", \"/m/06n90\": \"Science...  \n",
       "1  {\"/m/02n4kr\": \"Mystery\", \"/m/03bxz7\": \"Biograp...  \n",
       "2  {\"/m/0lsxr\": \"Crime Fiction\", \"/m/07s9rl0\": \"D...  \n",
       "3  {\"/m/01jfsb\": \"Thriller\", \"/m/0glj9q\": \"Erotic...  \n",
       "4                            {\"/m/07s9rl0\": \"Drama\"}  "
      ]
     },
     "execution_count": 4,
     "metadata": {},
     "output_type": "execute_result"
    }
   ],
   "source": [
    "movies.head(5)"
   ]
  },
  {
   "cell_type": "code",
   "execution_count": 5,
   "metadata": {},
   "outputs": [
    {
     "data": {
      "text/html": [
       "<div>\n",
       "<style scoped>\n",
       "    .dataframe tbody tr th:only-of-type {\n",
       "        vertical-align: middle;\n",
       "    }\n",
       "\n",
       "    .dataframe tbody tr th {\n",
       "        vertical-align: top;\n",
       "    }\n",
       "\n",
       "    .dataframe thead th {\n",
       "        text-align: right;\n",
       "    }\n",
       "</style>\n",
       "<table border=\"1\" class=\"dataframe\">\n",
       "  <thead>\n",
       "    <tr style=\"text-align: right;\">\n",
       "      <th></th>\n",
       "      <th>wikipedia_id</th>\n",
       "      <th>box_office_revenue</th>\n",
       "      <th>runtime</th>\n",
       "    </tr>\n",
       "  </thead>\n",
       "  <tbody>\n",
       "    <tr>\n",
       "      <th>count</th>\n",
       "      <td>8.174100e+04</td>\n",
       "      <td>8.401000e+03</td>\n",
       "      <td>6.129100e+04</td>\n",
       "    </tr>\n",
       "    <tr>\n",
       "      <th>mean</th>\n",
       "      <td>1.740784e+07</td>\n",
       "      <td>4.799363e+07</td>\n",
       "      <td>1.118192e+02</td>\n",
       "    </tr>\n",
       "    <tr>\n",
       "      <th>std</th>\n",
       "      <td>1.098791e+07</td>\n",
       "      <td>1.121753e+08</td>\n",
       "      <td>4.360070e+03</td>\n",
       "    </tr>\n",
       "    <tr>\n",
       "      <th>min</th>\n",
       "      <td>3.300000e+02</td>\n",
       "      <td>1.000000e+04</td>\n",
       "      <td>0.000000e+00</td>\n",
       "    </tr>\n",
       "    <tr>\n",
       "      <th>25%</th>\n",
       "      <td>7.323695e+06</td>\n",
       "      <td>2.083193e+06</td>\n",
       "      <td>8.100000e+01</td>\n",
       "    </tr>\n",
       "    <tr>\n",
       "      <th>50%</th>\n",
       "      <td>1.777899e+07</td>\n",
       "      <td>1.063969e+07</td>\n",
       "      <td>9.300000e+01</td>\n",
       "    </tr>\n",
       "    <tr>\n",
       "      <th>75%</th>\n",
       "      <td>2.715573e+07</td>\n",
       "      <td>4.071696e+07</td>\n",
       "      <td>1.060000e+02</td>\n",
       "    </tr>\n",
       "    <tr>\n",
       "      <th>max</th>\n",
       "      <td>3.750192e+07</td>\n",
       "      <td>2.782275e+09</td>\n",
       "      <td>1.079281e+06</td>\n",
       "    </tr>\n",
       "  </tbody>\n",
       "</table>\n",
       "</div>"
      ],
      "text/plain": [
       "       wikipedia_id  box_office_revenue       runtime\n",
       "count  8.174100e+04        8.401000e+03  6.129100e+04\n",
       "mean   1.740784e+07        4.799363e+07  1.118192e+02\n",
       "std    1.098791e+07        1.121753e+08  4.360070e+03\n",
       "min    3.300000e+02        1.000000e+04  0.000000e+00\n",
       "25%    7.323695e+06        2.083193e+06  8.100000e+01\n",
       "50%    1.777899e+07        1.063969e+07  9.300000e+01\n",
       "75%    2.715573e+07        4.071696e+07  1.060000e+02\n",
       "max    3.750192e+07        2.782275e+09  1.079281e+06"
      ]
     },
     "execution_count": 5,
     "metadata": {},
     "output_type": "execute_result"
    }
   ],
   "source": [
    "movies.describe()"
   ]
  },
  {
   "cell_type": "markdown",
   "metadata": {},
   "source": [
    "## Character data"
   ]
  },
  {
   "cell_type": "markdown",
   "metadata": {},
   "source": [
    "character.metadata.tsv.gz [14 M]\n",
    "Metadata for 450,669 characters aligned to the movies above, extracted from November 4, 2012 dump of Freebase. Tab-separated; columns:\n",
    "\n",
    "- Wikipedia movie ID\n",
    "- Freebase movie ID\n",
    "- Movie release date\n",
    "- Character name\n",
    "- Actor date of birth\n",
    "- Actor gender\n",
    "- Actor height (in meters)\n",
    "- Actor ethnicity (Freebase ID)\n",
    "- Actor name\n",
    "- Actor age at movie release\n",
    "- Freebase character/actor map ID\n",
    "- Freebase character ID\n",
    "- Freebase actor ID"
   ]
  },
  {
   "cell_type": "code",
   "execution_count": 6,
   "metadata": {},
   "outputs": [
    {
     "data": {
      "text/html": [
       "<div>\n",
       "<style scoped>\n",
       "    .dataframe tbody tr th:only-of-type {\n",
       "        vertical-align: middle;\n",
       "    }\n",
       "\n",
       "    .dataframe tbody tr th {\n",
       "        vertical-align: top;\n",
       "    }\n",
       "\n",
       "    .dataframe thead th {\n",
       "        text-align: right;\n",
       "    }\n",
       "</style>\n",
       "<table border=\"1\" class=\"dataframe\">\n",
       "  <thead>\n",
       "    <tr style=\"text-align: right;\">\n",
       "      <th></th>\n",
       "      <th>wikipedia_movie_id</th>\n",
       "      <th>freebase_movie_id</th>\n",
       "      <th>movie_release_date</th>\n",
       "      <th>character_name</th>\n",
       "      <th>actor_birthdate</th>\n",
       "      <th>actor_gender</th>\n",
       "      <th>actor_height_meters</th>\n",
       "      <th>actor_ethnicity_freebase_id</th>\n",
       "      <th>actor_name</th>\n",
       "      <th>actor_age_at_movie_release</th>\n",
       "      <th>freebase_character_actor_map_id</th>\n",
       "      <th>freebase_character_id</th>\n",
       "      <th>freebase_actor_id</th>\n",
       "    </tr>\n",
       "  </thead>\n",
       "  <tbody>\n",
       "    <tr>\n",
       "      <th>295245</th>\n",
       "      <td>171626</td>\n",
       "      <td>/m/01719t</td>\n",
       "      <td>2001-12-25</td>\n",
       "      <td>Muhammad Ali</td>\n",
       "      <td>1968-09-25</td>\n",
       "      <td>M</td>\n",
       "      <td>1.88</td>\n",
       "      <td>/m/0x67</td>\n",
       "      <td>Will Smith</td>\n",
       "      <td>33.0</td>\n",
       "      <td>/m/0jt6vz</td>\n",
       "      <td>/m/02nw80c</td>\n",
       "      <td>/m/0147dk</td>\n",
       "    </tr>\n",
       "    <tr>\n",
       "      <th>116174</th>\n",
       "      <td>22191929</td>\n",
       "      <td>/m/05q5xpg</td>\n",
       "      <td>1978-12-21</td>\n",
       "      <td>Titina Paterno</td>\n",
       "      <td>1934-09-20</td>\n",
       "      <td>F</td>\n",
       "      <td>1.74</td>\n",
       "      <td>/m/0222qb</td>\n",
       "      <td>Sophia Loren</td>\n",
       "      <td>44.0</td>\n",
       "      <td>/m/05tfr2f</td>\n",
       "      <td>/m/0gy2tn4</td>\n",
       "      <td>/m/01qq_lp</td>\n",
       "    </tr>\n",
       "    <tr>\n",
       "      <th>436663</th>\n",
       "      <td>32291194</td>\n",
       "      <td>/m/0h1ckhz</td>\n",
       "      <td>2013-01-03</td>\n",
       "      <td>Mayor Burt Hartman</td>\n",
       "      <td>1968-06-27</td>\n",
       "      <td>M</td>\n",
       "      <td>NaN</td>\n",
       "      <td>NaN</td>\n",
       "      <td>Paul Rae</td>\n",
       "      <td>44.0</td>\n",
       "      <td>/m/0hkj1kf</td>\n",
       "      <td>/m/0hkj1kj</td>\n",
       "      <td>/m/02v_lwg</td>\n",
       "    </tr>\n",
       "    <tr>\n",
       "      <th>427470</th>\n",
       "      <td>8848844</td>\n",
       "      <td>/m/027lxqf</td>\n",
       "      <td>1978-02-01</td>\n",
       "      <td>NaN</td>\n",
       "      <td>1928-01-18</td>\n",
       "      <td>M</td>\n",
       "      <td>NaN</td>\n",
       "      <td>NaN</td>\n",
       "      <td>Franciszek Pieczka</td>\n",
       "      <td>50.0</td>\n",
       "      <td>/m/0cg319m</td>\n",
       "      <td>NaN</td>\n",
       "      <td>/m/03h5b6j</td>\n",
       "    </tr>\n",
       "    <tr>\n",
       "      <th>55188</th>\n",
       "      <td>9379703</td>\n",
       "      <td>/m/0286k0s</td>\n",
       "      <td>2008-06-26</td>\n",
       "      <td>Jean-Jacques</td>\n",
       "      <td>NaN</td>\n",
       "      <td>M</td>\n",
       "      <td>NaN</td>\n",
       "      <td>NaN</td>\n",
       "      <td>William Abadie</td>\n",
       "      <td>NaN</td>\n",
       "      <td>/m/0cs2b3m</td>\n",
       "      <td>/m/0h5sklj</td>\n",
       "      <td>/m/07yrfr3</td>\n",
       "    </tr>\n",
       "  </tbody>\n",
       "</table>\n",
       "</div>"
      ],
      "text/plain": [
       "        wikipedia_movie_id freebase_movie_id movie_release_date  \\\n",
       "295245              171626         /m/01719t         2001-12-25   \n",
       "116174            22191929        /m/05q5xpg         1978-12-21   \n",
       "436663            32291194        /m/0h1ckhz         2013-01-03   \n",
       "427470             8848844        /m/027lxqf         1978-02-01   \n",
       "55188              9379703        /m/0286k0s         2008-06-26   \n",
       "\n",
       "            character_name actor_birthdate actor_gender  actor_height_meters  \\\n",
       "295245        Muhammad Ali      1968-09-25            M                 1.88   \n",
       "116174      Titina Paterno      1934-09-20            F                 1.74   \n",
       "436663  Mayor Burt Hartman      1968-06-27            M                  NaN   \n",
       "427470                 NaN      1928-01-18            M                  NaN   \n",
       "55188         Jean-Jacques             NaN            M                  NaN   \n",
       "\n",
       "       actor_ethnicity_freebase_id          actor_name  \\\n",
       "295245                     /m/0x67          Will Smith   \n",
       "116174                   /m/0222qb        Sophia Loren   \n",
       "436663                         NaN            Paul Rae   \n",
       "427470                         NaN  Franciszek Pieczka   \n",
       "55188                          NaN      William Abadie   \n",
       "\n",
       "        actor_age_at_movie_release freebase_character_actor_map_id  \\\n",
       "295245                        33.0                       /m/0jt6vz   \n",
       "116174                        44.0                      /m/05tfr2f   \n",
       "436663                        44.0                      /m/0hkj1kf   \n",
       "427470                        50.0                      /m/0cg319m   \n",
       "55188                          NaN                      /m/0cs2b3m   \n",
       "\n",
       "       freebase_character_id freebase_actor_id  \n",
       "295245            /m/02nw80c         /m/0147dk  \n",
       "116174            /m/0gy2tn4        /m/01qq_lp  \n",
       "436663            /m/0hkj1kj        /m/02v_lwg  \n",
       "427470                   NaN        /m/03h5b6j  \n",
       "55188             /m/0h5sklj        /m/07yrfr3  "
      ]
     },
     "execution_count": 6,
     "metadata": {},
     "output_type": "execute_result"
    }
   ],
   "source": [
    "# Load characters\n",
    "characters_header = ['wikipedia_movie_id','freebase_movie_id','movie_release_date','character_name','actor_birthdate','actor_gender','actor_height_meters','actor_ethnicity_freebase_id','actor_name','actor_age_at_movie_release','freebase_character_actor_map_id','freebase_character_id','freebase_actor_id']\n",
    "characters = pd.read_csv('data/character.metadata.tsv', sep='\\t', header=None, names=characters_header)\n",
    "characters.sample(5)"
   ]
  },
  {
   "cell_type": "markdown",
   "metadata": {},
   "source": [
    "freebase_character_actor_map_id ?\n",
    "movies are referred to by wikipedia id or freebase id\n",
    "lots of data missing especially for: ethnicity, charcter name (maybe some characters aren't named in movies) , \n",
    "different date formats for release date "
   ]
  },
  {
   "cell_type": "markdown",
   "metadata": {},
   "source": [
    "## IMDB top 1000 data"
   ]
  },
  {
   "cell_type": "markdown",
   "metadata": {},
   "source": [
    "This dataset includes IMDB top 1,000 movies of all time with attributes such as Title, Certificate, Duration, Genre, etc.\n",
    "source: https://www.kaggle.com/datasets/omarhanyy/imdb-top-1000\n",
    "\n",
    "- Poster_Link\n",
    "- Series_Title: Title of movie\n",
    "- Release_year: Movie release year\n",
    "- Certificate\n",
    "- Runtime [min]\n",
    "- Genre\n",
    "- IMDB_Rating: IMDB rating over 10\n",
    "- Overview: brief summary\n",
    "- Meta_score: rating by critiques\n",
    "- Director\n",
    "- Star 1, 2, 3, 4\n",
    "- No_of_Votes: Number of votes\n",
    "- Gross: Revenue in the first 5 days of release"
   ]
  },
  {
   "cell_type": "code",
   "execution_count": 7,
   "metadata": {},
   "outputs": [],
   "source": [
    "imdb_top_1000 = pd.read_csv('data/imdb/imdb_top_1000.csv', thousands=',')"
   ]
  },
  {
   "cell_type": "code",
   "execution_count": 8,
   "metadata": {},
   "outputs": [
    {
     "data": {
      "text/html": [
       "<div>\n",
       "<style scoped>\n",
       "    .dataframe tbody tr th:only-of-type {\n",
       "        vertical-align: middle;\n",
       "    }\n",
       "\n",
       "    .dataframe tbody tr th {\n",
       "        vertical-align: top;\n",
       "    }\n",
       "\n",
       "    .dataframe thead th {\n",
       "        text-align: right;\n",
       "    }\n",
       "</style>\n",
       "<table border=\"1\" class=\"dataframe\">\n",
       "  <thead>\n",
       "    <tr style=\"text-align: right;\">\n",
       "      <th></th>\n",
       "      <th>Poster_Link</th>\n",
       "      <th>Series_Title</th>\n",
       "      <th>Released_Year</th>\n",
       "      <th>Certificate</th>\n",
       "      <th>Runtime</th>\n",
       "      <th>Genre</th>\n",
       "      <th>IMDB_Rating</th>\n",
       "      <th>Overview</th>\n",
       "      <th>Meta_score</th>\n",
       "      <th>Director</th>\n",
       "      <th>Star1</th>\n",
       "      <th>Star2</th>\n",
       "      <th>Star3</th>\n",
       "      <th>Star4</th>\n",
       "      <th>No_of_Votes</th>\n",
       "      <th>Gross</th>\n",
       "    </tr>\n",
       "  </thead>\n",
       "  <tbody>\n",
       "    <tr>\n",
       "      <th>0</th>\n",
       "      <td>https://m.media-amazon.com/images/M/MV5BMDFkYT...</td>\n",
       "      <td>The Shawshank Redemption</td>\n",
       "      <td>1994</td>\n",
       "      <td>A</td>\n",
       "      <td>142 min</td>\n",
       "      <td>Drama</td>\n",
       "      <td>9.3</td>\n",
       "      <td>Two imprisoned men bond over a number of years...</td>\n",
       "      <td>80.0</td>\n",
       "      <td>Frank Darabont</td>\n",
       "      <td>Tim Robbins</td>\n",
       "      <td>Morgan Freeman</td>\n",
       "      <td>Bob Gunton</td>\n",
       "      <td>William Sadler</td>\n",
       "      <td>2343110</td>\n",
       "      <td>28341469.0</td>\n",
       "    </tr>\n",
       "    <tr>\n",
       "      <th>1</th>\n",
       "      <td>https://m.media-amazon.com/images/M/MV5BM2MyNj...</td>\n",
       "      <td>The Godfather</td>\n",
       "      <td>1972</td>\n",
       "      <td>A</td>\n",
       "      <td>175 min</td>\n",
       "      <td>Crime, Drama</td>\n",
       "      <td>9.2</td>\n",
       "      <td>An organized crime dynasty's aging patriarch t...</td>\n",
       "      <td>100.0</td>\n",
       "      <td>Francis Ford Coppola</td>\n",
       "      <td>Marlon Brando</td>\n",
       "      <td>Al Pacino</td>\n",
       "      <td>James Caan</td>\n",
       "      <td>Diane Keaton</td>\n",
       "      <td>1620367</td>\n",
       "      <td>134966411.0</td>\n",
       "    </tr>\n",
       "    <tr>\n",
       "      <th>2</th>\n",
       "      <td>https://m.media-amazon.com/images/M/MV5BMTMxNT...</td>\n",
       "      <td>The Dark Knight</td>\n",
       "      <td>2008</td>\n",
       "      <td>UA</td>\n",
       "      <td>152 min</td>\n",
       "      <td>Action, Crime, Drama</td>\n",
       "      <td>9.0</td>\n",
       "      <td>When the menace known as the Joker wreaks havo...</td>\n",
       "      <td>84.0</td>\n",
       "      <td>Christopher Nolan</td>\n",
       "      <td>Christian Bale</td>\n",
       "      <td>Heath Ledger</td>\n",
       "      <td>Aaron Eckhart</td>\n",
       "      <td>Michael Caine</td>\n",
       "      <td>2303232</td>\n",
       "      <td>534858444.0</td>\n",
       "    </tr>\n",
       "    <tr>\n",
       "      <th>3</th>\n",
       "      <td>https://m.media-amazon.com/images/M/MV5BMWMwMG...</td>\n",
       "      <td>The Godfather: Part II</td>\n",
       "      <td>1974</td>\n",
       "      <td>A</td>\n",
       "      <td>202 min</td>\n",
       "      <td>Crime, Drama</td>\n",
       "      <td>9.0</td>\n",
       "      <td>The early life and career of Vito Corleone in ...</td>\n",
       "      <td>90.0</td>\n",
       "      <td>Francis Ford Coppola</td>\n",
       "      <td>Al Pacino</td>\n",
       "      <td>Robert De Niro</td>\n",
       "      <td>Robert Duvall</td>\n",
       "      <td>Diane Keaton</td>\n",
       "      <td>1129952</td>\n",
       "      <td>57300000.0</td>\n",
       "    </tr>\n",
       "    <tr>\n",
       "      <th>4</th>\n",
       "      <td>https://m.media-amazon.com/images/M/MV5BMWU4N2...</td>\n",
       "      <td>12 Angry Men</td>\n",
       "      <td>1957</td>\n",
       "      <td>U</td>\n",
       "      <td>96 min</td>\n",
       "      <td>Crime, Drama</td>\n",
       "      <td>9.0</td>\n",
       "      <td>A jury holdout attempts to prevent a miscarria...</td>\n",
       "      <td>96.0</td>\n",
       "      <td>Sidney Lumet</td>\n",
       "      <td>Henry Fonda</td>\n",
       "      <td>Lee J. Cobb</td>\n",
       "      <td>Martin Balsam</td>\n",
       "      <td>John Fiedler</td>\n",
       "      <td>689845</td>\n",
       "      <td>4360000.0</td>\n",
       "    </tr>\n",
       "  </tbody>\n",
       "</table>\n",
       "</div>"
      ],
      "text/plain": [
       "                                         Poster_Link  \\\n",
       "0  https://m.media-amazon.com/images/M/MV5BMDFkYT...   \n",
       "1  https://m.media-amazon.com/images/M/MV5BM2MyNj...   \n",
       "2  https://m.media-amazon.com/images/M/MV5BMTMxNT...   \n",
       "3  https://m.media-amazon.com/images/M/MV5BMWMwMG...   \n",
       "4  https://m.media-amazon.com/images/M/MV5BMWU4N2...   \n",
       "\n",
       "               Series_Title Released_Year Certificate  Runtime  \\\n",
       "0  The Shawshank Redemption          1994           A  142 min   \n",
       "1             The Godfather          1972           A  175 min   \n",
       "2           The Dark Knight          2008          UA  152 min   \n",
       "3    The Godfather: Part II          1974           A  202 min   \n",
       "4              12 Angry Men          1957           U   96 min   \n",
       "\n",
       "                  Genre  IMDB_Rating  \\\n",
       "0                 Drama          9.3   \n",
       "1          Crime, Drama          9.2   \n",
       "2  Action, Crime, Drama          9.0   \n",
       "3          Crime, Drama          9.0   \n",
       "4          Crime, Drama          9.0   \n",
       "\n",
       "                                            Overview  Meta_score  \\\n",
       "0  Two imprisoned men bond over a number of years...        80.0   \n",
       "1  An organized crime dynasty's aging patriarch t...       100.0   \n",
       "2  When the menace known as the Joker wreaks havo...        84.0   \n",
       "3  The early life and career of Vito Corleone in ...        90.0   \n",
       "4  A jury holdout attempts to prevent a miscarria...        96.0   \n",
       "\n",
       "               Director           Star1           Star2          Star3  \\\n",
       "0        Frank Darabont     Tim Robbins  Morgan Freeman     Bob Gunton   \n",
       "1  Francis Ford Coppola   Marlon Brando       Al Pacino     James Caan   \n",
       "2     Christopher Nolan  Christian Bale    Heath Ledger  Aaron Eckhart   \n",
       "3  Francis Ford Coppola       Al Pacino  Robert De Niro  Robert Duvall   \n",
       "4          Sidney Lumet     Henry Fonda     Lee J. Cobb  Martin Balsam   \n",
       "\n",
       "            Star4  No_of_Votes        Gross  \n",
       "0  William Sadler      2343110   28341469.0  \n",
       "1    Diane Keaton      1620367  134966411.0  \n",
       "2   Michael Caine      2303232  534858444.0  \n",
       "3    Diane Keaton      1129952   57300000.0  \n",
       "4    John Fiedler       689845    4360000.0  "
      ]
     },
     "execution_count": 8,
     "metadata": {},
     "output_type": "execute_result"
    }
   ],
   "source": [
    "imdb_top_1000.head()"
   ]
  },
  {
   "cell_type": "markdown",
   "metadata": {},
   "source": [
    "## IMDB budget data:"
   ]
  },
  {
   "cell_type": "markdown",
   "metadata": {},
   "source": [
    "This dataset includes the ratings for 3828 IMDB movies. \n",
    "source: ????\n",
    "\n",
    "- Movie:  Title of movie\n",
    "- Year: Movie release year\n",
    "- IMDb: IMDB rating over 10\n",
    "- Rating: Certificate\n",
    "- Runtime [min]\n",
    "- Genre\n",
    "- Release Date: Movie release date\n",
    "- Production Budget: Budget spent for production of the movie\n",
    "- Domestic Gross: Gross revenue during first 5 days of release\n",
    "- Worldwide Gross: Gross revenue overall"
   ]
  },
  {
   "cell_type": "code",
   "execution_count": 9,
   "metadata": {},
   "outputs": [],
   "source": [
    "imdb_budget = pd.read_csv('data/imdb/IMDb_budgets.csv')"
   ]
  },
  {
   "cell_type": "code",
   "execution_count": 10,
   "metadata": {},
   "outputs": [
    {
     "data": {
      "text/html": [
       "<div>\n",
       "<style scoped>\n",
       "    .dataframe tbody tr th:only-of-type {\n",
       "        vertical-align: middle;\n",
       "    }\n",
       "\n",
       "    .dataframe tbody tr th {\n",
       "        vertical-align: top;\n",
       "    }\n",
       "\n",
       "    .dataframe thead th {\n",
       "        text-align: right;\n",
       "    }\n",
       "</style>\n",
       "<table border=\"1\" class=\"dataframe\">\n",
       "  <thead>\n",
       "    <tr style=\"text-align: right;\">\n",
       "      <th></th>\n",
       "      <th>Movie</th>\n",
       "      <th>Year</th>\n",
       "      <th>IMDb</th>\n",
       "      <th>Rating</th>\n",
       "      <th>Runtime</th>\n",
       "      <th>Genre</th>\n",
       "      <th>Release Date</th>\n",
       "      <th>Production Budget</th>\n",
       "      <th>Domestic Gross</th>\n",
       "      <th>Worldwide Gross</th>\n",
       "    </tr>\n",
       "  </thead>\n",
       "  <tbody>\n",
       "    <tr>\n",
       "      <th>308</th>\n",
       "      <td>Mad Max: Fury Road</td>\n",
       "      <td>2015</td>\n",
       "      <td>8.1</td>\n",
       "      <td>R</td>\n",
       "      <td>120</td>\n",
       "      <td>Action, Adventure, Sci-Fi</td>\n",
       "      <td>May 14, 2015</td>\n",
       "      <td>150000000</td>\n",
       "      <td>153636354</td>\n",
       "      <td>368269061</td>\n",
       "    </tr>\n",
       "    <tr>\n",
       "      <th>1423</th>\n",
       "      <td>Breaking In</td>\n",
       "      <td>2018</td>\n",
       "      <td>5.4</td>\n",
       "      <td>PG-13</td>\n",
       "      <td>88</td>\n",
       "      <td>Action, Crime, Drama</td>\n",
       "      <td>May 9, 2018</td>\n",
       "      <td>6000000</td>\n",
       "      <td>46840590</td>\n",
       "      <td>51485382</td>\n",
       "    </tr>\n",
       "    <tr>\n",
       "      <th>407</th>\n",
       "      <td>Get Smart</td>\n",
       "      <td>2008</td>\n",
       "      <td>6.5</td>\n",
       "      <td>PG-13</td>\n",
       "      <td>110</td>\n",
       "      <td>Action, Adventure, Comedy</td>\n",
       "      <td>Jun 20, 2008</td>\n",
       "      <td>80000000</td>\n",
       "      <td>130319208</td>\n",
       "      <td>226739416</td>\n",
       "    </tr>\n",
       "    <tr>\n",
       "      <th>973</th>\n",
       "      <td>Race to Witch Mountain</td>\n",
       "      <td>2009</td>\n",
       "      <td>5.7</td>\n",
       "      <td>PG</td>\n",
       "      <td>98</td>\n",
       "      <td>Action, Adventure, Family</td>\n",
       "      <td>Mar 13, 2009</td>\n",
       "      <td>50000000</td>\n",
       "      <td>67172595</td>\n",
       "      <td>105103784</td>\n",
       "    </tr>\n",
       "    <tr>\n",
       "      <th>3744</th>\n",
       "      <td>The Final Girls</td>\n",
       "      <td>2015</td>\n",
       "      <td>6.6</td>\n",
       "      <td>PG-13</td>\n",
       "      <td>88</td>\n",
       "      <td>Comedy, Drama, Fantasy</td>\n",
       "      <td>Nov 3, 2015</td>\n",
       "      <td>4500000</td>\n",
       "      <td>0</td>\n",
       "      <td>0</td>\n",
       "    </tr>\n",
       "  </tbody>\n",
       "</table>\n",
       "</div>"
      ],
      "text/plain": [
       "                       Movie  Year  IMDb Rating  Runtime  \\\n",
       "308       Mad Max: Fury Road  2015   8.1      R      120   \n",
       "1423             Breaking In  2018   5.4  PG-13       88   \n",
       "407                Get Smart  2008   6.5  PG-13      110   \n",
       "973   Race to Witch Mountain  2009   5.7     PG       98   \n",
       "3744         The Final Girls  2015   6.6  PG-13       88   \n",
       "\n",
       "                          Genre  Release Date  Production Budget  \\\n",
       "308   Action, Adventure, Sci-Fi  May 14, 2015          150000000   \n",
       "1423       Action, Crime, Drama   May 9, 2018            6000000   \n",
       "407   Action, Adventure, Comedy  Jun 20, 2008           80000000   \n",
       "973   Action, Adventure, Family  Mar 13, 2009           50000000   \n",
       "3744     Comedy, Drama, Fantasy   Nov 3, 2015            4500000   \n",
       "\n",
       "      Domestic Gross  Worldwide Gross  \n",
       "308        153636354        368269061  \n",
       "1423        46840590         51485382  \n",
       "407        130319208        226739416  \n",
       "973         67172595        105103784  \n",
       "3744               0                0  "
      ]
     },
     "execution_count": 10,
     "metadata": {},
     "output_type": "execute_result"
    }
   ],
   "source": [
    "imdb_budget.sample(5)"
   ]
  },
  {
   "cell_type": "code",
   "execution_count": 11,
   "metadata": {},
   "outputs": [
    {
     "data": {
      "text/html": [
       "<div>\n",
       "<style scoped>\n",
       "    .dataframe tbody tr th:only-of-type {\n",
       "        vertical-align: middle;\n",
       "    }\n",
       "\n",
       "    .dataframe tbody tr th {\n",
       "        vertical-align: top;\n",
       "    }\n",
       "\n",
       "    .dataframe thead th {\n",
       "        text-align: right;\n",
       "    }\n",
       "</style>\n",
       "<table border=\"1\" class=\"dataframe\">\n",
       "  <thead>\n",
       "    <tr style=\"text-align: right;\">\n",
       "      <th></th>\n",
       "      <th>Year</th>\n",
       "      <th>IMDb</th>\n",
       "      <th>Runtime</th>\n",
       "      <th>Production Budget</th>\n",
       "      <th>Domestic Gross</th>\n",
       "      <th>Worldwide Gross</th>\n",
       "    </tr>\n",
       "  </thead>\n",
       "  <tbody>\n",
       "    <tr>\n",
       "      <th>count</th>\n",
       "      <td>3828.000000</td>\n",
       "      <td>3828.000000</td>\n",
       "      <td>3828.000000</td>\n",
       "      <td>3.828000e+03</td>\n",
       "      <td>3.828000e+03</td>\n",
       "      <td>3.828000e+03</td>\n",
       "    </tr>\n",
       "    <tr>\n",
       "      <th>mean</th>\n",
       "      <td>2003.594044</td>\n",
       "      <td>6.459013</td>\n",
       "      <td>109.940439</td>\n",
       "      <td>4.030960e+07</td>\n",
       "      <td>5.559021e+07</td>\n",
       "      <td>1.206910e+08</td>\n",
       "    </tr>\n",
       "    <tr>\n",
       "      <th>std</th>\n",
       "      <td>12.767740</td>\n",
       "      <td>0.996623</td>\n",
       "      <td>20.219674</td>\n",
       "      <td>4.480927e+07</td>\n",
       "      <td>7.403263e+07</td>\n",
       "      <td>1.993646e+08</td>\n",
       "    </tr>\n",
       "    <tr>\n",
       "      <th>min</th>\n",
       "      <td>1925.000000</td>\n",
       "      <td>1.500000</td>\n",
       "      <td>63.000000</td>\n",
       "      <td>7.000000e+03</td>\n",
       "      <td>0.000000e+00</td>\n",
       "      <td>0.000000e+00</td>\n",
       "    </tr>\n",
       "    <tr>\n",
       "      <th>25%</th>\n",
       "      <td>1999.000000</td>\n",
       "      <td>5.900000</td>\n",
       "      <td>96.000000</td>\n",
       "      <td>1.100000e+07</td>\n",
       "      <td>1.180967e+07</td>\n",
       "      <td>1.690363e+07</td>\n",
       "    </tr>\n",
       "    <tr>\n",
       "      <th>50%</th>\n",
       "      <td>2006.000000</td>\n",
       "      <td>6.500000</td>\n",
       "      <td>106.000000</td>\n",
       "      <td>2.500000e+07</td>\n",
       "      <td>3.225471e+07</td>\n",
       "      <td>5.077617e+07</td>\n",
       "    </tr>\n",
       "    <tr>\n",
       "      <th>75%</th>\n",
       "      <td>2013.000000</td>\n",
       "      <td>7.100000</td>\n",
       "      <td>120.000000</td>\n",
       "      <td>5.000000e+07</td>\n",
       "      <td>6.848642e+07</td>\n",
       "      <td>1.388776e+08</td>\n",
       "    </tr>\n",
       "    <tr>\n",
       "      <th>max</th>\n",
       "      <td>2020.000000</td>\n",
       "      <td>9.300000</td>\n",
       "      <td>271.000000</td>\n",
       "      <td>4.000000e+08</td>\n",
       "      <td>8.583730e+08</td>\n",
       "      <td>2.797801e+09</td>\n",
       "    </tr>\n",
       "  </tbody>\n",
       "</table>\n",
       "</div>"
      ],
      "text/plain": [
       "              Year         IMDb      Runtime  Production Budget  \\\n",
       "count  3828.000000  3828.000000  3828.000000       3.828000e+03   \n",
       "mean   2003.594044     6.459013   109.940439       4.030960e+07   \n",
       "std      12.767740     0.996623    20.219674       4.480927e+07   \n",
       "min    1925.000000     1.500000    63.000000       7.000000e+03   \n",
       "25%    1999.000000     5.900000    96.000000       1.100000e+07   \n",
       "50%    2006.000000     6.500000   106.000000       2.500000e+07   \n",
       "75%    2013.000000     7.100000   120.000000       5.000000e+07   \n",
       "max    2020.000000     9.300000   271.000000       4.000000e+08   \n",
       "\n",
       "       Domestic Gross  Worldwide Gross  \n",
       "count    3.828000e+03     3.828000e+03  \n",
       "mean     5.559021e+07     1.206910e+08  \n",
       "std      7.403263e+07     1.993646e+08  \n",
       "min      0.000000e+00     0.000000e+00  \n",
       "25%      1.180967e+07     1.690363e+07  \n",
       "50%      3.225471e+07     5.077617e+07  \n",
       "75%      6.848642e+07     1.388776e+08  \n",
       "max      8.583730e+08     2.797801e+09  "
      ]
     },
     "execution_count": 11,
     "metadata": {},
     "output_type": "execute_result"
    }
   ],
   "source": [
    "imdb_budget.describe()"
   ]
  },
  {
   "cell_type": "markdown",
   "metadata": {},
   "source": [
    "## Wikipedia"
   ]
  },
  {
   "cell_type": "markdown",
   "metadata": {},
   "source": [
    "Wikipedia page views statistics\n",
    "source: this data is crowed from the wikimedia API by the ./utils/extract_wikipedia_pageview_statistics.py script\n",
    "    \n",
    "- `name`: Title of a movie\n",
    "- `date`: date in format *yyyymmddHH*\n",
    "- `pageviews`: Number of page views for a movie with `name` on a `date`\n"
   ]
  },
  {
   "cell_type": "code",
   "execution_count": 12,
   "metadata": {},
   "outputs": [],
   "source": [
    "wikipedia_pageviews = pd.read_csv('./handled_data/movies_wikipedia_pageviews.csv')"
   ]
  },
  {
   "cell_type": "code",
   "execution_count": 13,
   "metadata": {},
   "outputs": [
    {
     "data": {
      "text/html": [
       "<div>\n",
       "<style scoped>\n",
       "    .dataframe tbody tr th:only-of-type {\n",
       "        vertical-align: middle;\n",
       "    }\n",
       "\n",
       "    .dataframe tbody tr th {\n",
       "        vertical-align: top;\n",
       "    }\n",
       "\n",
       "    .dataframe thead th {\n",
       "        text-align: right;\n",
       "    }\n",
       "</style>\n",
       "<table border=\"1\" class=\"dataframe\">\n",
       "  <thead>\n",
       "    <tr style=\"text-align: right;\">\n",
       "      <th></th>\n",
       "      <th>movie_name</th>\n",
       "      <th>date</th>\n",
       "      <th>pageviews</th>\n",
       "    </tr>\n",
       "  </thead>\n",
       "  <tbody>\n",
       "    <tr>\n",
       "      <th>0</th>\n",
       "      <td>Avengers: Endgame</td>\n",
       "      <td>2018042600</td>\n",
       "      <td>27</td>\n",
       "    </tr>\n",
       "    <tr>\n",
       "      <th>1</th>\n",
       "      <td>Avengers: Endgame</td>\n",
       "      <td>2018042700</td>\n",
       "      <td>115</td>\n",
       "    </tr>\n",
       "    <tr>\n",
       "      <th>2</th>\n",
       "      <td>Avengers: Endgame</td>\n",
       "      <td>2018042800</td>\n",
       "      <td>154</td>\n",
       "    </tr>\n",
       "    <tr>\n",
       "      <th>3</th>\n",
       "      <td>Avengers: Endgame</td>\n",
       "      <td>2018042900</td>\n",
       "      <td>141</td>\n",
       "    </tr>\n",
       "    <tr>\n",
       "      <th>4</th>\n",
       "      <td>Avengers: Endgame</td>\n",
       "      <td>2018043000</td>\n",
       "      <td>59</td>\n",
       "    </tr>\n",
       "  </tbody>\n",
       "</table>\n",
       "</div>"
      ],
      "text/plain": [
       "          movie_name        date  pageviews\n",
       "0  Avengers: Endgame  2018042600         27\n",
       "1  Avengers: Endgame  2018042700        115\n",
       "2  Avengers: Endgame  2018042800        154\n",
       "3  Avengers: Endgame  2018042900        141\n",
       "4  Avengers: Endgame  2018043000         59"
      ]
     },
     "execution_count": 13,
     "metadata": {},
     "output_type": "execute_result"
    }
   ],
   "source": [
    "wikipedia_pageviews.head()"
   ]
  },
  {
   "cell_type": "markdown",
   "metadata": {},
   "source": [
    "# Cleaning & Pre-processing of data"
   ]
  },
  {
   "cell_type": "code",
   "execution_count": 14,
   "metadata": {},
   "outputs": [
    {
     "data": {
      "text/html": [
       "<div>\n",
       "<style scoped>\n",
       "    .dataframe tbody tr th:only-of-type {\n",
       "        vertical-align: middle;\n",
       "    }\n",
       "\n",
       "    .dataframe tbody tr th {\n",
       "        vertical-align: top;\n",
       "    }\n",
       "\n",
       "    .dataframe thead th {\n",
       "        text-align: right;\n",
       "    }\n",
       "</style>\n",
       "<table border=\"1\" class=\"dataframe\">\n",
       "  <thead>\n",
       "    <tr style=\"text-align: right;\">\n",
       "      <th></th>\n",
       "      <th>wikipedia_id</th>\n",
       "      <th>box_office_revenue</th>\n",
       "      <th>runtime</th>\n",
       "    </tr>\n",
       "  </thead>\n",
       "  <tbody>\n",
       "    <tr>\n",
       "      <th>count</th>\n",
       "      <td>8.174100e+04</td>\n",
       "      <td>8.401000e+03</td>\n",
       "      <td>6.129100e+04</td>\n",
       "    </tr>\n",
       "    <tr>\n",
       "      <th>mean</th>\n",
       "      <td>1.740784e+07</td>\n",
       "      <td>4.799363e+07</td>\n",
       "      <td>1.118192e+02</td>\n",
       "    </tr>\n",
       "    <tr>\n",
       "      <th>std</th>\n",
       "      <td>1.098791e+07</td>\n",
       "      <td>1.121753e+08</td>\n",
       "      <td>4.360070e+03</td>\n",
       "    </tr>\n",
       "    <tr>\n",
       "      <th>min</th>\n",
       "      <td>3.300000e+02</td>\n",
       "      <td>1.000000e+04</td>\n",
       "      <td>0.000000e+00</td>\n",
       "    </tr>\n",
       "    <tr>\n",
       "      <th>25%</th>\n",
       "      <td>7.323695e+06</td>\n",
       "      <td>2.083193e+06</td>\n",
       "      <td>8.100000e+01</td>\n",
       "    </tr>\n",
       "    <tr>\n",
       "      <th>50%</th>\n",
       "      <td>1.777899e+07</td>\n",
       "      <td>1.063969e+07</td>\n",
       "      <td>9.300000e+01</td>\n",
       "    </tr>\n",
       "    <tr>\n",
       "      <th>75%</th>\n",
       "      <td>2.715573e+07</td>\n",
       "      <td>4.071696e+07</td>\n",
       "      <td>1.060000e+02</td>\n",
       "    </tr>\n",
       "    <tr>\n",
       "      <th>max</th>\n",
       "      <td>3.750192e+07</td>\n",
       "      <td>2.782275e+09</td>\n",
       "      <td>1.079281e+06</td>\n",
       "    </tr>\n",
       "  </tbody>\n",
       "</table>\n",
       "</div>"
      ],
      "text/plain": [
       "       wikipedia_id  box_office_revenue       runtime\n",
       "count  8.174100e+04        8.401000e+03  6.129100e+04\n",
       "mean   1.740784e+07        4.799363e+07  1.118192e+02\n",
       "std    1.098791e+07        1.121753e+08  4.360070e+03\n",
       "min    3.300000e+02        1.000000e+04  0.000000e+00\n",
       "25%    7.323695e+06        2.083193e+06  8.100000e+01\n",
       "50%    1.777899e+07        1.063969e+07  9.300000e+01\n",
       "75%    2.715573e+07        4.071696e+07  1.060000e+02\n",
       "max    3.750192e+07        2.782275e+09  1.079281e+06"
      ]
     },
     "execution_count": 14,
     "metadata": {},
     "output_type": "execute_result"
    }
   ],
   "source": [
    "movies.describe()"
   ]
  },
  {
   "cell_type": "code",
   "execution_count": 15,
   "metadata": {},
   "outputs": [
    {
     "data": {
      "text/html": [
       "<div>\n",
       "<style scoped>\n",
       "    .dataframe tbody tr th:only-of-type {\n",
       "        vertical-align: middle;\n",
       "    }\n",
       "\n",
       "    .dataframe tbody tr th {\n",
       "        vertical-align: top;\n",
       "    }\n",
       "\n",
       "    .dataframe thead th {\n",
       "        text-align: right;\n",
       "    }\n",
       "</style>\n",
       "<table border=\"1\" class=\"dataframe\">\n",
       "  <thead>\n",
       "    <tr style=\"text-align: right;\">\n",
       "      <th></th>\n",
       "      <th>wikipedia_movie_id</th>\n",
       "      <th>actor_height_meters</th>\n",
       "      <th>actor_age_at_movie_release</th>\n",
       "    </tr>\n",
       "  </thead>\n",
       "  <tbody>\n",
       "    <tr>\n",
       "      <th>count</th>\n",
       "      <td>4.506690e+05</td>\n",
       "      <td>154824.000000</td>\n",
       "      <td>292556.000000</td>\n",
       "    </tr>\n",
       "    <tr>\n",
       "      <th>mean</th>\n",
       "      <td>1.396975e+07</td>\n",
       "      <td>1.788893</td>\n",
       "      <td>37.788523</td>\n",
       "    </tr>\n",
       "    <tr>\n",
       "      <th>std</th>\n",
       "      <td>1.079662e+07</td>\n",
       "      <td>4.379940</td>\n",
       "      <td>20.587870</td>\n",
       "    </tr>\n",
       "    <tr>\n",
       "      <th>min</th>\n",
       "      <td>3.300000e+02</td>\n",
       "      <td>0.610000</td>\n",
       "      <td>-7896.000000</td>\n",
       "    </tr>\n",
       "    <tr>\n",
       "      <th>25%</th>\n",
       "      <td>3.759292e+06</td>\n",
       "      <td>1.676400</td>\n",
       "      <td>28.000000</td>\n",
       "    </tr>\n",
       "    <tr>\n",
       "      <th>50%</th>\n",
       "      <td>1.189065e+07</td>\n",
       "      <td>1.750000</td>\n",
       "      <td>36.000000</td>\n",
       "    </tr>\n",
       "    <tr>\n",
       "      <th>75%</th>\n",
       "      <td>2.366501e+07</td>\n",
       "      <td>1.830000</td>\n",
       "      <td>47.000000</td>\n",
       "    </tr>\n",
       "    <tr>\n",
       "      <th>max</th>\n",
       "      <td>3.750192e+07</td>\n",
       "      <td>510.000000</td>\n",
       "      <td>103.000000</td>\n",
       "    </tr>\n",
       "  </tbody>\n",
       "</table>\n",
       "</div>"
      ],
      "text/plain": [
       "       wikipedia_movie_id  actor_height_meters  actor_age_at_movie_release\n",
       "count        4.506690e+05        154824.000000               292556.000000\n",
       "mean         1.396975e+07             1.788893                   37.788523\n",
       "std          1.079662e+07             4.379940                   20.587870\n",
       "min          3.300000e+02             0.610000                -7896.000000\n",
       "25%          3.759292e+06             1.676400                   28.000000\n",
       "50%          1.189065e+07             1.750000                   36.000000\n",
       "75%          2.366501e+07             1.830000                   47.000000\n",
       "max          3.750192e+07           510.000000                  103.000000"
      ]
     },
     "execution_count": 15,
     "metadata": {},
     "output_type": "execute_result"
    }
   ],
   "source": [
    "characters.describe()"
   ]
  },
  {
   "cell_type": "code",
   "execution_count": 16,
   "metadata": {},
   "outputs": [],
   "source": [
    "# Function to remove encoding: \n",
    "remove_encoding = lambda x: np.nan if x == '{}' else \\\n",
    "    [w.replace(' Language', '').replace(' language', '') for w in re.findall(r'\"(.*?)\"', x)[1::2]]"
   ]
  },
  {
   "cell_type": "code",
   "execution_count": 17,
   "metadata": {},
   "outputs": [
    {
     "data": {
      "text/html": [
       "<div>\n",
       "<style scoped>\n",
       "    .dataframe tbody tr th:only-of-type {\n",
       "        vertical-align: middle;\n",
       "    }\n",
       "\n",
       "    .dataframe tbody tr th {\n",
       "        vertical-align: top;\n",
       "    }\n",
       "\n",
       "    .dataframe thead th {\n",
       "        text-align: right;\n",
       "    }\n",
       "</style>\n",
       "<table border=\"1\" class=\"dataframe\">\n",
       "  <thead>\n",
       "    <tr style=\"text-align: right;\">\n",
       "      <th></th>\n",
       "      <th>wikipedia_id</th>\n",
       "      <th>freebase_id</th>\n",
       "      <th>name</th>\n",
       "      <th>release_date</th>\n",
       "      <th>box_office_revenue</th>\n",
       "      <th>runtime</th>\n",
       "      <th>languages</th>\n",
       "      <th>countries</th>\n",
       "      <th>genres</th>\n",
       "    </tr>\n",
       "  </thead>\n",
       "  <tbody>\n",
       "    <tr>\n",
       "      <th>0</th>\n",
       "      <td>975900</td>\n",
       "      <td>/m/03vyhn</td>\n",
       "      <td>Ghosts of Mars</td>\n",
       "      <td>2001-08-24</td>\n",
       "      <td>14010832.0</td>\n",
       "      <td>98.0</td>\n",
       "      <td>[English]</td>\n",
       "      <td>[United States of America]</td>\n",
       "      <td>[Thriller, Science Fiction, Horror, Adventure,...</td>\n",
       "    </tr>\n",
       "    <tr>\n",
       "      <th>1</th>\n",
       "      <td>3196793</td>\n",
       "      <td>/m/08yl5d</td>\n",
       "      <td>Getting Away with Murder: The JonBenét Ramsey ...</td>\n",
       "      <td>2000-02-16</td>\n",
       "      <td>NaN</td>\n",
       "      <td>95.0</td>\n",
       "      <td>[English]</td>\n",
       "      <td>[United States of America]</td>\n",
       "      <td>[Mystery, Biographical film, Drama, Crime Drama]</td>\n",
       "    </tr>\n",
       "    <tr>\n",
       "      <th>2</th>\n",
       "      <td>28463795</td>\n",
       "      <td>/m/0crgdbh</td>\n",
       "      <td>Brun bitter</td>\n",
       "      <td>1988</td>\n",
       "      <td>NaN</td>\n",
       "      <td>83.0</td>\n",
       "      <td>[Norwegian]</td>\n",
       "      <td>[Norway]</td>\n",
       "      <td>[Crime Fiction, Drama]</td>\n",
       "    </tr>\n",
       "    <tr>\n",
       "      <th>3</th>\n",
       "      <td>9363483</td>\n",
       "      <td>/m/0285_cd</td>\n",
       "      <td>White Of The Eye</td>\n",
       "      <td>1987</td>\n",
       "      <td>NaN</td>\n",
       "      <td>110.0</td>\n",
       "      <td>[English]</td>\n",
       "      <td>[United Kingdom]</td>\n",
       "      <td>[Thriller, Erotic thriller, Psychological thri...</td>\n",
       "    </tr>\n",
       "    <tr>\n",
       "      <th>4</th>\n",
       "      <td>261236</td>\n",
       "      <td>/m/01mrr1</td>\n",
       "      <td>A Woman in Flames</td>\n",
       "      <td>1983</td>\n",
       "      <td>NaN</td>\n",
       "      <td>106.0</td>\n",
       "      <td>[German]</td>\n",
       "      <td>[Germany]</td>\n",
       "      <td>[Drama]</td>\n",
       "    </tr>\n",
       "  </tbody>\n",
       "</table>\n",
       "</div>"
      ],
      "text/plain": [
       "   wikipedia_id freebase_id  \\\n",
       "0        975900   /m/03vyhn   \n",
       "1       3196793   /m/08yl5d   \n",
       "2      28463795  /m/0crgdbh   \n",
       "3       9363483  /m/0285_cd   \n",
       "4        261236   /m/01mrr1   \n",
       "\n",
       "                                                name release_date  \\\n",
       "0                                     Ghosts of Mars   2001-08-24   \n",
       "1  Getting Away with Murder: The JonBenét Ramsey ...   2000-02-16   \n",
       "2                                        Brun bitter         1988   \n",
       "3                                   White Of The Eye         1987   \n",
       "4                                  A Woman in Flames         1983   \n",
       "\n",
       "   box_office_revenue  runtime    languages                   countries  \\\n",
       "0          14010832.0     98.0    [English]  [United States of America]   \n",
       "1                 NaN     95.0    [English]  [United States of America]   \n",
       "2                 NaN     83.0  [Norwegian]                    [Norway]   \n",
       "3                 NaN    110.0    [English]            [United Kingdom]   \n",
       "4                 NaN    106.0     [German]                   [Germany]   \n",
       "\n",
       "                                              genres  \n",
       "0  [Thriller, Science Fiction, Horror, Adventure,...  \n",
       "1   [Mystery, Biographical film, Drama, Crime Drama]  \n",
       "2                             [Crime Fiction, Drama]  \n",
       "3  [Thriller, Erotic thriller, Psychological thri...  \n",
       "4                                            [Drama]  "
      ]
     },
     "execution_count": 17,
     "metadata": {},
     "output_type": "execute_result"
    }
   ],
   "source": [
    "movies['genres'] = movies['genres'].apply(remove_encoding)\n",
    "movies['languages'] = movies['languages'].apply(remove_encoding)\n",
    "movies['countries'] = movies['countries'].apply(remove_encoding)\n",
    "movies.head()"
   ]
  },
  {
   "cell_type": "code",
   "execution_count": 18,
   "metadata": {},
   "outputs": [
    {
     "data": {
      "text/plain": [
       "()"
      ]
     },
     "execution_count": 18,
     "metadata": {},
     "output_type": "execute_result"
    }
   ],
   "source": [
    "movies['countries'].apply(np.shape).min()"
   ]
  },
  {
   "cell_type": "markdown",
   "metadata": {},
   "source": [
    "### Clean release dates"
   ]
  },
  {
   "cell_type": "code",
   "execution_count": 19,
   "metadata": {},
   "outputs": [],
   "source": [
    "# Replace string 'release_date' column with 3 float columns ['release_year','release_month','release_day']\n",
    "\n",
    "movies['release_date'] = movies['release_date'].astype('str') # Convert to string all dates\n",
    "release_date = pd.DataFrame(movies['release_date'].str.split('-', expand=True).values, columns=['release_year','release_month','release_day']) # Split between days, months and year\n",
    "movies[['release_year','release_month','release_day']] = release_date\n",
    "movies = movies.drop('release_date', axis=1)\n"
   ]
  },
  {
   "cell_type": "code",
   "execution_count": 20,
   "metadata": {},
   "outputs": [
    {
     "data": {
      "text/html": [
       "<div>\n",
       "<style scoped>\n",
       "    .dataframe tbody tr th:only-of-type {\n",
       "        vertical-align: middle;\n",
       "    }\n",
       "\n",
       "    .dataframe tbody tr th {\n",
       "        vertical-align: top;\n",
       "    }\n",
       "\n",
       "    .dataframe thead th {\n",
       "        text-align: right;\n",
       "    }\n",
       "</style>\n",
       "<table border=\"1\" class=\"dataframe\">\n",
       "  <thead>\n",
       "    <tr style=\"text-align: right;\">\n",
       "      <th></th>\n",
       "      <th>wikipedia_id</th>\n",
       "      <th>freebase_id</th>\n",
       "      <th>name</th>\n",
       "      <th>box_office_revenue</th>\n",
       "      <th>runtime</th>\n",
       "      <th>languages</th>\n",
       "      <th>countries</th>\n",
       "      <th>genres</th>\n",
       "      <th>release_year</th>\n",
       "      <th>release_month</th>\n",
       "      <th>release_day</th>\n",
       "    </tr>\n",
       "  </thead>\n",
       "  <tbody>\n",
       "    <tr>\n",
       "      <th>0</th>\n",
       "      <td>975900</td>\n",
       "      <td>/m/03vyhn</td>\n",
       "      <td>Ghosts of Mars</td>\n",
       "      <td>14010832.0</td>\n",
       "      <td>98.0</td>\n",
       "      <td>[English]</td>\n",
       "      <td>[United States of America]</td>\n",
       "      <td>[Thriller, Science Fiction, Horror, Adventure,...</td>\n",
       "      <td>2001</td>\n",
       "      <td>08</td>\n",
       "      <td>24</td>\n",
       "    </tr>\n",
       "    <tr>\n",
       "      <th>1</th>\n",
       "      <td>3196793</td>\n",
       "      <td>/m/08yl5d</td>\n",
       "      <td>Getting Away with Murder: The JonBenét Ramsey ...</td>\n",
       "      <td>NaN</td>\n",
       "      <td>95.0</td>\n",
       "      <td>[English]</td>\n",
       "      <td>[United States of America]</td>\n",
       "      <td>[Mystery, Biographical film, Drama, Crime Drama]</td>\n",
       "      <td>2000</td>\n",
       "      <td>02</td>\n",
       "      <td>16</td>\n",
       "    </tr>\n",
       "    <tr>\n",
       "      <th>2</th>\n",
       "      <td>28463795</td>\n",
       "      <td>/m/0crgdbh</td>\n",
       "      <td>Brun bitter</td>\n",
       "      <td>NaN</td>\n",
       "      <td>83.0</td>\n",
       "      <td>[Norwegian]</td>\n",
       "      <td>[Norway]</td>\n",
       "      <td>[Crime Fiction, Drama]</td>\n",
       "      <td>1988</td>\n",
       "      <td>None</td>\n",
       "      <td>None</td>\n",
       "    </tr>\n",
       "    <tr>\n",
       "      <th>3</th>\n",
       "      <td>9363483</td>\n",
       "      <td>/m/0285_cd</td>\n",
       "      <td>White Of The Eye</td>\n",
       "      <td>NaN</td>\n",
       "      <td>110.0</td>\n",
       "      <td>[English]</td>\n",
       "      <td>[United Kingdom]</td>\n",
       "      <td>[Thriller, Erotic thriller, Psychological thri...</td>\n",
       "      <td>1987</td>\n",
       "      <td>None</td>\n",
       "      <td>None</td>\n",
       "    </tr>\n",
       "    <tr>\n",
       "      <th>4</th>\n",
       "      <td>261236</td>\n",
       "      <td>/m/01mrr1</td>\n",
       "      <td>A Woman in Flames</td>\n",
       "      <td>NaN</td>\n",
       "      <td>106.0</td>\n",
       "      <td>[German]</td>\n",
       "      <td>[Germany]</td>\n",
       "      <td>[Drama]</td>\n",
       "      <td>1983</td>\n",
       "      <td>None</td>\n",
       "      <td>None</td>\n",
       "    </tr>\n",
       "  </tbody>\n",
       "</table>\n",
       "</div>"
      ],
      "text/plain": [
       "   wikipedia_id freebase_id  \\\n",
       "0        975900   /m/03vyhn   \n",
       "1       3196793   /m/08yl5d   \n",
       "2      28463795  /m/0crgdbh   \n",
       "3       9363483  /m/0285_cd   \n",
       "4        261236   /m/01mrr1   \n",
       "\n",
       "                                                name  box_office_revenue  \\\n",
       "0                                     Ghosts of Mars          14010832.0   \n",
       "1  Getting Away with Murder: The JonBenét Ramsey ...                 NaN   \n",
       "2                                        Brun bitter                 NaN   \n",
       "3                                   White Of The Eye                 NaN   \n",
       "4                                  A Woman in Flames                 NaN   \n",
       "\n",
       "   runtime    languages                   countries  \\\n",
       "0     98.0    [English]  [United States of America]   \n",
       "1     95.0    [English]  [United States of America]   \n",
       "2     83.0  [Norwegian]                    [Norway]   \n",
       "3    110.0    [English]            [United Kingdom]   \n",
       "4    106.0     [German]                   [Germany]   \n",
       "\n",
       "                                              genres release_year  \\\n",
       "0  [Thriller, Science Fiction, Horror, Adventure,...         2001   \n",
       "1   [Mystery, Biographical film, Drama, Crime Drama]         2000   \n",
       "2                             [Crime Fiction, Drama]         1988   \n",
       "3  [Thriller, Erotic thriller, Psychological thri...         1987   \n",
       "4                                            [Drama]         1983   \n",
       "\n",
       "  release_month release_day  \n",
       "0            08          24  \n",
       "1            02          16  \n",
       "2          None        None  \n",
       "3          None        None  \n",
       "4          None        None  "
      ]
     },
     "execution_count": 20,
     "metadata": {},
     "output_type": "execute_result"
    }
   ],
   "source": [
    "movies.head()"
   ]
  },
  {
   "cell_type": "markdown",
   "metadata": {},
   "source": [
    "### Remove data that is out of this world "
   ]
  },
  {
   "cell_type": "code",
   "execution_count": 21,
   "metadata": {},
   "outputs": [],
   "source": [
    "def replace_outliers_with_nan(df, col, possible_range):\n",
    "    df[col] = df[col].apply(lambda x: np.nan if x < possible_range[0] or x > possible_range[1] else x)"
   ]
  },
  {
   "cell_type": "markdown",
   "metadata": {},
   "source": [
    "#### Movies"
   ]
  },
  {
   "cell_type": "code",
   "execution_count": 22,
   "metadata": {},
   "outputs": [],
   "source": [
    "possible_movie_runtime_range = [0, 85 * 60] # 85 hours is the Guinness World Record for the longest movie - The Cure for Insomnia"
   ]
  },
  {
   "cell_type": "code",
   "execution_count": 23,
   "metadata": {},
   "outputs": [],
   "source": [
    "replace_outliers_with_nan(movies, 'runtime', possible_movie_runtime_range)"
   ]
  },
  {
   "cell_type": "code",
   "execution_count": 24,
   "metadata": {},
   "outputs": [
    {
     "data": {
      "text/html": [
       "<div>\n",
       "<style scoped>\n",
       "    .dataframe tbody tr th:only-of-type {\n",
       "        vertical-align: middle;\n",
       "    }\n",
       "\n",
       "    .dataframe tbody tr th {\n",
       "        vertical-align: top;\n",
       "    }\n",
       "\n",
       "    .dataframe thead th {\n",
       "        text-align: right;\n",
       "    }\n",
       "</style>\n",
       "<table border=\"1\" class=\"dataframe\">\n",
       "  <thead>\n",
       "    <tr style=\"text-align: right;\">\n",
       "      <th></th>\n",
       "      <th>wikipedia_id</th>\n",
       "      <th>box_office_revenue</th>\n",
       "      <th>runtime</th>\n",
       "    </tr>\n",
       "  </thead>\n",
       "  <tbody>\n",
       "    <tr>\n",
       "      <th>count</th>\n",
       "      <td>8.174100e+04</td>\n",
       "      <td>8.401000e+03</td>\n",
       "      <td>61286.000000</td>\n",
       "    </tr>\n",
       "    <tr>\n",
       "      <th>mean</th>\n",
       "      <td>1.740784e+07</td>\n",
       "      <td>4.799363e+07</td>\n",
       "      <td>93.651871</td>\n",
       "    </tr>\n",
       "    <tr>\n",
       "      <th>std</th>\n",
       "      <td>1.098791e+07</td>\n",
       "      <td>1.121753e+08</td>\n",
       "      <td>51.513103</td>\n",
       "    </tr>\n",
       "    <tr>\n",
       "      <th>min</th>\n",
       "      <td>3.300000e+02</td>\n",
       "      <td>1.000000e+04</td>\n",
       "      <td>0.000000</td>\n",
       "    </tr>\n",
       "    <tr>\n",
       "      <th>25%</th>\n",
       "      <td>7.323695e+06</td>\n",
       "      <td>2.083193e+06</td>\n",
       "      <td>81.000000</td>\n",
       "    </tr>\n",
       "    <tr>\n",
       "      <th>50%</th>\n",
       "      <td>1.777899e+07</td>\n",
       "      <td>1.063969e+07</td>\n",
       "      <td>93.000000</td>\n",
       "    </tr>\n",
       "    <tr>\n",
       "      <th>75%</th>\n",
       "      <td>2.715573e+07</td>\n",
       "      <td>4.071696e+07</td>\n",
       "      <td>106.000000</td>\n",
       "    </tr>\n",
       "    <tr>\n",
       "      <th>max</th>\n",
       "      <td>3.750192e+07</td>\n",
       "      <td>2.782275e+09</td>\n",
       "      <td>5100.000000</td>\n",
       "    </tr>\n",
       "  </tbody>\n",
       "</table>\n",
       "</div>"
      ],
      "text/plain": [
       "       wikipedia_id  box_office_revenue       runtime\n",
       "count  8.174100e+04        8.401000e+03  61286.000000\n",
       "mean   1.740784e+07        4.799363e+07     93.651871\n",
       "std    1.098791e+07        1.121753e+08     51.513103\n",
       "min    3.300000e+02        1.000000e+04      0.000000\n",
       "25%    7.323695e+06        2.083193e+06     81.000000\n",
       "50%    1.777899e+07        1.063969e+07     93.000000\n",
       "75%    2.715573e+07        4.071696e+07    106.000000\n",
       "max    3.750192e+07        2.782275e+09   5100.000000"
      ]
     },
     "execution_count": 24,
     "metadata": {},
     "output_type": "execute_result"
    }
   ],
   "source": [
    "movies.describe()"
   ]
  },
  {
   "cell_type": "code",
   "execution_count": 25,
   "metadata": {},
   "outputs": [
    {
     "data": {
      "text/html": [
       "<div>\n",
       "<style scoped>\n",
       "    .dataframe tbody tr th:only-of-type {\n",
       "        vertical-align: middle;\n",
       "    }\n",
       "\n",
       "    .dataframe tbody tr th {\n",
       "        vertical-align: top;\n",
       "    }\n",
       "\n",
       "    .dataframe thead th {\n",
       "        text-align: right;\n",
       "    }\n",
       "</style>\n",
       "<table border=\"1\" class=\"dataframe\">\n",
       "  <thead>\n",
       "    <tr style=\"text-align: right;\">\n",
       "      <th></th>\n",
       "      <th>wikipedia_id</th>\n",
       "      <th>freebase_id</th>\n",
       "      <th>name</th>\n",
       "      <th>box_office_revenue</th>\n",
       "      <th>runtime</th>\n",
       "      <th>languages</th>\n",
       "      <th>countries</th>\n",
       "      <th>genres</th>\n",
       "      <th>release_year</th>\n",
       "      <th>release_month</th>\n",
       "      <th>release_day</th>\n",
       "    </tr>\n",
       "  </thead>\n",
       "  <tbody>\n",
       "    <tr>\n",
       "      <th>42478</th>\n",
       "      <td>786716</td>\n",
       "      <td>/m/03c6bq</td>\n",
       "      <td>Dickson Experimental Sound Film</td>\n",
       "      <td>NaN</td>\n",
       "      <td>0.0</td>\n",
       "      <td>[English]</td>\n",
       "      <td>[United States of America]</td>\n",
       "      <td>[Short Film]</td>\n",
       "      <td>1894</td>\n",
       "      <td>None</td>\n",
       "      <td>None</td>\n",
       "    </tr>\n",
       "  </tbody>\n",
       "</table>\n",
       "</div>"
      ],
      "text/plain": [
       "       wikipedia_id freebase_id                             name  \\\n",
       "42478        786716   /m/03c6bq  Dickson Experimental Sound Film   \n",
       "\n",
       "       box_office_revenue  runtime  languages                   countries  \\\n",
       "42478                 NaN      0.0  [English]  [United States of America]   \n",
       "\n",
       "             genres release_year release_month release_day  \n",
       "42478  [Short Film]         1894          None        None  "
      ]
     },
     "execution_count": 25,
     "metadata": {},
     "output_type": "execute_result"
    }
   ],
   "source": [
    "movies[movies['runtime'] == 0]"
   ]
  },
  {
   "cell_type": "markdown",
   "metadata": {},
   "source": [
    "The real length of Dickson Experimental Sound Film is 17 seconds which rounded to minutes is 0."
   ]
  },
  {
   "cell_type": "markdown",
   "metadata": {},
   "source": [
    "#### Characters"
   ]
  },
  {
   "cell_type": "markdown",
   "metadata": {},
   "source": [
    "Remove age and height that are incorrect or corrupted"
   ]
  },
  {
   "cell_type": "code",
   "execution_count": 26,
   "metadata": {},
   "outputs": [],
   "source": [
    "possible_age_range = (0, 150)\n",
    "possible_height_range = (0, 3)"
   ]
  },
  {
   "cell_type": "code",
   "execution_count": 27,
   "metadata": {},
   "outputs": [],
   "source": [
    "replace_outliers_with_nan(characters, 'actor_age_at_movie_release', possible_age_range)\n",
    "replace_outliers_with_nan(characters, 'actor_height_meters', possible_height_range)"
   ]
  },
  {
   "cell_type": "markdown",
   "metadata": {},
   "source": [
    "A very important characteristic describing the characters is their ethnicity. In the original dataset only the freebase id referring to the ethnicity was available. Thus, a script that can be found in `utils/ethnicities_freebase_ids_script.py` has been created to relate it to the actual labels (p.e. '/m/0152s7' stands for 'Anglo-Irish people'). A CSV has been created to map the ids and the labels, it can be found in `handled_data/ethnicities_freebase_ids.csv`. This is how it looks like:Add ethnicity labels using the freebase ethnicity ids"
   ]
  },
  {
   "cell_type": "code",
   "execution_count": 28,
   "metadata": {},
   "outputs": [
    {
     "data": {
      "text/html": [
       "<div>\n",
       "<style scoped>\n",
       "    .dataframe tbody tr th:only-of-type {\n",
       "        vertical-align: middle;\n",
       "    }\n",
       "\n",
       "    .dataframe tbody tr th {\n",
       "        vertical-align: top;\n",
       "    }\n",
       "\n",
       "    .dataframe thead th {\n",
       "        text-align: right;\n",
       "    }\n",
       "</style>\n",
       "<table border=\"1\" class=\"dataframe\">\n",
       "  <thead>\n",
       "    <tr style=\"text-align: right;\">\n",
       "      <th></th>\n",
       "      <th>ethnicity_freebase_id</th>\n",
       "      <th>ethnicity_label</th>\n",
       "    </tr>\n",
       "  </thead>\n",
       "  <tbody>\n",
       "    <tr>\n",
       "      <th>0</th>\n",
       "      <td>/m/01267</td>\n",
       "      <td>Albanians</td>\n",
       "    </tr>\n",
       "    <tr>\n",
       "      <th>1</th>\n",
       "      <td>/m/012c1l</td>\n",
       "      <td>French Canadians</td>\n",
       "    </tr>\n",
       "    <tr>\n",
       "      <th>2</th>\n",
       "      <td>/m/012f86</td>\n",
       "      <td>Ukrainians</td>\n",
       "    </tr>\n",
       "    <tr>\n",
       "      <th>3</th>\n",
       "      <td>/m/012fh</td>\n",
       "      <td>Afrikaners</td>\n",
       "    </tr>\n",
       "    <tr>\n",
       "      <th>4</th>\n",
       "      <td>/m/01336l</td>\n",
       "      <td>Asian Americans</td>\n",
       "    </tr>\n",
       "  </tbody>\n",
       "</table>\n",
       "</div>"
      ],
      "text/plain": [
       "  ethnicity_freebase_id   ethnicity_label\n",
       "0              /m/01267         Albanians\n",
       "1             /m/012c1l  French Canadians\n",
       "2             /m/012f86        Ukrainians\n",
       "3              /m/012fh        Afrikaners\n",
       "4             /m/01336l   Asian Americans"
      ]
     },
     "execution_count": 28,
     "metadata": {},
     "output_type": "execute_result"
    }
   ],
   "source": [
    "ethnicity_freebase_ids = pd.read_csv('handled_data/ethnicities_freebase_ids.csv')\n",
    "ethnicity_freebase_ids.head(5)"
   ]
  },
  {
   "cell_type": "markdown",
   "metadata": {},
   "source": [
    "As it can be seen, the ethnicities are extremely specific and it is very difficult to extract some conclusions. Therefore, we grouped all ethnicities that are repeated more than 10 times into five main ethnic groups: Asian, Black, Latino, Indian and White. This classification can be found in the CSV document in `handled_data/major_ethnicities_clustering.csv`. This is how it looks like:"
   ]
  },
  {
   "cell_type": "code",
   "execution_count": 36,
   "metadata": {},
   "outputs": [
    {
     "data": {
      "text/html": [
       "<div>\n",
       "<style scoped>\n",
       "    .dataframe tbody tr th:only-of-type {\n",
       "        vertical-align: middle;\n",
       "    }\n",
       "\n",
       "    .dataframe tbody tr th {\n",
       "        vertical-align: top;\n",
       "    }\n",
       "\n",
       "    .dataframe thead th {\n",
       "        text-align: right;\n",
       "    }\n",
       "</style>\n",
       "<table border=\"1\" class=\"dataframe\">\n",
       "  <thead>\n",
       "    <tr style=\"text-align: right;\">\n",
       "      <th></th>\n",
       "      <th>ethnicity_label</th>\n",
       "      <th>major_ethnicity</th>\n",
       "    </tr>\n",
       "  </thead>\n",
       "  <tbody>\n",
       "    <tr>\n",
       "      <th>0</th>\n",
       "      <td>African Americans</td>\n",
       "      <td>Black</td>\n",
       "    </tr>\n",
       "    <tr>\n",
       "      <th>1</th>\n",
       "      <td>American Jews</td>\n",
       "      <td>White</td>\n",
       "    </tr>\n",
       "    <tr>\n",
       "      <th>2</th>\n",
       "      <td>Americans</td>\n",
       "      <td>White</td>\n",
       "    </tr>\n",
       "    <tr>\n",
       "      <th>3</th>\n",
       "      <td>Argentines</td>\n",
       "      <td>Latino</td>\n",
       "    </tr>\n",
       "    <tr>\n",
       "      <th>4</th>\n",
       "      <td>Ashkenazi Jews</td>\n",
       "      <td>White</td>\n",
       "    </tr>\n",
       "    <tr>\n",
       "      <th>5</th>\n",
       "      <td>Asian Americans</td>\n",
       "      <td>Asian</td>\n",
       "    </tr>\n",
       "    <tr>\n",
       "      <th>6</th>\n",
       "      <td>Asian people</td>\n",
       "      <td>Asian</td>\n",
       "    </tr>\n",
       "    <tr>\n",
       "      <th>7</th>\n",
       "      <td>Australians</td>\n",
       "      <td>White</td>\n",
       "    </tr>\n",
       "    <tr>\n",
       "      <th>8</th>\n",
       "      <td>Austrians</td>\n",
       "      <td>White</td>\n",
       "    </tr>\n",
       "    <tr>\n",
       "      <th>9</th>\n",
       "      <td>Bengali people</td>\n",
       "      <td>Indian</td>\n",
       "    </tr>\n",
       "  </tbody>\n",
       "</table>\n",
       "</div>"
      ],
      "text/plain": [
       "     ethnicity_label major_ethnicity\n",
       "0  African Americans           Black\n",
       "1      American Jews           White\n",
       "2          Americans           White\n",
       "3         Argentines          Latino\n",
       "4     Ashkenazi Jews           White\n",
       "5    Asian Americans           Asian\n",
       "6       Asian people           Asian\n",
       "7        Australians           White\n",
       "8          Austrians           White\n",
       "9     Bengali people          Indian"
      ]
     },
     "execution_count": 36,
     "metadata": {},
     "output_type": "execute_result"
    }
   ],
   "source": [
    "major_ethnicities = pd.read_csv('handled_data/major_ethnicities_clustering.csv',sep=',');\n",
    "major_ethnicities.head(10)"
   ]
  },
  {
   "cell_type": "markdown",
   "metadata": {},
   "source": [
    "Next step is to merge this two tables into the characters main dataframe"
   ]
  },
  {
   "cell_type": "code",
   "execution_count": 30,
   "metadata": {},
   "outputs": [],
   "source": [
    "characters = pd.merge(characters, ethnicity_freebase_ids, how='left', left_on='actor_ethnicity_freebase_id', right_on='ethnicity_freebase_id')\n",
    "characters.drop('ethnicity_freebase_id', inplace=True, axis=1)\n",
    "characters = pd.merge(characters, major_ethnicities, how='left', on='ethnicity_label')"
   ]
  },
  {
   "cell_type": "markdown",
   "metadata": {},
   "source": [
    "Finally, this the characters main data frame in which we are working"
   ]
  },
  {
   "cell_type": "code",
   "execution_count": 31,
   "metadata": {},
   "outputs": [
    {
     "data": {
      "text/html": [
       "<div>\n",
       "<style scoped>\n",
       "    .dataframe tbody tr th:only-of-type {\n",
       "        vertical-align: middle;\n",
       "    }\n",
       "\n",
       "    .dataframe tbody tr th {\n",
       "        vertical-align: top;\n",
       "    }\n",
       "\n",
       "    .dataframe thead th {\n",
       "        text-align: right;\n",
       "    }\n",
       "</style>\n",
       "<table border=\"1\" class=\"dataframe\">\n",
       "  <thead>\n",
       "    <tr style=\"text-align: right;\">\n",
       "      <th></th>\n",
       "      <th>wikipedia_movie_id</th>\n",
       "      <th>freebase_movie_id</th>\n",
       "      <th>movie_release_date</th>\n",
       "      <th>character_name</th>\n",
       "      <th>actor_birthdate</th>\n",
       "      <th>actor_gender</th>\n",
       "      <th>actor_height_meters</th>\n",
       "      <th>actor_ethnicity_freebase_id</th>\n",
       "      <th>actor_name</th>\n",
       "      <th>actor_age_at_movie_release</th>\n",
       "      <th>freebase_character_actor_map_id</th>\n",
       "      <th>freebase_character_id</th>\n",
       "      <th>freebase_actor_id</th>\n",
       "      <th>ethnicity_label</th>\n",
       "      <th>major_ethnicity</th>\n",
       "    </tr>\n",
       "  </thead>\n",
       "  <tbody>\n",
       "    <tr>\n",
       "      <th>340558</th>\n",
       "      <td>24048171</td>\n",
       "      <td>/m/07k4jw0</td>\n",
       "      <td>2005-11-15</td>\n",
       "      <td>NaN</td>\n",
       "      <td>1945-08-16</td>\n",
       "      <td>M</td>\n",
       "      <td>1.650</td>\n",
       "      <td>/m/041rx</td>\n",
       "      <td>Bob Balaban</td>\n",
       "      <td>60.0</td>\n",
       "      <td>/m/07llt27</td>\n",
       "      <td>NaN</td>\n",
       "      <td>/m/051wwp</td>\n",
       "      <td>Jewish people</td>\n",
       "      <td>White</td>\n",
       "    </tr>\n",
       "    <tr>\n",
       "      <th>112075</th>\n",
       "      <td>10791854</td>\n",
       "      <td>/m/02qq2x9</td>\n",
       "      <td>1978</td>\n",
       "      <td>NaN</td>\n",
       "      <td>1950-12-12</td>\n",
       "      <td>M</td>\n",
       "      <td>1.750</td>\n",
       "      <td>/m/0cqgdq</td>\n",
       "      <td>Rajnikanth</td>\n",
       "      <td>27.0</td>\n",
       "      <td>/m/03kxqvc</td>\n",
       "      <td>NaN</td>\n",
       "      <td>/m/02wmbg</td>\n",
       "      <td>Marathi people</td>\n",
       "      <td>Indian</td>\n",
       "    </tr>\n",
       "    <tr>\n",
       "      <th>103927</th>\n",
       "      <td>3177256</td>\n",
       "      <td>/m/08xb1_</td>\n",
       "      <td>1931-08-15</td>\n",
       "      <td>NaN</td>\n",
       "      <td>1871-01-30</td>\n",
       "      <td>M</td>\n",
       "      <td>NaN</td>\n",
       "      <td>NaN</td>\n",
       "      <td>Wilfred Lucas</td>\n",
       "      <td>NaN</td>\n",
       "      <td>/m/0k1rfm</td>\n",
       "      <td>NaN</td>\n",
       "      <td>/m/02z1vt</td>\n",
       "      <td>NaN</td>\n",
       "      <td>NaN</td>\n",
       "    </tr>\n",
       "    <tr>\n",
       "      <th>53106</th>\n",
       "      <td>5257516</td>\n",
       "      <td>/m/0db664</td>\n",
       "      <td>2003-09-07</td>\n",
       "      <td>Dominic</td>\n",
       "      <td>NaN</td>\n",
       "      <td>M</td>\n",
       "      <td>NaN</td>\n",
       "      <td>NaN</td>\n",
       "      <td>Jalaal Hartley</td>\n",
       "      <td>NaN</td>\n",
       "      <td>/m/0j8d8kl</td>\n",
       "      <td>/m/0j8d8kp</td>\n",
       "      <td>/m/02ql_5g</td>\n",
       "      <td>NaN</td>\n",
       "      <td>NaN</td>\n",
       "    </tr>\n",
       "    <tr>\n",
       "      <th>59523</th>\n",
       "      <td>1482869</td>\n",
       "      <td>/m/054_8x</td>\n",
       "      <td>1944-07-20</td>\n",
       "      <td>Jade Tan</td>\n",
       "      <td>1907-05-12</td>\n",
       "      <td>F</td>\n",
       "      <td>1.715</td>\n",
       "      <td>NaN</td>\n",
       "      <td>Katharine Hepburn</td>\n",
       "      <td>37.0</td>\n",
       "      <td>/m/02tb9mk</td>\n",
       "      <td>/m/0h1p22q</td>\n",
       "      <td>/m/0bw87</td>\n",
       "      <td>NaN</td>\n",
       "      <td>NaN</td>\n",
       "    </tr>\n",
       "  </tbody>\n",
       "</table>\n",
       "</div>"
      ],
      "text/plain": [
       "        wikipedia_movie_id freebase_movie_id movie_release_date  \\\n",
       "340558            24048171        /m/07k4jw0         2005-11-15   \n",
       "112075            10791854        /m/02qq2x9               1978   \n",
       "103927             3177256         /m/08xb1_         1931-08-15   \n",
       "53106              5257516         /m/0db664         2003-09-07   \n",
       "59523              1482869         /m/054_8x         1944-07-20   \n",
       "\n",
       "       character_name actor_birthdate actor_gender  actor_height_meters  \\\n",
       "340558            NaN      1945-08-16            M                1.650   \n",
       "112075            NaN      1950-12-12            M                1.750   \n",
       "103927            NaN      1871-01-30            M                  NaN   \n",
       "53106         Dominic             NaN            M                  NaN   \n",
       "59523        Jade Tan      1907-05-12            F                1.715   \n",
       "\n",
       "       actor_ethnicity_freebase_id         actor_name  \\\n",
       "340558                    /m/041rx        Bob Balaban   \n",
       "112075                   /m/0cqgdq         Rajnikanth   \n",
       "103927                         NaN      Wilfred Lucas   \n",
       "53106                          NaN     Jalaal Hartley   \n",
       "59523                          NaN  Katharine Hepburn   \n",
       "\n",
       "        actor_age_at_movie_release freebase_character_actor_map_id  \\\n",
       "340558                        60.0                      /m/07llt27   \n",
       "112075                        27.0                      /m/03kxqvc   \n",
       "103927                         NaN                       /m/0k1rfm   \n",
       "53106                          NaN                      /m/0j8d8kl   \n",
       "59523                         37.0                      /m/02tb9mk   \n",
       "\n",
       "       freebase_character_id freebase_actor_id ethnicity_label major_ethnicity  \n",
       "340558                   NaN         /m/051wwp   Jewish people           White  \n",
       "112075                   NaN         /m/02wmbg  Marathi people          Indian  \n",
       "103927                   NaN         /m/02z1vt             NaN             NaN  \n",
       "53106             /m/0j8d8kp        /m/02ql_5g             NaN             NaN  \n",
       "59523             /m/0h1p22q          /m/0bw87             NaN             NaN  "
      ]
     },
     "execution_count": 31,
     "metadata": {},
     "output_type": "execute_result"
    }
   ],
   "source": [
    "characters.sample(5)"
   ]
  },
  {
   "cell_type": "code",
   "execution_count": 32,
   "metadata": {},
   "outputs": [
    {
     "data": {
      "text/html": [
       "<div>\n",
       "<style scoped>\n",
       "    .dataframe tbody tr th:only-of-type {\n",
       "        vertical-align: middle;\n",
       "    }\n",
       "\n",
       "    .dataframe tbody tr th {\n",
       "        vertical-align: top;\n",
       "    }\n",
       "\n",
       "    .dataframe thead th {\n",
       "        text-align: right;\n",
       "    }\n",
       "</style>\n",
       "<table border=\"1\" class=\"dataframe\">\n",
       "  <thead>\n",
       "    <tr style=\"text-align: right;\">\n",
       "      <th></th>\n",
       "      <th>wikipedia_movie_id</th>\n",
       "      <th>actor_height_meters</th>\n",
       "      <th>actor_age_at_movie_release</th>\n",
       "    </tr>\n",
       "  </thead>\n",
       "  <tbody>\n",
       "    <tr>\n",
       "      <th>count</th>\n",
       "      <td>4.536250e+05</td>\n",
       "      <td>157666.000000</td>\n",
       "      <td>294959.000000</td>\n",
       "    </tr>\n",
       "    <tr>\n",
       "      <th>mean</th>\n",
       "      <td>1.393780e+07</td>\n",
       "      <td>1.747917</td>\n",
       "      <td>37.925895</td>\n",
       "    </tr>\n",
       "    <tr>\n",
       "      <th>std</th>\n",
       "      <td>1.079782e+07</td>\n",
       "      <td>0.106067</td>\n",
       "      <td>14.096938</td>\n",
       "    </tr>\n",
       "    <tr>\n",
       "      <th>min</th>\n",
       "      <td>3.300000e+02</td>\n",
       "      <td>0.610000</td>\n",
       "      <td>0.000000</td>\n",
       "    </tr>\n",
       "    <tr>\n",
       "      <th>25%</th>\n",
       "      <td>3.738820e+06</td>\n",
       "      <td>1.676400</td>\n",
       "      <td>28.000000</td>\n",
       "    </tr>\n",
       "    <tr>\n",
       "      <th>50%</th>\n",
       "      <td>1.180718e+07</td>\n",
       "      <td>1.750000</td>\n",
       "      <td>36.000000</td>\n",
       "    </tr>\n",
       "    <tr>\n",
       "      <th>75%</th>\n",
       "      <td>2.362455e+07</td>\n",
       "      <td>1.830000</td>\n",
       "      <td>47.000000</td>\n",
       "    </tr>\n",
       "    <tr>\n",
       "      <th>max</th>\n",
       "      <td>3.750192e+07</td>\n",
       "      <td>2.356000</td>\n",
       "      <td>103.000000</td>\n",
       "    </tr>\n",
       "  </tbody>\n",
       "</table>\n",
       "</div>"
      ],
      "text/plain": [
       "       wikipedia_movie_id  actor_height_meters  actor_age_at_movie_release\n",
       "count        4.536250e+05        157666.000000               294959.000000\n",
       "mean         1.393780e+07             1.747917                   37.925895\n",
       "std          1.079782e+07             0.106067                   14.096938\n",
       "min          3.300000e+02             0.610000                    0.000000\n",
       "25%          3.738820e+06             1.676400                   28.000000\n",
       "50%          1.180718e+07             1.750000                   36.000000\n",
       "75%          2.362455e+07             1.830000                   47.000000\n",
       "max          3.750192e+07             2.356000                  103.000000"
      ]
     },
     "execution_count": 32,
     "metadata": {},
     "output_type": "execute_result"
    }
   ],
   "source": [
    "characters.describe()"
   ]
  },
  {
   "cell_type": "markdown",
   "metadata": {},
   "source": [
    "### IMDB"
   ]
  },
  {
   "cell_type": "code",
   "execution_count": null,
   "metadata": {},
   "outputs": [],
   "source": [
    "imdb_top_1000['Runtime'].str.contains(r'\\d+ min').value_counts()"
   ]
  },
  {
   "cell_type": "code",
   "execution_count": null,
   "metadata": {},
   "outputs": [],
   "source": [
    "imdb_top_1000['Runtime'] = imdb_top_1000['Runtime'].str.extract(r'(\\d+) min', expand=False).astype(int)\n",
    "imdb_top_1000.head()"
   ]
  },
  {
   "cell_type": "code",
   "execution_count": null,
   "metadata": {},
   "outputs": [],
   "source": [
    "imdb_top_1000.describe()"
   ]
  },
  {
   "cell_type": "markdown",
   "metadata": {},
   "source": [
    "### Weighted IMDB rating"
   ]
  },
  {
   "cell_type": "markdown",
   "metadata": {},
   "source": [
    "To estimate a movie success, we need to both account for the rating 'IMDB_Rating' and to the correponding number of votes 'No_of_Votes'. To do so, we build a new weighted rating based on a shrinkage estimator: \n",
    "\n",
    "weighted rating (WR) = (v ÷ (v+m)) × R + (m ÷ (v+m)) × C \n",
    "\n",
    "where:\n",
    "\n",
    "R = average for the movie (mean) = (Rating)\n",
    "\n",
    "v = number of votes for the movie = (votes)\n",
    "\n",
    "m = minimum votes required to be listed (currently 25088)\n",
    "\n",
    "C = the mean vote across the whole report (currently 7.94)"
   ]
  },
  {
   "cell_type": "code",
   "execution_count": null,
   "metadata": {
    "scrolled": false
   },
   "outputs": [],
   "source": [
    "sns.countplot(x='IMDB_Rating', data = imdb_top_1000, palette=\"magma\").set(title='Distribution of IMDB ratings',xlabel='IMDB rating', ylabel='Number of films');\n"
   ]
  },
  {
   "cell_type": "code",
   "execution_count": null,
   "metadata": {},
   "outputs": [],
   "source": [
    "C = imdb_top_1000['IMDB_Rating'].mean()\n",
    "m = imdb_top_1000['No_of_Votes'].min()\n",
    "v = imdb_top_1000['No_of_Votes']\n",
    "R = imdb_top_1000['IMDB_Rating']"
   ]
  },
  {
   "cell_type": "code",
   "execution_count": null,
   "metadata": {},
   "outputs": [],
   "source": [
    "imdb_top_1000['WR'] = (v / (v + m)) * R + (m / (v + m)) * C # Complete original dataset\n"
   ]
  },
  {
   "cell_type": "markdown",
   "metadata": {},
   "source": [
    "To check if the weighted rating has worked, we display below the best rated movie. We observe that for an IMDB rating of 9/10, the weighted rating WR is better for movies with the most votes. We conclude that this weighted rating is more representative of a movie' success."
   ]
  },
  {
   "cell_type": "code",
   "execution_count": null,
   "metadata": {},
   "outputs": [],
   "source": [
    "imdb_top_1000[['Series_Title','IMDB_Rating','WR','No_of_Votes']].sort_values('WR', ascending=False).head()"
   ]
  },
  {
   "cell_type": "code",
   "execution_count": null,
   "metadata": {
    "scrolled": false
   },
   "outputs": [],
   "source": [
    "sns.histplot(x='WR', data = imdb_top_1000, kde=True).set(title='Distribution of weighted ratings on IMDB database',xlabel='Weighted rating WR', ylabel='Number of films');\n"
   ]
  },
  {
   "cell_type": "markdown",
   "metadata": {},
   "source": [
    "### Merge IMDB database with movie database to have common features"
   ]
  },
  {
   "cell_type": "markdown",
   "metadata": {},
   "source": [
    "We would like to merge the data from CMU movies and IMDB top 1000. Since we don't want to reduce the size of data, we would rather to an outer merge and fill missing values with NaN."
   ]
  },
  {
   "cell_type": "code",
   "execution_count": null,
   "metadata": {},
   "outputs": [],
   "source": [
    "len((imdb_top_1000['Series_Title'] + imdb_top_1000['Released_Year'].astype(str)).unique()) / len(imdb_top_1000)"
   ]
  },
  {
   "cell_type": "code",
   "execution_count": null,
   "metadata": {},
   "outputs": [],
   "source": [
    "# Remove duplicated movie with video game\n",
    "movies.drop(movies[movies['wikipedia_id'] == 3184269].index, inplace=True)\n",
    "# Fix duplicated movie with changing it release year to the correct one based on its wikipedia page\n",
    "movies.loc[movies['wikipedia_id'] == 25357930, ['release_year']] = \"2010\""
   ]
  },
  {
   "cell_type": "code",
   "execution_count": null,
   "metadata": {},
   "outputs": [],
   "source": [
    "imdb_top_1000.rename({'Series_Title': 'name', 'Released_Year': 'release_year'}, axis=1, inplace=True)"
   ]
  },
  {
   "cell_type": "code",
   "execution_count": null,
   "metadata": {},
   "outputs": [],
   "source": [
    "imdb_top_1000.loc[imdb_top_1000['name'] == 'Apollo 13', 'release_year'] = '1995' # The release year was wrong in the dataset change from PG to 1995 /year was obtained from wikipedia/\n",
    "movies['release_year'] = movies['release_year'].replace('nan', np.nan).astype('float').astype('Int16')\n",
    "movies['release_month'] = movies['release_month'].replace('nan', np.nan).astype('float').astype('Int16')\n",
    "movies['release_day'] = movies['release_day'].replace('nan', np.nan).astype('float').astype('Int16')\n",
    "imdb_top_1000['release_year'] = imdb_top_1000['release_year'].replace('nan', np.nan).astype('float').astype('Int16')\n"
   ]
  },
  {
   "cell_type": "code",
   "execution_count": null,
   "metadata": {},
   "outputs": [],
   "source": [
    "movie_feature = imdb_top_1000.merge(movies, on=['name', 'release_year'], how='outer')\n"
   ]
  },
  {
   "cell_type": "code",
   "execution_count": null,
   "metadata": {},
   "outputs": [],
   "source": [
    "def fill_NaN(df, column_left, column_right, column_name=None): # Updates missing data from left column with right column data\n",
    "    if column_name is None:\n",
    "        column_name = column_left\n",
    "    df[column_name] = df[column_left].fillna(df[column_right])"
   ]
  },
  {
   "cell_type": "code",
   "execution_count": null,
   "metadata": {},
   "outputs": [],
   "source": [
    "movie_feature['Genre'] = movie_feature['Genre'].replace(np.nan, '').apply(lambda x: x.split(', '))\n",
    "\n",
    "fill_NaN(movie_feature,'runtime','Runtime')\n",
    "fill_NaN(movie_feature,'genres','Genre')\n",
    "movie_feature.drop(labels=['Runtime','Genre'], axis=1, inplace=True)"
   ]
  },
  {
   "cell_type": "code",
   "execution_count": null,
   "metadata": {},
   "outputs": [],
   "source": [
    "movie_feature.columns"
   ]
  },
  {
   "cell_type": "code",
   "execution_count": null,
   "metadata": {},
   "outputs": [],
   "source": [
    "movie_feature.sample(3)"
   ]
  },
  {
   "cell_type": "code",
   "execution_count": null,
   "metadata": {},
   "outputs": [],
   "source": [
    "movie_feature.describe()"
   ]
  },
  {
   "cell_type": "code",
   "execution_count": null,
   "metadata": {},
   "outputs": [],
   "source": [
    "print(f'There are {(imdb_top_1000.shape[0]+movies.shape[0]) - movie_feature.shape[0]} common elements to both IMDB and Movie Corpus datasets. Knowing that IMDB includes {imdb_top_1000.shape[0]} elements and Movie corpus includes {movies.shape[0]}.')\n"
   ]
  },
  {
   "cell_type": "code",
   "execution_count": null,
   "metadata": {},
   "outputs": [],
   "source": [
    "movie_feature.columns"
   ]
  },
  {
   "cell_type": "code",
   "execution_count": null,
   "metadata": {},
   "outputs": [],
   "source": [
    "sns.histplot(x='WR', data=movie_feature, kde=True).set(title='Distribution of weighted ratings on merged database',xlabel='Weighted rating WR', ylabel='Number of films')\n"
   ]
  },
  {
   "cell_type": "code",
   "execution_count": null,
   "metadata": {
    "scrolled": true
   },
   "outputs": [],
   "source": [
    "len((movie_feature['name'] + movie_feature['release_year'].astype(str)).unique()) / len(movie_feature)"
   ]
  },
  {
   "cell_type": "markdown",
   "metadata": {},
   "source": [
    "### Fill missing budget data from imdb budget dataset"
   ]
  },
  {
   "cell_type": "code",
   "execution_count": null,
   "metadata": {},
   "outputs": [],
   "source": [
    "imdb_budget.sample(5)"
   ]
  },
  {
   "cell_type": "code",
   "execution_count": null,
   "metadata": {},
   "outputs": [],
   "source": [
    "imdb_budget['Release Date'] = imdb_budget['Release Date'].astype('str') # Convert to string all dates\n",
    "release_date = pd.DataFrame(pd.to_datetime(imdb_budget['Release Date']).apply(lambda x: [x.year, x.month, x.day]).tolist(), columns=['release_year','release_month','release_day'])\n",
    "imdb_budget[['release_year','release_month','release_day']] = release_date"
   ]
  },
  {
   "cell_type": "code",
   "execution_count": null,
   "metadata": {},
   "outputs": [],
   "source": [
    "imdb_budget['release_year'] = imdb_budget['release_year'].astype('Int16')\n",
    "imdb_budget['release_month'] = imdb_budget['release_month'].astype('Int16')\n",
    "imdb_budget['release_day'] = imdb_budget['release_day'].astype('Int16')"
   ]
  },
  {
   "cell_type": "code",
   "execution_count": null,
   "metadata": {},
   "outputs": [],
   "source": [
    "imdb_budget.drop(['Year', 'Release Date'], axis=1, inplace=True)\n",
    "imdb_budget.rename({'Movie': 'name', 'Genre': 'genres'}, axis=1, inplace=True)\n",
    "imdb_budget.columns"
   ]
  },
  {
   "cell_type": "code",
   "execution_count": null,
   "metadata": {},
   "outputs": [],
   "source": [
    "imdb_budget.describe()"
   ]
  },
  {
   "cell_type": "code",
   "execution_count": null,
   "metadata": {},
   "outputs": [],
   "source": [
    "len((movie_feature['name'] + str(movie_feature['release_year'])).unique()) / len(movie_feature)"
   ]
  },
  {
   "cell_type": "code",
   "execution_count": null,
   "metadata": {},
   "outputs": [],
   "source": [
    "imdb_budget.columns"
   ]
  },
  {
   "cell_type": "code",
   "execution_count": null,
   "metadata": {},
   "outputs": [],
   "source": [
    "movie_feature.columns"
   ]
  },
  {
   "cell_type": "code",
   "execution_count": null,
   "metadata": {},
   "outputs": [],
   "source": [
    "movie_feature_with_budget = movie_feature.merge(imdb_budget, on=['name', 'release_year'], how='outer')"
   ]
  },
  {
   "cell_type": "code",
   "execution_count": null,
   "metadata": {},
   "outputs": [],
   "source": [
    "movie_feature_with_budget.columns"
   ]
  },
  {
   "cell_type": "code",
   "execution_count": null,
   "metadata": {},
   "outputs": [],
   "source": [
    "fill_NaN(movie_feature_with_budget,'genres_x','genres_y','genre')\n",
    "fill_NaN(movie_feature_with_budget,'release_day_x','release_day_y','release_day')\n",
    "fill_NaN(movie_feature_with_budget,'release_month_x','release_month_y','release_month')\n",
    "fill_NaN(movie_feature_with_budget,'Certificate','Rating')\n",
    "fill_NaN(movie_feature_with_budget,'runtime','Runtime')\n",
    "fill_NaN(movie_feature_with_budget,'IMDB_Rating','IMDb')"
   ]
  },
  {
   "cell_type": "markdown",
   "metadata": {},
   "source": [
    "### Investigate the gross difference between the original and the imdb budget datasets"
   ]
  },
  {
   "cell_type": "code",
   "execution_count": null,
   "metadata": {},
   "outputs": [],
   "source": [
    "(movie_feature_with_budget['box_office_revenue'] - movie_feature_with_budget['Worldwide Gross']).plot(kind='hist', histtype='step', title='Distribution of the difference of the total worldwide gross data from the two datasets')"
   ]
  },
  {
   "cell_type": "code",
   "execution_count": null,
   "metadata": {},
   "outputs": [],
   "source": [
    "((movie_feature_with_budget['box_office_revenue'] - movie_feature_with_budget['Worldwide Gross']) / movie_feature_with_budget['box_office_revenue']).plot(kind='hist', histtype='step', title='Distribution of the percentage in difference of the total worldwide gross data from the two datasets')"
   ]
  },
  {
   "cell_type": "code",
   "execution_count": null,
   "metadata": {},
   "outputs": [],
   "source": [
    "movie_feature_with_budget_differences = movie_feature_with_budget.copy()\n",
    "movie_feature_with_budget_differences['gross_difference'] = np.abs(movie_feature_with_budget_differences['box_office_revenue'] - movie_feature_with_budget_differences['Worldwide Gross'])\n",
    "movie_feature_with_budget_differences['gross_difference%'] = ((np.abs(movie_feature_with_budget['box_office_revenue'] - movie_feature_with_budget['Worldwide Gross']) / movie_feature_with_budget['box_office_revenue']) * 100).round(2)"
   ]
  },
  {
   "cell_type": "code",
   "execution_count": null,
   "metadata": {},
   "outputs": [],
   "source": [
    "# Difference between the total worldwide gross data from the two datasets\n",
    "movie_feature_with_budget_differences \\\n",
    "    [(movie_feature_with_budget_differences['gross_difference'] != 0) & (~movie_feature_with_budget_differences['gross_difference'].isna())] \\\n",
    "    .sort_values('gross_difference%', ascending=False) \\\n",
    "    [['name', 'box_office_revenue', 'Worldwide Gross', 'gross_difference', 'gross_difference%']]"
   ]
  },
  {
   "cell_type": "code",
   "execution_count": null,
   "metadata": {},
   "outputs": [],
   "source": [
    "# Percentage differences between the gross data from the two datasets\n",
    "movie_feature_with_budget_differences.describe(percentiles=[.25, .5, .75, .8, .9, .95])[['gross_difference%']]"
   ]
  },
  {
   "cell_type": "code",
   "execution_count": null,
   "metadata": {},
   "outputs": [],
   "source": [
    "movie_feature_with_budget_differences[movie_feature_with_budget_differences['gross_difference'] == 0].shape[0] / movie_feature_with_budget_differences['gross_difference%'].notna().sum()"
   ]
  },
  {
   "cell_type": "code",
   "execution_count": null,
   "metadata": {},
   "outputs": [],
   "source": [
    "movie_feature_with_budget_differences[\n",
    "    (movie_feature_with_budget_differences['name'] == 'The Son of No One') |\n",
    "    (movie_feature_with_budget_differences['name'] == 'Restless') |\n",
    "    (movie_feature_with_budget_differences['name'] == 'Welcome to Collinwood')\n",
    "][[\n",
    "    'name', 'box_office_revenue', 'Worldwide Gross'\n",
    "]]"
   ]
  },
  {
   "cell_type": "code",
   "execution_count": null,
   "metadata": {},
   "outputs": [],
   "source": [
    "# gross_difference = box_office_revenue - Worldwide Gross\n",
    "print((movie_feature_with_budget_differences['box_office_revenue'] - movie_feature_with_budget_differences['Worldwide Gross'] > 0).sum())\n",
    "print((movie_feature_with_budget_differences['box_office_revenue'] - movie_feature_with_budget_differences['Worldwide Gross'] < 0).sum())\n",
    "print((movie_feature_with_budget_differences['box_office_revenue'] - movie_feature_with_budget_differences['Worldwide Gross'] == 0).sum())\n",
    "(movie_feature_with_budget_differences['box_office_revenue'] - movie_feature_with_budget_differences['Worldwide Gross']).describe()"
   ]
  },
  {
   "cell_type": "markdown",
   "metadata": {},
   "source": [
    "We want to fill the missing data from the imdb budget dataset. For this purpose we are comparing the difference between the CMU, imdb top 1000, and imdb budget data. We have the:\n",
    " \n",
    " * `box_office_revenue` - from CMU with 8401 values /total gross/\n",
    " * `Gross` - from imdb top 1000 with 831 values /total gross in US and Canada/\n",
    " * `Domestic Gross` - from imdb budget with 3841 values /total gross in US and Canada/\n",
    " * `Worldwide Gross` - from imdb budget with 3841 values /total gross/\n",
    "\n",
    "We would only consider the total worldwide gross since we are investigating movies from the whole world. The information for it is contained in the `box_office_revenue` and `Worldwide Gross`. Only around 20% of the values for the total gross are the same. Also, we know that the other data in `box_office_revenue` is not bigger or smaller than the `Worldwide Gross` for all records. So we can conclude that `box_office_revenue` and `Worldwide Gross` are not connected.\n",
    "\n",
    "Based on this, we cannot combine the data from the both datasets and we would prefer using the data from the imdb budget dataset because it contains information about the budget of the movie and the data inside seams more accurate based on the comparison of a subset of it with Wikipedia data."
   ]
  },
  {
   "cell_type": "code",
   "execution_count": null,
   "metadata": {},
   "outputs": [],
   "source": [
    "movie_feature_with_budget.columns"
   ]
  },
  {
   "cell_type": "code",
   "execution_count": null,
   "metadata": {},
   "outputs": [],
   "source": [
    "# Remove merged extra columns \n",
    "movie_feature_with_budget.drop(['box_office_revenue','Domestic Gross','Gross','Rating',\n",
    "                                'Runtime','IMDb','release_month_x','release_month_y','release_day_x',\n",
    "                                'release_day_y','genres_x','genres_y'], axis=1, inplace=True)\n",
    "\n",
    "# Rename gross column\n",
    "movie_feature_with_budget.rename({'Worldwide Gross': 'total_gross'}, axis=1, inplace=True)\n",
    "\n",
    "# Remove data that won't be used in the analysis\n",
    "movie_feature_with_budget.drop(['Poster_Link'], axis=1, inplace=True) \n",
    "\n",
    "# Compute profit as success indicator\n",
    "movie_feature_with_budget['profit'] = movie_feature_with_budget['total_gross'] - movie_feature_with_budget['Production Budget']"
   ]
  },
  {
   "cell_type": "code",
   "execution_count": null,
   "metadata": {},
   "outputs": [],
   "source": [
    "movie_feature_with_budget.columns"
   ]
  },
  {
   "cell_type": "code",
   "execution_count": null,
   "metadata": {},
   "outputs": [],
   "source": [
    "movie_feature_with_budget.describe()"
   ]
  },
  {
   "cell_type": "code",
   "execution_count": null,
   "metadata": {},
   "outputs": [],
   "source": [
    "movie_feature_with_budget.sample(5)"
   ]
  },
  {
   "cell_type": "markdown",
   "metadata": {},
   "source": [
    "## Account for inflation: "
   ]
  },
  {
   "cell_type": "markdown",
   "metadata": {},
   "source": [
    "As our movie database has movies dating back to 1921, we need to adjust the budgets and profits through an inflation rate.\n",
    "\n",
    "Source: https://inflationdata.com/Inflation/Inflation/DecadeInflation.asp"
   ]
  },
  {
   "cell_type": "code",
   "execution_count": null,
   "metadata": {},
   "outputs": [],
   "source": [
    "# Create dictionary of cumulative inflation rate per decade since 1913 in the US:\n",
    "inflation_rates = [92.86, 4.82, -18.6, 68.57, 24.58, 28.23, 103.45, 64.41, 33.47, 28.31, 19.38, 1.27]\n",
    "inflation_rates = [x / 100 + 1 for x in inflation_rates]\n",
    "decades = list(np.linspace(1913,2023,len(inflation_rates)))\n",
    "inflation_dic = dict(map(lambda i,j : (i,j) , decades, inflation_rates))"
   ]
  },
  {
   "cell_type": "code",
   "execution_count": null,
   "metadata": {},
   "outputs": [],
   "source": [
    "df = movie_feature_with_budget.copy()"
   ]
  },
  {
   "cell_type": "code",
   "execution_count": null,
   "metadata": {},
   "outputs": [],
   "source": [
    "# Initialisation\n",
    "df['profit_modified'] = df['profit']\n",
    "df['total_gross_modified'] = df['total_gross']"
   ]
  },
  {
   "cell_type": "code",
   "execution_count": null,
   "metadata": {},
   "outputs": [],
   "source": [
    "for k in range(len(decades)-1): # For each decade\n",
    "    year_before = decades[k]\n",
    "    year = decades[k+1]\n",
    "    inflation_rate = inflation_dic[year_before]\n",
    "    \n",
    "    decade_df = df[(df['release_year']<year) & (df['release_year']>year_before)] # decade mask\n",
    "    \n",
    "    idx = decade_df.index.tolist()\n",
    "\n",
    "    # Create new column with prices modified by interest rate\n",
    "    df.loc[idx, 'profit_modified'] = decade_df['profit'] * inflation_rate\n",
    "    df.loc[idx, 'total_gross_modified'] = decade_df['total_gross'] * inflation_rate   "
   ]
  },
  {
   "cell_type": "code",
   "execution_count": null,
   "metadata": {},
   "outputs": [],
   "source": [
    "movie_feature_with_budget = df.copy()"
   ]
  },
  {
   "cell_type": "code",
   "execution_count": null,
   "metadata": {},
   "outputs": [],
   "source": [
    "movie_feature_with_budget.head(2)"
   ]
  },
  {
   "cell_type": "code",
   "execution_count": null,
   "metadata": {},
   "outputs": [],
   "source": [
    "# Delete the columns for budget which are not modified by inflation rate: \n",
    "movie_feature_with_budget.drop(['total_gross','profit'], axis=1, inplace=True)"
   ]
  },
  {
   "cell_type": "markdown",
   "metadata": {},
   "source": [
    "### Wikipedia pageviews"
   ]
  },
  {
   "cell_type": "code",
   "execution_count": null,
   "metadata": {},
   "outputs": [],
   "source": [
    "wikipedia_pageviews['date'] = pd.to_datetime(wikipedia_pageviews['date'], format='%Y%m%d%H')"
   ]
  },
  {
   "cell_type": "code",
   "execution_count": null,
   "metadata": {},
   "outputs": [],
   "source": [
    "wikipedia_pageviews.sample(5)"
   ]
  },
  {
   "cell_type": "code",
   "execution_count": null,
   "metadata": {},
   "outputs": [],
   "source": [
    "wikipedia_pageviews.describe()"
   ]
  },
  {
   "cell_type": "code",
   "execution_count": null,
   "metadata": {},
   "outputs": [],
   "source": [
    "wikipedia_pageviews.rename({'movie_name': 'name'}, axis=1, inplace=True)"
   ]
  },
  {
   "cell_type": "code",
   "execution_count": null,
   "metadata": {},
   "outputs": [],
   "source": [
    "wikipedia_pageviews_mean_per_day = wikipedia_pageviews.groupby('name').mean()\n",
    "movie_feature_with_budget_and_wikipedia_pageviews = pd.merge(movie_feature_with_budget, wikipedia_pageviews_mean_per_day, on='name', how='left')"
   ]
  },
  {
   "cell_type": "code",
   "execution_count": null,
   "metadata": {},
   "outputs": [],
   "source": [
    "movie_feature_with_budget_and_wikipedia_pageviews.describe()"
   ]
  },
  {
   "cell_type": "code",
   "execution_count": null,
   "metadata": {},
   "outputs": [],
   "source": [
    "# For simplicity of use, we rename the dataframe\n",
    "df_all = movie_feature_with_budget_and_wikipedia_pageviews"
   ]
  },
  {
   "cell_type": "markdown",
   "metadata": {},
   "source": [
    "For the final dataset obtained, we gather data from 4 different sources. In order to not restrain ourselves to only common features and end up with a smaller dataset, we made the choice of outer merges filled with NaN. Indeed, if we had taken inner merge of all datasets, it might be that our final dataset is both small and not badly representative of the population. \n",
    "\n",
    "Having NaN values has however some consequences on our data analysis. It might be that the NaN are not fully random, for instance, runtime for Crime movies are all missing values while we have the runtime for all Comedies. This should ideally be investigated further to check the NaN are indeed random. In the framework of this milestone, the choice was to focus on other tasks. We will thus assume randomness of NaN values.\n",
    "\n"
   ]
  },
  {
   "cell_type": "markdown",
   "metadata": {},
   "source": [
    "# Exploratory Data Analysis"
   ]
  },
  {
   "cell_type": "markdown",
   "metadata": {},
   "source": [
    "## Success indicators"
   ]
  },
  {
   "cell_type": "markdown",
   "metadata": {},
   "source": [
    "Success of a movie can be very subjective. We thus need to diversify our definitions of success to have a holistic view of our dataset. The following success indicators are considered: \n",
    "- How well a movie is received: \n",
    "    IMDB ratings which should be weighted by the number of votes\n",
    "- How profitable a movie is: \n",
    "    Overall gross revenue of the movie OR profit = gross revenue - budget spent\n",
    "- How long a movie will last in time: \n",
    "    Number of connection to the movie wikipedia page\n"
   ]
  },
  {
   "cell_type": "markdown",
   "metadata": {},
   "source": [
    "## Explore data"
   ]
  },
  {
   "cell_type": "markdown",
   "metadata": {},
   "source": [
    "Looking at the impacts of features on eachother by drawing a correlation heatmap"
   ]
  },
  {
   "cell_type": "code",
   "execution_count": null,
   "metadata": {
    "scrolled": false
   },
   "outputs": [],
   "source": [
    "fig, ax = plt.subplots(figsize=(15,7))\n",
    "sns.heatmap(df_all.corr(), annot=True, ax=ax).set(title='Heat map of correlations between different movie features');\n"
   ]
  },
  {
   "cell_type": "markdown",
   "metadata": {},
   "source": [
    "### ADD comment on correlation results !!!"
   ]
  },
  {
   "cell_type": "markdown",
   "metadata": {},
   "source": [
    "### Impact of release date on success"
   ]
  },
  {
   "cell_type": "markdown",
   "metadata": {},
   "source": [
    "To assess the impact of release date on success, we need to use the information on 'release_month' for each movie and need to choose a feature for success which can be either the IMDB weighted rating 'WR' or the 'box_office_revenue'. Since 'WR' and 'release_month' are features coming from two different datasets, we need to use the merged dataframe movie_feature which contains only 875. We can then compare the results found with ('WR','release_month') to ('box_office_revenue','release_month') which is based on much more data: 81741. \n",
    "\n",
    "-> CAREFUL, WHY ARE RATINGS AND GROSS REVENUE COMPLETELY UNCORRELATED ? "
   ]
  },
  {
   "cell_type": "code",
   "execution_count": null,
   "metadata": {},
   "outputs": [],
   "source": [
    "print(f\"Out of {df_all.shape[0]} movies in out dataset, we have the release month information for {df_all['release_month'].count()} movies which is a big enough dataset to be representative.\")"
   ]
  },
  {
   "cell_type": "code",
   "execution_count": null,
   "metadata": {},
   "outputs": [],
   "source": [
    "df_release = df_all.dropna(how='all', subset=['release_month']) # Remove NaN months"
   ]
  },
  {
   "cell_type": "code",
   "execution_count": null,
   "metadata": {},
   "outputs": [],
   "source": [
    "sns.histplot(x='release_month', data = df_release).set(title='Distribution of release months',xlabel='Months', ylabel='Number of films');"
   ]
  },
  {
   "cell_type": "markdown",
   "metadata": {},
   "source": [
    "From the plot above, we can see that the distribution of release months is fairly homogeneous accross the data which allows to investigate success accross different release months."
   ]
  },
  {
   "cell_type": "code",
   "execution_count": null,
   "metadata": {},
   "outputs": [],
   "source": [
    "df_release=df_release.sort_values(by='release_month', ascending=True)"
   ]
  },
  {
   "cell_type": "code",
   "execution_count": null,
   "metadata": {},
   "outputs": [],
   "source": [
    "# Plot\n",
    "plt.figure(figsize=(10,5));\n",
    "ax = sns.barplot(x=\"release_month\", y=\"WR\",data=df_release,palette='crest');\n",
    "plt.xlabel('Month', fontsize=12)\n",
    "plt.ylabel('Weighted IMDB rating', fontsize=12)\n",
    "plt.title('Success of Movie in terms of IMDB rating Release By Month', fontsize=14);"
   ]
  },
  {
   "cell_type": "code",
   "execution_count": null,
   "metadata": {},
   "outputs": [],
   "source": [
    "# Plot\n",
    "plt.figure(figsize=(10,5))\n",
    "ax = sns.barplot(x=\"release_month\", y=\"total_gross_modified\",data=df_release,palette='crest')\n",
    "plt.xlabel('Month', fontsize=12)\n",
    "plt.ylabel('Total Box office revenue', fontsize=12)\n",
    "plt.title('Success in terms of revenue of Movie Release By Month', fontsize=14)"
   ]
  },
  {
   "cell_type": "markdown",
   "metadata": {},
   "source": [
    "UPDATE:\n",
    "\n",
    "\n",
    "As we can see from the results above, the movie weighted ratings are not at all influenced by the release period. However, the gross revenue is. In particular, if we look at the release gross revenue in the 5 days following release, we see that movies released in summer and in the end of the year are more successful. This follows the same trend as the total gross revenue meaning that this difference in success across months is probably due to the cinema revenue in the first 5 days. Since the distribution of movies is fairly the same across our dataset, we can deduce that these periods are more favourable for movie release. This result coincides with usual holidays periods where people have more time to go to the cinema. "
   ]
  },
  {
   "cell_type": "markdown",
   "metadata": {},
   "source": [
    "## What budget should be spent on a successful movie?"
   ]
  },
  {
   "cell_type": "markdown",
   "metadata": {},
   "source": [
    "To see what budget should be spent on a successful movie, we want to compare mainly three features, the budget spent 'Production Budget', the profit made 'profit' and the weighted rating of the movie to account for successfulness 'WR'.\n"
   ]
  },
  {
   "cell_type": "code",
   "execution_count": null,
   "metadata": {},
   "outputs": [],
   "source": [
    "print(f\"Out of {df_all.shape[0]} movies in out dataset, we have the profit information for {df_all['profit_modified'].count()} movies, total gross revenue information for {df_all['total_gross_modified'].count()} movies , budget information for {df_all['Production Budget'].count()} movies.\")"
   ]
  },
  {
   "cell_type": "code",
   "execution_count": null,
   "metadata": {},
   "outputs": [],
   "source": [
    "h = sns.jointplot(data=df_all, x='Production Budget', y='profit_modified', kind=\"reg\");\n",
    "h.ax_joint.set_xlabel('Production budget [$]');\n",
    "h.ax_joint.set_ylabel('Profit [$]');"
   ]
  },
  {
   "cell_type": "markdown",
   "metadata": {},
   "source": [
    "As we can see from the plot above, the positive trend line indicates that an increase in the budget will result in an increase in profit. However, there seems to be a lot of outliers. For our datastory (Milestone 3), it would be interesting to split this into two categories, high budget movies and average movies. Additionnaly, we will want to investigate if this budget trend is different across genres."
   ]
  },
  {
   "cell_type": "markdown",
   "metadata": {},
   "source": [
    "To compare the link between all three features, we build the pairplot below:"
   ]
  },
  {
   "cell_type": "code",
   "execution_count": null,
   "metadata": {},
   "outputs": [],
   "source": [
    "sns.pairplot(movie_feature_with_budget[['Production Budget','profit_modified','WR']]);"
   ]
  },
  {
   "cell_type": "markdown",
   "metadata": {},
   "source": [
    "### Top 20 most profitable movies"
   ]
  },
  {
   "cell_type": "code",
   "execution_count": null,
   "metadata": {},
   "outputs": [],
   "source": [
    "Top20_ProfitableMovies = df_all.sort_values('profit_modified', ascending=False).head(20)"
   ]
  },
  {
   "cell_type": "code",
   "execution_count": null,
   "metadata": {},
   "outputs": [],
   "source": [
    "plt.figure(figsize=(10,5))\n",
    "sns.barplot(x=Top20_ProfitableMovies['name'],y=Top20_ProfitableMovies['profit_modified'], \n",
    "            color='crimson', alpha=0.95, label='Profit', ci=None)\n",
    "sns.barplot(x=Top20_ProfitableMovies['name'],y=Top20_ProfitableMovies['Production Budget'], \n",
    "            color='lightseagreen', alpha=0.95, label='Budget', ci=None)\n",
    "plt.xlabel('Movie', fontsize=12)\n",
    "plt.title(\"Profits and Budgets for the 20 Most Profitable Movies\", fontsize=14)\n",
    "plt.ylabel('Profit', fontsize=12)\n",
    "plt.xticks(rotation=35, horizontalalignment='right', fontsize=10)\n",
    "plt.legend(fontsize=12)"
   ]
  },
  {
   "cell_type": "markdown",
   "metadata": {},
   "source": [
    "### Top lasting movies"
   ]
  },
  {
   "cell_type": "markdown",
   "metadata": {},
   "source": [
    "### ---->TO COMPLETE MY MEHDI  with wikipedia connection"
   ]
  },
  {
   "cell_type": "markdown",
   "metadata": {},
   "source": [
    "## Impact of director"
   ]
  },
  {
   "cell_type": "code",
   "execution_count": null,
   "metadata": {},
   "outputs": [],
   "source": [
    "print(f\"Out of {df_all.shape[0]} movies in out dataset, we have the director information for {df_all['Director'].count()} movies coming from the top 1000 IMDB data set.\")"
   ]
  },
  {
   "cell_type": "code",
   "execution_count": null,
   "metadata": {},
   "outputs": [],
   "source": [
    "df_director = df_all.dropna(how='all', subset=['Director']) # Remove NaN directors"
   ]
  },
  {
   "cell_type": "code",
   "execution_count": null,
   "metadata": {},
   "outputs": [],
   "source": [
    "Top20_ProfitableMovies = df_director.sort_values('profit_modified', ascending=False).head(20)"
   ]
  },
  {
   "cell_type": "code",
   "execution_count": null,
   "metadata": {},
   "outputs": [],
   "source": [
    "plt.figure(figsize=(10,5))\n",
    "sns.barplot(x=Top20_ProfitableMovies['Director'],y=Top20_ProfitableMovies['profit_modified'], \n",
    "            color='crimson', alpha=0.95, label='Profit', ci=None)\n",
    "sns.barplot(x=Top20_ProfitableMovies['Director'],y=Top20_ProfitableMovies['Production Budget'], \n",
    "            color='lightseagreen', alpha=0.95, label='Budget', ci=None)\n",
    "plt.xlabel('Director', fontsize=12)\n",
    "plt.title(\"Directors of 20 most profitable movies\", fontsize=14)\n",
    "plt.ylabel('Profit', fontsize=12)\n",
    "plt.xticks(rotation=35, horizontalalignment='right', fontsize=10)\n",
    "plt.legend(fontsize=12)"
   ]
  },
  {
   "cell_type": "code",
   "execution_count": null,
   "metadata": {},
   "outputs": [],
   "source": [
    "Top20_ProfitableMovies['Director']"
   ]
  },
  {
   "cell_type": "markdown",
   "metadata": {},
   "source": [
    "## Impact of actors TO COMPLETE BY PAU"
   ]
  },
  {
   "cell_type": "code",
   "execution_count": null,
   "metadata": {},
   "outputs": [],
   "source": [
    "print(f\"Out of {df_all.shape[0]} movies in out dataset, we have the 1st actor information for {df_all['Star1'].count()} movies coming from the top 1000 IMDB data set.\")"
   ]
  },
  {
   "cell_type": "markdown",
   "metadata": {},
   "source": [
    "For now, we only consider the main actor of a movie but this can be extrapolated to all actors accross multiple movies for our next milestone. "
   ]
  },
  {
   "cell_type": "code",
   "execution_count": null,
   "metadata": {},
   "outputs": [],
   "source": [
    "df_main_actor = df_all.dropna(how='all', subset=['Star1']) # Remove NaN actors"
   ]
  },
  {
   "cell_type": "code",
   "execution_count": null,
   "metadata": {},
   "outputs": [],
   "source": [
    "Top20_ProfitableMovies = df_main_actor.sort_values('profit_modified', ascending=False).head(20)"
   ]
  },
  {
   "cell_type": "code",
   "execution_count": null,
   "metadata": {},
   "outputs": [],
   "source": [
    "plt.figure(figsize=(10,5))\n",
    "sns.barplot(x=Top20_ProfitableMovies['Star1'],y=Top20_ProfitableMovies['profit_modified'], \n",
    "            color='crimson', alpha=0.95, label='Profit', ci=None)\n",
    "sns.barplot(x=Top20_ProfitableMovies['Star1'],y=Top20_ProfitableMovies['Production Budget'], \n",
    "            color='lightseagreen', alpha=0.95, label='Budget', ci=None)\n",
    "plt.xlabel('Actors', fontsize=12)\n",
    "plt.title(\"Actors of 20 most profitable movies\", fontsize=14)\n",
    "plt.ylabel('Profit', fontsize=12)\n",
    "plt.xticks(rotation=35, horizontalalignment='right', fontsize=10)\n",
    "plt.legend(fontsize=12)"
   ]
  },
  {
   "cell_type": "markdown",
   "metadata": {},
   "source": [
    "For our datastory, the goal would be to cluster actors accross genres. That way, we can forecast which actor would be best to select for a particular genre to boost success."
   ]
  },
  {
   "cell_type": "markdown",
   "metadata": {},
   "source": [
    "## Popular features in characters"
   ]
  },
  {
   "cell_type": "markdown",
   "metadata": {},
   "source": [
    "The characters table is splitted between actors and actresses to study each gender as a whole different group."
   ]
  },
  {
   "cell_type": "code",
   "execution_count": 39,
   "metadata": {},
   "outputs": [],
   "source": [
    "characters_male = characters[characters['actor_gender'] == 'M']\n",
    "characters_female = characters[characters['actor_gender'] == 'F']"
   ]
  },
  {
   "cell_type": "markdown",
   "metadata": {},
   "source": [
    "The following plot presents the height distribution for the actors and actresses. We can see that men tend to be taller than women actors. Also, it can be seen that in the dataset there are way more men than women"
   ]
  },
  {
   "cell_type": "code",
   "execution_count": 40,
   "metadata": {},
   "outputs": [
    {
     "data": {
      "image/png": "[encoded data removed]",
      "text/plain": [
       "<Figure size 432x288 with 1 Axes>"
      ]
     },
     "metadata": {
      "needs_background": "light"
     },
     "output_type": "display_data"
    }
   ],
   "source": [
    "def filter_children(characters):\n",
    "    LIMIT_CHILDREN_AGE = 14\n",
    "    return characters[(characters['actor_age_at_movie_release'] > LIMIT_CHILDREN_AGE)]\n",
    "\n",
    "def characters_height_histogram(characters, bins):\n",
    "    characters_height = characters.dropna(subset=['actor_height_meters'])\n",
    "    plt.hist(characters_height['actor_height_meters'],bins=bins, alpha=0.5)\n",
    "    plt.legend(['Males', 'Females'])\n",
    "    plt.xlabel('Adult actor height (m)')\n",
    "    plt.title('Height distribution of adult actors')\n",
    "\n",
    "characters_height_histogram(filter_children(characters_male), bins=40)\n",
    "characters_height_histogram(filter_children(characters_female), bins=25)\n"
   ]
  },
  {
   "cell_type": "markdown",
   "metadata": {},
   "source": [
    "Another important characteristic we can study is the age on movie release. Again, there is a huge difference between women and men. Women play roles when they are younger, while men seem to have longer careers."
   ]
  },
  {
   "cell_type": "code",
   "execution_count": 41,
   "metadata": {},
   "outputs": [
    {
     "data": {
      "image/png": "[encoded data removed]",
      "text/plain": [
       "<Figure size 432x288 with 1 Axes>"
      ]
     },
     "metadata": {
      "needs_background": "light"
     },
     "output_type": "display_data"
    }
   ],
   "source": [
    "def characters_age_histogram(characters):\n",
    "    characters_age = characters.dropna(subset=['actor_age_at_movie_release']).sort_values(by=['actor_age_at_movie_release'])\n",
    "    characters_age = characters_age[characters_age['actor_age_at_movie_release'] > 0]\n",
    "    plt.hist(characters_age['actor_age_at_movie_release'], bins=45, alpha=0.5)\n",
    "    plt.legend(['Males', 'Females'])\n",
    "    plt.xlabel('Actor age at movie release')\n",
    "    plt.title('Age at movie release distribution of actors')\n",
    "\n",
    "characters_age_histogram(characters_male)\n",
    "characters_age_histogram(characters_female)"
   ]
  },
  {
   "cell_type": "markdown",
   "metadata": {},
   "source": [
    "The following plot shows the ethnicity distribution for actors and actresses of the dataset. It can be seen how white people clearly dominate the characters dataset by more than a half of it. Indians are also a big group representing 1/4 of the ethnicities. In this case, the difference between genders is not that big."
   ]
  },
  {
   "cell_type": "code",
   "execution_count": 42,
   "metadata": {},
   "outputs": [
    {
     "data": {
      "image/png": "[encoded data removed]",
      "text/plain": [
       "<Figure size 792x360 with 2 Axes>"
      ]
     },
     "metadata": {},
     "output_type": "display_data"
    }
   ],
   "source": [
    "def pie_chart_actor_ethnicities(actors, title, ax):\n",
    "    actors_ethnicity = actors.dropna(subset=['major_ethnicity'])\n",
    "    actors_ethnicity = actors_ethnicity[actors_ethnicity['major_ethnicity'] != 'unknown']\n",
    "    ethnicities, counts = np.unique(actors_ethnicity['major_ethnicity'], return_counts=True)\n",
    "    #print(np.sort(counts))\n",
    "    others_count = 0\n",
    "    plot_ethnicities = []\n",
    "    plot_counts = []\n",
    "    ETHNICITY_THRESHOLD = 1\n",
    "    for ethnicity, count in zip(ethnicities, counts):\n",
    "        if count > ETHNICITY_THRESHOLD:\n",
    "            plot_ethnicities.append(ethnicity)\n",
    "            plot_counts.append(count)\n",
    "        else:\n",
    "            others_count += count\n",
    "\n",
    "    colors = ['#e8bd9b','#402b28','#996044','#dba577','#f0dfd7']\n",
    "\n",
    "    ax.pie(plot_counts, labels=plot_ethnicities, startangle=90,autopct='%1.1f%%',colors=colors, radius=1)\n",
    "    ax.set_title(title)\n",
    "\n",
    "def two_pie_charts_actor_ethnicities(actors1, actors2, title, title1, title2):\n",
    "    fig, (ax1, ax2) = plt.subplots(1, 2)\n",
    "    fig.set_facecolor('white')\n",
    "    fig.set_size_inches(11, 5)\n",
    "    fig.suptitle(title)\n",
    "\n",
    "    pie_chart_actor_ethnicities(actors1, title1, ax1)\n",
    "    pie_chart_actor_ethnicities(actors2, title2, ax2)\n",
    "    plt.show()\n",
    "\n",
    "\n",
    "two_pie_charts_actor_ethnicities(characters_male, \n",
    "                                 characters_female, \n",
    "                                 title='Ethnicity distribution', \n",
    "                                 title1='Actors', \n",
    "                                 title2='Actresses')"
   ]
  },
  {
   "cell_type": "markdown",
   "metadata": {},
   "source": [
    "The next plot shows the number of different ethnicities per movie. For instance, a movie that includes at least one Indian and one Black actress has 2 different ethnicities. As we can see, the vast majority of the films only have one ethnicity on it."
   ]
  },
  {
   "cell_type": "code",
   "execution_count": 51,
   "metadata": {},
   "outputs": [
    {
     "data": {
      "image/png": "[encoded data removed]",
      "text/plain": [
       "<Figure size 432x288 with 1 Axes>"
      ]
     },
     "metadata": {
      "needs_background": "light"
     },
     "output_type": "display_data"
    }
   ],
   "source": [
    "def plot_different_ethnicities_per_movie(characters):\n",
    "    ethnicity_characters = characters.dropna(subset=['major_ethnicity'])\n",
    "    num_different_ethnicities = ethnicity_characters.groupby(by=['freebase_movie_id'])['major_ethnicity'].nunique()\n",
    "    num_ethnicies, count = np.unique(num_different_ethnicities, return_counts=True)\n",
    "    plt.bar(num_ethnicies, count)\n",
    "    plt.xlabel('Number of different major ethnicities')\n",
    "    plt.ylabel('Number of movies')\n",
    "    plt.title('Distribution of different ethnicities per movie')\n",
    "plot_different_ethnicities_per_movie(characters)"
   ]
  },
  {
   "cell_type": "markdown",
   "metadata": {},
   "source": [
    "Since now, we have been working using all the characters in the dataset, even if the same actor played more than one. Now, let's focus on actors instead of characters to figure out the success associated to the professional. First we create an actors dataset. We also compute in how many films in the dataset the actor appears, this value can be found in the column `num_movies`"
   ]
  },
  {
   "cell_type": "code",
   "execution_count": 45,
   "metadata": {},
   "outputs": [
    {
     "data": {
      "text/html": [
       "<div>\n",
       "<style scoped>\n",
       "    .dataframe tbody tr th:only-of-type {\n",
       "        vertical-align: middle;\n",
       "    }\n",
       "\n",
       "    .dataframe tbody tr th {\n",
       "        vertical-align: top;\n",
       "    }\n",
       "\n",
       "    .dataframe thead th {\n",
       "        text-align: right;\n",
       "    }\n",
       "</style>\n",
       "<table border=\"1\" class=\"dataframe\">\n",
       "  <thead>\n",
       "    <tr style=\"text-align: right;\">\n",
       "      <th></th>\n",
       "      <th>freebase_actor_id</th>\n",
       "      <th>actor_name</th>\n",
       "      <th>actor_gender</th>\n",
       "      <th>actor_height_meters</th>\n",
       "      <th>ethnicity_label</th>\n",
       "      <th>major_ethnicity</th>\n",
       "      <th>num_movies</th>\n",
       "    </tr>\n",
       "  </thead>\n",
       "  <tbody>\n",
       "    <tr>\n",
       "      <th>0</th>\n",
       "      <td>/m/03wcfv7</td>\n",
       "      <td>Wanda De Jesus</td>\n",
       "      <td>F</td>\n",
       "      <td>1.620</td>\n",
       "      <td>NaN</td>\n",
       "      <td>NaN</td>\n",
       "      <td>8</td>\n",
       "    </tr>\n",
       "    <tr>\n",
       "      <th>1</th>\n",
       "      <td>/m/0346l4</td>\n",
       "      <td>Natasha Henstridge</td>\n",
       "      <td>F</td>\n",
       "      <td>1.780</td>\n",
       "      <td>unknown</td>\n",
       "      <td>NaN</td>\n",
       "      <td>23</td>\n",
       "    </tr>\n",
       "    <tr>\n",
       "      <th>2</th>\n",
       "      <td>/m/01vw26l</td>\n",
       "      <td>Ice Cube</td>\n",
       "      <td>M</td>\n",
       "      <td>1.727</td>\n",
       "      <td>African Americans</td>\n",
       "      <td>Black</td>\n",
       "      <td>33</td>\n",
       "    </tr>\n",
       "    <tr>\n",
       "      <th>3</th>\n",
       "      <td>/m/034hyc</td>\n",
       "      <td>Jason Statham</td>\n",
       "      <td>M</td>\n",
       "      <td>1.750</td>\n",
       "      <td>NaN</td>\n",
       "      <td>NaN</td>\n",
       "      <td>31</td>\n",
       "    </tr>\n",
       "    <tr>\n",
       "      <th>4</th>\n",
       "      <td>/m/01y9xg</td>\n",
       "      <td>Clea DuVall</td>\n",
       "      <td>F</td>\n",
       "      <td>1.650</td>\n",
       "      <td>NaN</td>\n",
       "      <td>NaN</td>\n",
       "      <td>31</td>\n",
       "    </tr>\n",
       "  </tbody>\n",
       "</table>\n",
       "</div>"
      ],
      "text/plain": [
       "  freebase_actor_id          actor_name actor_gender  actor_height_meters  \\\n",
       "0        /m/03wcfv7      Wanda De Jesus            F                1.620   \n",
       "1         /m/0346l4  Natasha Henstridge            F                1.780   \n",
       "2        /m/01vw26l            Ice Cube            M                1.727   \n",
       "3         /m/034hyc       Jason Statham            M                1.750   \n",
       "4         /m/01y9xg         Clea DuVall            F                1.650   \n",
       "\n",
       "     ethnicity_label major_ethnicity  num_movies  \n",
       "0                NaN             NaN           8  \n",
       "1            unknown             NaN          23  \n",
       "2  African Americans           Black          33  \n",
       "3                NaN             NaN          31  \n",
       "4                NaN             NaN          31  "
      ]
     },
     "execution_count": 45,
     "metadata": {},
     "output_type": "execute_result"
    }
   ],
   "source": [
    "actors = characters[['freebase_actor_id', 'freebase_movie_id', 'actor_name', 'actor_gender', 'actor_height_meters', 'ethnicity_label', 'major_ethnicity']]\n",
    "actors = actors.dropna(subset=['freebase_actor_id'])\n",
    "actors['num_movies'] = actors.groupby(by=['freebase_actor_id'])['freebase_actor_id'].transform('size')\n",
    "actors.drop('freebase_movie_id', axis=1, inplace=True)\n",
    "actors.drop_duplicates(subset=['freebase_actor_id'], inplace=True)\n",
    "actors.head(5)"
   ]
  },
  {
   "cell_type": "markdown",
   "metadata": {},
   "source": [
    "Again, let's split actors in genders"
   ]
  },
  {
   "cell_type": "code",
   "execution_count": 46,
   "metadata": {},
   "outputs": [],
   "source": [
    "actors_male = actors[actors['actor_gender'] == 'M']\n",
    "actors_female = actors[actors['actor_gender'] == 'F']"
   ]
  },
  {
   "cell_type": "markdown",
   "metadata": {},
   "source": [
    "And now we can focus on the actors that have appeared in a greater number of movies. We fix this threshold at 15 movies."
   ]
  },
  {
   "cell_type": "code",
   "execution_count": 47,
   "metadata": {},
   "outputs": [],
   "source": [
    "def get_most_demanded_actors(actors, min_num_movies):\n",
    "    return actors[actors['num_movies'] >= min_num_movies]\n",
    "\n",
    "MIN_NUM_MOVIES_DEMANDED_ACTOR = 15\n",
    "demanded_actors_male = get_most_demanded_actors(actors_male, MIN_NUM_MOVIES_DEMANDED_ACTOR)\n",
    "demanded_actors_female = get_most_demanded_actors(actors_female, MIN_NUM_MOVIES_DEMANDED_ACTOR)\n"
   ]
  },
  {
   "cell_type": "markdown",
   "metadata": {},
   "source": [
    "This way, we can compare if the most characteristic features of each actor are the same for the whole dataset of characters. We are plotting again the height distribution both for males and females."
   ]
  },
  {
   "cell_type": "code",
   "execution_count": 48,
   "metadata": {},
   "outputs": [
    {
     "data": {
      "image/png": "[encoded data removed]",
      "text/plain": [
       "<Figure size 432x288 with 1 Axes>"
      ]
     },
     "metadata": {
      "needs_background": "light"
     },
     "output_type": "display_data"
    }
   ],
   "source": [
    "characters_height_histogram(demanded_actors_male, 40)\n",
    "characters_height_histogram(demanded_actors_female, 15)"
   ]
  },
  {
   "cell_type": "markdown",
   "metadata": {},
   "source": [
    "Also, the ethnicities are plotted again. We can observe that discriminations are even bigger."
   ]
  },
  {
   "cell_type": "code",
   "execution_count": 49,
   "metadata": {},
   "outputs": [
    {
     "data": {
      "image/png": "[encoded data removed]",
      "text/plain": [
       "<Figure size 792x360 with 2 Axes>"
      ]
     },
     "metadata": {},
     "output_type": "display_data"
    }
   ],
   "source": [
    "two_pie_charts_actor_ethnicities(demanded_actors_male, \n",
    "                                 demanded_actors_female, \n",
    "                                 title='Top actors ethnicity distribution', \n",
    "                                 title1='Actors', \n",
    "                                 title2='Actresses')"
   ]
  },
  {
   "cell_type": "markdown",
   "metadata": {},
   "source": [
    "All these data about characters is going to be merged and analysed for the last milestone. By now, we have demonstrated that we have data enough to work and answer the proper questions"
   ]
  },
  {
   "cell_type": "markdown",
   "metadata": {},
   "source": [
    "## What genres are the most profitable?"
   ]
  },
  {
   "cell_type": "code",
   "execution_count": null,
   "metadata": {},
   "outputs": [],
   "source": [
    "df_all['profit_modified'].plot(kind='hist', logy=True, histtype='step', title='Movie profit distribution');"
   ]
  },
  {
   "cell_type": "code",
   "execution_count": null,
   "metadata": {},
   "outputs": [],
   "source": [
    "df_all['genre1'] = df_all['genre'].apply(lambda el: el[0])"
   ]
  },
  {
   "cell_type": "code",
   "execution_count": null,
   "metadata": {},
   "outputs": [],
   "source": [
    "genres = df_all['genre1'].value_counts()"
   ]
  },
  {
   "cell_type": "code",
   "execution_count": null,
   "metadata": {},
   "outputs": [],
   "source": [
    "genres[genres > 700].plot(kind='bar', title='Movie genres distribution');"
   ]
  },
  {
   "cell_type": "code",
   "execution_count": null,
   "metadata": {},
   "outputs": [],
   "source": [
    "plt.figure(figsize=(15,5));\n",
    "ax = sns.barplot(\n",
    "    x=\"genre1\",\n",
    "    y=\"profit_modified\",\n",
    "    data=df_all[df_all['profit_modified'].notna() & df_all['genre1'].isin(genres[genres > 700].index.to_list())],\n",
    "    palette='crest'\n",
    ")\n",
    "plt.xlabel('Genre', fontsize=12)\n",
    "plt.ylabel('Profit', fontsize=12)\n",
    "plt.title('Success of Movie based on genre in terms of the profit', fontsize=14)\n",
    "_ = plt.xticks(rotation=90)"
   ]
  },
  {
   "cell_type": "markdown",
   "metadata": {},
   "source": [
    "## correlation between the choice of topics and movie profitability can be investigated"
   ]
  },
  {
   "cell_type": "code",
   "execution_count": null,
   "metadata": {},
   "outputs": [],
   "source": [
    "df_all['genre1_category'] = df_all['genre1'].astype('category').cat.codes"
   ]
  },
  {
   "cell_type": "code",
   "execution_count": null,
   "metadata": {},
   "outputs": [],
   "source": [
    "fig, ax = plt.subplots(figsize=(15,7))\n",
    "sns.heatmap(df_all.corr(), annot=True, ax=ax).set(title='Heat map of correlations between different movie features');"
   ]
  },
  {
   "cell_type": "markdown",
   "metadata": {},
   "source": [
    "## Clustering between movies: Classics VS forgettable : check with wikipedia ID how much it is visited : time series of access "
   ]
  },
  {
   "cell_type": "code",
   "execution_count": null,
   "metadata": {},
   "outputs": [],
   "source": [
    "wikipedia_pageviews.sample(5)"
   ]
  },
  {
   "cell_type": "code",
   "execution_count": null,
   "metadata": {},
   "outputs": [],
   "source": [
    "wikipedia_pageviews[wikipedia_pageviews['name'] == 'Spy Kids'].plot(x='date', y='pageviews', title='Pageviews for Spy Kids')"
   ]
  },
  {
   "cell_type": "code",
   "execution_count": null,
   "metadata": {},
   "outputs": [],
   "source": [
    "wikipedia_pageviews[wikipedia_pageviews['name'] == 'Avengers: Endgame'].plot(x='date', y='pageviews', logy=True, title='Pageviews for Avengers: Endgame')"
   ]
  },
  {
   "cell_type": "code",
   "execution_count": null,
   "metadata": {},
   "outputs": [],
   "source": [
    "df_all.sample(5)"
   ]
  },
  {
   "cell_type": "code",
   "execution_count": null,
   "metadata": {},
   "outputs": [],
   "source": [
    "df_all.columns"
   ]
  },
  {
   "cell_type": "code",
   "execution_count": null,
   "metadata": {},
   "outputs": [],
   "source": [
    "df_all['release_year'] = df_all['release_year'].astype(np.int64)"
   ]
  },
  {
   "cell_type": "code",
   "execution_count": null,
   "metadata": {},
   "outputs": [],
   "source": [
    "mod = smf.ols(formula='pageviews ~ release_year + runtime + WR + Director + Star1 + Star2 + Star3 + Star4 + Gross + profit + genre1', data=df_all[df_all['release_year'] < (2015-15)])\n",
    "np.random.seed(2)\n",
    "res = mod.fit()\n",
    "res.summary()"
   ]
  }
 ],
 "metadata": {
  "kernelspec": {
   "display_name": "Python 3.9.13 ('ada')",
   "language": "python",
   "name": "python3"
  },
  "language_info": {
   "codemirror_mode": {
    "name": "ipython",
    "version": 3
   },
   "file_extension": ".py",
   "mimetype": "text/x-python",
   "name": "python",
   "nbconvert_exporter": "python",
   "pygments_lexer": "ipython3",
   "version": "3.9.13"
  },
  "vscode": {
   "interpreter": {
    "hash": "a4bb9c81f8eab16a3a9439dae75e7221139fb6714345d5c49c732ff789ca1486"
   }
  }
 },
 "nbformat": 4,
 "nbformat_minor": 2
}
